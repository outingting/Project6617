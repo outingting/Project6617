{
 "cells": [
  {
   "cell_type": "code",
   "execution_count": 52,
   "id": "49986d52",
   "metadata": {},
   "outputs": [],
   "source": [
    "import numpy as np\n",
    "from scipy.stats import multivariate_normal"
   ]
  },
  {
   "cell_type": "markdown",
   "id": "26e34273",
   "metadata": {},
   "source": [
    "Log:\n",
    "\n",
    "- 11/10 Fixed bugs: H^(-1/2) formula, shapes of theta & epsilons"
   ]
  },
  {
   "cell_type": "markdown",
   "id": "90f128fb",
   "metadata": {},
   "source": [
    "# Functions to be tested"
   ]
  },
  {
   "cell_type": "markdown",
   "id": "15882cc0",
   "metadata": {},
   "source": [
    "This is a test using the Rosebrock function.\n",
    "\n",
    "The glomal max is at (1,1), with obj. value = 0."
   ]
  },
  {
   "cell_type": "code",
   "execution_count": 109,
   "id": "0cc62ea3",
   "metadata": {},
   "outputs": [],
   "source": [
    "a = 1\n",
    "b = 10\n",
    "def F(theta):\n",
    "    x = theta[0]\n",
    "    y = theta[1]\n",
    "    return - ((a - x)**2 + b*((y - x**2)**2))"
   ]
  },
  {
   "cell_type": "code",
   "execution_count": 110,
   "id": "685be1c1",
   "metadata": {},
   "outputs": [
    {
     "data": {
      "text/plain": [
       "-10"
      ]
     },
     "execution_count": 110,
     "metadata": {},
     "output_type": "execute_result"
    }
   ],
   "source": [
    "F(np.array((1,2)))"
   ]
  },
  {
   "cell_type": "markdown",
   "id": "a29be582",
   "metadata": {},
   "source": [
    "# Gradient benchmark\n",
    "\n",
    "This is exactly the Algorithm 1 in the RL paper."
   ]
  },
  {
   "cell_type": "code",
   "execution_count": 123,
   "id": "89b65c3e",
   "metadata": {},
   "outputs": [],
   "source": [
    "def ES_benchmark_gradient(alpha, sigma, theta_0, num_samples, time_steps):\n",
    "    theta_t = theta_0\n",
    "    d = theta_0.shape[0]\n",
    "    n = num_samples\n",
    "    for t in range(time_steps):\n",
    "        #**** sample epsilons ****#\n",
    "        eps_list = [] \n",
    "        for i in range(n):\n",
    "            eps = np.random.multivariate_normal(mean = np.zeros(d), cov = np.identity(d))\n",
    "            eps_list.append(eps)\n",
    "        #**** compute function values ****#\n",
    "        F_list = []\n",
    "        for i in range(n):\n",
    "            F_val = F(theta_t + sigma*eps_list[i])\n",
    "            F_list.append(F_val)\n",
    "        #**** update theta ****#\n",
    "        new_theta = theta_t\n",
    "        for i in range(n):\n",
    "            new_theta += alpha / (n*sigma) * F_list[i] * eps_list[i]\n",
    "        theta_t = new_theta\n",
    "    return theta_t, F(theta_t)"
   ]
  },
  {
   "cell_type": "code",
   "execution_count": 124,
   "id": "83a7e4ae",
   "metadata": {},
   "outputs": [
    {
     "data": {
      "text/plain": [
       "(array([1.05175684, 1.12132228]), -0.004967887958809249)"
      ]
     },
     "execution_count": 124,
     "metadata": {},
     "output_type": "execute_result"
    }
   ],
   "source": [
    "ES_benchmark_gradient(alpha=0.0002, sigma=0.1, theta_0 = np.array([2.0,2.0]), num_samples = 50, time_steps = 10000)"
   ]
  },
  {
   "cell_type": "markdown",
   "id": "e8857f6f",
   "metadata": {},
   "source": [
    "# HessAware Benchmark"
   ]
  },
  {
   "cell_type": "markdown",
   "id": "73023572",
   "metadata": {},
   "source": [
    "This implements the Hess Aware algorithm in Zhang's paper. \n",
    "\n",
    "The Hessian estimate comes from Section 4.1."
   ]
  },
  {
   "cell_type": "code",
   "execution_count": 121,
   "id": "b360c39c",
   "metadata": {},
   "outputs": [],
   "source": [
    "def ES_benchmark_hess_aware(alpha, sigma, theta_0, num_samples, time_steps, p, H_lambda):\n",
    "    d = theta_0.shape[0]\n",
    "    theta_t = theta_0.reshape((d,1))\n",
    "    n = num_samples\n",
    "    H = None\n",
    "    for t in range(time_steps):\n",
    "        #**** sample epsilons ****#\n",
    "        eps_list = [] \n",
    "        for i in range(n):\n",
    "            eps = np.random.multivariate_normal(mean = np.zeros(d), cov = np.identity(d))\n",
    "            eps_list.append(eps.reshape(d,1))\n",
    "        #**** compute function values ****#\n",
    "        F_plus_list = []\n",
    "        F_minus_list = []\n",
    "        F_list = []\n",
    "        for i in range(n):\n",
    "            F_plus_list.append(F(theta_t + sigma*eps_list[i]))\n",
    "            F_minus_list.append(F(theta_t - sigma*eps_list[i]))\n",
    "            F_list.append(F(theta_t))\n",
    "        #**** compute Hessian every p steps ****#\n",
    "        if t % p == 0:\n",
    "            H = np.zeros((d,d))\n",
    "            for i in range(n):\n",
    "                e_i = eps_list[i]\n",
    "                e_i_trans = np.transpose(eps_list[i])\n",
    "                H += (F_plus_list[i] + F_minus_list[i] - 2*F_list[i]) * (e_i @ e_i_trans)\n",
    "            H /= 2*(sigma**2)*n\n",
    "            H += H_lambda * np.identity(d)\n",
    "        #**** update theta: compute g ****#\n",
    "        u, s, vh = np.linalg.svd(H)\n",
    "        H_nh = u @ np.diag(s**-0.5) @ vh\n",
    "        g = 0\n",
    "        for i in range(n):\n",
    "            e_i = eps_list[i]\n",
    "            F_new = F(theta_t +  sigma* (H_nh @ e_i)  )\n",
    "            g += ((F_new - F(theta_t)) / sigma ) * (H_nh @ e_i) / n\n",
    "        #**** update theta: the rest ****#\n",
    "        new_theta = theta_t + alpha * g\n",
    "        theta_t = new_theta\n",
    "        \n",
    "    return theta_t, F(theta_t), H"
   ]
  },
  {
   "cell_type": "code",
   "execution_count": 122,
   "id": "1c426c74",
   "metadata": {},
   "outputs": [
    {
     "data": {
      "text/plain": [
       "(array([[0.99470377],\n",
       "        [0.9892107 ]]),\n",
       " array([-2.85558194e-05]),\n",
       " array([[-137.46508034,   44.17335996],\n",
       "        [  44.17335996,  -68.21204881]]))"
      ]
     },
     "execution_count": 122,
     "metadata": {},
     "output_type": "execute_result"
    }
   ],
   "source": [
    "ES_benchmark_hess_aware(alpha=0.5, sigma=0.1, theta_0=np.array([2.0, 2.0]), num_samples = 50, time_steps = 2000, p = 10, H_lambda = 0)"
   ]
  },
  {
   "cell_type": "markdown",
   "id": "21a41f04",
   "metadata": {},
   "source": [
    "# First Hessian-based method\n",
    "\n",
    "We use the Hessian estimate as in the write-up document on Overleaf.\n",
    "\n",
    "Then, the same Newton's method as in Zhang's paper is used to update theta with the Hessian estimate.\n",
    "\n",
    "As before, alpha is the learning rate. The parameter p defines how often we re-compute the Hessian."
   ]
  },
  {
   "cell_type": "code",
   "execution_count": 125,
   "id": "b344b4a2",
   "metadata": {},
   "outputs": [],
   "source": [
    "def ES_hessian(alpha, sigma, theta_0, num_samples, time_steps, p, H_lambda):\n",
    "    d = theta_0.shape[0]\n",
    "    theta_t = theta_0.reshape((d,1))\n",
    "    n = num_samples\n",
    "    H = None\n",
    "    for t in range(time_steps):\n",
    "        #**** sample epsilons ****#\n",
    "        eps_list = [] \n",
    "        for i in range(n):\n",
    "            eps = np.random.multivariate_normal(mean = np.zeros(d), cov = np.identity(d))\n",
    "            eps_list.append(eps.reshape(d,1))\n",
    "        #**** compute function values ****#\n",
    "        F_list = []\n",
    "        for i in range(n):\n",
    "            F_val = F(theta_t + sigma*eps_list[i])\n",
    "            F_list.append(F_val)\n",
    "        #**** compute Hessian every p steps ****#\n",
    "        if t % p == 0:\n",
    "            H = np.zeros((d,d))\n",
    "            for i in range(n):\n",
    "                e_i = eps_list[i]\n",
    "                e_i_trans = np.transpose(e_i)\n",
    "                H += F_list[i] * (e_i @ e_i_trans - np.identity(d)) \n",
    "            H /= (sigma**2) * n\n",
    "            H += H_lambda * np.identity(d)\n",
    "        #**** update theta: compute g ****#\n",
    "        u, s, vh = np.linalg.svd(H)\n",
    "        H_nh = u @ np.diag(s**-0.5) @ vh\n",
    "        g = 0\n",
    "        for i in range(n):\n",
    "            e_i = eps_list[i]\n",
    "            F_new = F(theta_t +  sigma* (H_nh @ e_i)  )\n",
    "            g += ((F_new - F(theta_t)) / sigma ) * (H_nh @ e_i) / n\n",
    "        #**** update theta: the rest ****#\n",
    "        new_theta = theta_t + alpha * g\n",
    "        theta_t = new_theta\n",
    "        \n",
    "    return theta_t, F(theta_t), H"
   ]
  },
  {
   "cell_type": "code",
   "execution_count": 130,
   "id": "6f9eb486",
   "metadata": {},
   "outputs": [
    {
     "data": {
      "text/plain": [
       "(array([[3.6482616e+26],\n",
       "        [1.5762020e+27]]),\n",
       " array([-1.77151114e+107]),\n",
       " array([[-5.10086008e+107, -8.18841120e+107],\n",
       "        [-8.18841120e+107, -5.62896704e+108]]))"
      ]
     },
     "execution_count": 130,
     "metadata": {},
     "output_type": "execute_result"
    }
   ],
   "source": [
    "ES_hessian(alpha=0.1, sigma=0.1, theta_0=np.array([2.0, 2.0]), num_samples = 50, time_steps = 5000, p = 10, H_lambda = 1e-4)"
   ]
  },
  {
   "cell_type": "code",
   "execution_count": null,
   "id": "271bbebf",
   "metadata": {},
   "outputs": [],
   "source": []
  }
 ],
 "metadata": {
  "kernelspec": {
   "display_name": "Python 3",
   "language": "python",
   "name": "python3"
  },
  "language_info": {
   "codemirror_mode": {
    "name": "ipython",
    "version": 3
   },
   "file_extension": ".py",
   "mimetype": "text/x-python",
   "name": "python",
   "nbconvert_exporter": "python",
   "pygments_lexer": "ipython3",
   "version": "3.8.8"
  }
 },
 "nbformat": 4,
 "nbformat_minor": 5
}
