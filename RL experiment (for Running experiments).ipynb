{
 "cells": [
  {
   "cell_type": "code",
   "execution_count": 1,
   "id": "00016ff5",
   "metadata": {},
   "outputs": [],
   "source": [
    "%load_ext autoreload\n",
    "%autoreload 2"
   ]
  },
  {
   "cell_type": "code",
   "execution_count": 2,
   "id": "22c7abca",
   "metadata": {
    "scrolled": true
   },
   "outputs": [],
   "source": [
    "import numpy as np\n",
    "import pandas as pd\n",
    "import cvxpy as cp\n",
    "import gym\n",
    "import matplotlib.pyplot as plt\n",
    "from numpy.linalg import LinAlgError\n",
    "import gurobipy\n",
    "import seaborn as sns\n",
    "\n",
    "import sys\n",
    "sys.path.append('./asebo/')\n",
    "sys.path.append('./rl/')\n",
    "from optimizers import Adam\n",
    "from worker import worker, get_policy\n",
    "from es import ES\n",
    "\n",
    "from methods import run_asebo, run_HessianES, run_hessian_asebo,\\\n",
    "                    gradient_antithetic_estimator, gradient_LP_antithetic_estimator, gradient_L2_antithetic_estimator,\\\n",
    "                    invHessian_identity_estimator, invHessian_LP_structured_PTinv_estimator, invHessian_L2_structured_PTinv_estimator\n"
   ]
  },
  {
   "cell_type": "markdown",
   "id": "7bcda724",
   "metadata": {},
   "source": [
    "## Training"
   ]
  },
  {
   "cell_type": "code",
   "execution_count": 26,
   "id": "cc525b9d",
   "metadata": {},
   "outputs": [],
   "source": [
    "########### Setting up params ##########\n",
    "params = {\n",
    "# 'env_name': 'Swimmer-v2',\n",
    "# 'env_name': 'HalfCheetah-v2',\n",
    "# 'env_name': 'InvertedPendulum-v2',\n",
    "# 'env_name': 'InvertedDoublePendulum-v2',\n",
    "# 'env_name': 'Reacher-v2',\n",
    "'env_name': 'Hopper-v2',\n",
    "'steps':1000,\n",
    "'h_dim':32,\n",
    "'start':0,\n",
    "'max_iter':1000,\n",
    "'seed':0,\n",
    "'k':140, # ASEBO only?\n",
    "'num_sensings':100,\n",
    "'log':False,\n",
    "'linear':True,\n",
    "'threshold':0.995,\n",
    "'decay':0.99,\n",
    "'learning_rate':0.05,#0.05\n",
    "'filename':'',\n",
    "'policy':'Toeplitz', # Linear or Toeplitz\n",
    "'shift':0,\n",
    "'min':10,\n",
    "'sigma':1e-1,\n",
    "'backtracking':True,\n",
    "'alpha': 1e-6,\n",
    "'beta': 0.25,\n",
    "'sample_from_invH': False,\n",
    "'max_ts': 1e7\n",
    "}\n",
    "\n",
    "\n",
    "\n",
    "gradient_estimator = gradient_LP_antithetic_estimator\n",
    "# gradient_estimator = gradient_antithetic_estimator\n",
    "# gradient_estimator = gradient_L2_antithetic_estimator\n",
    "\n",
    "invhessian_estimator = invHessian_LP_structured_PTinv_estimator\n",
    "\n",
    "# invhessian_estimator =  invHessian_identity_estimator\n",
    "# params['filename'] = \"identity\""
   ]
  },
  {
   "cell_type": "code",
   "execution_count": 27,
   "id": "3a9d9459",
   "metadata": {},
   "outputs": [],
   "source": [
    "########### Auto Param Setups ##########\n",
    "def auto_param_setups(params):\n",
    "    env = gym.make(params['env_name'])\n",
    "    params['ob_dim'] = env.observation_space.shape[0]\n",
    "    params['ac_dim'] = env.action_space.shape[0]\n",
    "    params['k'] += -1\n",
    "    # params['alpha'] = 1 # ASEBO only\n",
    "    params['zeros'] = False\n",
    "    master = get_policy(params)\n",
    "    if params['log']:\n",
    "        params['num_sensings'] = 4 + int(3 * np.log(master.N))\n",
    "    if params['linear']:\n",
    "        params['num_sensings'] = int(2 * master.N)\n",
    "auto_param_setups(params)"
   ]
  },
  {
   "cell_type": "markdown",
   "id": "55cd2f94",
   "metadata": {},
   "source": [
    "## Train"
   ]
  },
  {
   "cell_type": "code",
   "execution_count": 28,
   "id": "58fb2d73",
   "metadata": {
    "scrolled": true,
    "tags": []
   },
   "outputs": [
    {
     "name": "stdout",
     "output_type": "stream",
     "text": [
      "Policy Dimension:  203\n",
      "Iteration: 1, Alpha: 1, Time Steps: 1.79e+04, Reward: 39.98, Update Direction Norm: 203.00\n",
      "Iteration: 2, Alpha: 1, Time Steps: 3.69e+04, Reward: 62.44, Update Direction Norm: 203.00\n",
      "Iteration: 3, Alpha: 1, Time Steps: 7.68e+04, Reward: 248.30, Update Direction Norm: 203.00\n"
     ]
    },
    {
     "ename": "KeyboardInterrupt",
     "evalue": "",
     "output_type": "error",
     "traceback": [
      "\u001b[0;31m---------------------------------------------------------------------------\u001b[0m",
      "\u001b[0;31mKeyboardInterrupt\u001b[0m                         Traceback (most recent call last)",
      "\u001b[0;32m<ipython-input-28-05d6366b3190>\u001b[0m in \u001b[0;36m<module>\u001b[0;34m()\u001b[0m\n\u001b[1;32m      5\u001b[0m \u001b[0;34m\u001b[0m\u001b[0m\n\u001b[1;32m      6\u001b[0m \u001b[0mparams\u001b[0m\u001b[0;34m[\u001b[0m\u001b[0;34m'learning_rate'\u001b[0m\u001b[0;34m]\u001b[0m \u001b[0;34m=\u001b[0m \u001b[0;36m0.05\u001b[0m\u001b[0;34m\u001b[0m\u001b[0;34m\u001b[0m\u001b[0m\n\u001b[0;32m----> 7\u001b[0;31m \u001b[0mts\u001b[0m\u001b[0;34m,\u001b[0m \u001b[0mrewards\u001b[0m\u001b[0;34m,\u001b[0m \u001b[0mmaster\u001b[0m \u001b[0;34m=\u001b[0m \u001b[0mrun_hessian_asebo\u001b[0m\u001b[0;34m(\u001b[0m\u001b[0mparams\u001b[0m\u001b[0;34m,\u001b[0m \u001b[0mmaster\u001b[0m\u001b[0;34m)\u001b[0m\u001b[0;34m\u001b[0m\u001b[0;34m\u001b[0m\u001b[0m\n\u001b[0m\u001b[1;32m      8\u001b[0m \u001b[0;34m\u001b[0m\u001b[0m\n\u001b[1;32m      9\u001b[0m \u001b[0;31m# params['learning_rate'] = 0.05\u001b[0m\u001b[0;34m\u001b[0m\u001b[0;34m\u001b[0m\u001b[0;34m\u001b[0m\u001b[0m\n",
      "\u001b[0;32m/Users/stevenyin/Google Drive/columbia/semester 9/krzysztof class/Project6617/rl/methods.py\u001b[0m in \u001b[0;36mrun_hessian_asebo\u001b[0;34m(params, master)\u001b[0m\n\u001b[1;32m    429\u001b[0m \u001b[0;34m\u001b[0m\u001b[0m\n\u001b[1;32m    430\u001b[0m         \u001b[0mparams\u001b[0m\u001b[0;34m[\u001b[0m\u001b[0;34m'n_iter'\u001b[0m\u001b[0;34m]\u001b[0m \u001b[0;34m=\u001b[0m \u001b[0mn_iter\u001b[0m\u001b[0;34m\u001b[0m\u001b[0;34m\u001b[0m\u001b[0m\n\u001b[0;32m--> 431\u001b[0;31m         \u001b[0mgradient\u001b[0m\u001b[0;34m,\u001b[0m \u001b[0mn_samples\u001b[0m\u001b[0;34m,\u001b[0m \u001b[0mtimesteps\u001b[0m \u001b[0;34m=\u001b[0m \u001b[0mHessianASEBO\u001b[0m\u001b[0;34m(\u001b[0m\u001b[0mparams\u001b[0m\u001b[0;34m,\u001b[0m \u001b[0mmaster\u001b[0m\u001b[0;34m,\u001b[0m \u001b[0mG\u001b[0m\u001b[0;34m)\u001b[0m\u001b[0;34m\u001b[0m\u001b[0;34m\u001b[0m\u001b[0m\n\u001b[0m\u001b[1;32m    432\u001b[0m         \u001b[0mts_cumulative\u001b[0m \u001b[0;34m+=\u001b[0m \u001b[0mtimesteps\u001b[0m\u001b[0;34m\u001b[0m\u001b[0;34m\u001b[0m\u001b[0m\n\u001b[1;32m    433\u001b[0m         \u001b[0mts\u001b[0m\u001b[0;34m.\u001b[0m\u001b[0mappend\u001b[0m\u001b[0;34m(\u001b[0m\u001b[0mts_cumulative\u001b[0m\u001b[0;34m)\u001b[0m\u001b[0;34m\u001b[0m\u001b[0;34m\u001b[0m\u001b[0m\n",
      "\u001b[0;32m/Users/stevenyin/Google Drive/columbia/semester 9/krzysztof class/Project6617/rl/methods.py\u001b[0m in \u001b[0;36mHessianASEBO\u001b[0;34m(params, master, G)\u001b[0m\n\u001b[1;32m    192\u001b[0m     \u001b[0;31m# m, timesteps = aggregate_rollouts(master, A, params, n_samples)\u001b[0m\u001b[0;34m\u001b[0m\u001b[0;34m\u001b[0m\u001b[0;34m\u001b[0m\u001b[0m\n\u001b[1;32m    193\u001b[0m     \u001b[0mA\u001b[0m \u001b[0;34m=\u001b[0m \u001b[0mnp\u001b[0m\u001b[0;34m.\u001b[0m\u001b[0mvstack\u001b[0m\u001b[0;34m(\u001b[0m\u001b[0;34m[\u001b[0m\u001b[0mA\u001b[0m\u001b[0;34m,\u001b[0m \u001b[0mmu\u001b[0m\u001b[0;34m]\u001b[0m\u001b[0;34m)\u001b[0m \u001b[0;31m# Adding a reference evaluation\u001b[0m\u001b[0;34m\u001b[0m\u001b[0;34m\u001b[0m\u001b[0m\n\u001b[0;32m--> 194\u001b[0;31m     \u001b[0mall_rollouts\u001b[0m\u001b[0;34m,\u001b[0m \u001b[0mtimesteps\u001b[0m \u001b[0;34m=\u001b[0m \u001b[0maggregate_rollouts_hessianES\u001b[0m\u001b[0;34m(\u001b[0m\u001b[0mmaster\u001b[0m\u001b[0;34m,\u001b[0m \u001b[0mA\u001b[0m\u001b[0;34m,\u001b[0m \u001b[0mparams\u001b[0m\u001b[0;34m)\u001b[0m\u001b[0;34m\u001b[0m\u001b[0;34m\u001b[0m\u001b[0m\n\u001b[0m\u001b[1;32m    195\u001b[0m     \u001b[0mg\u001b[0m \u001b[0;34m=\u001b[0m \u001b[0mgradient_antithetic_estimator\u001b[0m\u001b[0;34m(\u001b[0m\u001b[0mall_rollouts\u001b[0m\u001b[0;34m,\u001b[0m \u001b[0mA\u001b[0m\u001b[0;34m,\u001b[0m \u001b[0mparams\u001b[0m\u001b[0;34m[\u001b[0m\u001b[0;34m\"sigma\"\u001b[0m\u001b[0;34m]\u001b[0m\u001b[0;34m)\u001b[0m\u001b[0;34m\u001b[0m\u001b[0;34m\u001b[0m\u001b[0m\n\u001b[1;32m    196\u001b[0m     \u001b[0minvH\u001b[0m \u001b[0;34m=\u001b[0m \u001b[0minvHessian_LP_structured_PTinv_estimator\u001b[0m\u001b[0;34m(\u001b[0m\u001b[0mall_rollouts\u001b[0m\u001b[0;34m,\u001b[0m \u001b[0mA\u001b[0m\u001b[0;34m,\u001b[0m \u001b[0mparams\u001b[0m\u001b[0;34m[\u001b[0m\u001b[0;34m\"sigma\"\u001b[0m\u001b[0;34m]\u001b[0m\u001b[0;34m)\u001b[0m\u001b[0;34m\u001b[0m\u001b[0;34m\u001b[0m\u001b[0m\n",
      "\u001b[0;32m/Users/stevenyin/Google Drive/columbia/semester 9/krzysztof class/Project6617/rl/methods.py\u001b[0m in \u001b[0;36maggregate_rollouts_hessianES\u001b[0;34m(master, A, params)\u001b[0m\n\u001b[1;32m     36\u001b[0m     \u001b[0;32mfor\u001b[0m \u001b[0mi\u001b[0m \u001b[0;32min\u001b[0m \u001b[0mrange\u001b[0m\u001b[0;34m(\u001b[0m\u001b[0mn\u001b[0m\u001b[0;34m)\u001b[0m\u001b[0;34m:\u001b[0m\u001b[0;34m\u001b[0m\u001b[0;34m\u001b[0m\u001b[0m\n\u001b[1;32m     37\u001b[0m         \u001b[0mw\u001b[0m \u001b[0;34m=\u001b[0m \u001b[0mworker\u001b[0m\u001b[0;34m(\u001b[0m\u001b[0mparams\u001b[0m\u001b[0;34m,\u001b[0m \u001b[0mmaster\u001b[0m\u001b[0;34m,\u001b[0m \u001b[0mA\u001b[0m\u001b[0;34m,\u001b[0m \u001b[0mi\u001b[0m\u001b[0;34m)\u001b[0m\u001b[0;34m\u001b[0m\u001b[0;34m\u001b[0m\u001b[0m\n\u001b[0;32m---> 38\u001b[0;31m         \u001b[0mall_rollouts\u001b[0m\u001b[0;34m[\u001b[0m\u001b[0mi\u001b[0m\u001b[0;34m]\u001b[0m \u001b[0;34m=\u001b[0m \u001b[0mnp\u001b[0m\u001b[0;34m.\u001b[0m\u001b[0mreshape\u001b[0m\u001b[0;34m(\u001b[0m\u001b[0mw\u001b[0m\u001b[0;34m.\u001b[0m\u001b[0mdo_rollouts\u001b[0m\u001b[0;34m(\u001b[0m\u001b[0;34m)\u001b[0m\u001b[0;34m,\u001b[0m \u001b[0;36m2\u001b[0m\u001b[0;34m)\u001b[0m\u001b[0;34m\u001b[0m\u001b[0;34m\u001b[0m\u001b[0m\n\u001b[0m\u001b[1;32m     39\u001b[0m         \u001b[0mtimesteps\u001b[0m \u001b[0;34m+=\u001b[0m \u001b[0mw\u001b[0m\u001b[0;34m.\u001b[0m\u001b[0mtimesteps\u001b[0m\u001b[0;34m\u001b[0m\u001b[0;34m\u001b[0m\u001b[0m\n\u001b[1;32m     40\u001b[0m \u001b[0;34m\u001b[0m\u001b[0m\n",
      "\u001b[0;32m/Users/stevenyin/Google Drive/columbia/semester 9/krzysztof class/Project6617/asebo/worker.py\u001b[0m in \u001b[0;36mdo_rollouts\u001b[0;34m(self, seed, train)\u001b[0m\n\u001b[1;32m     34\u001b[0m \u001b[0;34m\u001b[0m\u001b[0m\n\u001b[1;32m     35\u001b[0m         \u001b[0mself\u001b[0m\u001b[0;34m.\u001b[0m\u001b[0mpolicy\u001b[0m\u001b[0;34m.\u001b[0m\u001b[0mupdate\u001b[0m\u001b[0;34m(\u001b[0m\u001b[0mself\u001b[0m\u001b[0;34m.\u001b[0m\u001b[0mv\u001b[0m\u001b[0;34m)\u001b[0m\u001b[0;34m\u001b[0m\u001b[0;34m\u001b[0m\u001b[0m\n\u001b[0;32m---> 36\u001b[0;31m         \u001b[0mup\u001b[0m \u001b[0;34m=\u001b[0m \u001b[0mself\u001b[0m\u001b[0;34m.\u001b[0m\u001b[0mrollout\u001b[0m\u001b[0;34m(\u001b[0m\u001b[0mseed\u001b[0m\u001b[0;34m,\u001b[0m \u001b[0mtrain\u001b[0m\u001b[0;34m)\u001b[0m\u001b[0;34m\u001b[0m\u001b[0;34m\u001b[0m\u001b[0m\n\u001b[0m\u001b[1;32m     37\u001b[0m \u001b[0;34m\u001b[0m\u001b[0m\n\u001b[1;32m     38\u001b[0m         \u001b[0mself\u001b[0m\u001b[0;34m.\u001b[0m\u001b[0mpolicy\u001b[0m\u001b[0;34m.\u001b[0m\u001b[0mupdate\u001b[0m\u001b[0;34m(\u001b[0m\u001b[0;34m-\u001b[0m\u001b[0;36m2\u001b[0m \u001b[0;34m*\u001b[0m \u001b[0mself\u001b[0m\u001b[0;34m.\u001b[0m\u001b[0mv\u001b[0m\u001b[0;34m)\u001b[0m\u001b[0;34m\u001b[0m\u001b[0;34m\u001b[0m\u001b[0m\n",
      "\u001b[0;32m/Users/stevenyin/Google Drive/columbia/semester 9/krzysztof class/Project6617/asebo/worker.py\u001b[0m in \u001b[0;36mrollout\u001b[0;34m(self, seed, train, render)\u001b[0m\n\u001b[1;32m     51\u001b[0m             \u001b[0maction\u001b[0m \u001b[0;34m=\u001b[0m \u001b[0mnp\u001b[0m\u001b[0;34m.\u001b[0m\u001b[0mclip\u001b[0m\u001b[0;34m(\u001b[0m\u001b[0maction\u001b[0m\u001b[0;34m,\u001b[0m \u001b[0mself\u001b[0m\u001b[0;34m.\u001b[0m\u001b[0menv\u001b[0m\u001b[0;34m.\u001b[0m\u001b[0maction_space\u001b[0m\u001b[0;34m.\u001b[0m\u001b[0mlow\u001b[0m\u001b[0;34m[\u001b[0m\u001b[0;36m0\u001b[0m\u001b[0;34m]\u001b[0m\u001b[0;34m,\u001b[0m \u001b[0mself\u001b[0m\u001b[0;34m.\u001b[0m\u001b[0menv\u001b[0m\u001b[0;34m.\u001b[0m\u001b[0maction_space\u001b[0m\u001b[0;34m.\u001b[0m\u001b[0mhigh\u001b[0m\u001b[0;34m[\u001b[0m\u001b[0;36m0\u001b[0m\u001b[0;34m]\u001b[0m\u001b[0;34m)\u001b[0m\u001b[0;34m\u001b[0m\u001b[0;34m\u001b[0m\u001b[0m\n\u001b[1;32m     52\u001b[0m             \u001b[0maction\u001b[0m \u001b[0;34m=\u001b[0m \u001b[0maction\u001b[0m\u001b[0;34m.\u001b[0m\u001b[0mreshape\u001b[0m\u001b[0;34m(\u001b[0m\u001b[0mlen\u001b[0m\u001b[0;34m(\u001b[0m\u001b[0maction\u001b[0m\u001b[0;34m)\u001b[0m\u001b[0;34m,\u001b[0m \u001b[0;34m)\u001b[0m\u001b[0;34m\u001b[0m\u001b[0;34m\u001b[0m\u001b[0m\n\u001b[0;32m---> 53\u001b[0;31m             \u001b[0mstate\u001b[0m\u001b[0;34m,\u001b[0m \u001b[0mreward\u001b[0m\u001b[0;34m,\u001b[0m \u001b[0mdone\u001b[0m\u001b[0;34m,\u001b[0m \u001b[0m_\u001b[0m \u001b[0;34m=\u001b[0m \u001b[0mself\u001b[0m\u001b[0;34m.\u001b[0m\u001b[0menv\u001b[0m\u001b[0;34m.\u001b[0m\u001b[0mstep\u001b[0m\u001b[0;34m(\u001b[0m\u001b[0maction\u001b[0m\u001b[0;34m)\u001b[0m\u001b[0;34m\u001b[0m\u001b[0;34m\u001b[0m\u001b[0m\n\u001b[0m\u001b[1;32m     54\u001b[0m             \u001b[0;32mif\u001b[0m \u001b[0mrender\u001b[0m\u001b[0;34m:\u001b[0m\u001b[0;34m\u001b[0m\u001b[0;34m\u001b[0m\u001b[0m\n\u001b[1;32m     55\u001b[0m                 \u001b[0mself\u001b[0m\u001b[0;34m.\u001b[0m\u001b[0menv\u001b[0m\u001b[0;34m.\u001b[0m\u001b[0mrender\u001b[0m\u001b[0;34m(\u001b[0m\u001b[0;34m)\u001b[0m\u001b[0;34m\u001b[0m\u001b[0;34m\u001b[0m\u001b[0m\n",
      "\u001b[0;32m/Users/stevenyin/opt/anaconda3/envs/py36/lib/python3.6/site-packages/gym/wrappers/time_limit.py\u001b[0m in \u001b[0;36mstep\u001b[0;34m(self, action)\u001b[0m\n\u001b[1;32m     14\u001b[0m     \u001b[0;32mdef\u001b[0m \u001b[0mstep\u001b[0m\u001b[0;34m(\u001b[0m\u001b[0mself\u001b[0m\u001b[0;34m,\u001b[0m \u001b[0maction\u001b[0m\u001b[0;34m)\u001b[0m\u001b[0;34m:\u001b[0m\u001b[0;34m\u001b[0m\u001b[0;34m\u001b[0m\u001b[0m\n\u001b[1;32m     15\u001b[0m         \u001b[0;32massert\u001b[0m \u001b[0mself\u001b[0m\u001b[0;34m.\u001b[0m\u001b[0m_elapsed_steps\u001b[0m \u001b[0;32mis\u001b[0m \u001b[0;32mnot\u001b[0m \u001b[0;32mNone\u001b[0m\u001b[0;34m,\u001b[0m \u001b[0;34m\"Cannot call env.step() before calling reset()\"\u001b[0m\u001b[0;34m\u001b[0m\u001b[0;34m\u001b[0m\u001b[0m\n\u001b[0;32m---> 16\u001b[0;31m         \u001b[0mobservation\u001b[0m\u001b[0;34m,\u001b[0m \u001b[0mreward\u001b[0m\u001b[0;34m,\u001b[0m \u001b[0mdone\u001b[0m\u001b[0;34m,\u001b[0m \u001b[0minfo\u001b[0m \u001b[0;34m=\u001b[0m \u001b[0mself\u001b[0m\u001b[0;34m.\u001b[0m\u001b[0menv\u001b[0m\u001b[0;34m.\u001b[0m\u001b[0mstep\u001b[0m\u001b[0;34m(\u001b[0m\u001b[0maction\u001b[0m\u001b[0;34m)\u001b[0m\u001b[0;34m\u001b[0m\u001b[0;34m\u001b[0m\u001b[0m\n\u001b[0m\u001b[1;32m     17\u001b[0m         \u001b[0mself\u001b[0m\u001b[0;34m.\u001b[0m\u001b[0m_elapsed_steps\u001b[0m \u001b[0;34m+=\u001b[0m \u001b[0;36m1\u001b[0m\u001b[0;34m\u001b[0m\u001b[0;34m\u001b[0m\u001b[0m\n\u001b[1;32m     18\u001b[0m         \u001b[0;32mif\u001b[0m \u001b[0mself\u001b[0m\u001b[0;34m.\u001b[0m\u001b[0m_elapsed_steps\u001b[0m \u001b[0;34m>=\u001b[0m \u001b[0mself\u001b[0m\u001b[0;34m.\u001b[0m\u001b[0m_max_episode_steps\u001b[0m\u001b[0;34m:\u001b[0m\u001b[0;34m\u001b[0m\u001b[0;34m\u001b[0m\u001b[0m\n",
      "\u001b[0;32m/Users/stevenyin/opt/anaconda3/envs/py36/lib/python3.6/site-packages/gym/envs/mujoco/hopper.py\u001b[0m in \u001b[0;36mstep\u001b[0;34m(self, a)\u001b[0m\n\u001b[1;32m     10\u001b[0m     \u001b[0;32mdef\u001b[0m \u001b[0mstep\u001b[0m\u001b[0;34m(\u001b[0m\u001b[0mself\u001b[0m\u001b[0;34m,\u001b[0m \u001b[0ma\u001b[0m\u001b[0;34m)\u001b[0m\u001b[0;34m:\u001b[0m\u001b[0;34m\u001b[0m\u001b[0;34m\u001b[0m\u001b[0m\n\u001b[1;32m     11\u001b[0m         \u001b[0mposbefore\u001b[0m \u001b[0;34m=\u001b[0m \u001b[0mself\u001b[0m\u001b[0;34m.\u001b[0m\u001b[0msim\u001b[0m\u001b[0;34m.\u001b[0m\u001b[0mdata\u001b[0m\u001b[0;34m.\u001b[0m\u001b[0mqpos\u001b[0m\u001b[0;34m[\u001b[0m\u001b[0;36m0\u001b[0m\u001b[0;34m]\u001b[0m\u001b[0;34m\u001b[0m\u001b[0;34m\u001b[0m\u001b[0m\n\u001b[0;32m---> 12\u001b[0;31m         \u001b[0mself\u001b[0m\u001b[0;34m.\u001b[0m\u001b[0mdo_simulation\u001b[0m\u001b[0;34m(\u001b[0m\u001b[0ma\u001b[0m\u001b[0;34m,\u001b[0m \u001b[0mself\u001b[0m\u001b[0;34m.\u001b[0m\u001b[0mframe_skip\u001b[0m\u001b[0;34m)\u001b[0m\u001b[0;34m\u001b[0m\u001b[0;34m\u001b[0m\u001b[0m\n\u001b[0m\u001b[1;32m     13\u001b[0m         \u001b[0mposafter\u001b[0m\u001b[0;34m,\u001b[0m \u001b[0mheight\u001b[0m\u001b[0;34m,\u001b[0m \u001b[0mang\u001b[0m \u001b[0;34m=\u001b[0m \u001b[0mself\u001b[0m\u001b[0;34m.\u001b[0m\u001b[0msim\u001b[0m\u001b[0;34m.\u001b[0m\u001b[0mdata\u001b[0m\u001b[0;34m.\u001b[0m\u001b[0mqpos\u001b[0m\u001b[0;34m[\u001b[0m\u001b[0;36m0\u001b[0m\u001b[0;34m:\u001b[0m\u001b[0;36m3\u001b[0m\u001b[0;34m]\u001b[0m\u001b[0;34m\u001b[0m\u001b[0;34m\u001b[0m\u001b[0m\n\u001b[1;32m     14\u001b[0m         \u001b[0malive_bonus\u001b[0m \u001b[0;34m=\u001b[0m \u001b[0;36m1.0\u001b[0m\u001b[0;34m\u001b[0m\u001b[0;34m\u001b[0m\u001b[0m\n",
      "\u001b[0;32m/Users/stevenyin/opt/anaconda3/envs/py36/lib/python3.6/site-packages/gym/envs/mujoco/mujoco_env.py\u001b[0m in \u001b[0;36mdo_simulation\u001b[0;34m(self, ctrl, n_frames)\u001b[0m\n\u001b[1;32m    123\u001b[0m         \u001b[0mself\u001b[0m\u001b[0;34m.\u001b[0m\u001b[0msim\u001b[0m\u001b[0;34m.\u001b[0m\u001b[0mdata\u001b[0m\u001b[0;34m.\u001b[0m\u001b[0mctrl\u001b[0m\u001b[0;34m[\u001b[0m\u001b[0;34m:\u001b[0m\u001b[0;34m]\u001b[0m \u001b[0;34m=\u001b[0m \u001b[0mctrl\u001b[0m\u001b[0;34m\u001b[0m\u001b[0;34m\u001b[0m\u001b[0m\n\u001b[1;32m    124\u001b[0m         \u001b[0;32mfor\u001b[0m \u001b[0m_\u001b[0m \u001b[0;32min\u001b[0m \u001b[0mrange\u001b[0m\u001b[0;34m(\u001b[0m\u001b[0mn_frames\u001b[0m\u001b[0;34m)\u001b[0m\u001b[0;34m:\u001b[0m\u001b[0;34m\u001b[0m\u001b[0;34m\u001b[0m\u001b[0m\n\u001b[0;32m--> 125\u001b[0;31m             \u001b[0mself\u001b[0m\u001b[0;34m.\u001b[0m\u001b[0msim\u001b[0m\u001b[0;34m.\u001b[0m\u001b[0mstep\u001b[0m\u001b[0;34m(\u001b[0m\u001b[0;34m)\u001b[0m\u001b[0;34m\u001b[0m\u001b[0;34m\u001b[0m\u001b[0m\n\u001b[0m\u001b[1;32m    126\u001b[0m \u001b[0;34m\u001b[0m\u001b[0m\n\u001b[1;32m    127\u001b[0m     def render(self,\n",
      "\u001b[0;31mKeyboardInterrupt\u001b[0m: "
     ]
    }
   ],
   "source": [
    "master = get_policy(params)\n",
    "\n",
    "# params['learning_rate'] = 1\n",
    "# ts, rewards, master = run_HessianES(params, gradient_estimator, invhessian_estimator, master, False)\n",
    "\n",
    "params['learning_rate'] = 0.05\n",
    "ts, rewards, master = run_hessian_asebo(params, master)\n",
    "\n",
    "# params['learning_rate'] = 0.05\n",
    "# ts, rewards, master = run_asebo(params, master)"
   ]
  },
  {
   "cell_type": "markdown",
   "id": "a39ba607-017d-481e-b38d-8c0bf300195b",
   "metadata": {},
   "source": [
    "## Run Proper Experiments"
   ]
  },
  {
   "cell_type": "code",
   "execution_count": null,
   "id": "b1276d5c-5844-49cb-8898-d3ebd1cc3749",
   "metadata": {},
   "outputs": [
    {
     "name": "stdout",
     "output_type": "stream",
     "text": [
      "Policy Dimension:  199\n",
      "Iteration: 1, Alpha: 1, Time Steps: 7.96e+05, Reward: 20.52, Update Direction Norm: 199.00\n"
     ]
    }
   ],
   "source": [
    "%%time\n",
    "for env in ['Swimmer-v2','HalfCheetah-v2','InvertedPendulum-v2','InvertedDoublePendulum-v2','Reacher-v2','Hopper-v2']:\n",
    "    params['env_name'] = env\n",
    "    auto_param_setups(params)\n",
    "    for seed in range(10):\n",
    "        params['seed'] = seed\n",
    "        master = get_policy(params)\n",
    "        ts, rewards, master = run_asebo(params, master)\n",
    "        master = get_policy(params)\n",
    "        ts, rewards, master = run_hessian_asebo(params, master)\n",
    "        master = get_policy(params)\n",
    "        params['learning_rate'] = 1\n",
    "        ts, rewards, master = run_HessianES(params, gradient_estimator, invhessian_estimator, master, False)"
   ]
  },
  {
   "cell_type": "code",
   "execution_count": null,
   "id": "94705126",
   "metadata": {
    "scrolled": true
   },
   "outputs": [],
   "source": [
    "params['seed'] = 1\n",
    "master = get_policy(params)\n",
    "\n",
    "# params['learning_rate'] = 1\n",
    "ts, rewards, master = run_HessianES(params, gradient_estimator, invhessian_estimator, master)\n",
    "\n",
    "# params['learning_rate'] = 0.05\n",
    "# ts, rewards, master = run_asebo(params, master)"
   ]
  },
  {
   "cell_type": "code",
   "execution_count": null,
   "id": "908f5615",
   "metadata": {},
   "outputs": [],
   "source": [
    "params['seed'] = 2\n",
    "\n",
    "\n",
    "# params['learning_rate'] = 1\n",
    "master = get_policy(params)\n",
    "ts, rewards, master = run_HessianES(params, gradient_estimator, invhessian_estimator, master)\n",
    "\n",
    "\n",
    "# params['learning_rate'] = 0.05\n",
    "master = get_policy(params)\n",
    "ts, rewards, master = run_asebo(params, master)\n"
   ]
  },
  {
   "cell_type": "code",
   "execution_count": null,
   "id": "7a4c194c",
   "metadata": {},
   "outputs": [],
   "source": [
    "params['seed'] = 3\n",
    "\n",
    "# params['learning_rate'] = 1\n",
    "master = get_policy(params)\n",
    "ts, rewards, master = run_HessianES(params, gradient_estimator, invhessian_estimator, master)\n",
    "\n",
    "# params['learning_rate'] = 0.05\n",
    "master = get_policy(params)\n",
    "ts, rewards, master = run_asebo(params, master)"
   ]
  },
  {
   "cell_type": "code",
   "execution_count": 5,
   "id": "8de9fcb3",
   "metadata": {
    "collapsed": true,
    "jupyter": {
     "outputs_hidden": true
    },
    "tags": []
   },
   "outputs": [
    {
     "name": "stdout",
     "output_type": "stream",
     "text": [
      "Policy Dimension:  116\n",
      "Academic license - for non-commercial use only - expires 2022-02-06\n",
      "Using license file /Users/stevenyin/gurobi.lic\n",
      "Iteration: 1, Leanring Rate: 1.000e+00, Rollouts: 464, Reward: 168.46, Update Direction Norm: 16.11\n",
      "Iteration: 2, Leanring Rate: 1.000e+00, Rollouts: 928, Reward: 306.40, Update Direction Norm: 18.12\n",
      "Iteration: 3, Leanring Rate: 2.500e-01, Rollouts: 1392, Reward: 314.80, Update Direction Norm: 12.21\n",
      "Iteration: 4, Leanring Rate: 1.000e+00, Rollouts: 1856, Reward: 404.48, Update Direction Norm: 9.93\n",
      "Iteration: 5, Leanring Rate: 2.274e-13, Rollouts: 2320, Reward: 405.11, Update Direction Norm: 9.31\n",
      "Iteration: 6, Leanring Rate: 2.500e-01, Rollouts: 2784, Reward: 452.39, Update Direction Norm: 11.53\n",
      "Iteration: 7, Leanring Rate: 9.537e-07, Rollouts: 3248, Reward: 476.92, Update Direction Norm: 15.49\n",
      "Iteration: 8, Leanring Rate: 9.313e-10, Rollouts: 3712, Reward: 490.16, Update Direction Norm: 16.72\n",
      "Iteration: 9, Leanring Rate: 6.250e-02, Rollouts: 4176, Reward: 514.32, Update Direction Norm: 15.24\n",
      "Iteration: 10, Leanring Rate: 3.388e-21, Rollouts: 4640, Reward: 363.04, Update Direction Norm: 16.15\n",
      "Iteration: 11, Leanring Rate: 9.766e-04, Rollouts: 5104, Reward: 402.56, Update Direction Norm: 12.21\n",
      "Iteration: 12, Leanring Rate: 1.000e+00, Rollouts: 5568, Reward: 407.63, Update Direction Norm: 11.58\n",
      "Iteration: 13, Leanring Rate: 2.441e-04, Rollouts: 6032, Reward: 488.26, Update Direction Norm: 12.42\n",
      "Iteration: 14, Leanring Rate: 9.095e-13, Rollouts: 6496, Reward: 536.19, Update Direction Norm: 14.97\n",
      "Iteration: 15, Leanring Rate: 1.526e-05, Rollouts: 6960, Reward: 544.95, Update Direction Norm: 16.98\n",
      "Iteration: 16, Leanring Rate: 3.815e-06, Rollouts: 7424, Reward: 626.51, Update Direction Norm: 20.45\n",
      "Iteration: 17, Leanring Rate: 3.388e-21, Rollouts: 7888, Reward: 383.30, Update Direction Norm: 27.99\n",
      "Iteration: 18, Leanring Rate: 9.766e-04, Rollouts: 8352, Reward: 384.80, Update Direction Norm: 12.16\n",
      "Iteration: 19, Leanring Rate: 2.500e-01, Rollouts: 8816, Reward: 394.80, Update Direction Norm: 13.19\n",
      "Iteration: 20, Leanring Rate: 1.562e-02, Rollouts: 9280, Reward: 416.03, Update Direction Norm: 13.33\n",
      "Iteration: 21, Leanring Rate: 6.250e-02, Rollouts: 9744, Reward: 486.49, Update Direction Norm: 11.57\n",
      "Iteration: 22, Leanring Rate: 2.500e-01, Rollouts: 10208, Reward: 585.07, Update Direction Norm: 16.33\n",
      "Iteration: 23, Leanring Rate: 3.388e-21, Rollouts: 10672, Reward: 263.60, Update Direction Norm: 25.88\n",
      "Iteration: 24, Leanring Rate: 6.250e-02, Rollouts: 11136, Reward: 286.97, Update Direction Norm: 10.80\n",
      "Iteration: 25, Leanring Rate: 1.000e+00, Rollouts: 11600, Reward: 407.91, Update Direction Norm: 9.74\n",
      "Iteration: 26, Leanring Rate: 9.766e-04, Rollouts: 12064, Reward: 420.75, Update Direction Norm: 12.92\n",
      "Iteration: 27, Leanring Rate: 1.562e-02, Rollouts: 12528, Reward: 450.86, Update Direction Norm: 10.66\n",
      "Iteration: 28, Leanring Rate: 2.384e-07, Rollouts: 12992, Reward: 467.53, Update Direction Norm: 12.83\n",
      "Iteration: 29, Leanring Rate: 1.421e-14, Rollouts: 13456, Reward: 512.76, Update Direction Norm: 11.50\n",
      "Iteration: 30, Leanring Rate: 3.388e-21, Rollouts: 13920, Reward: 454.67, Update Direction Norm: 17.82\n",
      "Iteration: 31, Leanring Rate: 2.500e-01, Rollouts: 14384, Reward: 500.88, Update Direction Norm: 11.76\n",
      "Iteration: 32, Leanring Rate: 3.388e-21, Rollouts: 14848, Reward: 417.84, Update Direction Norm: 12.42\n",
      "Iteration: 33, Leanring Rate: 2.500e-01, Rollouts: 15312, Reward: 461.56, Update Direction Norm: 7.94\n",
      "Iteration: 34, Leanring Rate: 3.906e-03, Rollouts: 15776, Reward: 469.88, Update Direction Norm: 12.39\n",
      "Iteration: 35, Leanring Rate: 9.537e-07, Rollouts: 16240, Reward: 496.09, Update Direction Norm: 10.60\n",
      "Iteration: 36, Leanring Rate: 3.388e-21, Rollouts: 16704, Reward: 340.65, Update Direction Norm: 15.95\n",
      "Iteration: 37, Leanring Rate: 2.500e-01, Rollouts: 17168, Reward: 437.64, Update Direction Norm: 8.31\n",
      "Iteration: 38, Leanring Rate: 5.960e-08, Rollouts: 17632, Reward: 549.62, Update Direction Norm: 12.34\n",
      "Iteration: 39, Leanring Rate: 3.906e-03, Rollouts: 18096, Reward: 573.16, Update Direction Norm: 19.88\n",
      "Iteration: 40, Leanring Rate: 3.388e-21, Rollouts: 18560, Reward: 281.29, Update Direction Norm: 20.39\n",
      "Iteration: 41, Leanring Rate: 2.500e-01, Rollouts: 19024, Reward: 303.39, Update Direction Norm: 10.51\n",
      "Iteration: 42, Leanring Rate: 1.000e+00, Rollouts: 19488, Reward: 584.14, Update Direction Norm: 12.68\n",
      "Iteration: 43, Leanring Rate: 3.388e-21, Rollouts: 19952, Reward: 421.58, Update Direction Norm: 24.60\n",
      "Iteration: 44, Leanring Rate: 1.562e-02, Rollouts: 20416, Reward: 464.10, Update Direction Norm: 14.40\n",
      "Iteration: 45, Leanring Rate: 3.906e-03, Rollouts: 20880, Reward: 563.94, Update Direction Norm: 13.83\n",
      "Iteration: 46, Leanring Rate: 1.562e-02, Rollouts: 21344, Reward: 566.48, Update Direction Norm: 22.93\n",
      "Iteration: 47, Leanring Rate: 1.562e-02, Rollouts: 21808, Reward: 576.58, Update Direction Norm: 24.25\n",
      "Iteration: 48, Leanring Rate: 1.388e-17, Rollouts: 22272, Reward: 576.58, Update Direction Norm: 25.39\n",
      "Iteration: 49, Leanring Rate: 5.551e-17, Rollouts: 22736, Reward: 576.58, Update Direction Norm: 24.42\n",
      "Iteration: 50, Leanring Rate: 8.882e-16, Rollouts: 23200, Reward: 576.58, Update Direction Norm: 25.63\n",
      "Iteration: 51, Leanring Rate: 5.551e-17, Rollouts: 23664, Reward: 576.58, Update Direction Norm: 22.61\n",
      "Iteration: 52, Leanring Rate: 3.388e-21, Rollouts: 24128, Reward: 440.86, Update Direction Norm: 25.53\n",
      "Iteration: 53, Leanring Rate: 1.562e-02, Rollouts: 24592, Reward: 515.21, Update Direction Norm: 11.64\n",
      "Iteration: 54, Leanring Rate: 1.490e-08, Rollouts: 25056, Reward: 561.12, Update Direction Norm: 20.01\n",
      "Iteration: 55, Leanring Rate: 3.388e-21, Rollouts: 25520, Reward: 252.83, Update Direction Norm: 23.53\n",
      "Iteration: 56, Leanring Rate: 1.000e+00, Rollouts: 25984, Reward: 401.86, Update Direction Norm: 15.46\n",
      "Iteration: 57, Leanring Rate: 2.500e-01, Rollouts: 26448, Reward: 422.83, Update Direction Norm: 9.83\n",
      "Iteration: 58, Leanring Rate: 1.526e-05, Rollouts: 26912, Reward: 470.37, Update Direction Norm: 10.18\n",
      "Iteration: 59, Leanring Rate: 1.490e-08, Rollouts: 27376, Reward: 507.72, Update Direction Norm: 10.91\n",
      "Iteration: 60, Leanring Rate: 3.388e-21, Rollouts: 27840, Reward: 273.11, Update Direction Norm: 13.33\n",
      "Iteration: 61, Leanring Rate: 2.500e-01, Rollouts: 28304, Reward: 457.17, Update Direction Norm: 10.80\n",
      "Iteration: 62, Leanring Rate: 2.220e-16, Rollouts: 28768, Reward: 457.17, Update Direction Norm: 13.45\n",
      "Iteration: 63, Leanring Rate: 1.526e-05, Rollouts: 29232, Reward: 514.50, Update Direction Norm: 14.08\n",
      "Iteration: 64, Leanring Rate: 3.388e-21, Rollouts: 29696, Reward: 197.27, Update Direction Norm: 19.39\n",
      "Iteration: 65, Leanring Rate: 1.000e+00, Rollouts: 30160, Reward: 303.07, Update Direction Norm: 16.52\n",
      "Iteration: 66, Leanring Rate: 1.000e+00, Rollouts: 30624, Reward: 306.41, Update Direction Norm: 10.09\n",
      "Iteration: 67, Leanring Rate: 1.000e+00, Rollouts: 31088, Reward: 363.21, Update Direction Norm: 11.89\n",
      "Iteration: 68, Leanring Rate: 2.500e-01, Rollouts: 31552, Reward: 376.23, Update Direction Norm: 12.80\n",
      "Iteration: 69, Leanring Rate: 3.906e-03, Rollouts: 32016, Reward: 398.20, Update Direction Norm: 12.43\n",
      "Iteration: 70, Leanring Rate: 5.960e-08, Rollouts: 32480, Reward: 484.07, Update Direction Norm: 12.21\n",
      "Iteration: 71, Leanring Rate: 3.815e-06, Rollouts: 32944, Reward: 492.84, Update Direction Norm: 16.12\n",
      "Iteration: 72, Leanring Rate: 3.388e-21, Rollouts: 33408, Reward: 449.83, Update Direction Norm: 17.65\n",
      "Iteration: 73, Leanring Rate: 5.551e-17, Rollouts: 33872, Reward: 449.83, Update Direction Norm: 13.84\n",
      "Iteration: 74, Leanring Rate: 1.421e-14, Rollouts: 34336, Reward: 470.33, Update Direction Norm: 13.80\n",
      "Iteration: 75, Leanring Rate: 3.906e-03, Rollouts: 34800, Reward: 532.59, Update Direction Norm: 17.15\n",
      "Iteration: 76, Leanring Rate: 3.388e-21, Rollouts: 35264, Reward: 132.68, Update Direction Norm: 20.72\n",
      "Iteration: 77, Leanring Rate: 2.500e-01, Rollouts: 35728, Reward: 340.82, Update Direction Norm: 22.74\n",
      "Iteration: 78, Leanring Rate: 1.562e-02, Rollouts: 36192, Reward: 361.08, Update Direction Norm: 11.15\n",
      "Iteration: 79, Leanring Rate: 3.906e-03, Rollouts: 36656, Reward: 523.43, Update Direction Norm: 11.78\n",
      "Iteration: 80, Leanring Rate: 9.313e-10, Rollouts: 37120, Reward: 585.12, Update Direction Norm: 18.90\n",
      "Iteration: 81, Leanring Rate: 3.553e-15, Rollouts: 37584, Reward: 585.12, Update Direction Norm: 26.51\n",
      "Iteration: 82, Leanring Rate: 3.553e-15, Rollouts: 38048, Reward: 585.12, Update Direction Norm: 30.69\n",
      "Iteration: 83, Leanring Rate: 3.553e-15, Rollouts: 38512, Reward: 585.12, Update Direction Norm: 26.03\n",
      "Iteration: 84, Leanring Rate: 3.553e-15, Rollouts: 38976, Reward: 585.12, Update Direction Norm: 29.89\n",
      "Iteration: 85, Leanring Rate: 3.553e-15, Rollouts: 39440, Reward: 585.12, Update Direction Norm: 28.04\n",
      "Iteration: 86, Leanring Rate: 8.882e-16, Rollouts: 39904, Reward: 585.12, Update Direction Norm: 24.42\n",
      "Iteration: 87, Leanring Rate: 3.815e-06, Rollouts: 40368, Reward: 609.37, Update Direction Norm: 23.82\n",
      "Iteration: 88, Leanring Rate: 1.421e-14, Rollouts: 40832, Reward: 609.37, Update Direction Norm: 26.97\n",
      "Iteration: 89, Leanring Rate: 3.553e-15, Rollouts: 41296, Reward: 609.37, Update Direction Norm: 26.64\n",
      "Iteration: 90, Leanring Rate: 3.553e-15, Rollouts: 41760, Reward: 609.37, Update Direction Norm: 28.81\n",
      "Iteration: 91, Leanring Rate: 1.421e-14, Rollouts: 42224, Reward: 609.37, Update Direction Norm: 25.46\n",
      "Iteration: 92, Leanring Rate: 3.553e-15, Rollouts: 42688, Reward: 609.37, Update Direction Norm: 26.74\n",
      "Iteration: 93, Leanring Rate: 3.553e-15, Rollouts: 43152, Reward: 609.37, Update Direction Norm: 28.05\n",
      "Iteration: 94, Leanring Rate: 1.421e-14, Rollouts: 43616, Reward: 609.37, Update Direction Norm: 30.03\n",
      "Iteration: 95, Leanring Rate: 1.421e-14, Rollouts: 44080, Reward: 609.37, Update Direction Norm: 28.54\n",
      "Iteration: 96, Leanring Rate: 5.684e-14, Rollouts: 44544, Reward: 609.37, Update Direction Norm: 28.31\n",
      "Iteration: 97, Leanring Rate: 8.882e-16, Rollouts: 45008, Reward: 609.37, Update Direction Norm: 28.70\n",
      "Iteration: 98, Leanring Rate: 5.684e-14, Rollouts: 45472, Reward: 609.37, Update Direction Norm: 25.64\n",
      "Iteration: 99, Leanring Rate: 8.882e-16, Rollouts: 45936, Reward: 609.37, Update Direction Norm: 32.72\n",
      "Policy Dimension:  116\n",
      "Iteration: 1, Leanring Rate: 1.562e-02, Rollouts: 464, Reward: -0.90, Update Direction Norm: 0.41\n",
      "Iteration: 2, Leanring Rate: 1.000e+00, Rollouts: 928, Reward: -0.89, Update Direction Norm: 0.42\n",
      "Iteration: 3, Leanring Rate: 5.684e-14, Rollouts: 1392, Reward: -0.89, Update Direction Norm: 0.45\n",
      "Iteration: 4, Leanring Rate: 1.000e+00, Rollouts: 1856, Reward: -0.86, Update Direction Norm: 0.56\n"
     ]
    },
    {
     "ename": "KeyboardInterrupt",
     "evalue": "",
     "output_type": "error",
     "traceback": [
      "\u001b[0;31m---------------------------------------------------------------------------\u001b[0m",
      "\u001b[0;31mKeyboardInterrupt\u001b[0m                         Traceback (most recent call last)",
      "\u001b[0;32m<ipython-input-5-620c1f4141dd>\u001b[0m in \u001b[0;36m<module>\u001b[0;34m()\u001b[0m\n\u001b[1;32m     10\u001b[0m \u001b[0mparams\u001b[0m\u001b[0;34m[\u001b[0m\u001b[0;34m'learning_rate'\u001b[0m\u001b[0;34m]\u001b[0m \u001b[0;34m=\u001b[0m \u001b[0;36m1\u001b[0m\u001b[0;34m\u001b[0m\u001b[0;34m\u001b[0m\u001b[0m\n\u001b[1;32m     11\u001b[0m \u001b[0mmaster\u001b[0m \u001b[0;34m=\u001b[0m \u001b[0mget_policy\u001b[0m\u001b[0;34m(\u001b[0m\u001b[0mparams\u001b[0m\u001b[0;34m)\u001b[0m\u001b[0;34m\u001b[0m\u001b[0;34m\u001b[0m\u001b[0m\n\u001b[0;32m---> 12\u001b[0;31m \u001b[0mts\u001b[0m\u001b[0;34m,\u001b[0m \u001b[0mrewards\u001b[0m\u001b[0;34m,\u001b[0m \u001b[0mmaster\u001b[0m \u001b[0;34m=\u001b[0m \u001b[0mrun_HessianES\u001b[0m\u001b[0;34m(\u001b[0m\u001b[0mparams\u001b[0m\u001b[0;34m,\u001b[0m \u001b[0mgradient_estimator\u001b[0m\u001b[0;34m,\u001b[0m \u001b[0minvhessian_estimator\u001b[0m\u001b[0;34m,\u001b[0m \u001b[0mmaster\u001b[0m\u001b[0;34m)\u001b[0m\u001b[0;34m\u001b[0m\u001b[0;34m\u001b[0m\u001b[0m\n\u001b[0m\u001b[1;32m     13\u001b[0m \u001b[0;34m\u001b[0m\u001b[0m\n\u001b[1;32m     14\u001b[0m \u001b[0;34m\u001b[0m\u001b[0m\n",
      "\u001b[0;32m/Users/stevenyin/Google Drive/columbia/semester 9/krzysztof class/Project6617/rl/methods.py\u001b[0m in \u001b[0;36mrun_HessianES\u001b[0;34m(params, gradient_estimator, invhessian_estimator, master)\u001b[0m\n",
      "\u001b[0;32m/Users/stevenyin/Google Drive/columbia/semester 9/krzysztof class/Project6617/rl/methods.py\u001b[0m in \u001b[0;36mHessianESv2\u001b[0;34m(params, master, gradient_estimator, invhessian_estimator, cov)\u001b[0m\n\u001b[1;32m    293\u001b[0m         \u001b[0mn_eps\u001b[0m \u001b[0;34m+=\u001b[0m \u001b[0;36m2\u001b[0m \u001b[0;34m*\u001b[0m \u001b[0mn_samples\u001b[0m\u001b[0;34m\u001b[0m\u001b[0;34m\u001b[0m\u001b[0m\n\u001b[1;32m    294\u001b[0m         \u001b[0mrollouts\u001b[0m\u001b[0;34m.\u001b[0m\u001b[0mappend\u001b[0m\u001b[0;34m(\u001b[0m\u001b[0mn_eps\u001b[0m\u001b[0;34m)\u001b[0m\u001b[0;34m\u001b[0m\u001b[0;34m\u001b[0m\u001b[0m\n\u001b[0;32m--> 295\u001b[0;31m         \u001b[0mgradient\u001b[0m \u001b[0;34m/=\u001b[0m \u001b[0;34m(\u001b[0m\u001b[0mnp\u001b[0m\u001b[0;34m.\u001b[0m\u001b[0mlinalg\u001b[0m\u001b[0;34m.\u001b[0m\u001b[0mnorm\u001b[0m\u001b[0;34m(\u001b[0m\u001b[0mgradient\u001b[0m\u001b[0;34m)\u001b[0m \u001b[0;34m/\u001b[0m \u001b[0mmaster\u001b[0m\u001b[0;34m.\u001b[0m\u001b[0mN\u001b[0m \u001b[0;34m+\u001b[0m \u001b[0;36m1e-8\u001b[0m\u001b[0;34m)\u001b[0m\u001b[0;34m\u001b[0m\u001b[0;34m\u001b[0m\u001b[0m\n\u001b[0m\u001b[1;32m    296\u001b[0m \u001b[0;34m\u001b[0m\u001b[0m\n\u001b[1;32m    297\u001b[0m         \u001b[0mupdate\u001b[0m\u001b[0;34m,\u001b[0m \u001b[0mm\u001b[0m\u001b[0;34m,\u001b[0m \u001b[0mv\u001b[0m \u001b[0;34m=\u001b[0m \u001b[0mAdam\u001b[0m\u001b[0;34m(\u001b[0m\u001b[0mgradient\u001b[0m\u001b[0;34m,\u001b[0m \u001b[0mm\u001b[0m\u001b[0;34m,\u001b[0m \u001b[0mv\u001b[0m\u001b[0;34m,\u001b[0m \u001b[0mparams\u001b[0m\u001b[0;34m[\u001b[0m\u001b[0;34m'learning_rate'\u001b[0m\u001b[0;34m]\u001b[0m\u001b[0;34m,\u001b[0m \u001b[0mn_iter\u001b[0m\u001b[0;34m)\u001b[0m\u001b[0;34m\u001b[0m\u001b[0;34m\u001b[0m\u001b[0m\n",
      "\u001b[0;32m/Users/stevenyin/Google Drive/columbia/semester 9/krzysztof class/Project6617/rl/methods.py\u001b[0m in \u001b[0;36maggregate_rollouts_hessianES\u001b[0;34m(master, A, params)\u001b[0m\n\u001b[1;32m    177\u001b[0m             \u001b[0mcov\u001b[0m \u001b[0;34m=\u001b[0m \u001b[0;34m-\u001b[0m\u001b[0minvH\u001b[0m\u001b[0;34m\u001b[0m\u001b[0;34m\u001b[0m\u001b[0m\n\u001b[1;32m    178\u001b[0m         \u001b[0mupdate_direction\u001b[0m \u001b[0;34m=\u001b[0m \u001b[0;34m-\u001b[0m\u001b[0minvH\u001b[0m\u001b[0;34m@\u001b[0m\u001b[0mg\u001b[0m\u001b[0;34m\u001b[0m\u001b[0;34m\u001b[0m\u001b[0m\n\u001b[0;32m--> 179\u001b[0;31m         \u001b[0mupdate_direction\u001b[0m \u001b[0;34m/=\u001b[0m \u001b[0;34m(\u001b[0m\u001b[0mnp\u001b[0m\u001b[0;34m.\u001b[0m\u001b[0mlinalg\u001b[0m\u001b[0;34m.\u001b[0m\u001b[0mnorm\u001b[0m\u001b[0;34m(\u001b[0m\u001b[0mupdate_direction\u001b[0m\u001b[0;34m)\u001b[0m \u001b[0;34m/\u001b[0m \u001b[0mmaster\u001b[0m\u001b[0;34m.\u001b[0m\u001b[0mN\u001b[0m \u001b[0;34m+\u001b[0m \u001b[0;36m1e-8\u001b[0m\u001b[0;34m)\u001b[0m\u001b[0;34m\u001b[0m\u001b[0;34m\u001b[0m\u001b[0m\n\u001b[0m\u001b[1;32m    180\u001b[0m         \u001b[0mlr\u001b[0m \u001b[0;34m=\u001b[0m \u001b[0mparams\u001b[0m\u001b[0;34m[\u001b[0m\u001b[0;34m'learning_rate'\u001b[0m\u001b[0;34m]\u001b[0m\u001b[0;34m\u001b[0m\u001b[0;34m\u001b[0m\u001b[0m\n\u001b[1;32m    181\u001b[0m         \u001b[0;31m# Backtracking\u001b[0m\u001b[0;34m\u001b[0m\u001b[0;34m\u001b[0m\u001b[0;34m\u001b[0m\u001b[0m\n",
      "\u001b[0;32m/Users/stevenyin/Google Drive/columbia/semester 9/krzysztof class/Project6617/asebo/worker.py\u001b[0m in \u001b[0;36mdo_rollouts\u001b[0;34m(self, seed, train)\u001b[0m\n\u001b[1;32m     34\u001b[0m \u001b[0;34m\u001b[0m\u001b[0m\n\u001b[1;32m     35\u001b[0m         \u001b[0mself\u001b[0m\u001b[0;34m.\u001b[0m\u001b[0mpolicy\u001b[0m\u001b[0;34m.\u001b[0m\u001b[0mupdate\u001b[0m\u001b[0;34m(\u001b[0m\u001b[0mself\u001b[0m\u001b[0;34m.\u001b[0m\u001b[0mv\u001b[0m\u001b[0;34m)\u001b[0m\u001b[0;34m\u001b[0m\u001b[0;34m\u001b[0m\u001b[0m\n\u001b[0;32m---> 36\u001b[0;31m         \u001b[0mup\u001b[0m \u001b[0;34m=\u001b[0m \u001b[0mself\u001b[0m\u001b[0;34m.\u001b[0m\u001b[0mrollout\u001b[0m\u001b[0;34m(\u001b[0m\u001b[0mseed\u001b[0m\u001b[0;34m,\u001b[0m \u001b[0mtrain\u001b[0m\u001b[0;34m)\u001b[0m\u001b[0;34m\u001b[0m\u001b[0;34m\u001b[0m\u001b[0m\n\u001b[0m\u001b[1;32m     37\u001b[0m \u001b[0;34m\u001b[0m\u001b[0m\n\u001b[1;32m     38\u001b[0m         \u001b[0mself\u001b[0m\u001b[0;34m.\u001b[0m\u001b[0mpolicy\u001b[0m\u001b[0;34m.\u001b[0m\u001b[0mupdate\u001b[0m\u001b[0;34m(\u001b[0m\u001b[0;34m-\u001b[0m\u001b[0;36m2\u001b[0m \u001b[0;34m*\u001b[0m \u001b[0mself\u001b[0m\u001b[0;34m.\u001b[0m\u001b[0mv\u001b[0m\u001b[0;34m)\u001b[0m\u001b[0;34m\u001b[0m\u001b[0;34m\u001b[0m\u001b[0m\n",
      "\u001b[0;32m/Users/stevenyin/Google Drive/columbia/semester 9/krzysztof class/Project6617/asebo/worker.py\u001b[0m in \u001b[0;36mrollout\u001b[0;34m(self, seed, train, render)\u001b[0m\n\u001b[1;32m     49\u001b[0m         \u001b[0;32mwhile\u001b[0m \u001b[0;32mnot\u001b[0m \u001b[0mdone\u001b[0m\u001b[0;34m:\u001b[0m\u001b[0;34m\u001b[0m\u001b[0;34m\u001b[0m\u001b[0m\n\u001b[1;32m     50\u001b[0m             \u001b[0maction\u001b[0m \u001b[0;34m=\u001b[0m \u001b[0mself\u001b[0m\u001b[0;34m.\u001b[0m\u001b[0mpolicy\u001b[0m\u001b[0;34m.\u001b[0m\u001b[0mevaluate\u001b[0m\u001b[0;34m(\u001b[0m\u001b[0mstate\u001b[0m\u001b[0;34m)\u001b[0m\u001b[0;34m\u001b[0m\u001b[0;34m\u001b[0m\u001b[0m\n\u001b[0;32m---> 51\u001b[0;31m             \u001b[0maction\u001b[0m \u001b[0;34m=\u001b[0m \u001b[0mnp\u001b[0m\u001b[0;34m.\u001b[0m\u001b[0mclip\u001b[0m\u001b[0;34m(\u001b[0m\u001b[0maction\u001b[0m\u001b[0;34m,\u001b[0m \u001b[0mself\u001b[0m\u001b[0;34m.\u001b[0m\u001b[0menv\u001b[0m\u001b[0;34m.\u001b[0m\u001b[0maction_space\u001b[0m\u001b[0;34m.\u001b[0m\u001b[0mlow\u001b[0m\u001b[0;34m[\u001b[0m\u001b[0;36m0\u001b[0m\u001b[0;34m]\u001b[0m\u001b[0;34m,\u001b[0m \u001b[0mself\u001b[0m\u001b[0;34m.\u001b[0m\u001b[0menv\u001b[0m\u001b[0;34m.\u001b[0m\u001b[0maction_space\u001b[0m\u001b[0;34m.\u001b[0m\u001b[0mhigh\u001b[0m\u001b[0;34m[\u001b[0m\u001b[0;36m0\u001b[0m\u001b[0;34m]\u001b[0m\u001b[0;34m)\u001b[0m\u001b[0;34m\u001b[0m\u001b[0;34m\u001b[0m\u001b[0m\n\u001b[0m\u001b[1;32m     52\u001b[0m             \u001b[0maction\u001b[0m \u001b[0;34m=\u001b[0m \u001b[0maction\u001b[0m\u001b[0;34m.\u001b[0m\u001b[0mreshape\u001b[0m\u001b[0;34m(\u001b[0m\u001b[0mlen\u001b[0m\u001b[0;34m(\u001b[0m\u001b[0maction\u001b[0m\u001b[0;34m)\u001b[0m\u001b[0;34m,\u001b[0m \u001b[0;34m)\u001b[0m\u001b[0;34m\u001b[0m\u001b[0;34m\u001b[0m\u001b[0m\n\u001b[1;32m     53\u001b[0m             \u001b[0mstate\u001b[0m\u001b[0;34m,\u001b[0m \u001b[0mreward\u001b[0m\u001b[0;34m,\u001b[0m \u001b[0mdone\u001b[0m\u001b[0;34m,\u001b[0m \u001b[0m_\u001b[0m \u001b[0;34m=\u001b[0m \u001b[0mself\u001b[0m\u001b[0;34m.\u001b[0m\u001b[0menv\u001b[0m\u001b[0;34m.\u001b[0m\u001b[0mstep\u001b[0m\u001b[0;34m(\u001b[0m\u001b[0maction\u001b[0m\u001b[0;34m)\u001b[0m\u001b[0;34m\u001b[0m\u001b[0;34m\u001b[0m\u001b[0m\n",
      "\u001b[0;32m<__array_function__ internals>\u001b[0m in \u001b[0;36mclip\u001b[0;34m(*args, **kwargs)\u001b[0m\n",
      "\u001b[0;32m/Users/stevenyin/opt/anaconda3/envs/py36/lib/python3.6/site-packages/numpy/core/fromnumeric.py\u001b[0m in \u001b[0;36mclip\u001b[0;34m(a, a_min, a_max, out, **kwargs)\u001b[0m\n\u001b[1;32m   2095\u001b[0m \u001b[0;34m\u001b[0m\u001b[0m\n\u001b[1;32m   2096\u001b[0m     \"\"\"\n\u001b[0;32m-> 2097\u001b[0;31m     \u001b[0;32mreturn\u001b[0m \u001b[0m_wrapfunc\u001b[0m\u001b[0;34m(\u001b[0m\u001b[0ma\u001b[0m\u001b[0;34m,\u001b[0m \u001b[0;34m'clip'\u001b[0m\u001b[0;34m,\u001b[0m \u001b[0ma_min\u001b[0m\u001b[0;34m,\u001b[0m \u001b[0ma_max\u001b[0m\u001b[0;34m,\u001b[0m \u001b[0mout\u001b[0m\u001b[0;34m=\u001b[0m\u001b[0mout\u001b[0m\u001b[0;34m,\u001b[0m \u001b[0;34m**\u001b[0m\u001b[0mkwargs\u001b[0m\u001b[0;34m)\u001b[0m\u001b[0;34m\u001b[0m\u001b[0;34m\u001b[0m\u001b[0m\n\u001b[0m\u001b[1;32m   2098\u001b[0m \u001b[0;34m\u001b[0m\u001b[0m\n\u001b[1;32m   2099\u001b[0m \u001b[0;34m\u001b[0m\u001b[0m\n",
      "\u001b[0;32m/Users/stevenyin/opt/anaconda3/envs/py36/lib/python3.6/site-packages/numpy/core/fromnumeric.py\u001b[0m in \u001b[0;36m_wrapfunc\u001b[0;34m(obj, method, *args, **kwds)\u001b[0m\n\u001b[1;32m     56\u001b[0m \u001b[0;34m\u001b[0m\u001b[0m\n\u001b[1;32m     57\u001b[0m     \u001b[0;32mtry\u001b[0m\u001b[0;34m:\u001b[0m\u001b[0;34m\u001b[0m\u001b[0;34m\u001b[0m\u001b[0m\n\u001b[0;32m---> 58\u001b[0;31m         \u001b[0;32mreturn\u001b[0m \u001b[0mbound\u001b[0m\u001b[0;34m(\u001b[0m\u001b[0;34m*\u001b[0m\u001b[0margs\u001b[0m\u001b[0;34m,\u001b[0m \u001b[0;34m**\u001b[0m\u001b[0mkwds\u001b[0m\u001b[0;34m)\u001b[0m\u001b[0;34m\u001b[0m\u001b[0;34m\u001b[0m\u001b[0m\n\u001b[0m\u001b[1;32m     59\u001b[0m     \u001b[0;32mexcept\u001b[0m \u001b[0mTypeError\u001b[0m\u001b[0;34m:\u001b[0m\u001b[0;34m\u001b[0m\u001b[0;34m\u001b[0m\u001b[0m\n\u001b[1;32m     60\u001b[0m         \u001b[0;31m# A TypeError occurs if the object does have such a method in its\u001b[0m\u001b[0;34m\u001b[0m\u001b[0;34m\u001b[0m\u001b[0;34m\u001b[0m\u001b[0m\n",
      "\u001b[0;32m/Users/stevenyin/opt/anaconda3/envs/py36/lib/python3.6/site-packages/numpy/core/_methods.py\u001b[0m in \u001b[0;36m_clip\u001b[0;34m(a, min, max, out, casting, **kwargs)\u001b[0m\n\u001b[1;32m    139\u001b[0m     \u001b[0;32melse\u001b[0m\u001b[0;34m:\u001b[0m\u001b[0;34m\u001b[0m\u001b[0;34m\u001b[0m\u001b[0m\n\u001b[1;32m    140\u001b[0m         return _clip_dep_invoke_with_casting(\n\u001b[0;32m--> 141\u001b[0;31m             um.clip, a, min, max, out=out, casting=casting, **kwargs)\n\u001b[0m\u001b[1;32m    142\u001b[0m \u001b[0;34m\u001b[0m\u001b[0m\n\u001b[1;32m    143\u001b[0m \u001b[0;32mdef\u001b[0m \u001b[0m_mean\u001b[0m\u001b[0;34m(\u001b[0m\u001b[0ma\u001b[0m\u001b[0;34m,\u001b[0m \u001b[0maxis\u001b[0m\u001b[0;34m=\u001b[0m\u001b[0;32mNone\u001b[0m\u001b[0;34m,\u001b[0m \u001b[0mdtype\u001b[0m\u001b[0;34m=\u001b[0m\u001b[0;32mNone\u001b[0m\u001b[0;34m,\u001b[0m \u001b[0mout\u001b[0m\u001b[0;34m=\u001b[0m\u001b[0;32mNone\u001b[0m\u001b[0;34m,\u001b[0m \u001b[0mkeepdims\u001b[0m\u001b[0;34m=\u001b[0m\u001b[0;32mFalse\u001b[0m\u001b[0;34m)\u001b[0m\u001b[0;34m:\u001b[0m\u001b[0;34m\u001b[0m\u001b[0;34m\u001b[0m\u001b[0m\n",
      "\u001b[0;32m/Users/stevenyin/opt/anaconda3/envs/py36/lib/python3.6/site-packages/numpy/core/_methods.py\u001b[0m in \u001b[0;36m_clip_dep_invoke_with_casting\u001b[0;34m(ufunc, out, casting, *args, **kwargs)\u001b[0m\n\u001b[1;32m     92\u001b[0m     \u001b[0;31m# try to deal with broken casting rules\u001b[0m\u001b[0;34m\u001b[0m\u001b[0;34m\u001b[0m\u001b[0;34m\u001b[0m\u001b[0m\n\u001b[1;32m     93\u001b[0m     \u001b[0;32mtry\u001b[0m\u001b[0;34m:\u001b[0m\u001b[0;34m\u001b[0m\u001b[0;34m\u001b[0m\u001b[0m\n\u001b[0;32m---> 94\u001b[0;31m         \u001b[0;32mreturn\u001b[0m \u001b[0mufunc\u001b[0m\u001b[0;34m(\u001b[0m\u001b[0;34m*\u001b[0m\u001b[0margs\u001b[0m\u001b[0;34m,\u001b[0m \u001b[0mout\u001b[0m\u001b[0;34m=\u001b[0m\u001b[0mout\u001b[0m\u001b[0;34m,\u001b[0m \u001b[0;34m**\u001b[0m\u001b[0mkwargs\u001b[0m\u001b[0;34m)\u001b[0m\u001b[0;34m\u001b[0m\u001b[0;34m\u001b[0m\u001b[0m\n\u001b[0m\u001b[1;32m     95\u001b[0m     \u001b[0;32mexcept\u001b[0m \u001b[0m_exceptions\u001b[0m\u001b[0;34m.\u001b[0m\u001b[0m_UFuncOutputCastingError\u001b[0m \u001b[0;32mas\u001b[0m \u001b[0me\u001b[0m\u001b[0;34m:\u001b[0m\u001b[0;34m\u001b[0m\u001b[0;34m\u001b[0m\u001b[0m\n\u001b[1;32m     96\u001b[0m         \u001b[0;31m# Numpy 1.17.0, 2019-02-24\u001b[0m\u001b[0;34m\u001b[0m\u001b[0;34m\u001b[0m\u001b[0;34m\u001b[0m\u001b[0m\n",
      "\u001b[0;31mKeyboardInterrupt\u001b[0m: "
     ]
    }
   ],
   "source": [
    "params['backtracking'] = True\n",
    "\n",
    "params['seed'] = 2\n",
    "params['learning_rate'] = 1\n",
    "master = get_policy(params)\n",
    "ts, rewards, master = run_HessianES(params, gradient_estimator, invhessian_estimator, master)\n",
    "\n",
    "\n",
    "params['seed'] = 3\n",
    "params['learning_rate'] = 1\n",
    "master = get_policy(params)\n",
    "ts, rewards, master = run_HessianES(params, gradient_estimator, invhessian_estimator, master)\n",
    "\n",
    "\n"
   ]
  },
  {
   "cell_type": "markdown",
   "id": "e6c13d4b",
   "metadata": {},
   "source": [
    "## Save and Plot"
   ]
  },
  {
   "cell_type": "code",
   "execution_count": null,
   "id": "4d51b71f",
   "metadata": {},
   "outputs": [],
   "source": [
    "# np.save(\"./data/{}/asebo_params.npy\".format(params['dir']), master.params)\n",
    "# np.save(\"./data/{}/asebo_ts.npy\".format(params['dir']), ts)\n",
    "# np.save(\"./data/{}/asebo_rs.npy\".format(params['dir']), rewards)\n"
   ]
  },
  {
   "cell_type": "code",
   "execution_count": 41,
   "id": "52ac9e4a",
   "metadata": {},
   "outputs": [],
   "source": [
    "title = \"Swimmer-v2\"\n",
    "asebo_df = pd.read_csv(\"./data/Swimmer-v2Linear_h16_lr0.05_num_sensings125_/Seed0.csv\")\n",
    "hessian_df = pd.read_csv(\"./data/Swimmer-v2Linear_h16_lr1_num_sensings125__hessianES/Seed0.csv\")\n",
    "# hessian_dfv2 = pd.read_csv(\"./data/Swimmer-v2Linear_h16_lr1_num_sensings32_v2_hessianES/Seed0.csv\")\n",
    "hessian_dfv2 = pd.read_csv(\"./data/Swimmer-v2Linear_h16_lr1_num_sensings32_sampleFromInvHFalse_hessianES/Seed2.csv\")\n",
    "hessian_dfv3 = pd.read_csv(\"./data/Swimmer-v2Linear_h16_lr1_num_sensings32_sampleFromInvHFalse_hessianES/Seed1.csv\")\n",
    "\n",
    "\n",
    "\n",
    "# title = \"InvertedPendulum-v2\"\n",
    "# asebo_df = pd.read_csv(\"./data/InvertedPendulum-v2Linear_h16_lr1_num_sensings25__asebo/Seed0.csv\")\n",
    "# hessian_df = pd.read_csv(\"./data/InvertedPendulum-v2Linear_h16_lr1_num_sensings25__hessianES/Seed0.csv\")\n",
    "# hessian_dfv2 = pd.read_csv(\"./data/InvertedPendulum-v2Linear_h16_lr1_num_sensings8_v2_hessianES/Seed0.csv\")\n",
    "# hessian_dfv3 = pd.read_csv(\"./data/InvertedPendulum-v2Linear_h16_lr1_num_sensings8_sampleFromInvHFalse_hessianES/Seed0.csv\")\n",
    "\n",
    "\n",
    "title = \"Hopper-v2\"\n",
    "# asebo_df = pd.read_csv(\"./data/Hopper-v2Linear_h16_lr0.05_num_sensings66__asebo/Seed0.csv\")\n",
    "# asebo_df = pd.read_csv(\"./data/Hopper-v2Linear_h16_lr0.05_num_sensings66_sampleFromInvHFalse_asebo/Seed3.csv\")\n",
    "# hessian_df = pd.read_csv(\"./data/Hopper-v2Linear_h16_lr1_num_sensings66__hessianES/Seed0.csv\")\n",
    "hessian_dfv2 = pd.read_csv(\"./data/Hopper-v2Toeplitz_h16_lr1_num_sensings214_sigma_0.1_normalizeTrue_hessianES/Seed0.csv\")\n",
    "hessian_dfv3 = pd.read_csv(\"./data/Hopper-v2Toeplitz_h16_lr1_num_sensings214_sigma_0.1_normalizeFalse_hessianES/Seed0.csv\")\n",
    "\n",
    "\n",
    "# title = \"Reacher-v2\"\n",
    "# asebo_df = pd.read_csv(\"./data/Reacher-v2Linear_h16_lr0.05_num_sensings44__asebo/Seed0.csv\")\n",
    "# hessian_df = pd.read_csv(\"./data/Reacher-v2Linear_h16_lr1_num_sensings44__hessianES/Seed0.csv\")\n",
    "# hessian_dfv2 = pd.read_csv(\"./data/Reacher-v2Linear_h16_lr1_num_sensings44_sampleFromInvHFalse_hessianES/Seed2.csv\")\n",
    "# hessian_dfv3 = None\n",
    "\n",
    "\n",
    "# title = \"HalfCheetah-v2\"\n",
    "# asebo_df = pd.read_csv(\"./data/HalfCheetah-v2Linear_h16_lr0.05_num_sensings204__asebo/Seed0.csv\")\n",
    "# asebo_df2 = pd.read_csv(\"./data/HalfCheetah-v2Toeplitz_h16_lr0.05_num_sensings232_sampleFromInvHFalse_asebo/Seed1.csv\")\n",
    "# hessian_df = pd.read_csv(\"./data/HalfCheetah-v2Linear_h16_lr1_num_sensings204__hessianES/Seed0.csv\")\n",
    "# hessian_dfv2 = pd.read_csv(\"./data/HalfCheetah-v2Linear_h16_lr1_num_sensings204_v2_hessianES/Seed0.csv\")\n",
    "# hessian_dfv3 = pd.read_csv(\"./data/HalfCheetah-v2Toeplitz_h16_lr1_num_sensings232_sampleFromInvHFalse_hessianES/Seed1.csv\")\n",
    "\n",
    "\n",
    "\n",
    "\n",
    "# title = \"InvertedDoublePendulum-v2\"\n",
    "# asebo_df = pd.read_csv(\"./data/InvertedDoublePendulum-v2Linear_h16_lr0.05_num_sensings22__asebo/Seed0.csv\")\n",
    "# hessian_df = pd.read_csv(\"./data/InvertedDoublePendulum-v2Linear_h16_lr1_num_sensings22__hessianES/Seed0.csv\")\n"
   ]
  },
  {
   "cell_type": "code",
   "execution_count": 42,
   "id": "1fddf3bb",
   "metadata": {},
   "outputs": [
    {
     "data": {
      "image/png": "[encoded data removed]",
      "text/plain": [
       "<Figure size 432x288 with 1 Axes>"
      ]
     },
     "metadata": {
      "needs_background": "light"
     },
     "output_type": "display_data"
    }
   ],
   "source": [
    "# plt.plot(asebo_ts, asebo_rewards, label=\"ASEBO\")\n",
    "# plt.plot(lpgrad_ts, lpgrad_rewards, label=\"LP gradient\")\n",
    "\n",
    "# sns.lineplot(data=asebo_df, x=\"Timesteps\", y=\"Reward\", label=\"ASEBO\")\n",
    "# sns.lineplot(data=asebo_df2, x=\"Timesteps\", y=\"Reward\", label=\"ASEBO2\")\n",
    "# sns.lineplot(data=hessian_df, x=\"Timesteps\", y=\"Reward\", label=\"Hessian\")\n",
    "sns.lineplot(data=hessian_dfv2, x=\"Timesteps\", y=\"Reward\", label=\"Hessianv2\")\n",
    "sns.lineplot(data=hessian_dfv3, x=\"Timesteps\", y=\"Reward\", label=\"Hessianv3\")\n",
    "\n",
    "plt.grid()\n",
    "plt.title(title)\n",
    "# plt.xlim(0, 1e7)\n",
    "plt.savefig(\"./plots/%s.png\" % title)\n"
   ]
  },
  {
   "cell_type": "markdown",
   "id": "345e7a36",
   "metadata": {},
   "source": [
    "# Testing"
   ]
  },
  {
   "cell_type": "code",
   "execution_count": null,
   "id": "5d50cdec",
   "metadata": {},
   "outputs": [],
   "source": [
    "master = get_policy(params)\n",
    "master.params=np.load(\"./data/Hopper-v2Linear_h16_lr0.05_num_sensings66_sampleFromInvHFalse_asebo/asebo_params.npy\")\n",
    "test_policy = worker(params, master, np.zeros([1, master.N]), 0)\n"
   ]
  },
  {
   "cell_type": "code",
   "execution_count": null,
   "id": "ea5c991e",
   "metadata": {},
   "outputs": [],
   "source": [
    "from gym.wrappers import Monitor\n",
    "env = Monitor(gym.make(params['env_name']), './video', force=True)\n",
    "env._max_episode_steps = params['steps']"
   ]
  },
  {
   "cell_type": "code",
   "execution_count": null,
   "id": "15e95524",
   "metadata": {},
   "outputs": [],
   "source": [
    "def play(env, worker):\n",
    "    state = env.reset()\n",
    "    while 1:\n",
    "        action = worker.policy.evaluate(state)\n",
    "        action = np.clip(action, worker.env.action_space.low[0], worker.env.action_space.high[0])\n",
    "        action = action.reshape(len(action), )\n",
    "        state, reward, done, info = env.step(action)\n",
    "        env.render()\n",
    "        if done: \n",
    "            break"
   ]
  },
  {
   "cell_type": "code",
   "execution_count": null,
   "id": "f6e69ff4",
   "metadata": {},
   "outputs": [],
   "source": [
    "play(env, test_policy)"
   ]
  },
  {
   "cell_type": "code",
   "execution_count": null,
   "id": "e4c5db78",
   "metadata": {},
   "outputs": [],
   "source": []
  }
 ],
 "metadata": {
  "kernelspec": {
   "display_name": "Python 3",
   "language": "python",
   "name": "python3"
  },
  "language_info": {
   "codemirror_mode": {
    "name": "ipython",
    "version": 3
   },
   "file_extension": ".py",
   "mimetype": "text/x-python",
   "name": "python",
   "nbconvert_exporter": "python",
   "pygments_lexer": "ipython3",
   "version": "3.6.13"
  }
 },
 "nbformat": 4,
 "nbformat_minor": 5
}
