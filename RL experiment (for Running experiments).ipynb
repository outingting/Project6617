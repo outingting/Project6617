{
 "cells": [
  {
   "cell_type": "code",
   "execution_count": 1,
   "id": "00016ff5",
   "metadata": {},
   "outputs": [],
   "source": [
    "%load_ext autoreload\n",
    "%autoreload 2"
   ]
  },
  {
   "cell_type": "code",
   "execution_count": 116,
   "id": "22c7abca",
   "metadata": {},
   "outputs": [],
   "source": [
    "import numpy as np\n",
    "import pandas as pd\n",
    "import cvxpy as cp\n",
    "import gym\n",
    "import matplotlib.pyplot as plt\n",
    "from numpy.linalg import LinAlgError\n",
    "import gurobipy\n",
    "import seaborn as sns\n",
    "\n",
    "import sys\n",
    "sys.path.append('./asebo/')\n",
    "sys.path.append('./rl/')\n",
    "from optimizers import Adam\n",
    "from worker import worker, get_policy\n",
    "from es import ES\n",
    "\n",
    "from methods import Gradient_LP, Hessian_LP, Hessian_LP_structured, \\\n",
    "                    get_PTinverse, run_HessianES, aggregate_rollouts_hessianES,\\\n",
    "                    run_asebo, gradient_antithetic_estimator, invHessian_LP_structured_PTinv_estimator,\\\n",
    "                    invHessian_identity_estimator"
   ]
  },
  {
   "cell_type": "markdown",
   "id": "7bcda724",
   "metadata": {},
   "source": [
    "## Training"
   ]
  },
  {
   "cell_type": "code",
   "execution_count": 142,
   "id": "cc525b9d",
   "metadata": {},
   "outputs": [],
   "source": [
    "########### Setting up params ##########\n",
    "params = {\n",
    "# 'env_name': 'Swimmer-v2',\n",
    "# 'env_name': 'HalfCheetah-v2',\n",
    "# 'env_name': 'InvertedPendulum-v2',\n",
    "# 'env_name': 'InvertedDoublePendulum-v2',\n",
    "'env_name': 'Reacher-v2',\n",
    "# 'env_name': 'Hopper-v2',\n",
    "'steps':1000,\n",
    "'h_dim':16,\n",
    "'start':0,\n",
    "'max_iter':200,\n",
    "'seed':0,\n",
    "'k':140, # ASEBO only?\n",
    "'num_sensings':25,\n",
    "'log':False,\n",
    "'linear':True,\n",
    "'threshold':0.995,\n",
    "'decay':0.99,\n",
    "'learning_rate':0.05,#0.05\n",
    "'filename':'',\n",
    "'policy':'Linear', # Linear or Toeplitz\n",
    "'shift':0,\n",
    "'min':10,\n",
    "'sigma':1e-1,\n",
    "'backtracking':True,\n",
    "'alpha': 1e-6,\n",
    "'beta': 0.5\n",
    "}\n",
    "\n",
    "\n",
    "\n",
    "gradient_estimator = gradient_antithetic_estimator\n",
    "\n",
    "\n",
    "# invhessian_estimator = invHessian_LP_structured_PTinv_estimator\n",
    "\n",
    "invhessian_estimator =  invHessian_identity_estimator\n",
    "params['filename'] = \"identity\""
   ]
  },
  {
   "cell_type": "code",
   "execution_count": 143,
   "id": "3a9d9459",
   "metadata": {},
   "outputs": [],
   "source": [
    "########### Auto Param Setups ##########\n",
    "\n",
    "env = gym.make(params['env_name'])\n",
    "params['ob_dim'] = env.observation_space.shape[0]\n",
    "params['ac_dim'] = env.action_space.shape[0]\n",
    "params['k'] += -1\n",
    "# params['alpha'] = 1 # ASEBO only\n",
    "params['zeros'] = False\n",
    "master = get_policy(params)\n",
    "if params['log']:\n",
    "    params['num_sensings'] = 4 + int(3 * np.log(master.N))\n",
    "if params['linear']:\n",
    "    params['num_sensings'] = int(2 * master.N)\n",
    "    \n",
    "\n",
    "params['dir'] = params['env_name'] + params['policy'] + '_h' + str(params['h_dim']) + '_lr' + str(params['learning_rate']) + '_num_sensings' + str(params['num_sensings']) +'_' + params['filename']"
   ]
  },
  {
   "cell_type": "markdown",
   "id": "55cd2f94",
   "metadata": {},
   "source": [
    "## Train"
   ]
  },
  {
   "cell_type": "code",
   "execution_count": null,
   "id": "58fb2d73",
   "metadata": {
    "scrolled": true
   },
   "outputs": [
    {
     "name": "stdout",
     "output_type": "stream",
     "text": [
      "Policy Dimension:  22\n",
      "Iteration: 1, Leanring Rate: 0.5, Rollouts: 88, Reward: -2014.8528960736112, Samples: 44\n",
      "Iteration: 2, Leanring Rate: 0.25, Rollouts: 176, Reward: -2001.8020703784318, Samples: 44\n",
      "Iteration: 3, Leanring Rate: 0.03125, Rollouts: 264, Reward: -1658.3845944874672, Samples: 44\n",
      "Iteration: 4, Leanring Rate: 0.000244140625, Rollouts: 352, Reward: -1657.4999281453397, Samples: 44\n",
      "Iteration: 5, Leanring Rate: 0.015625, Rollouts: 440, Reward: -1645.9632410628985, Samples: 44\n",
      "Iteration: 6, Leanring Rate: 0.0625, Rollouts: 528, Reward: -1607.9574724149768, Samples: 44\n",
      "Iteration: 7, Leanring Rate: 6.103515625e-05, Rollouts: 616, Reward: -1605.5987882934517, Samples: 44\n",
      "Iteration: 8, Leanring Rate: 9.5367431640625e-07, Rollouts: 704, Reward: -1601.3266614716767, Samples: 44\n",
      "Iteration: 9, Leanring Rate: 0.0009765625, Rollouts: 792, Reward: -1598.4563429951531, Samples: 44\n"
     ]
    }
   ],
   "source": [
    "master = get_policy(params)\n",
    "\n",
    "params['learning_rate'] = 1\n",
    "ts, rewards, master = run_HessianES(params, gradient_estimator, invhessian_estimator, master)\n",
    "\n",
    "# params['learning_rate'] = 0.05\n",
    "# ts, rewards, master = run_asebo(params, master)"
   ]
  },
  {
   "cell_type": "markdown",
   "id": "e6c13d4b",
   "metadata": {},
   "source": [
    "## Save and Plot"
   ]
  },
  {
   "cell_type": "code",
   "execution_count": 15,
   "id": "4d51b71f",
   "metadata": {},
   "outputs": [],
   "source": [
    "# np.save(\"./data/{}/asebo_params.npy\".format(params['dir']), master.params)\n",
    "# np.save(\"./data/{}/asebo_ts.npy\".format(params['dir']), ts)\n",
    "# np.save(\"./data/{}/asebo_rs.npy\".format(params['dir']), rewards)\n"
   ]
  },
  {
   "cell_type": "code",
   "execution_count": 137,
   "id": "52ac9e4a",
   "metadata": {},
   "outputs": [],
   "source": [
    "title = \"Swimmer-v2\"\n",
    "asebo_df = pd.read_csv(\"./data/Swimmer-v2Linear_h16_lr0.05_num_sensings125_/Seed0.csv\")\n",
    "hessian_df = pd.read_csv(\"./data/Swimmer-v2Linear_h16_lr1_num_sensings125__hessianES/Seed0.csv\")\n",
    "\n",
    "title = \"InvertedPendulum-v2\"\n",
    "asebo_df = pd.read_csv(\"./data/InvertedPendulum-v2Linear_h16_lr1_num_sensings25__asebo/Seed0.csv\")\n",
    "hessian_df = pd.read_csv(\"./data/InvertedPendulum-v2Linear_h16_lr1_num_sensings25__hessianES/Seed0.csv\")\n",
    "\n",
    "title = \"Hopper-v2\"\n",
    "asebo_df = pd.read_csv(\"./data/Hopper-v2Linear_h16_lr0.05_num_sensings66__asebo/Seed0.csv\")\n",
    "hessian_df = pd.read_csv(\"./data/Hopper-v2Linear_h16_lr1_num_sensings66__hessianES/Seed0.csv\")\n",
    "\n",
    "title = \"Reacher-v2\"\n",
    "asebo_df = pd.read_csv(\"./data/Reacher-v2Linear_h16_lr0.05_num_sensings44__asebo/Seed0.csv\")\n",
    "hessian_df = pd.read_csv(\"./data/Reacher-v2Linear_h16_lr0.05_num_sensings44__hessianES/Seed0.csv\")\n",
    "\n",
    "title = \"HalfCheetah-v2\"\n",
    "asebo_df = pd.read_csv(\"./data/HalfCheetah-v2Linear_h16_lr0.05_num_sensings204__asebo/Seed0.csv\")\n",
    "hessian_df = pd.read_csv(\"./data/HalfCheetah-v2Linear_h16_lr1_num_sensings204__hessianES/Seed0.csv\")\n",
    "\n",
    "title = \"InvertedDoublePendulum-v2\"\n",
    "asebo_df = pd.read_csv(\"./data/InvertedDoublePendulum-v2Linear_h16_lr0.05_num_sensings22__asebo/Seed0.csv\")\n",
    "hessian_df = pd.read_csv(\"./data/InvertedDoublePendulum-v2Linear_h16_lr1_num_sensings22__hessianES/Seed0.csv\")\n"
   ]
  },
  {
   "cell_type": "code",
   "execution_count": 138,
   "id": "1fddf3bb",
   "metadata": {},
   "outputs": [
    {
     "data": {
      "image/png": "[encoded data removed]",
      "text/plain": [
       "<Figure size 432x288 with 1 Axes>"
      ]
     },
     "metadata": {
      "needs_background": "light"
     },
     "output_type": "display_data"
    }
   ],
   "source": [
    "# plt.plot(asebo_ts, asebo_rewards, label=\"ASEBO\")\n",
    "# plt.plot(lpgrad_ts, lpgrad_rewards, label=\"LP gradient\")\n",
    "\n",
    "sns.lineplot(data=asebo_df, x=\"Timesteps\", y=\"Reward\", label=\"ASEBO\")\n",
    "sns.lineplot(data=hessian_df, x=\"Timesteps\", y=\"Reward\", label=\"Hessian\")\n",
    "plt.grid()\n",
    "plt.title(title)\n",
    "plt.savefig(\"./plots/%s.png\" % title)\n"
   ]
  },
  {
   "cell_type": "markdown",
   "id": "345e7a36",
   "metadata": {},
   "source": [
    "# Testing"
   ]
  },
  {
   "cell_type": "code",
   "execution_count": null,
   "id": "5d50cdec",
   "metadata": {},
   "outputs": [],
   "source": [
    "master = get_policy(params)\n",
    "master.params=np.load(\"./data/{}_hessian.npy\".format(params['dir']))\n",
    "test_policy = worker(params, master, np.zeros([1, master.N]), 0)\n"
   ]
  },
  {
   "cell_type": "code",
   "execution_count": null,
   "id": "ea5c991e",
   "metadata": {},
   "outputs": [],
   "source": [
    "from gym.wrappers import Monitor\n",
    "env = Monitor(gym.make(params['env_name']), './video', force=True)\n",
    "env._max_episode_steps = params['steps']"
   ]
  },
  {
   "cell_type": "code",
   "execution_count": null,
   "id": "15e95524",
   "metadata": {},
   "outputs": [],
   "source": [
    "def play(env, worker):\n",
    "    state = env.reset()\n",
    "    while 1:\n",
    "        action = worker.policy.evaluate(state)\n",
    "        action = np.clip(action, worker.env.action_space.low[0], worker.env.action_space.high[0])\n",
    "        action = action.reshape(len(action), )\n",
    "        state, reward, done, info = env.step(action)\n",
    "        env.render()\n",
    "        if done: \n",
    "            break"
   ]
  },
  {
   "cell_type": "code",
   "execution_count": null,
   "id": "f6e69ff4",
   "metadata": {},
   "outputs": [],
   "source": [
    "play(env, test_policy)"
   ]
  },
  {
   "cell_type": "code",
   "execution_count": null,
   "id": "33324ed5",
   "metadata": {},
   "outputs": [],
   "source": [
    "np.save(\"./data/{}_hessian_ts.npy\".format(params['dir']), ts)\n",
    "np.save(\"./data/{}_hessian_rs.npy\".format(params['dir']), rewards)"
   ]
  },
  {
   "cell_type": "code",
   "execution_count": null,
   "id": "07706f57",
   "metadata": {},
   "outputs": [],
   "source": [
    "!open .\n"
   ]
  },
  {
   "cell_type": "code",
   "execution_count": null,
   "id": "e4c5db78",
   "metadata": {},
   "outputs": [],
   "source": []
  }
 ],
 "metadata": {
  "kernelspec": {
   "display_name": "Python 3",
   "language": "python",
   "name": "python3"
  },
  "language_info": {
   "codemirror_mode": {
    "name": "ipython",
    "version": 3
   },
   "file_extension": ".py",
   "mimetype": "text/x-python",
   "name": "python",
   "nbconvert_exporter": "python",
   "pygments_lexer": "ipython3",
   "version": "3.6.13"
  }
 },
 "nbformat": 4,
 "nbformat_minor": 5
}
