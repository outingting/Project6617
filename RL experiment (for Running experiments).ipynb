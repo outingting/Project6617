{
 "cells": [
  {
   "cell_type": "code",
   "execution_count": 1,
   "id": "00016ff5",
   "metadata": {},
   "outputs": [],
   "source": [
    "%load_ext autoreload\n",
    "%autoreload 2"
   ]
  },
  {
   "cell_type": "code",
   "execution_count": 116,
   "id": "22c7abca",
   "metadata": {},
   "outputs": [],
   "source": [
    "import numpy as np\n",
    "import pandas as pd\n",
    "import cvxpy as cp\n",
    "import gym\n",
    "import matplotlib.pyplot as plt\n",
    "from numpy.linalg import LinAlgError\n",
    "import gurobipy\n",
    "import seaborn as sns\n",
    "\n",
    "import sys\n",
    "sys.path.append('./asebo/')\n",
    "sys.path.append('./rl/')\n",
    "from optimizers import Adam\n",
    "from worker import worker, get_policy\n",
    "from es import ES\n",
    "\n",
    "from methods import Gradient_LP, Hessian_LP, Hessian_LP_structured, \\\n",
    "                    get_PTinverse, run_HessianES, aggregate_rollouts_hessianES,\\\n",
    "                    run_asebo, gradient_antithetic_estimator, invHessian_LP_structured_PTinv_estimator,\\\n",
    "                    invHessian_identity_estimator"
   ]
  },
  {
   "cell_type": "markdown",
   "id": "7bcda724",
   "metadata": {},
   "source": [
    "## Training"
   ]
  },
  {
   "cell_type": "code",
   "execution_count": 121,
   "id": "cc525b9d",
   "metadata": {},
   "outputs": [],
   "source": [
    "########### Setting up params ##########\n",
    "params = {\n",
    "# 'env_name': 'Swimmer-v2',\n",
    "# 'env_name': 'HalfCheetah-v2',\n",
    "# 'env_name': 'InvertedPendulum-v2',\n",
    "'env_name': 'InvertedDoublePendulum-v2',\n",
    "# 'env_name': 'Reacher-v2',\n",
    "# 'env_name': 'Hopper-v2',\n",
    "'steps':1000,\n",
    "'h_dim':16,\n",
    "'start':0,\n",
    "'max_iter':200,\n",
    "'seed':0,\n",
    "'k':140, # ASEBO only?\n",
    "'num_sensings':25,\n",
    "'log':False,\n",
    "'linear':True,\n",
    "'threshold':0.995,\n",
    "'decay':0.99,\n",
    "'learning_rate':0.05,#0.05\n",
    "'filename':'',\n",
    "'policy':'Linear', # Linear or Toeplitz\n",
    "'shift':0,\n",
    "'min':10,\n",
    "'sigma':1e-1,\n",
    "'backtracking':True,\n",
    "'alpha': 1e-6,\n",
    "'beta': 0.5\n",
    "}\n",
    "\n",
    "\n",
    "\n",
    "gradient_estimator = gradient_antithetic_estimator\n",
    "\n",
    "\n",
    "# invhessian_estimator = invHessian_LP_structured_PTinv_estimator\n",
    "\n",
    "invhessian_estimator =  invHessian_identity_estimator\n",
    "params['filename'] = \"identity\""
   ]
  },
  {
   "cell_type": "code",
   "execution_count": 122,
   "id": "3a9d9459",
   "metadata": {},
   "outputs": [],
   "source": [
    "########### Auto Param Setups ##########\n",
    "\n",
    "env = gym.make(params['env_name'])\n",
    "params['ob_dim'] = env.observation_space.shape[0]\n",
    "params['ac_dim'] = env.action_space.shape[0]\n",
    "params['k'] += -1\n",
    "# params['alpha'] = 1 # ASEBO only\n",
    "params['zeros'] = False\n",
    "master = get_policy(params)\n",
    "if params['log']:\n",
    "    params['num_sensings'] = 4 + int(3 * np.log(master.N))\n",
    "if params['linear']:\n",
    "    params['num_sensings'] = int(2 * master.N)\n",
    "    \n",
    "\n",
    "params['dir'] = params['env_name'] + params['policy'] + '_h' + str(params['h_dim']) + '_lr' + str(params['learning_rate']) + '_num_sensings' + str(params['num_sensings']) +'_' + params['filename']"
   ]
  },
  {
   "cell_type": "markdown",
   "id": "55cd2f94",
   "metadata": {},
   "source": [
    "## Train"
   ]
  },
  {
   "cell_type": "code",
   "execution_count": 123,
   "id": "58fb2d73",
   "metadata": {
    "scrolled": true
   },
   "outputs": [
    {
     "name": "stdout",
     "output_type": "stream",
     "text": [
      "Policy Dimension:  11\n",
      "Iteration: 1, Leanring Rate: 0.015625, Rollouts: 44, Reward: 54.674142585388495, Samples: 22\n",
      "Iteration: 2, Leanring Rate: 1, Rollouts: 88, Reward: 64.03466614982763, Samples: 22\n",
      "Iteration: 3, Leanring Rate: 0.5, Rollouts: 132, Reward: 73.11709833081746, Samples: 22\n",
      "Iteration: 4, Leanring Rate: 0.5, Rollouts: 176, Reward: 73.14428183244468, Samples: 22\n",
      "Iteration: 5, Leanring Rate: 0.5, Rollouts: 220, Reward: 73.1561997748341, Samples: 22\n",
      "Iteration: 6, Leanring Rate: 0.25, Rollouts: 264, Reward: 73.3675003852837, Samples: 22\n",
      "Iteration: 7, Leanring Rate: 0.5, Rollouts: 308, Reward: 82.21052883458403, Samples: 22\n",
      "Iteration: 8, Leanring Rate: 0.125, Rollouts: 352, Reward: 91.78812600734433, Samples: 22\n",
      "Iteration: 9, Leanring Rate: 0.0625, Rollouts: 396, Reward: 92.09350350853711, Samples: 22\n",
      "Iteration: 10, Leanring Rate: 0.0625, Rollouts: 440, Reward: 110.57153826297208, Samples: 22\n",
      "Iteration: 11, Leanring Rate: 0.125, Rollouts: 484, Reward: 155.20782694330003, Samples: 22\n",
      "Iteration: 12, Leanring Rate: 0.001953125, Rollouts: 528, Reward: 172.8249037828781, Samples: 22\n",
      "Iteration: 13, Leanring Rate: 0.0001220703125, Rollouts: 572, Reward: 172.98933333458703, Samples: 22\n",
      "Iteration: 14, Leanring Rate: 2.220446049250313e-16, Rollouts: 616, Reward: 172.98933333458703, Samples: 22\n",
      "Iteration: 15, Leanring Rate: 0.0001220703125, Rollouts: 660, Reward: 173.50745854498598, Samples: 22\n",
      "Iteration: 16, Leanring Rate: 1.52587890625e-05, Rollouts: 704, Reward: 173.5216210633346, Samples: 22\n",
      "Iteration: 17, Leanring Rate: 4.76837158203125e-07, Rollouts: 748, Reward: 173.52885452302755, Samples: 22\n",
      "Iteration: 18, Leanring Rate: 1.7763568394002505e-15, Rollouts: 792, Reward: 173.52885452302894, Samples: 22\n",
      "Iteration: 19, Leanring Rate: 1.7763568394002505e-15, Rollouts: 836, Reward: 173.52885452302894, Samples: 22\n",
      "Iteration: 20, Leanring Rate: 4.76837158203125e-07, Rollouts: 880, Reward: 173.58664230966747, Samples: 22\n",
      "Iteration: 21, Leanring Rate: 5.960464477539063e-08, Rollouts: 924, Reward: 173.5889918262873, Samples: 22\n",
      "Iteration: 22, Leanring Rate: 6.776263578034403e-21, Rollouts: 968, Reward: 173.5889918262751, Samples: 22\n",
      "Iteration: 23, Leanring Rate: 1.4901161193847656e-08, Rollouts: 1012, Reward: 173.5894119594278, Samples: 22\n",
      "Iteration: 24, Leanring Rate: 7.450580596923828e-09, Rollouts: 1056, Reward: 173.58952732092843, Samples: 22\n",
      "Iteration: 25, Leanring Rate: 1.1102230246251565e-16, Rollouts: 1100, Reward: 173.58952732092843, Samples: 22\n",
      "Iteration: 26, Leanring Rate: 3.725290298461914e-09, Rollouts: 1144, Reward: 173.58956965237508, Samples: 22\n",
      "Iteration: 27, Leanring Rate: 2.220446049250313e-16, Rollouts: 1188, Reward: 173.58956965237508, Samples: 22\n",
      "Iteration: 28, Leanring Rate: 0.015625, Rollouts: 1232, Reward: 182.41709638523375, Samples: 22\n",
      "Iteration: 29, Leanring Rate: 1.4210854715202004e-14, Rollouts: 1276, Reward: 182.41709638523375, Samples: 22\n",
      "Iteration: 30, Leanring Rate: 8.881784197001252e-16, Rollouts: 1320, Reward: 182.41709638523375, Samples: 22\n",
      "Iteration: 31, Leanring Rate: 0.001953125, Rollouts: 1364, Reward: 191.76136974351368, Samples: 22\n",
      "Iteration: 32, Leanring Rate: 0.00390625, Rollouts: 1408, Reward: 192.04626891536407, Samples: 22\n",
      "Iteration: 33, Leanring Rate: 0.00048828125, Rollouts: 1452, Reward: 192.68147321700502, Samples: 22\n",
      "Iteration: 34, Leanring Rate: 0.0009765625, Rollouts: 1496, Reward: 201.7944973401168, Samples: 22\n",
      "Iteration: 35, Leanring Rate: 0.0001220703125, Rollouts: 1540, Reward: 210.57872306569902, Samples: 22\n",
      "Iteration: 36, Leanring Rate: 3.814697265625e-06, Rollouts: 1584, Reward: 210.63392267331253, Samples: 22\n",
      "Iteration: 37, Leanring Rate: 6.776263578034403e-21, Rollouts: 1628, Reward: 210.63392267326446, Samples: 22\n",
      "Iteration: 38, Leanring Rate: 9.5367431640625e-07, Rollouts: 1672, Reward: 210.6975230325909, Samples: 22\n",
      "Iteration: 39, Leanring Rate: 8.881784197001252e-16, Rollouts: 1716, Reward: 210.6975230325909, Samples: 22\n",
      "Iteration: 40, Leanring Rate: 8.881784197001252e-16, Rollouts: 1760, Reward: 210.6975230325909, Samples: 22\n",
      "Iteration: 41, Leanring Rate: 1.1920928955078125e-07, Rollouts: 1804, Reward: 210.71530924911636, Samples: 22\n",
      "Iteration: 42, Leanring Rate: 8.881784197001252e-16, Rollouts: 1848, Reward: 210.71530924911636, Samples: 22\n",
      "Iteration: 43, Leanring Rate: 6.776263578034403e-21, Rollouts: 1892, Reward: 210.71530924901762, Samples: 22\n",
      "Iteration: 44, Leanring Rate: 4.76837158203125e-07, Rollouts: 1936, Reward: 210.7165321190851, Samples: 22\n",
      "Iteration: 45, Leanring Rate: 5.960464477539063e-08, Rollouts: 1980, Reward: 210.71664363673904, Samples: 22\n",
      "Iteration: 46, Leanring Rate: 8.881784197001252e-16, Rollouts: 2024, Reward: 210.71664363673904, Samples: 22\n",
      "Iteration: 47, Leanring Rate: 9.5367431640625e-07, Rollouts: 2068, Reward: 210.71813743565053, Samples: 22\n",
      "Iteration: 48, Leanring Rate: 1.4901161193847656e-08, Rollouts: 2112, Reward: 210.71851772821782, Samples: 22\n",
      "Iteration: 49, Leanring Rate: 1.862645149230957e-09, Rollouts: 2156, Reward: 210.71853843283728, Samples: 22\n",
      "Iteration: 50, Leanring Rate: 3.725290298461914e-09, Rollouts: 2200, Reward: 210.7185482333672, Samples: 22\n",
      "Iteration: 51, Leanring Rate: 4.440892098500626e-16, Rollouts: 2244, Reward: 210.71854823336744, Samples: 22\n",
      "Iteration: 52, Leanring Rate: 1.1102230246251565e-16, Rollouts: 2288, Reward: 210.71854823336744, Samples: 22\n",
      "Iteration: 53, Leanring Rate: 6.776263578034403e-21, Rollouts: 2332, Reward: 210.71854823336716, Samples: 22\n",
      "Iteration: 54, Leanring Rate: 1.7763568394002505e-15, Rollouts: 2376, Reward: 210.71854823336716, Samples: 22\n",
      "Iteration: 55, Leanring Rate: 5.820766091346741e-11, Rollouts: 2420, Reward: 210.71854824698596, Samples: 22\n",
      "Iteration: 56, Leanring Rate: 2.9103830456733704e-11, Rollouts: 2464, Reward: 210.71854824740882, Samples: 22\n",
      "Iteration: 57, Leanring Rate: 1.7763568394002505e-15, Rollouts: 2508, Reward: 210.71854824740882, Samples: 22\n",
      "Iteration: 58, Leanring Rate: 8.881784197001252e-16, Rollouts: 2552, Reward: 210.71854824740882, Samples: 22\n",
      "Iteration: 59, Leanring Rate: 3.552713678800501e-15, Rollouts: 2596, Reward: 210.71854824740885, Samples: 22\n",
      "Iteration: 60, Leanring Rate: 2.9802322387695312e-08, Rollouts: 2640, Reward: 210.7216191458398, Samples: 22\n",
      "Iteration: 61, Leanring Rate: 1.1641532182693481e-10, Rollouts: 2684, Reward: 210.72167587353795, Samples: 22\n",
      "Iteration: 62, Leanring Rate: 2.9103830456733704e-11, Rollouts: 2728, Reward: 210.72169141519137, Samples: 22\n",
      "Iteration: 63, Leanring Rate: 1.1102230246251565e-16, Rollouts: 2772, Reward: 210.72169141519137, Samples: 22\n",
      "Iteration: 64, Leanring Rate: 1.4551915228366852e-11, Rollouts: 2816, Reward: 210.72169929909248, Samples: 22\n",
      "Iteration: 65, Leanring Rate: 1.7763568394002505e-15, Rollouts: 2860, Reward: 210.72169929909248, Samples: 22\n",
      "Iteration: 66, Leanring Rate: 5.820766091346741e-11, Rollouts: 2904, Reward: 210.72170689856205, Samples: 22\n",
      "Iteration: 67, Leanring Rate: 4.547473508864641e-13, Rollouts: 2948, Reward: 210.72170721436547, Samples: 22\n",
      "Iteration: 68, Leanring Rate: 4.547473508864641e-13, Rollouts: 2992, Reward: 210.72170736246363, Samples: 22\n",
      "Iteration: 69, Leanring Rate: 6.776263578034403e-21, Rollouts: 3036, Reward: 210.72170736236924, Samples: 22\n",
      "Iteration: 70, Leanring Rate: 1.1368683772161603e-13, Rollouts: 3080, Reward: 210.7217074115621, Samples: 22\n",
      "Iteration: 71, Leanring Rate: 1.1368683772161603e-13, Rollouts: 3124, Reward: 210.72170745263736, Samples: 22\n",
      "Iteration: 72, Leanring Rate: 4.440892098500626e-16, Rollouts: 3168, Reward: 210.72170745263736, Samples: 22\n",
      "Iteration: 73, Leanring Rate: 5.684341886080802e-14, Rollouts: 3212, Reward: 210.72170745374467, Samples: 22\n",
      "Iteration: 74, Leanring Rate: 1.7763568394002505e-15, Rollouts: 3256, Reward: 210.72170745424089, Samples: 22\n",
      "Iteration: 75, Leanring Rate: 4.440892098500626e-16, Rollouts: 3300, Reward: 210.72170745424089, Samples: 22\n",
      "Iteration: 76, Leanring Rate: 8.881784197001252e-16, Rollouts: 3344, Reward: 210.72170745424089, Samples: 22\n",
      "Iteration: 77, Leanring Rate: 6.776263578034403e-21, Rollouts: 3388, Reward: 210.7217074537447, Samples: 22\n",
      "Iteration: 78, Leanring Rate: 2.220446049250313e-16, Rollouts: 3432, Reward: 210.72170745387754, Samples: 22\n"
     ]
    },
    {
     "name": "stdout",
     "output_type": "stream",
     "text": [
      "Iteration: 79, Leanring Rate: 8.881784197001252e-16, Rollouts: 3476, Reward: 210.7217074544139, Samples: 22\n",
      "Iteration: 80, Leanring Rate: 4.440892098500626e-16, Rollouts: 3520, Reward: 210.7217074544139, Samples: 22\n",
      "Iteration: 81, Leanring Rate: 2.220446049250313e-16, Rollouts: 3564, Reward: 210.7217074544139, Samples: 22\n",
      "Iteration: 82, Leanring Rate: 6.776263578034403e-21, Rollouts: 3608, Reward: 210.72170745424086, Samples: 22\n",
      "Iteration: 83, Leanring Rate: 3.552713678800501e-15, Rollouts: 3652, Reward: 210.72170745441386, Samples: 22\n",
      "Iteration: 84, Leanring Rate: 3.552713678800501e-15, Rollouts: 3696, Reward: 210.7217074544139, Samples: 22\n",
      "Iteration: 85, Leanring Rate: 6.776263578034403e-21, Rollouts: 3740, Reward: 210.72170745441386, Samples: 22\n",
      "Iteration: 86, Leanring Rate: 6.776263578034403e-21, Rollouts: 3784, Reward: 210.712656558707, Samples: 22\n",
      "Iteration: 87, Leanring Rate: 7.450580596923828e-09, Rollouts: 3828, Reward: 210.7217030531486, Samples: 22\n",
      "Iteration: 88, Leanring Rate: 2.220446049250313e-16, Rollouts: 3872, Reward: 210.7217030531486, Samples: 22\n",
      "Iteration: 89, Leanring Rate: 1.1641532182693481e-10, Rollouts: 3916, Reward: 210.72170442637864, Samples: 22\n",
      "Iteration: 90, Leanring Rate: 6.776263578034403e-21, Rollouts: 3960, Reward: 210.72170442635337, Samples: 22\n",
      "Iteration: 91, Leanring Rate: 1.1102230246251565e-16, Rollouts: 4004, Reward: 210.72170442635337, Samples: 22\n",
      "Iteration: 92, Leanring Rate: 1.1102230246251565e-16, Rollouts: 4048, Reward: 210.72170442635337, Samples: 22\n",
      "Iteration: 93, Leanring Rate: 2.220446049250313e-16, Rollouts: 4092, Reward: 210.72170442635337, Samples: 22\n",
      "Iteration: 94, Leanring Rate: 4.656612873077393e-10, Rollouts: 4136, Reward: 210.72170472179408, Samples: 22\n",
      "Iteration: 95, Leanring Rate: 1.4551915228366852e-11, Rollouts: 4180, Reward: 210.7217047780632, Samples: 22\n",
      "Iteration: 96, Leanring Rate: 7.275957614183426e-12, Rollouts: 4224, Reward: 210.72170478007774, Samples: 22\n",
      "Iteration: 97, Leanring Rate: 1.8189894035458565e-12, Rollouts: 4268, Reward: 210.7217047819892, Samples: 22\n",
      "Iteration: 98, Leanring Rate: 1.7763568394002505e-15, Rollouts: 4312, Reward: 210.7217047819892, Samples: 22\n",
      "Iteration: 99, Leanring Rate: 7.105427357601002e-15, Rollouts: 4356, Reward: 210.7217047819892, Samples: 22\n",
      "Iteration: 100, Leanring Rate: 2.220446049250313e-16, Rollouts: 4400, Reward: 210.72170478198922, Samples: 22\n",
      "Iteration: 101, Leanring Rate: 3.552713678800501e-15, Rollouts: 4444, Reward: 210.72170478198922, Samples: 22\n",
      "Iteration: 102, Leanring Rate: 6.776263578034403e-21, Rollouts: 4488, Reward: 210.7217047819892, Samples: 22\n",
      "Iteration: 103, Leanring Rate: 2.220446049250313e-16, Rollouts: 4532, Reward: 210.72170478198925, Samples: 22\n",
      "Iteration: 104, Leanring Rate: 1.8189894035458565e-12, Rollouts: 4576, Reward: 210.7217047821011, Samples: 22\n",
      "Iteration: 105, Leanring Rate: 6.776263578034403e-21, Rollouts: 4620, Reward: 210.721704782101, Samples: 22\n",
      "Iteration: 106, Leanring Rate: 4.547473508864641e-13, Rollouts: 4664, Reward: 210.72170478215472, Samples: 22\n",
      "Iteration: 107, Leanring Rate: 4.440892098500626e-16, Rollouts: 4708, Reward: 210.72170478215472, Samples: 22\n",
      "Iteration: 108, Leanring Rate: 2.220446049250313e-16, Rollouts: 4752, Reward: 210.72170478215472, Samples: 22\n",
      "Iteration: 109, Leanring Rate: 2.2737367544323206e-13, Rollouts: 4796, Reward: 210.72170478215605, Samples: 22\n",
      "Iteration: 110, Leanring Rate: 4.440892098500626e-16, Rollouts: 4840, Reward: 210.72170478215605, Samples: 22\n",
      "Iteration: 111, Leanring Rate: 2.842170943040401e-14, Rollouts: 4884, Reward: 210.72170478215614, Samples: 22\n",
      "Iteration: 112, Leanring Rate: 1.7763568394002505e-15, Rollouts: 4928, Reward: 210.72170478215614, Samples: 22\n",
      "Iteration: 113, Leanring Rate: 4.440892098500626e-16, Rollouts: 4972, Reward: 210.72170478215614, Samples: 22\n",
      "Iteration: 114, Leanring Rate: 7.105427357601002e-15, Rollouts: 5016, Reward: 210.72170478215614, Samples: 22\n",
      "Iteration: 115, Leanring Rate: 5.684341886080802e-14, Rollouts: 5060, Reward: 210.72170478215625, Samples: 22\n",
      "Iteration: 116, Leanring Rate: 6.776263578034403e-21, Rollouts: 5104, Reward: 210.72170478215622, Samples: 22\n",
      "Iteration: 117, Leanring Rate: 8.881784197001252e-16, Rollouts: 5148, Reward: 210.72170478215622, Samples: 22\n",
      "Iteration: 118, Leanring Rate: 3.552713678800501e-15, Rollouts: 5192, Reward: 210.72170478215625, Samples: 22\n",
      "Iteration: 119, Leanring Rate: 7.105427357601002e-15, Rollouts: 5236, Reward: 210.72170478215625, Samples: 22\n",
      "Iteration: 120, Leanring Rate: 6.776263578034403e-21, Rollouts: 5280, Reward: 210.72170478215614, Samples: 22\n",
      "Iteration: 121, Leanring Rate: 2.842170943040401e-14, Rollouts: 5324, Reward: 210.7217047821562, Samples: 22\n",
      "Iteration: 122, Leanring Rate: 2.842170943040401e-14, Rollouts: 5368, Reward: 210.72170478215622, Samples: 22\n",
      "Iteration: 123, Leanring Rate: 7.105427357601002e-15, Rollouts: 5412, Reward: 210.72170478215622, Samples: 22\n",
      "Iteration: 124, Leanring Rate: 7.105427357601002e-15, Rollouts: 5456, Reward: 210.72170478215622, Samples: 22\n",
      "Iteration: 125, Leanring Rate: 5.684341886080802e-14, Rollouts: 5500, Reward: 210.72170478215622, Samples: 22\n",
      "Iteration: 126, Leanring Rate: 8.881784197001252e-16, Rollouts: 5544, Reward: 210.72170478215625, Samples: 22\n",
      "Iteration: 127, Leanring Rate: 1.4210854715202004e-14, Rollouts: 5588, Reward: 210.72170478215628, Samples: 22\n",
      "Iteration: 128, Leanring Rate: 6.776263578034403e-21, Rollouts: 5632, Reward: 210.72170478215614, Samples: 22\n",
      "Iteration: 129, Leanring Rate: 1.1368683772161603e-13, Rollouts: 5676, Reward: 210.72170478215622, Samples: 22\n",
      "Iteration: 130, Leanring Rate: 1.4210854715202004e-14, Rollouts: 5720, Reward: 210.72170478215628, Samples: 22\n",
      "Iteration: 131, Leanring Rate: 4.440892098500626e-16, Rollouts: 5764, Reward: 210.72170478215628, Samples: 22\n",
      "Iteration: 132, Leanring Rate: 2.220446049250313e-16, Rollouts: 5808, Reward: 210.72170478215628, Samples: 22\n",
      "Iteration: 133, Leanring Rate: 1.7763568394002505e-15, Rollouts: 5852, Reward: 210.72170478215628, Samples: 22\n",
      "Iteration: 134, Leanring Rate: 3.552713678800501e-15, Rollouts: 5896, Reward: 210.72170478215628, Samples: 22\n",
      "Iteration: 135, Leanring Rate: 1.1102230246251565e-16, Rollouts: 5940, Reward: 210.72170478215628, Samples: 22\n",
      "Iteration: 136, Leanring Rate: 1.1102230246251565e-16, Rollouts: 5984, Reward: 210.72170478215628, Samples: 22\n",
      "Iteration: 137, Leanring Rate: 8.881784197001252e-16, Rollouts: 6028, Reward: 210.72170478215628, Samples: 22\n",
      "Iteration: 138, Leanring Rate: 1.1102230246251565e-16, Rollouts: 6072, Reward: 210.72170478215628, Samples: 22\n",
      "Iteration: 139, Leanring Rate: 6.776263578034403e-21, Rollouts: 6116, Reward: 210.72170478215617, Samples: 22\n",
      "Iteration: 140, Leanring Rate: 1.7763568394002505e-15, Rollouts: 6160, Reward: 210.72170478215622, Samples: 22\n",
      "Iteration: 141, Leanring Rate: 1.7763568394002505e-15, Rollouts: 6204, Reward: 210.72170478215622, Samples: 22\n",
      "Iteration: 142, Leanring Rate: 1.4210854715202004e-14, Rollouts: 6248, Reward: 210.72170478215622, Samples: 22\n",
      "Iteration: 143, Leanring Rate: 4.440892098500626e-16, Rollouts: 6292, Reward: 210.72170478215622, Samples: 22\n",
      "Iteration: 144, Leanring Rate: 6.776263578034403e-21, Rollouts: 6336, Reward: 210.7217047821562, Samples: 22\n",
      "Iteration: 145, Leanring Rate: 8.881784197001252e-16, Rollouts: 6380, Reward: 210.7217047821562, Samples: 22\n",
      "Iteration: 146, Leanring Rate: 8.881784197001252e-16, Rollouts: 6424, Reward: 210.7217047821562, Samples: 22\n",
      "Iteration: 147, Leanring Rate: 4.440892098500626e-16, Rollouts: 6468, Reward: 210.72170478215622, Samples: 22\n",
      "Iteration: 148, Leanring Rate: 6.776263578034403e-21, Rollouts: 6512, Reward: 210.72170478215614, Samples: 22\n",
      "Iteration: 149, Leanring Rate: 5.684341886080802e-14, Rollouts: 6556, Reward: 210.7217047821562, Samples: 22\n",
      "Iteration: 150, Leanring Rate: 1.4210854715202004e-14, Rollouts: 6600, Reward: 210.72170478215625, Samples: 22\n",
      "Iteration: 151, Leanring Rate: 1.7763568394002505e-15, Rollouts: 6644, Reward: 210.72170478215625, Samples: 22\n",
      "Iteration: 152, Leanring Rate: 8.881784197001252e-16, Rollouts: 6688, Reward: 210.72170478215625, Samples: 22\n",
      "Iteration: 153, Leanring Rate: 1.4210854715202004e-14, Rollouts: 6732, Reward: 210.72170478215628, Samples: 22\n"
     ]
    },
    {
     "name": "stdout",
     "output_type": "stream",
     "text": [
      "Iteration: 154, Leanring Rate: 6.776263578034403e-21, Rollouts: 6776, Reward: 210.72170478215617, Samples: 22\n",
      "Iteration: 155, Leanring Rate: 2.842170943040401e-14, Rollouts: 6820, Reward: 210.72170478215617, Samples: 22\n",
      "Iteration: 156, Leanring Rate: 1.7763568394002505e-15, Rollouts: 6864, Reward: 210.72170478215617, Samples: 22\n",
      "Iteration: 157, Leanring Rate: 1.7763568394002505e-15, Rollouts: 6908, Reward: 210.72170478215622, Samples: 22\n",
      "Iteration: 158, Leanring Rate: 1.4210854715202004e-14, Rollouts: 6952, Reward: 210.72170478215622, Samples: 22\n",
      "Iteration: 159, Leanring Rate: 2.220446049250313e-16, Rollouts: 6996, Reward: 210.72170478215622, Samples: 22\n",
      "Iteration: 160, Leanring Rate: 4.440892098500626e-16, Rollouts: 7040, Reward: 210.72170478215622, Samples: 22\n",
      "Iteration: 161, Leanring Rate: 4.440892098500626e-16, Rollouts: 7084, Reward: 210.72170478215622, Samples: 22\n",
      "Iteration: 162, Leanring Rate: 8.881784197001252e-16, Rollouts: 7128, Reward: 210.72170478215622, Samples: 22\n",
      "Iteration: 163, Leanring Rate: 2.220446049250313e-16, Rollouts: 7172, Reward: 210.72170478215622, Samples: 22\n",
      "Iteration: 164, Leanring Rate: 2.842170943040401e-14, Rollouts: 7216, Reward: 210.72170478215622, Samples: 22\n",
      "Iteration: 165, Leanring Rate: 3.552713678800501e-15, Rollouts: 7260, Reward: 210.72170478215628, Samples: 22\n",
      "Iteration: 166, Leanring Rate: 4.440892098500626e-16, Rollouts: 7304, Reward: 210.72170478215628, Samples: 22\n",
      "Iteration: 167, Leanring Rate: 6.776263578034403e-21, Rollouts: 7348, Reward: 210.7217047821562, Samples: 22\n",
      "Iteration: 168, Leanring Rate: 7.105427357601002e-15, Rollouts: 7392, Reward: 210.7217047821562, Samples: 22\n",
      "Iteration: 169, Leanring Rate: 1.4210854715202004e-14, Rollouts: 7436, Reward: 210.72170478215622, Samples: 22\n",
      "Iteration: 170, Leanring Rate: 8.881784197001252e-16, Rollouts: 7480, Reward: 210.72170478215622, Samples: 22\n",
      "Iteration: 171, Leanring Rate: 8.881784197001252e-16, Rollouts: 7524, Reward: 210.72170478215622, Samples: 22\n",
      "Iteration: 172, Leanring Rate: 1.4210854715202004e-14, Rollouts: 7568, Reward: 210.72170478215625, Samples: 22\n",
      "Iteration: 173, Leanring Rate: 4.440892098500626e-16, Rollouts: 7612, Reward: 210.72170478215625, Samples: 22\n",
      "Iteration: 174, Leanring Rate: 1.1102230246251565e-16, Rollouts: 7656, Reward: 210.72170478215625, Samples: 22\n",
      "Iteration: 175, Leanring Rate: 6.776263578034403e-21, Rollouts: 7700, Reward: 210.7217047821562, Samples: 22\n",
      "Iteration: 176, Leanring Rate: 1.1368683772161603e-13, Rollouts: 7744, Reward: 210.72170478215622, Samples: 22\n",
      "Iteration: 177, Leanring Rate: 4.440892098500626e-16, Rollouts: 7788, Reward: 210.72170478215622, Samples: 22\n",
      "Iteration: 178, Leanring Rate: 5.684341886080802e-14, Rollouts: 7832, Reward: 210.72170478215622, Samples: 22\n",
      "Iteration: 179, Leanring Rate: 1.7763568394002505e-15, Rollouts: 7876, Reward: 210.72170478215625, Samples: 22\n",
      "Iteration: 180, Leanring Rate: 8.881784197001252e-16, Rollouts: 7920, Reward: 210.72170478215625, Samples: 22\n",
      "Iteration: 181, Leanring Rate: 2.220446049250313e-16, Rollouts: 7964, Reward: 210.72170478215625, Samples: 22\n",
      "Iteration: 182, Leanring Rate: 6.776263578034403e-21, Rollouts: 8008, Reward: 210.72170478215622, Samples: 22\n",
      "Iteration: 183, Leanring Rate: 7.105427357601002e-15, Rollouts: 8052, Reward: 210.72170478215625, Samples: 22\n",
      "Iteration: 184, Leanring Rate: 2.220446049250313e-16, Rollouts: 8096, Reward: 210.72170478215625, Samples: 22\n",
      "Iteration: 185, Leanring Rate: 8.881784197001252e-16, Rollouts: 8140, Reward: 210.72170478215625, Samples: 22\n",
      "Iteration: 186, Leanring Rate: 4.440892098500626e-16, Rollouts: 8184, Reward: 210.72170478215625, Samples: 22\n",
      "Iteration: 187, Leanring Rate: 6.776263578034403e-21, Rollouts: 8228, Reward: 210.7217047821562, Samples: 22\n",
      "Iteration: 188, Leanring Rate: 7.105427357601002e-15, Rollouts: 8272, Reward: 210.7217047821562, Samples: 22\n",
      "Iteration: 189, Leanring Rate: 3.552713678800501e-15, Rollouts: 8316, Reward: 210.72170478215625, Samples: 22\n",
      "Iteration: 190, Leanring Rate: 6.776263578034403e-21, Rollouts: 8360, Reward: 210.72170478215617, Samples: 22\n",
      "Iteration: 191, Leanring Rate: 7.105427357601002e-15, Rollouts: 8404, Reward: 210.72170478215617, Samples: 22\n",
      "Iteration: 192, Leanring Rate: 2.842170943040401e-14, Rollouts: 8448, Reward: 210.72170478215622, Samples: 22\n",
      "Iteration: 193, Leanring Rate: 4.440892098500626e-16, Rollouts: 8492, Reward: 210.72170478215622, Samples: 22\n",
      "Iteration: 194, Leanring Rate: 1.7763568394002505e-15, Rollouts: 8536, Reward: 210.72170478215628, Samples: 22\n",
      "Iteration: 195, Leanring Rate: 6.776263578034403e-21, Rollouts: 8580, Reward: 210.7217047821561, Samples: 22\n",
      "Iteration: 196, Leanring Rate: 2.842170943040401e-14, Rollouts: 8624, Reward: 210.72170478215617, Samples: 22\n",
      "Iteration: 197, Leanring Rate: 3.552713678800501e-15, Rollouts: 8668, Reward: 210.72170478215622, Samples: 22\n",
      "Iteration: 198, Leanring Rate: 7.105427357601002e-15, Rollouts: 8712, Reward: 210.7217047821563, Samples: 22\n",
      "Iteration: 199, Leanring Rate: 8.881784197001252e-16, Rollouts: 8756, Reward: 210.7217047821563, Samples: 22\n"
     ]
    }
   ],
   "source": [
    "master = get_policy(params)\n",
    "\n",
    "params['learning_rate'] = 1\n",
    "ts, rewards, master = run_HessianES(params, gradient_antithetic_estimator, invHessian_LP_structured_PTinv_estimator, master)\n",
    "\n",
    "# params['learning_rate'] = 0.05\n",
    "# ts, rewards, master = run_asebo(params, master)"
   ]
  },
  {
   "cell_type": "markdown",
   "id": "e6c13d4b",
   "metadata": {},
   "source": [
    "## Save and Plot"
   ]
  },
  {
   "cell_type": "code",
   "execution_count": 15,
   "id": "4d51b71f",
   "metadata": {},
   "outputs": [],
   "source": [
    "# np.save(\"./data/{}/asebo_params.npy\".format(params['dir']), master.params)\n",
    "# np.save(\"./data/{}/asebo_ts.npy\".format(params['dir']), ts)\n",
    "# np.save(\"./data/{}/asebo_rs.npy\".format(params['dir']), rewards)\n"
   ]
  },
  {
   "cell_type": "code",
   "execution_count": 135,
   "id": "52ac9e4a",
   "metadata": {},
   "outputs": [],
   "source": [
    "title = \"Swimmer-v2\"\n",
    "asebo_df = pd.read_csv(\"./data/Swimmer-v2Linear_h16_lr0.05_num_sensings125_/Seed0.csv\")\n",
    "hessian_df = pd.read_csv(\"./data/Swimmer-v2Linear_h16_lr1_num_sensings125__hessianES/Seed0.csv\")\n",
    "\n",
    "title = \"InvertedPendulum-v2\"\n",
    "asebo_df = pd.read_csv(\"./data/InvertedPendulum-v2Linear_h16_lr1_num_sensings25__asebo/Seed0.csv\")\n",
    "hessian_df = pd.read_csv(\"./data/InvertedPendulum-v2Linear_h16_lr1_num_sensings25__hessianES/Seed0.csv\")\n",
    "\n",
    "title = \"Hopper-v2\"\n",
    "asebo_df = pd.read_csv(\"./data/Hopper-v2Linear_h16_lr0.05_num_sensings66__asebo/Seed0.csv\")\n",
    "hessian_df = pd.read_csv(\"./data/Hopper-v2Linear_h16_lr1_num_sensings66__hessianES/Seed0.csv\")\n",
    "\n",
    "title = \"Reacher-v2\"\n",
    "asebo_df = pd.read_csv(\"./data/Reacher-v2Linear_h16_lr0.05_num_sensings44__asebo/Seed0.csv\")\n",
    "hessian_df = pd.read_csv(\"./data/Reacher-v2Linear_h16_lr0.05_num_sensings44__hessianES/Seed0.csv\")\n",
    "\n",
    "title = \"HalfCheetah-v2\"\n",
    "asebo_df = pd.read_csv(\"./data/HalfCheetah-v2Linear_h16_lr0.05_num_sensings204__asebo/Seed0.csv\")\n",
    "hessian_df = pd.read_csv(\"./data/HalfCheetah-v2Linear_h16_lr1_num_sensings204__hessianES/Seed0.csv\")\n",
    "\n",
    "# title = \"InvertedDoublePendulum-v2\"\n",
    "# asebo_df = pd.read_csv(\"./data/InvertedDoublePendulum-v2Linear_h16_lr0.05_num_sensings22__asebo/Seed0.csv\")\n",
    "# hessian_df = pd.read_csv(\"./data/InvertedDoublePendulum-v2Linear_h16_lr1_num_sensings22__hessianES/Seed0.csv\")\n"
   ]
  },
  {
   "cell_type": "code",
   "execution_count": 136,
   "id": "1fddf3bb",
   "metadata": {},
   "outputs": [
    {
     "data": {
      "image/png": "[encoded data removed]",
      "text/plain": [
       "<Figure size 432x288 with 1 Axes>"
      ]
     },
     "metadata": {
      "needs_background": "light"
     },
     "output_type": "display_data"
    }
   ],
   "source": [
    "# plt.plot(asebo_ts, asebo_rewards, label=\"ASEBO\")\n",
    "# plt.plot(lpgrad_ts, lpgrad_rewards, label=\"LP gradient\")\n",
    "\n",
    "sns.lineplot(data=asebo_df, x=\"Timesteps\", y=\"Reward\", label=\"ASEBO\")\n",
    "sns.lineplot(data=hessian_df, x=\"Timesteps\", y=\"Reward\", label=\"Hessian\")\n",
    "plt.grid()\n",
    "plt.title(title)\n",
    "plt.savefig(\"./plots/%s.png\" % title)\n"
   ]
  },
  {
   "cell_type": "markdown",
   "id": "345e7a36",
   "metadata": {},
   "source": [
    "# Testing"
   ]
  },
  {
   "cell_type": "code",
   "execution_count": null,
   "id": "5d50cdec",
   "metadata": {},
   "outputs": [],
   "source": [
    "master = get_policy(params)\n",
    "master.params=np.load(\"./data/{}_hessian.npy\".format(params['dir']))\n",
    "test_policy = worker(params, master, np.zeros([1, master.N]), 0)\n"
   ]
  },
  {
   "cell_type": "code",
   "execution_count": null,
   "id": "ea5c991e",
   "metadata": {},
   "outputs": [],
   "source": [
    "from gym.wrappers import Monitor\n",
    "env = Monitor(gym.make(params['env_name']), './video', force=True)\n",
    "env._max_episode_steps = params['steps']"
   ]
  },
  {
   "cell_type": "code",
   "execution_count": null,
   "id": "15e95524",
   "metadata": {},
   "outputs": [],
   "source": [
    "def play(env, worker):\n",
    "    state = env.reset()\n",
    "    while 1:\n",
    "        action = worker.policy.evaluate(state)\n",
    "        action = np.clip(action, worker.env.action_space.low[0], worker.env.action_space.high[0])\n",
    "        action = action.reshape(len(action), )\n",
    "        state, reward, done, info = env.step(action)\n",
    "        env.render()\n",
    "        if done: \n",
    "            break"
   ]
  },
  {
   "cell_type": "code",
   "execution_count": null,
   "id": "f6e69ff4",
   "metadata": {},
   "outputs": [],
   "source": [
    "play(env, test_policy)"
   ]
  },
  {
   "cell_type": "code",
   "execution_count": null,
   "id": "33324ed5",
   "metadata": {},
   "outputs": [],
   "source": [
    "np.save(\"./data/{}_hessian_ts.npy\".format(params['dir']), ts)\n",
    "np.save(\"./data/{}_hessian_rs.npy\".format(params['dir']), rewards)"
   ]
  },
  {
   "cell_type": "code",
   "execution_count": null,
   "id": "07706f57",
   "metadata": {},
   "outputs": [],
   "source": [
    "!open .\n"
   ]
  },
  {
   "cell_type": "code",
   "execution_count": null,
   "id": "e4c5db78",
   "metadata": {},
   "outputs": [],
   "source": []
  }
 ],
 "metadata": {
  "kernelspec": {
   "display_name": "Python 3",
   "language": "python",
   "name": "python3"
  },
  "language_info": {
   "codemirror_mode": {
    "name": "ipython",
    "version": 3
   },
   "file_extension": ".py",
   "mimetype": "text/x-python",
   "name": "python",
   "nbconvert_exporter": "python",
   "pygments_lexer": "ipython3",
   "version": "3.6.13"
  }
 },
 "nbformat": 4,
 "nbformat_minor": 5
}
