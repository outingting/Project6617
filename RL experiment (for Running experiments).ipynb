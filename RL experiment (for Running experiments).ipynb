{
 "cells": [
  {
   "cell_type": "code",
   "execution_count": 3,
   "id": "00016ff5",
   "metadata": {},
   "outputs": [
    {
     "name": "stdout",
     "output_type": "stream",
     "text": [
      "The autoreload extension is already loaded. To reload it, use:\n",
      "  %reload_ext autoreload\n"
     ]
    }
   ],
   "source": [
    "%load_ext autoreload\n",
    "%autoreload 2"
   ]
  },
  {
   "cell_type": "code",
   "execution_count": 4,
   "id": "22c7abca",
   "metadata": {},
   "outputs": [],
   "source": [
    "import numpy as np\n",
    "import pandas as pd\n",
    "import cvxpy as cp\n",
    "import gym\n",
    "import matplotlib.pyplot as plt\n",
    "from numpy.linalg import LinAlgError\n",
    "import gurobipy\n",
    "import seaborn as sns\n",
    "\n",
    "import sys\n",
    "sys.path.append('./asebo/')\n",
    "sys.path.append('./rl/')\n",
    "from optimizers import Adam\n",
    "from worker import worker, get_policy\n",
    "from es import ES\n",
    "\n",
    "from methods import Gradient_LP, Hessian_LP, Hessian_LP_structured, \\\n",
    "                    get_PTinverse, run_HessianES, aggregate_rollouts_hessianES,\\\n",
    "                    run_asebo, gradient_LP_antithetic_estimator, invHessian_LP_structured_PTinv_estimator,\\\n",
    "                    invHessian_identity_estimator, run_HessianES,\\\n",
    "                    gradient_L2_antithetic_estimator, gradient_antithetic_estimator, invHessian_L2_structured_PTinv_estimator"
   ]
  },
  {
   "cell_type": "markdown",
   "id": "7bcda724",
   "metadata": {},
   "source": [
    "## Training"
   ]
  },
  {
   "cell_type": "code",
   "execution_count": 23,
   "id": "cc525b9d",
   "metadata": {},
   "outputs": [],
   "source": [
    "########### Setting up params ##########\n",
    "params = {\n",
    "# 'env_name': 'Swimmer-v2',\n",
    "'env_name': 'HalfCheetah-v2',\n",
    "# 'env_name': 'InvertedPendulum-v2',\n",
    "# 'env_name': 'InvertedDoublePendulum-v2',\n",
    "# 'env_name': 'Reacher-v2',\n",
    "# 'env_name': 'Hopper-v2',\n",
    "'steps':1000,\n",
    "'h_dim':16,\n",
    "'start':0,\n",
    "'max_iter':100,\n",
    "'seed':0,\n",
    "'k':140, # ASEBO only?\n",
    "'num_sensings':25,\n",
    "'log':False,\n",
    "'linear':True,\n",
    "'threshold':0.995,\n",
    "'decay':0.99,\n",
    "'learning_rate':0.05,#0.05\n",
    "'filename':'v2',\n",
    "'policy':'Toeplitz', # Linear or Toeplitz\n",
    "'shift':0,\n",
    "'min':10,\n",
    "'sigma':1e-1,\n",
    "'backtracking':False,\n",
    "'alpha': 1e-6,\n",
    "'beta': 0.25,\n",
    "'sample_from_invH': False\n",
    "}\n",
    "\n",
    "\n",
    "\n",
    "gradient_estimator = gradient_LP_antithetic_estimator\n",
    "# gradient_estimator = gradient_antithetic_estimator\n",
    "# gradient_estimator = gradient_L2_antithetic_estimator\n",
    "\n",
    "invhessian_estimator = invHessian_LP_structured_PTinv_estimator\n",
    "\n",
    "# invhessian_estimator =  invHessian_identity_estimator\n",
    "# params['filename'] = \"identity\""
   ]
  },
  {
   "cell_type": "code",
   "execution_count": 24,
   "id": "3a9d9459",
   "metadata": {},
   "outputs": [],
   "source": [
    "########### Auto Param Setups ##########\n",
    "\n",
    "env = gym.make(params['env_name'])\n",
    "params['ob_dim'] = env.observation_space.shape[0]\n",
    "params['ac_dim'] = env.action_space.shape[0]\n",
    "params['k'] += -1\n",
    "# params['alpha'] = 1 # ASEBO only\n",
    "params['zeros'] = False\n",
    "master = get_policy(params)\n",
    "if params['log']:\n",
    "    params['num_sensings'] = 4 + int(3 * np.log(master.N))\n",
    "if params['linear']:\n",
    "    params['num_sensings'] = int(2 * master.N)"
   ]
  },
  {
   "cell_type": "markdown",
   "id": "55cd2f94",
   "metadata": {},
   "source": [
    "## Train"
   ]
  },
  {
   "cell_type": "code",
   "execution_count": 9,
   "id": "58fb2d73",
   "metadata": {
    "scrolled": true
   },
   "outputs": [
    {
     "name": "stdout",
     "output_type": "stream",
     "text": [
      "Policy Dimension:  116\n",
      "Academic license - for non-commercial use only - expires 2022-02-06\n",
      "Using license file /Users/stevenyin/gurobi.lic\n",
      "Iteration: 1, Leanring Rate: 1.000e+00, Rollouts: 464, Reward: 394.80, Update Direction Norm: 11.38\n",
      "Iteration: 2, Leanring Rate: 2.328e-10, Rollouts: 928, Reward: 394.80, Update Direction Norm: 13.14\n",
      "Iteration: 3, Leanring Rate: 2.500e-01, Rollouts: 1392, Reward: 448.45, Update Direction Norm: 12.12\n",
      "Iteration: 4, Leanring Rate: 5.960e-08, Rollouts: 1856, Reward: 450.34, Update Direction Norm: 11.13\n",
      "Iteration: 5, Leanring Rate: 1.562e-02, Rollouts: 2320, Reward: 508.46, Update Direction Norm: 11.95\n",
      "Iteration: 6, Leanring Rate: 5.821e-11, Rollouts: 2784, Reward: 508.46, Update Direction Norm: 17.76\n",
      "Iteration: 7, Leanring Rate: 5.821e-11, Rollouts: 3248, Reward: 508.46, Update Direction Norm: 22.82\n",
      "Iteration: 8, Leanring Rate: 5.821e-11, Rollouts: 3712, Reward: 508.46, Update Direction Norm: 18.51\n",
      "Iteration: 9, Leanring Rate: 5.821e-11, Rollouts: 4176, Reward: 508.46, Update Direction Norm: 17.20\n",
      "Iteration: 10, Leanring Rate: 5.821e-11, Rollouts: 4640, Reward: 508.46, Update Direction Norm: 19.94\n",
      "Iteration: 11, Leanring Rate: 5.821e-11, Rollouts: 5104, Reward: 508.46, Update Direction Norm: 20.40\n",
      "Iteration: 12, Leanring Rate: 5.960e-08, Rollouts: 5568, Reward: 574.31, Update Direction Norm: 19.86\n",
      "Iteration: 13, Leanring Rate: 5.821e-11, Rollouts: 6032, Reward: 574.31, Update Direction Norm: 27.76\n",
      "Iteration: 14, Leanring Rate: 5.821e-11, Rollouts: 6496, Reward: 574.31, Update Direction Norm: 25.13\n",
      "Iteration: 15, Leanring Rate: 5.821e-11, Rollouts: 6960, Reward: 574.31, Update Direction Norm: 25.62\n",
      "Iteration: 16, Leanring Rate: 5.821e-11, Rollouts: 7424, Reward: 574.31, Update Direction Norm: 22.95\n",
      "Iteration: 17, Leanring Rate: 5.821e-11, Rollouts: 7888, Reward: 574.31, Update Direction Norm: 24.18\n",
      "Iteration: 18, Leanring Rate: 5.821e-11, Rollouts: 8352, Reward: 574.31, Update Direction Norm: 23.06\n",
      "Iteration: 19, Leanring Rate: 5.821e-11, Rollouts: 8816, Reward: 574.31, Update Direction Norm: 23.90\n",
      "Iteration: 20, Leanring Rate: 2.328e-10, Rollouts: 9280, Reward: 574.31, Update Direction Norm: 18.92\n",
      "Iteration: 21, Leanring Rate: 5.821e-11, Rollouts: 9744, Reward: 574.31, Update Direction Norm: 24.98\n",
      "Iteration: 22, Leanring Rate: 5.821e-11, Rollouts: 10208, Reward: 574.31, Update Direction Norm: 22.84\n",
      "Iteration: 23, Leanring Rate: 5.821e-11, Rollouts: 10672, Reward: 574.31, Update Direction Norm: 24.54\n",
      "Iteration: 24, Leanring Rate: 5.821e-11, Rollouts: 11136, Reward: 574.31, Update Direction Norm: 25.65\n",
      "Iteration: 25, Leanring Rate: 5.821e-11, Rollouts: 11600, Reward: 574.31, Update Direction Norm: 28.19\n",
      "Iteration: 26, Leanring Rate: 5.821e-11, Rollouts: 12064, Reward: 574.31, Update Direction Norm: 26.62\n",
      "Iteration: 27, Leanring Rate: 5.821e-11, Rollouts: 12528, Reward: 574.31, Update Direction Norm: 21.14\n",
      "Iteration: 28, Leanring Rate: 5.821e-11, Rollouts: 12992, Reward: 574.31, Update Direction Norm: 24.34\n",
      "Iteration: 29, Leanring Rate: 5.821e-11, Rollouts: 13456, Reward: 574.31, Update Direction Norm: 28.10\n",
      "Iteration: 30, Leanring Rate: 5.821e-11, Rollouts: 13920, Reward: 574.31, Update Direction Norm: 25.71\n",
      "Iteration: 31, Leanring Rate: 5.821e-11, Rollouts: 14384, Reward: 574.31, Update Direction Norm: 28.00\n",
      "Iteration: 32, Leanring Rate: 1.562e-02, Rollouts: 14848, Reward: 635.09, Update Direction Norm: 28.41\n",
      "Iteration: 33, Leanring Rate: 5.821e-11, Rollouts: 15312, Reward: 635.09, Update Direction Norm: 30.86\n",
      "Iteration: 34, Leanring Rate: 5.821e-11, Rollouts: 15776, Reward: 635.09, Update Direction Norm: 25.49\n",
      "Iteration: 35, Leanring Rate: 5.821e-11, Rollouts: 16240, Reward: 635.09, Update Direction Norm: 30.64\n",
      "Iteration: 36, Leanring Rate: 5.821e-11, Rollouts: 16704, Reward: 635.09, Update Direction Norm: 31.58\n",
      "Iteration: 37, Leanring Rate: 5.821e-11, Rollouts: 17168, Reward: 635.09, Update Direction Norm: 32.39\n",
      "Iteration: 38, Leanring Rate: 5.821e-11, Rollouts: 17632, Reward: 635.09, Update Direction Norm: 31.21\n",
      "Iteration: 39, Leanring Rate: 5.821e-11, Rollouts: 18096, Reward: 635.09, Update Direction Norm: 33.71\n",
      "Iteration: 40, Leanring Rate: 5.821e-11, Rollouts: 18560, Reward: 635.09, Update Direction Norm: 32.60\n",
      "Iteration: 41, Leanring Rate: 5.821e-11, Rollouts: 19024, Reward: 635.09, Update Direction Norm: 32.15\n",
      "Iteration: 42, Leanring Rate: 5.821e-11, Rollouts: 19488, Reward: 635.09, Update Direction Norm: 35.54\n",
      "Iteration: 43, Leanring Rate: 5.821e-11, Rollouts: 19952, Reward: 635.09, Update Direction Norm: 31.95\n",
      "Iteration: 44, Leanring Rate: 5.821e-11, Rollouts: 20416, Reward: 635.09, Update Direction Norm: 32.87\n",
      "Iteration: 45, Leanring Rate: 5.821e-11, Rollouts: 20880, Reward: 635.09, Update Direction Norm: 30.64\n",
      "Iteration: 46, Leanring Rate: 5.821e-11, Rollouts: 21344, Reward: 635.09, Update Direction Norm: 30.11\n",
      "Iteration: 47, Leanring Rate: 5.821e-11, Rollouts: 21808, Reward: 635.09, Update Direction Norm: 34.80\n",
      "Iteration: 48, Leanring Rate: 5.821e-11, Rollouts: 22272, Reward: 635.09, Update Direction Norm: 32.68\n",
      "Iteration: 49, Leanring Rate: 5.821e-11, Rollouts: 22736, Reward: 635.09, Update Direction Norm: 31.16\n",
      "Iteration: 50, Leanring Rate: 5.821e-11, Rollouts: 23200, Reward: 635.09, Update Direction Norm: 35.61\n",
      "Iteration: 51, Leanring Rate: 5.821e-11, Rollouts: 23664, Reward: 635.09, Update Direction Norm: 32.61\n",
      "Iteration: 52, Leanring Rate: 5.821e-11, Rollouts: 24128, Reward: 635.09, Update Direction Norm: 34.76\n",
      "Iteration: 53, Leanring Rate: 5.821e-11, Rollouts: 24592, Reward: 635.09, Update Direction Norm: 29.30\n",
      "Iteration: 54, Leanring Rate: 5.821e-11, Rollouts: 25056, Reward: 635.09, Update Direction Norm: 29.34\n",
      "Iteration: 55, Leanring Rate: 5.821e-11, Rollouts: 25520, Reward: 635.09, Update Direction Norm: 35.01\n",
      "Iteration: 56, Leanring Rate: 5.821e-11, Rollouts: 25984, Reward: 635.09, Update Direction Norm: 34.62\n",
      "Iteration: 57, Leanring Rate: 5.821e-11, Rollouts: 26448, Reward: 635.09, Update Direction Norm: 35.09\n",
      "Iteration: 58, Leanring Rate: 5.821e-11, Rollouts: 26912, Reward: 635.09, Update Direction Norm: 30.31\n",
      "Iteration: 59, Leanring Rate: 5.821e-11, Rollouts: 27376, Reward: 635.09, Update Direction Norm: 30.58\n",
      "Iteration: 60, Leanring Rate: 5.821e-11, Rollouts: 27840, Reward: 635.09, Update Direction Norm: 33.45\n",
      "Iteration: 61, Leanring Rate: 5.821e-11, Rollouts: 28304, Reward: 635.09, Update Direction Norm: 31.07\n",
      "Iteration: 62, Leanring Rate: 5.821e-11, Rollouts: 28768, Reward: 635.09, Update Direction Norm: 32.27\n",
      "Iteration: 63, Leanring Rate: 5.821e-11, Rollouts: 29232, Reward: 635.09, Update Direction Norm: 31.50\n",
      "Iteration: 64, Leanring Rate: 5.821e-11, Rollouts: 29696, Reward: 635.09, Update Direction Norm: 31.37\n",
      "Iteration: 65, Leanring Rate: 5.821e-11, Rollouts: 30160, Reward: 635.09, Update Direction Norm: 33.80\n",
      "Iteration: 66, Leanring Rate: 5.821e-11, Rollouts: 30624, Reward: 635.09, Update Direction Norm: 32.01\n",
      "Iteration: 67, Leanring Rate: 5.821e-11, Rollouts: 31088, Reward: 635.09, Update Direction Norm: 32.66\n",
      "Iteration: 68, Leanring Rate: 5.821e-11, Rollouts: 31552, Reward: 635.09, Update Direction Norm: 28.99\n",
      "Iteration: 69, Leanring Rate: 5.821e-11, Rollouts: 32016, Reward: 635.09, Update Direction Norm: 32.82\n",
      "Iteration: 70, Leanring Rate: 5.821e-11, Rollouts: 32480, Reward: 635.09, Update Direction Norm: 32.42\n",
      "Iteration: 71, Leanring Rate: 5.821e-11, Rollouts: 32944, Reward: 635.09, Update Direction Norm: 32.45\n",
      "Iteration: 72, Leanring Rate: 5.821e-11, Rollouts: 33408, Reward: 635.09, Update Direction Norm: 31.77\n",
      "Iteration: 73, Leanring Rate: 5.821e-11, Rollouts: 33872, Reward: 635.09, Update Direction Norm: 34.82\n",
      "Iteration: 74, Leanring Rate: 5.821e-11, Rollouts: 34336, Reward: 635.09, Update Direction Norm: 27.38\n",
      "Iteration: 75, Leanring Rate: 5.821e-11, Rollouts: 34800, Reward: 635.09, Update Direction Norm: 29.95\n",
      "Iteration: 76, Leanring Rate: 5.821e-11, Rollouts: 35264, Reward: 635.09, Update Direction Norm: 27.97\n",
      "Iteration: 77, Leanring Rate: 5.821e-11, Rollouts: 35728, Reward: 635.09, Update Direction Norm: 30.77\n",
      "Iteration: 78, Leanring Rate: 5.821e-11, Rollouts: 36192, Reward: 635.09, Update Direction Norm: 30.78\n",
      "Iteration: 79, Leanring Rate: 5.821e-11, Rollouts: 36656, Reward: 635.09, Update Direction Norm: 32.32\n"
     ]
    },
    {
     "name": "stdout",
     "output_type": "stream",
     "text": [
      "Iteration: 80, Leanring Rate: 5.821e-11, Rollouts: 37120, Reward: 635.09, Update Direction Norm: 29.86\n",
      "Iteration: 81, Leanring Rate: 5.821e-11, Rollouts: 37584, Reward: 635.09, Update Direction Norm: 30.92\n",
      "Iteration: 82, Leanring Rate: 5.821e-11, Rollouts: 38048, Reward: 635.09, Update Direction Norm: 30.16\n",
      "Iteration: 83, Leanring Rate: 5.821e-11, Rollouts: 38512, Reward: 635.09, Update Direction Norm: 32.02\n",
      "Iteration: 84, Leanring Rate: 5.821e-11, Rollouts: 38976, Reward: 635.09, Update Direction Norm: 30.13\n",
      "Iteration: 85, Leanring Rate: 5.821e-11, Rollouts: 39440, Reward: 635.09, Update Direction Norm: 29.73\n",
      "Iteration: 86, Leanring Rate: 5.821e-11, Rollouts: 39904, Reward: 635.09, Update Direction Norm: 31.40\n",
      "Iteration: 87, Leanring Rate: 5.821e-11, Rollouts: 40368, Reward: 635.09, Update Direction Norm: 32.10\n",
      "Iteration: 88, Leanring Rate: 5.821e-11, Rollouts: 40832, Reward: 635.09, Update Direction Norm: 31.35\n",
      "Iteration: 89, Leanring Rate: 5.821e-11, Rollouts: 41296, Reward: 635.09, Update Direction Norm: 31.18\n",
      "Iteration: 90, Leanring Rate: 5.821e-11, Rollouts: 41760, Reward: 635.09, Update Direction Norm: 28.60\n",
      "Iteration: 91, Leanring Rate: 5.821e-11, Rollouts: 42224, Reward: 635.09, Update Direction Norm: 31.96\n",
      "Iteration: 92, Leanring Rate: 5.821e-11, Rollouts: 42688, Reward: 635.09, Update Direction Norm: 37.49\n",
      "Iteration: 93, Leanring Rate: 5.821e-11, Rollouts: 43152, Reward: 635.09, Update Direction Norm: 30.85\n",
      "Iteration: 94, Leanring Rate: 5.821e-11, Rollouts: 43616, Reward: 635.09, Update Direction Norm: 29.72\n",
      "Iteration: 95, Leanring Rate: 5.821e-11, Rollouts: 44080, Reward: 635.09, Update Direction Norm: 33.65\n",
      "Iteration: 96, Leanring Rate: 5.821e-11, Rollouts: 44544, Reward: 635.09, Update Direction Norm: 31.43\n",
      "Iteration: 97, Leanring Rate: 5.821e-11, Rollouts: 45008, Reward: 635.09, Update Direction Norm: 30.92\n",
      "Iteration: 98, Leanring Rate: 5.821e-11, Rollouts: 45472, Reward: 635.09, Update Direction Norm: 31.32\n",
      "Iteration: 99, Leanring Rate: 5.821e-11, Rollouts: 45936, Reward: 635.09, Update Direction Norm: 32.68\n",
      "Iteration: 100, Leanring Rate: 5.821e-11, Rollouts: 46400, Reward: 635.09, Update Direction Norm: 28.57\n",
      "Iteration: 101, Leanring Rate: 5.821e-11, Rollouts: 46864, Reward: 635.09, Update Direction Norm: 32.77\n",
      "Iteration: 102, Leanring Rate: 5.821e-11, Rollouts: 47328, Reward: 635.09, Update Direction Norm: 35.10\n",
      "Iteration: 103, Leanring Rate: 5.821e-11, Rollouts: 47792, Reward: 635.09, Update Direction Norm: 30.75\n",
      "Iteration: 104, Leanring Rate: 5.821e-11, Rollouts: 48256, Reward: 635.09, Update Direction Norm: 32.35\n",
      "Iteration: 105, Leanring Rate: 5.821e-11, Rollouts: 48720, Reward: 635.09, Update Direction Norm: 36.02\n",
      "Iteration: 106, Leanring Rate: 5.821e-11, Rollouts: 49184, Reward: 635.09, Update Direction Norm: 29.87\n",
      "Iteration: 107, Leanring Rate: 5.821e-11, Rollouts: 49648, Reward: 635.09, Update Direction Norm: 32.85\n",
      "Iteration: 108, Leanring Rate: 5.821e-11, Rollouts: 50112, Reward: 635.09, Update Direction Norm: 27.77\n",
      "Iteration: 109, Leanring Rate: 5.821e-11, Rollouts: 50576, Reward: 635.09, Update Direction Norm: 34.26\n",
      "Iteration: 110, Leanring Rate: 5.821e-11, Rollouts: 51040, Reward: 635.09, Update Direction Norm: 32.37\n",
      "Iteration: 111, Leanring Rate: 5.821e-11, Rollouts: 51504, Reward: 635.09, Update Direction Norm: 26.44\n",
      "Iteration: 112, Leanring Rate: 5.821e-11, Rollouts: 51968, Reward: 635.09, Update Direction Norm: 30.71\n",
      "Iteration: 113, Leanring Rate: 5.821e-11, Rollouts: 52432, Reward: 635.09, Update Direction Norm: 35.81\n",
      "Iteration: 114, Leanring Rate: 5.821e-11, Rollouts: 52896, Reward: 635.09, Update Direction Norm: 31.81\n",
      "Iteration: 115, Leanring Rate: 5.821e-11, Rollouts: 53360, Reward: 635.09, Update Direction Norm: 34.90\n",
      "Iteration: 116, Leanring Rate: 5.821e-11, Rollouts: 53824, Reward: 635.09, Update Direction Norm: 30.14\n",
      "Iteration: 117, Leanring Rate: 5.821e-11, Rollouts: 54288, Reward: 635.09, Update Direction Norm: 28.70\n",
      "Iteration: 118, Leanring Rate: 5.821e-11, Rollouts: 54752, Reward: 635.09, Update Direction Norm: 32.54\n",
      "Iteration: 119, Leanring Rate: 5.821e-11, Rollouts: 55216, Reward: 635.09, Update Direction Norm: 31.49\n",
      "Iteration: 120, Leanring Rate: 5.821e-11, Rollouts: 55680, Reward: 635.09, Update Direction Norm: 33.37\n",
      "Iteration: 121, Leanring Rate: 5.821e-11, Rollouts: 56144, Reward: 635.09, Update Direction Norm: 32.45\n",
      "Iteration: 122, Leanring Rate: 5.821e-11, Rollouts: 56608, Reward: 635.09, Update Direction Norm: 31.13\n",
      "Iteration: 123, Leanring Rate: 5.821e-11, Rollouts: 57072, Reward: 635.09, Update Direction Norm: 31.07\n",
      "Iteration: 124, Leanring Rate: 5.821e-11, Rollouts: 57536, Reward: 635.09, Update Direction Norm: 31.52\n",
      "Iteration: 125, Leanring Rate: 5.821e-11, Rollouts: 58000, Reward: 635.09, Update Direction Norm: 35.56\n",
      "Iteration: 126, Leanring Rate: 5.821e-11, Rollouts: 58464, Reward: 635.09, Update Direction Norm: 33.56\n",
      "Iteration: 127, Leanring Rate: 5.821e-11, Rollouts: 58928, Reward: 635.09, Update Direction Norm: 30.07\n",
      "Iteration: 128, Leanring Rate: 5.821e-11, Rollouts: 59392, Reward: 635.09, Update Direction Norm: 35.85\n",
      "Iteration: 129, Leanring Rate: 5.821e-11, Rollouts: 59856, Reward: 635.09, Update Direction Norm: 31.30\n",
      "Iteration: 130, Leanring Rate: 5.821e-11, Rollouts: 60320, Reward: 635.09, Update Direction Norm: 32.96\n",
      "Iteration: 131, Leanring Rate: 5.821e-11, Rollouts: 60784, Reward: 635.09, Update Direction Norm: 32.97\n",
      "Iteration: 132, Leanring Rate: 5.821e-11, Rollouts: 61248, Reward: 635.09, Update Direction Norm: 31.44\n",
      "Iteration: 133, Leanring Rate: 5.821e-11, Rollouts: 61712, Reward: 635.09, Update Direction Norm: 33.34\n",
      "Iteration: 134, Leanring Rate: 5.821e-11, Rollouts: 62176, Reward: 635.09, Update Direction Norm: 32.86\n",
      "Iteration: 135, Leanring Rate: 5.821e-11, Rollouts: 62640, Reward: 635.09, Update Direction Norm: 30.90\n",
      "Iteration: 136, Leanring Rate: 5.821e-11, Rollouts: 63104, Reward: 635.09, Update Direction Norm: 28.21\n",
      "Iteration: 137, Leanring Rate: 5.821e-11, Rollouts: 63568, Reward: 635.09, Update Direction Norm: 32.16\n",
      "Iteration: 138, Leanring Rate: 5.821e-11, Rollouts: 64032, Reward: 635.09, Update Direction Norm: 33.52\n",
      "Iteration: 139, Leanring Rate: 5.821e-11, Rollouts: 64496, Reward: 635.09, Update Direction Norm: 32.76\n",
      "Iteration: 140, Leanring Rate: 5.821e-11, Rollouts: 64960, Reward: 635.09, Update Direction Norm: 33.13\n",
      "Iteration: 141, Leanring Rate: 5.821e-11, Rollouts: 65424, Reward: 635.09, Update Direction Norm: 29.15\n",
      "Iteration: 142, Leanring Rate: 5.821e-11, Rollouts: 65888, Reward: 635.09, Update Direction Norm: 33.04\n",
      "Iteration: 143, Leanring Rate: 5.821e-11, Rollouts: 66352, Reward: 635.09, Update Direction Norm: 30.35\n",
      "Iteration: 144, Leanring Rate: 5.821e-11, Rollouts: 66816, Reward: 635.09, Update Direction Norm: 28.26\n",
      "Iteration: 145, Leanring Rate: 5.821e-11, Rollouts: 67280, Reward: 635.09, Update Direction Norm: 28.42\n",
      "Iteration: 146, Leanring Rate: 5.821e-11, Rollouts: 67744, Reward: 635.09, Update Direction Norm: 30.40\n",
      "Iteration: 147, Leanring Rate: 5.821e-11, Rollouts: 68208, Reward: 635.09, Update Direction Norm: 31.11\n",
      "Iteration: 148, Leanring Rate: 5.821e-11, Rollouts: 68672, Reward: 635.09, Update Direction Norm: 31.83\n",
      "Iteration: 149, Leanring Rate: 5.821e-11, Rollouts: 69136, Reward: 635.09, Update Direction Norm: 38.63\n",
      "Policy Dimension:  116\n",
      "Iteration: 1, Rollouts: 464, Reward: 105.22212251682602, Alpha: 1, Samples: 232\n",
      "Iteration: 2, Rollouts: 928, Reward: 436.68386962190294, Alpha: 1, Samples: 232\n",
      "Iteration: 3, Rollouts: 1392, Reward: 175.45547558961601, Alpha: 1, Samples: 232\n",
      "Iteration: 4, Rollouts: 1856, Reward: 282.68206355349656, Alpha: 1, Samples: 232\n",
      "Iteration: 5, Rollouts: 2320, Reward: 269.9760281200557, Alpha: 1, Samples: 232\n",
      "Iteration: 6, Rollouts: 2784, Reward: 446.96540815077225, Alpha: 1, Samples: 232\n",
      "Iteration: 7, Rollouts: 3248, Reward: 335.31687047457757, Alpha: 1, Samples: 232\n",
      "Iteration: 8, Rollouts: 3712, Reward: 399.32993018612035, Alpha: 1, Samples: 232\n",
      "Iteration: 9, Rollouts: 4176, Reward: 412.46344181313896, Alpha: 1, Samples: 232\n",
      "Iteration: 10, Rollouts: 4640, Reward: 425.84838070013694, Alpha: 1, Samples: 232\n",
      "Iteration: 11, Rollouts: 5104, Reward: 370.57451250677815, Alpha: 1, Samples: 232\n",
      "Iteration: 12, Rollouts: 5568, Reward: 246.06706031135124, Alpha: 1, Samples: 232\n"
     ]
    },
    {
     "name": "stdout",
     "output_type": "stream",
     "text": [
      "Iteration: 13, Rollouts: 6032, Reward: 402.9112595760442, Alpha: 1, Samples: 232\n",
      "Iteration: 14, Rollouts: 6496, Reward: 523.359529135303, Alpha: 1, Samples: 232\n",
      "Iteration: 15, Rollouts: 6960, Reward: 233.20515983886892, Alpha: 1, Samples: 232\n",
      "Iteration: 16, Rollouts: 7424, Reward: 461.734010934614, Alpha: 1, Samples: 232\n",
      "Iteration: 17, Rollouts: 7888, Reward: 336.32782185953033, Alpha: 1, Samples: 232\n",
      "Iteration: 18, Rollouts: 8352, Reward: 435.6066750112622, Alpha: 1, Samples: 232\n",
      "Iteration: 19, Rollouts: 8816, Reward: 330.8027982644783, Alpha: 1, Samples: 232\n",
      "Iteration: 20, Rollouts: 9280, Reward: 170.89479547269843, Alpha: 1, Samples: 232\n",
      "Iteration: 21, Rollouts: 9744, Reward: 285.1929477657582, Alpha: 1, Samples: 232\n",
      "Iteration: 22, Rollouts: 10208, Reward: 446.28365031964745, Alpha: 1, Samples: 232\n",
      "Iteration: 23, Rollouts: 10672, Reward: 31.408362916034715, Alpha: 1, Samples: 232\n",
      "Iteration: 24, Rollouts: 11136, Reward: 338.16888880609116, Alpha: 1, Samples: 232\n",
      "Iteration: 25, Rollouts: 11600, Reward: 386.5140317135099, Alpha: 1, Samples: 232\n",
      "Iteration: 26, Rollouts: 12064, Reward: 485.2983941026233, Alpha: 1, Samples: 232\n",
      "Iteration: 27, Rollouts: 12528, Reward: 415.30287516848887, Alpha: 1, Samples: 232\n",
      "Iteration: 28, Rollouts: 12992, Reward: 204.84741571482618, Alpha: 1, Samples: 232\n",
      "Iteration: 29, Rollouts: 13456, Reward: 375.0451568034984, Alpha: 1, Samples: 232\n",
      "Iteration: 30, Rollouts: 13920, Reward: 382.0846845908114, Alpha: 1, Samples: 232\n",
      "Iteration: 31, Rollouts: 14384, Reward: 521.376246942338, Alpha: 1, Samples: 232\n",
      "Iteration: 32, Rollouts: 14848, Reward: 343.3617457861804, Alpha: 1, Samples: 232\n",
      "Iteration: 33, Rollouts: 15312, Reward: 332.4334764604166, Alpha: 1, Samples: 232\n",
      "Iteration: 34, Rollouts: 15776, Reward: 534.964725247142, Alpha: 1, Samples: 232\n",
      "Iteration: 35, Rollouts: 16240, Reward: 396.5572193569531, Alpha: 1, Samples: 232\n",
      "Iteration: 36, Rollouts: 16704, Reward: 354.22742140108755, Alpha: 1, Samples: 232\n",
      "Iteration: 37, Rollouts: 17168, Reward: 490.9888212892578, Alpha: 1, Samples: 232\n",
      "Iteration: 38, Rollouts: 17632, Reward: 377.4159535792441, Alpha: 1, Samples: 232\n",
      "Iteration: 39, Rollouts: 18096, Reward: 428.9935616106431, Alpha: 1, Samples: 232\n",
      "Iteration: 40, Rollouts: 18560, Reward: 362.5757979381587, Alpha: 1, Samples: 232\n",
      "Iteration: 41, Rollouts: 19024, Reward: 361.865720418893, Alpha: 1, Samples: 232\n",
      "Iteration: 42, Rollouts: 19488, Reward: 298.81638600944666, Alpha: 1, Samples: 232\n",
      "Iteration: 43, Rollouts: 19952, Reward: 289.16522694369274, Alpha: 1, Samples: 232\n",
      "Iteration: 44, Rollouts: 20416, Reward: 502.30692206223927, Alpha: 1, Samples: 232\n",
      "Iteration: 45, Rollouts: 20880, Reward: 406.87492779455175, Alpha: 1, Samples: 232\n",
      "Iteration: 46, Rollouts: 21344, Reward: 298.10949340392614, Alpha: 1, Samples: 232\n",
      "Iteration: 47, Rollouts: 21808, Reward: 356.22731464348215, Alpha: 1, Samples: 232\n",
      "Iteration: 48, Rollouts: 22272, Reward: 283.03117171657493, Alpha: 1, Samples: 232\n",
      "Iteration: 49, Rollouts: 22736, Reward: 449.44311794777155, Alpha: 1, Samples: 232\n",
      "Iteration: 50, Rollouts: 23200, Reward: 343.65052848058986, Alpha: 1, Samples: 232\n",
      "Iteration: 51, Rollouts: 23664, Reward: 215.473393001602, Alpha: 1, Samples: 232\n",
      "Iteration: 52, Rollouts: 24128, Reward: 378.8187113058427, Alpha: 1, Samples: 232\n",
      "Iteration: 53, Rollouts: 24592, Reward: 429.31574130880995, Alpha: 1, Samples: 232\n",
      "Iteration: 54, Rollouts: 25056, Reward: 380.32159905038185, Alpha: 1, Samples: 232\n",
      "Iteration: 55, Rollouts: 25520, Reward: 283.13115177405757, Alpha: 1, Samples: 232\n",
      "Iteration: 56, Rollouts: 25984, Reward: 247.92484454777153, Alpha: 1, Samples: 232\n",
      "Iteration: 57, Rollouts: 26448, Reward: 342.0584065348621, Alpha: 1, Samples: 232\n",
      "Iteration: 58, Rollouts: 26912, Reward: 411.7120202188397, Alpha: 1, Samples: 232\n",
      "Iteration: 59, Rollouts: 27376, Reward: 340.51555812868173, Alpha: 1, Samples: 232\n",
      "Iteration: 60, Rollouts: 27840, Reward: 213.6404331209876, Alpha: 1, Samples: 232\n",
      "Iteration: 61, Rollouts: 28304, Reward: 183.77565903393992, Alpha: 1, Samples: 232\n",
      "Iteration: 62, Rollouts: 28768, Reward: 202.10749913207735, Alpha: 1, Samples: 232\n",
      "Iteration: 63, Rollouts: 29232, Reward: 491.9581119374721, Alpha: 1, Samples: 232\n",
      "Iteration: 64, Rollouts: 29696, Reward: 236.46928225769526, Alpha: 1, Samples: 232\n",
      "Iteration: 65, Rollouts: 30160, Reward: 239.71561158549468, Alpha: 1, Samples: 232\n",
      "Iteration: 66, Rollouts: 30624, Reward: 301.62874181558476, Alpha: 1, Samples: 232\n",
      "Iteration: 67, Rollouts: 31088, Reward: 413.52883983079073, Alpha: 1, Samples: 232\n",
      "Iteration: 68, Rollouts: 31552, Reward: 465.18700904797157, Alpha: 1, Samples: 232\n",
      "Iteration: 69, Rollouts: 32016, Reward: 252.68736084249582, Alpha: 1, Samples: 232\n",
      "Iteration: 70, Rollouts: 32480, Reward: 409.71146415476466, Alpha: 1, Samples: 232\n",
      "Iteration: 71, Rollouts: 32944, Reward: 363.8663243975025, Alpha: 1, Samples: 232\n",
      "Iteration: 72, Rollouts: 33408, Reward: 384.25794200798384, Alpha: 1, Samples: 232\n",
      "Iteration: 73, Rollouts: 33872, Reward: 329.6567614413092, Alpha: 1, Samples: 232\n",
      "Iteration: 74, Rollouts: 34336, Reward: 276.41555610691483, Alpha: 1, Samples: 232\n",
      "Iteration: 75, Rollouts: 34800, Reward: 364.27267777001873, Alpha: 1, Samples: 232\n",
      "Iteration: 76, Rollouts: 35264, Reward: 550.1302359341322, Alpha: 1, Samples: 232\n",
      "Iteration: 77, Rollouts: 35728, Reward: 323.6690994714601, Alpha: 1, Samples: 232\n",
      "Iteration: 78, Rollouts: 36192, Reward: 315.1304390763833, Alpha: 1, Samples: 232\n",
      "Iteration: 79, Rollouts: 36656, Reward: 253.9839083500185, Alpha: 1, Samples: 232\n",
      "Iteration: 80, Rollouts: 37120, Reward: 395.75576454776257, Alpha: 1, Samples: 232\n",
      "Iteration: 81, Rollouts: 37584, Reward: 324.6046065132566, Alpha: 1, Samples: 232\n",
      "Iteration: 82, Rollouts: 38048, Reward: 312.6216499466953, Alpha: 1, Samples: 232\n",
      "Iteration: 83, Rollouts: 38512, Reward: 198.9662304277765, Alpha: 1, Samples: 232\n",
      "Iteration: 84, Rollouts: 38976, Reward: 319.6857670536985, Alpha: 1, Samples: 232\n",
      "Iteration: 85, Rollouts: 39440, Reward: 239.51029305546197, Alpha: 1, Samples: 232\n",
      "Iteration: 86, Rollouts: 39904, Reward: 318.22351285762494, Alpha: 1, Samples: 232\n",
      "Iteration: 87, Rollouts: 40368, Reward: 273.8485081824804, Alpha: 1, Samples: 232\n",
      "Iteration: 88, Rollouts: 40832, Reward: 239.12135220814557, Alpha: 1, Samples: 232\n",
      "Iteration: 89, Rollouts: 41296, Reward: 437.310527990708, Alpha: 1, Samples: 232\n",
      "Iteration: 90, Rollouts: 41760, Reward: 364.14278152738564, Alpha: 1, Samples: 232\n",
      "Iteration: 91, Rollouts: 42224, Reward: 383.2783287661053, Alpha: 1, Samples: 232\n",
      "Iteration: 92, Rollouts: 42688, Reward: 272.04055549386123, Alpha: 1, Samples: 232\n",
      "Iteration: 93, Rollouts: 43152, Reward: 621.8057272789765, Alpha: 1, Samples: 232\n",
      "Iteration: 94, Rollouts: 43616, Reward: 224.90824950353718, Alpha: 1, Samples: 232\n",
      "Iteration: 95, Rollouts: 44080, Reward: 259.79141488358164, Alpha: 1, Samples: 232\n",
      "Iteration: 96, Rollouts: 44544, Reward: 195.49865109673445, Alpha: 1, Samples: 232\n",
      "Iteration: 97, Rollouts: 45008, Reward: 289.8296638537334, Alpha: 1, Samples: 232\n",
      "Iteration: 98, Rollouts: 45472, Reward: 300.38579466902314, Alpha: 1, Samples: 232\n",
      "Iteration: 99, Rollouts: 45936, Reward: 309.15295989201405, Alpha: 1, Samples: 232\n",
      "Iteration: 100, Rollouts: 46400, Reward: 393.91870558124225, Alpha: 1, Samples: 232\n",
      "Iteration: 101, Rollouts: 46864, Reward: 323.4462734420464, Alpha: 1, Samples: 232\n",
      "Iteration: 102, Rollouts: 47328, Reward: 479.80066664015857, Alpha: 1, Samples: 232\n",
      "Iteration: 103, Rollouts: 47792, Reward: 370.0962694267689, Alpha: 1, Samples: 232\n",
      "Iteration: 104, Rollouts: 48256, Reward: 316.00827283337793, Alpha: 1, Samples: 232\n",
      "Iteration: 105, Rollouts: 48720, Reward: 341.8638826140998, Alpha: 1, Samples: 232\n",
      "Iteration: 106, Rollouts: 49184, Reward: 275.1943953245563, Alpha: 1, Samples: 232\n",
      "Iteration: 107, Rollouts: 49648, Reward: 352.1274931733336, Alpha: 1, Samples: 232\n",
      "Iteration: 108, Rollouts: 50112, Reward: 339.1120635894856, Alpha: 1, Samples: 232\n",
      "Iteration: 109, Rollouts: 50576, Reward: 500.14959364071535, Alpha: 1, Samples: 232\n",
      "Iteration: 110, Rollouts: 51040, Reward: 441.11450955250365, Alpha: 1, Samples: 232\n",
      "Iteration: 111, Rollouts: 51504, Reward: 240.7463228145632, Alpha: 1, Samples: 232\n",
      "Iteration: 112, Rollouts: 51968, Reward: 237.20242986907405, Alpha: 1, Samples: 232\n"
     ]
    },
    {
     "name": "stdout",
     "output_type": "stream",
     "text": [
      "Iteration: 113, Rollouts: 52432, Reward: 276.0447823787023, Alpha: 1, Samples: 232\n",
      "Iteration: 114, Rollouts: 52896, Reward: 258.19111995667174, Alpha: 1, Samples: 232\n",
      "Iteration: 115, Rollouts: 53360, Reward: 336.9920393492836, Alpha: 1, Samples: 232\n"
     ]
    },
    {
     "name": "stderr",
     "output_type": "stream",
     "text": [
      "/Users/stevenyin/Google Drive/columbia/semester 9/krzysztof class/Project6617/asebo/es.py:36: RuntimeWarning: invalid value encountered in matmul\n",
      "  UUT = np.matmul(U.T, U)\n",
      "/Users/stevenyin/Google Drive/columbia/semester 9/krzysztof class/Project6617/asebo/es.py:38: RuntimeWarning: invalid value encountered in matmul\n",
      "  UUT_ort = np.matmul(U_ort.T, U_ort)\n"
     ]
    },
    {
     "name": "stdout",
     "output_type": "stream",
     "text": [
      "Iteration: 116, Rollouts: 53824, Reward: 320.77020478972725, Alpha: 0.4025033629624227, Samples: 232\n"
     ]
    },
    {
     "name": "stderr",
     "output_type": "stream",
     "text": [
      "/Users/stevenyin/Google Drive/columbia/semester 9/krzysztof class/Project6617/asebo/es.py:36: RuntimeWarning: invalid value encountered in matmul\n",
      "  UUT = np.matmul(U.T, U)\n",
      "/Users/stevenyin/Google Drive/columbia/semester 9/krzysztof class/Project6617/asebo/es.py:38: RuntimeWarning: invalid value encountered in matmul\n",
      "  UUT_ort = np.matmul(U_ort.T, U_ort)\n"
     ]
    },
    {
     "name": "stdout",
     "output_type": "stream",
     "text": [
      "Iteration: 117, Rollouts: 54006, Reward: 441.4155132113398, Alpha: 0.46930685394309873, Samples: 91\n"
     ]
    },
    {
     "name": "stderr",
     "output_type": "stream",
     "text": [
      "/Users/stevenyin/Google Drive/columbia/semester 9/krzysztof class/Project6617/asebo/es.py:36: RuntimeWarning: invalid value encountered in matmul\n",
      "  UUT = np.matmul(U.T, U)\n",
      "/Users/stevenyin/Google Drive/columbia/semester 9/krzysztof class/Project6617/asebo/es.py:38: RuntimeWarning: invalid value encountered in matmul\n",
      "  UUT_ort = np.matmul(U_ort.T, U_ort)\n"
     ]
    },
    {
     "name": "stdout",
     "output_type": "stream",
     "text": [
      "Iteration: 118, Rollouts: 54188, Reward: 225.3484912013509, Alpha: 0.27218275122793667, Samples: 91\n"
     ]
    },
    {
     "name": "stderr",
     "output_type": "stream",
     "text": [
      "/Users/stevenyin/Google Drive/columbia/semester 9/krzysztof class/Project6617/asebo/es.py:36: RuntimeWarning: invalid value encountered in matmul\n",
      "  UUT = np.matmul(U.T, U)\n",
      "/Users/stevenyin/Google Drive/columbia/semester 9/krzysztof class/Project6617/asebo/es.py:38: RuntimeWarning: invalid value encountered in matmul\n",
      "  UUT_ort = np.matmul(U_ort.T, U_ort)\n"
     ]
    },
    {
     "name": "stdout",
     "output_type": "stream",
     "text": [
      "Iteration: 119, Rollouts: 54372, Reward: 446.9663109978462, Alpha: 0.2887529512551315, Samples: 92\n"
     ]
    },
    {
     "name": "stderr",
     "output_type": "stream",
     "text": [
      "/Users/stevenyin/Google Drive/columbia/semester 9/krzysztof class/Project6617/asebo/es.py:36: RuntimeWarning: invalid value encountered in matmul\n",
      "  UUT = np.matmul(U.T, U)\n",
      "/Users/stevenyin/Google Drive/columbia/semester 9/krzysztof class/Project6617/asebo/es.py:38: RuntimeWarning: invalid value encountered in matmul\n",
      "  UUT_ort = np.matmul(U_ort.T, U_ort)\n"
     ]
    },
    {
     "name": "stdout",
     "output_type": "stream",
     "text": [
      "Iteration: 120, Rollouts: 54556, Reward: 314.71444475803287, Alpha: 0.3037102109246066, Samples: 92\n"
     ]
    },
    {
     "name": "stderr",
     "output_type": "stream",
     "text": [
      "/Users/stevenyin/Google Drive/columbia/semester 9/krzysztof class/Project6617/asebo/es.py:36: RuntimeWarning: invalid value encountered in matmul\n",
      "  UUT = np.matmul(U.T, U)\n",
      "/Users/stevenyin/Google Drive/columbia/semester 9/krzysztof class/Project6617/asebo/es.py:38: RuntimeWarning: invalid value encountered in matmul\n",
      "  UUT_ort = np.matmul(U_ort.T, U_ort)\n"
     ]
    },
    {
     "name": "stdout",
     "output_type": "stream",
     "text": [
      "Iteration: 121, Rollouts: 54740, Reward: 244.78664139255372, Alpha: 0.32893352137893683, Samples: 92\n"
     ]
    },
    {
     "name": "stderr",
     "output_type": "stream",
     "text": [
      "/Users/stevenyin/Google Drive/columbia/semester 9/krzysztof class/Project6617/asebo/es.py:36: RuntimeWarning: invalid value encountered in matmul\n",
      "  UUT = np.matmul(U.T, U)\n",
      "/Users/stevenyin/Google Drive/columbia/semester 9/krzysztof class/Project6617/asebo/es.py:38: RuntimeWarning: invalid value encountered in matmul\n",
      "  UUT_ort = np.matmul(U_ort.T, U_ort)\n"
     ]
    },
    {
     "name": "stdout",
     "output_type": "stream",
     "text": [
      "Iteration: 122, Rollouts: 54924, Reward: 283.2098760111292, Alpha: 0.3808114620201357, Samples: 92\n"
     ]
    },
    {
     "name": "stderr",
     "output_type": "stream",
     "text": [
      "/Users/stevenyin/Google Drive/columbia/semester 9/krzysztof class/Project6617/asebo/es.py:36: RuntimeWarning: invalid value encountered in matmul\n",
      "  UUT = np.matmul(U.T, U)\n",
      "/Users/stevenyin/Google Drive/columbia/semester 9/krzysztof class/Project6617/asebo/es.py:38: RuntimeWarning: invalid value encountered in matmul\n",
      "  UUT_ort = np.matmul(U_ort.T, U_ort)\n"
     ]
    },
    {
     "name": "stdout",
     "output_type": "stream",
     "text": [
      "Iteration: 123, Rollouts: 55110, Reward: 401.7429341054041, Alpha: 0.29560832410114507, Samples: 93\n"
     ]
    },
    {
     "name": "stderr",
     "output_type": "stream",
     "text": [
      "/Users/stevenyin/Google Drive/columbia/semester 9/krzysztof class/Project6617/asebo/es.py:36: RuntimeWarning: invalid value encountered in matmul\n",
      "  UUT = np.matmul(U.T, U)\n",
      "/Users/stevenyin/Google Drive/columbia/semester 9/krzysztof class/Project6617/asebo/es.py:38: RuntimeWarning: invalid value encountered in matmul\n",
      "  UUT_ort = np.matmul(U_ort.T, U_ort)\n"
     ]
    },
    {
     "name": "stdout",
     "output_type": "stream",
     "text": [
      "Iteration: 124, Rollouts: 55296, Reward: 298.3904808860239, Alpha: 0.32448128773485824, Samples: 93\n"
     ]
    },
    {
     "name": "stderr",
     "output_type": "stream",
     "text": [
      "/Users/stevenyin/Google Drive/columbia/semester 9/krzysztof class/Project6617/asebo/es.py:36: RuntimeWarning: invalid value encountered in matmul\n",
      "  UUT = np.matmul(U.T, U)\n",
      "/Users/stevenyin/Google Drive/columbia/semester 9/krzysztof class/Project6617/asebo/es.py:38: RuntimeWarning: invalid value encountered in matmul\n",
      "  UUT_ort = np.matmul(U_ort.T, U_ort)\n"
     ]
    },
    {
     "name": "stdout",
     "output_type": "stream",
     "text": [
      "Iteration: 125, Rollouts: 55482, Reward: 389.94815567386496, Alpha: 0.24772855919978998, Samples: 93\n"
     ]
    },
    {
     "name": "stderr",
     "output_type": "stream",
     "text": [
      "/Users/stevenyin/Google Drive/columbia/semester 9/krzysztof class/Project6617/asebo/es.py:36: RuntimeWarning: invalid value encountered in matmul\n",
      "  UUT = np.matmul(U.T, U)\n",
      "/Users/stevenyin/Google Drive/columbia/semester 9/krzysztof class/Project6617/asebo/es.py:38: RuntimeWarning: invalid value encountered in matmul\n",
      "  UUT_ort = np.matmul(U_ort.T, U_ort)\n"
     ]
    },
    {
     "name": "stdout",
     "output_type": "stream",
     "text": [
      "Iteration: 126, Rollouts: 55668, Reward: 223.9702349243305, Alpha: 0.2682645403833371, Samples: 93\n"
     ]
    },
    {
     "name": "stderr",
     "output_type": "stream",
     "text": [
      "/Users/stevenyin/Google Drive/columbia/semester 9/krzysztof class/Project6617/asebo/es.py:36: RuntimeWarning: invalid value encountered in matmul\n",
      "  UUT = np.matmul(U.T, U)\n",
      "/Users/stevenyin/Google Drive/columbia/semester 9/krzysztof class/Project6617/asebo/es.py:38: RuntimeWarning: invalid value encountered in matmul\n",
      "  UUT_ort = np.matmul(U_ort.T, U_ort)\n"
     ]
    },
    {
     "name": "stdout",
     "output_type": "stream",
     "text": [
      "Iteration: 127, Rollouts: 55854, Reward: 342.5340179756667, Alpha: 0.2892672149548284, Samples: 93\n"
     ]
    },
    {
     "name": "stderr",
     "output_type": "stream",
     "text": [
      "/Users/stevenyin/Google Drive/columbia/semester 9/krzysztof class/Project6617/asebo/es.py:36: RuntimeWarning: invalid value encountered in matmul\n",
      "  UUT = np.matmul(U.T, U)\n",
      "/Users/stevenyin/Google Drive/columbia/semester 9/krzysztof class/Project6617/asebo/es.py:38: RuntimeWarning: invalid value encountered in matmul\n",
      "  UUT_ort = np.matmul(U_ort.T, U_ort)\n"
     ]
    },
    {
     "name": "stdout",
     "output_type": "stream",
     "text": [
      "Iteration: 128, Rollouts: 56042, Reward: 342.5340179756667, Alpha: 0.31364341490422615, Samples: 94\n"
     ]
    },
    {
     "name": "stderr",
     "output_type": "stream",
     "text": [
      "/Users/stevenyin/Google Drive/columbia/semester 9/krzysztof class/Project6617/asebo/es.py:36: RuntimeWarning: invalid value encountered in matmul\n",
      "  UUT = np.matmul(U.T, U)\n",
      "/Users/stevenyin/Google Drive/columbia/semester 9/krzysztof class/Project6617/asebo/es.py:38: RuntimeWarning: invalid value encountered in matmul\n",
      "  UUT_ort = np.matmul(U_ort.T, U_ort)\n"
     ]
    },
    {
     "name": "stdout",
     "output_type": "stream",
     "text": [
      "Iteration: 129, Rollouts: 56230, Reward: 477.89421185523645, Alpha: 0.20208294480065941, Samples: 94\n"
     ]
    },
    {
     "name": "stderr",
     "output_type": "stream",
     "text": [
      "/Users/stevenyin/Google Drive/columbia/semester 9/krzysztof class/Project6617/asebo/es.py:36: RuntimeWarning: invalid value encountered in matmul\n",
      "  UUT = np.matmul(U.T, U)\n",
      "/Users/stevenyin/Google Drive/columbia/semester 9/krzysztof class/Project6617/asebo/es.py:38: RuntimeWarning: invalid value encountered in matmul\n",
      "  UUT_ort = np.matmul(U_ort.T, U_ort)\n"
     ]
    },
    {
     "name": "stdout",
     "output_type": "stream",
     "text": [
      "Iteration: 130, Rollouts: 56418, Reward: 477.67288795147687, Alpha: 0.3012458153503889, Samples: 94\n"
     ]
    },
    {
     "name": "stderr",
     "output_type": "stream",
     "text": [
      "/Users/stevenyin/Google Drive/columbia/semester 9/krzysztof class/Project6617/asebo/es.py:36: RuntimeWarning: invalid value encountered in matmul\n",
      "  UUT = np.matmul(U.T, U)\n",
      "/Users/stevenyin/Google Drive/columbia/semester 9/krzysztof class/Project6617/asebo/es.py:38: RuntimeWarning: invalid value encountered in matmul\n",
      "  UUT_ort = np.matmul(U_ort.T, U_ort)\n"
     ]
    },
    {
     "name": "stdout",
     "output_type": "stream",
     "text": [
      "Iteration: 131, Rollouts: 56606, Reward: 477.67288786095287, Alpha: 0.27703158935520616, Samples: 94\n"
     ]
    },
    {
     "name": "stderr",
     "output_type": "stream",
     "text": [
      "/Users/stevenyin/Google Drive/columbia/semester 9/krzysztof class/Project6617/asebo/es.py:36: RuntimeWarning: invalid value encountered in matmul\n",
      "  UUT = np.matmul(U.T, U)\n",
      "/Users/stevenyin/Google Drive/columbia/semester 9/krzysztof class/Project6617/asebo/es.py:38: RuntimeWarning: invalid value encountered in matmul\n",
      "  UUT_ort = np.matmul(U_ort.T, U_ort)\n"
     ]
    },
    {
     "name": "stdout",
     "output_type": "stream",
     "text": [
      "Iteration: 132, Rollouts: 56794, Reward: 477.89220451314316, Alpha: 0.35099109854620725, Samples: 94\n"
     ]
    },
    {
     "name": "stderr",
     "output_type": "stream",
     "text": [
      "/Users/stevenyin/Google Drive/columbia/semester 9/krzysztof class/Project6617/asebo/es.py:36: RuntimeWarning: invalid value encountered in matmul\n",
      "  UUT = np.matmul(U.T, U)\n",
      "/Users/stevenyin/Google Drive/columbia/semester 9/krzysztof class/Project6617/asebo/es.py:38: RuntimeWarning: invalid value encountered in matmul\n",
      "  UUT_ort = np.matmul(U_ort.T, U_ort)\n"
     ]
    },
    {
     "name": "stdout",
     "output_type": "stream",
     "text": [
      "Iteration: 133, Rollouts: 56982, Reward: 477.8920478194196, Alpha: 0.2838156268833165, Samples: 94\n"
     ]
    },
    {
     "name": "stderr",
     "output_type": "stream",
     "text": [
      "/Users/stevenyin/Google Drive/columbia/semester 9/krzysztof class/Project6617/asebo/es.py:36: RuntimeWarning: invalid value encountered in matmul\n",
      "  UUT = np.matmul(U.T, U)\n",
      "/Users/stevenyin/Google Drive/columbia/semester 9/krzysztof class/Project6617/asebo/es.py:38: RuntimeWarning: invalid value encountered in matmul\n",
      "  UUT_ort = np.matmul(U_ort.T, U_ort)\n"
     ]
    },
    {
     "name": "stdout",
     "output_type": "stream",
     "text": [
      "Iteration: 134, Rollouts: 57170, Reward: 374.04352478923795, Alpha: 0.30757719278697154, Samples: 94\n"
     ]
    },
    {
     "name": "stderr",
     "output_type": "stream",
     "text": [
      "/Users/stevenyin/Google Drive/columbia/semester 9/krzysztof class/Project6617/asebo/es.py:36: RuntimeWarning: invalid value encountered in matmul\n",
      "  UUT = np.matmul(U.T, U)\n",
      "/Users/stevenyin/Google Drive/columbia/semester 9/krzysztof class/Project6617/asebo/es.py:38: RuntimeWarning: invalid value encountered in matmul\n",
      "  UUT_ort = np.matmul(U_ort.T, U_ort)\n"
     ]
    },
    {
     "name": "stdout",
     "output_type": "stream",
     "text": [
      "Iteration: 135, Rollouts: 57360, Reward: 374.04352478923795, Alpha: 0.2012315373255927, Samples: 95\n"
     ]
    },
    {
     "name": "stderr",
     "output_type": "stream",
     "text": [
      "/Users/stevenyin/Google Drive/columbia/semester 9/krzysztof class/Project6617/asebo/es.py:36: RuntimeWarning: invalid value encountered in matmul\n",
      "  UUT = np.matmul(U.T, U)\n",
      "/Users/stevenyin/Google Drive/columbia/semester 9/krzysztof class/Project6617/asebo/es.py:38: RuntimeWarning: invalid value encountered in matmul\n",
      "  UUT_ort = np.matmul(U_ort.T, U_ort)\n"
     ]
    },
    {
     "name": "stdout",
     "output_type": "stream",
     "text": [
      "Iteration: 136, Rollouts: 57550, Reward: 474.53069664930416, Alpha: 0.2695472320185639, Samples: 95\n"
     ]
    },
    {
     "name": "stderr",
     "output_type": "stream",
     "text": [
      "/Users/stevenyin/Google Drive/columbia/semester 9/krzysztof class/Project6617/asebo/es.py:36: RuntimeWarning: invalid value encountered in matmul\n",
      "  UUT = np.matmul(U.T, U)\n",
      "/Users/stevenyin/Google Drive/columbia/semester 9/krzysztof class/Project6617/asebo/es.py:38: RuntimeWarning: invalid value encountered in matmul\n",
      "  UUT_ort = np.matmul(U_ort.T, U_ort)\n"
     ]
    },
    {
     "name": "stdout",
     "output_type": "stream",
     "text": [
      "Iteration: 137, Rollouts: 57740, Reward: 474.53069664930416, Alpha: 0.2262255744813803, Samples: 95\n"
     ]
    },
    {
     "name": "stderr",
     "output_type": "stream",
     "text": [
      "/Users/stevenyin/Google Drive/columbia/semester 9/krzysztof class/Project6617/asebo/es.py:36: RuntimeWarning: invalid value encountered in matmul\n",
      "  UUT = np.matmul(U.T, U)\n",
      "/Users/stevenyin/Google Drive/columbia/semester 9/krzysztof class/Project6617/asebo/es.py:38: RuntimeWarning: invalid value encountered in matmul\n",
      "  UUT_ort = np.matmul(U_ort.T, U_ort)\n"
     ]
    },
    {
     "name": "stdout",
     "output_type": "stream",
     "text": [
      "Iteration: 138, Rollouts: 57930, Reward: 346.45188043144435, Alpha: 0.2888676383044675, Samples: 95\n"
     ]
    },
    {
     "name": "stderr",
     "output_type": "stream",
     "text": [
      "/Users/stevenyin/Google Drive/columbia/semester 9/krzysztof class/Project6617/asebo/es.py:36: RuntimeWarning: invalid value encountered in matmul\n",
      "  UUT = np.matmul(U.T, U)\n",
      "/Users/stevenyin/Google Drive/columbia/semester 9/krzysztof class/Project6617/asebo/es.py:38: RuntimeWarning: invalid value encountered in matmul\n",
      "  UUT_ort = np.matmul(U_ort.T, U_ort)\n"
     ]
    },
    {
     "name": "stdout",
     "output_type": "stream",
     "text": [
      "Iteration: 139, Rollouts: 58120, Reward: 506.32348126656734, Alpha: 0.24489879979143545, Samples: 95\n"
     ]
    },
    {
     "name": "stderr",
     "output_type": "stream",
     "text": [
      "/Users/stevenyin/Google Drive/columbia/semester 9/krzysztof class/Project6617/asebo/es.py:36: RuntimeWarning: invalid value encountered in matmul\n",
      "  UUT = np.matmul(U.T, U)\n",
      "/Users/stevenyin/Google Drive/columbia/semester 9/krzysztof class/Project6617/asebo/es.py:38: RuntimeWarning: invalid value encountered in matmul\n",
      "  UUT_ort = np.matmul(U_ort.T, U_ort)\n"
     ]
    },
    {
     "name": "stdout",
     "output_type": "stream",
     "text": [
      "Iteration: 140, Rollouts: 58310, Reward: 567.0434737540421, Alpha: 0.2705810860154624, Samples: 95\n"
     ]
    },
    {
     "name": "stderr",
     "output_type": "stream",
     "text": [
      "/Users/stevenyin/Google Drive/columbia/semester 9/krzysztof class/Project6617/asebo/es.py:36: RuntimeWarning: invalid value encountered in matmul\n",
      "  UUT = np.matmul(U.T, U)\n",
      "/Users/stevenyin/Google Drive/columbia/semester 9/krzysztof class/Project6617/asebo/es.py:38: RuntimeWarning: invalid value encountered in matmul\n",
      "  UUT_ort = np.matmul(U_ort.T, U_ort)\n"
     ]
    },
    {
     "name": "stdout",
     "output_type": "stream",
     "text": [
      "Iteration: 141, Rollouts: 58500, Reward: 567.0434737540421, Alpha: 0.2717398832229893, Samples: 95\n"
     ]
    },
    {
     "name": "stderr",
     "output_type": "stream",
     "text": [
      "/Users/stevenyin/Google Drive/columbia/semester 9/krzysztof class/Project6617/asebo/es.py:36: RuntimeWarning: invalid value encountered in matmul\n",
      "  UUT = np.matmul(U.T, U)\n",
      "/Users/stevenyin/Google Drive/columbia/semester 9/krzysztof class/Project6617/asebo/es.py:38: RuntimeWarning: invalid value encountered in matmul\n",
      "  UUT_ort = np.matmul(U_ort.T, U_ort)\n"
     ]
    },
    {
     "name": "stdout",
     "output_type": "stream",
     "text": [
      "Iteration: 142, Rollouts: 58692, Reward: 567.0434737540421, Alpha: 0.2639869117265265, Samples: 96\n"
     ]
    },
    {
     "name": "stderr",
     "output_type": "stream",
     "text": [
      "/Users/stevenyin/Google Drive/columbia/semester 9/krzysztof class/Project6617/asebo/es.py:36: RuntimeWarning: invalid value encountered in matmul\n",
      "  UUT = np.matmul(U.T, U)\n",
      "/Users/stevenyin/Google Drive/columbia/semester 9/krzysztof class/Project6617/asebo/es.py:38: RuntimeWarning: invalid value encountered in matmul\n",
      "  UUT_ort = np.matmul(U_ort.T, U_ort)\n"
     ]
    },
    {
     "name": "stdout",
     "output_type": "stream",
     "text": [
      "Iteration: 143, Rollouts: 58884, Reward: 360.60029679823236, Alpha: 0.25844506111038024, Samples: 96\n"
     ]
    },
    {
     "name": "stderr",
     "output_type": "stream",
     "text": [
      "/Users/stevenyin/Google Drive/columbia/semester 9/krzysztof class/Project6617/asebo/es.py:36: RuntimeWarning: invalid value encountered in matmul\n",
      "  UUT = np.matmul(U.T, U)\n",
      "/Users/stevenyin/Google Drive/columbia/semester 9/krzysztof class/Project6617/asebo/es.py:38: RuntimeWarning: invalid value encountered in matmul\n",
      "  UUT_ort = np.matmul(U_ort.T, U_ort)\n"
     ]
    },
    {
     "name": "stdout",
     "output_type": "stream",
     "text": [
      "Iteration: 144, Rollouts: 59076, Reward: 360.60029679823236, Alpha: 0.15343295025253492, Samples: 96\n"
     ]
    },
    {
     "name": "stderr",
     "output_type": "stream",
     "text": [
      "/Users/stevenyin/Google Drive/columbia/semester 9/krzysztof class/Project6617/asebo/es.py:36: RuntimeWarning: invalid value encountered in matmul\n",
      "  UUT = np.matmul(U.T, U)\n",
      "/Users/stevenyin/Google Drive/columbia/semester 9/krzysztof class/Project6617/asebo/es.py:38: RuntimeWarning: invalid value encountered in matmul\n",
      "  UUT_ort = np.matmul(U_ort.T, U_ort)\n"
     ]
    },
    {
     "name": "stdout",
     "output_type": "stream",
     "text": [
      "Iteration: 145, Rollouts: 59268, Reward: 477.6728887642748, Alpha: 0.2789135073794497, Samples: 96\n"
     ]
    },
    {
     "name": "stderr",
     "output_type": "stream",
     "text": [
      "/Users/stevenyin/Google Drive/columbia/semester 9/krzysztof class/Project6617/asebo/es.py:36: RuntimeWarning: invalid value encountered in matmul\n",
      "  UUT = np.matmul(U.T, U)\n",
      "/Users/stevenyin/Google Drive/columbia/semester 9/krzysztof class/Project6617/asebo/es.py:38: RuntimeWarning: invalid value encountered in matmul\n",
      "  UUT_ort = np.matmul(U_ort.T, U_ort)\n"
     ]
    },
    {
     "name": "stdout",
     "output_type": "stream",
     "text": [
      "Iteration: 146, Rollouts: 59460, Reward: 477.6728887642748, Alpha: 0.23657478839615625, Samples: 96\n"
     ]
    },
    {
     "name": "stderr",
     "output_type": "stream",
     "text": [
      "/Users/stevenyin/Google Drive/columbia/semester 9/krzysztof class/Project6617/asebo/es.py:36: RuntimeWarning: invalid value encountered in matmul\n",
      "  UUT = np.matmul(U.T, U)\n",
      "/Users/stevenyin/Google Drive/columbia/semester 9/krzysztof class/Project6617/asebo/es.py:38: RuntimeWarning: invalid value encountered in matmul\n",
      "  UUT_ort = np.matmul(U_ort.T, U_ort)\n"
     ]
    },
    {
     "name": "stdout",
     "output_type": "stream",
     "text": [
      "Iteration: 147, Rollouts: 59652, Reward: 477.6728887642748, Alpha: 0.30102052822267844, Samples: 96\n"
     ]
    },
    {
     "name": "stderr",
     "output_type": "stream",
     "text": [
      "/Users/stevenyin/Google Drive/columbia/semester 9/krzysztof class/Project6617/asebo/es.py:36: RuntimeWarning: invalid value encountered in matmul\n",
      "  UUT = np.matmul(U.T, U)\n",
      "/Users/stevenyin/Google Drive/columbia/semester 9/krzysztof class/Project6617/asebo/es.py:38: RuntimeWarning: invalid value encountered in matmul\n",
      "  UUT_ort = np.matmul(U_ort.T, U_ort)\n"
     ]
    },
    {
     "name": "stdout",
     "output_type": "stream",
     "text": [
      "Iteration: 148, Rollouts: 59844, Reward: 477.6728887642748, Alpha: 0.4177598430445425, Samples: 96\n"
     ]
    },
    {
     "name": "stderr",
     "output_type": "stream",
     "text": [
      "/Users/stevenyin/Google Drive/columbia/semester 9/krzysztof class/Project6617/asebo/es.py:36: RuntimeWarning: invalid value encountered in matmul\n",
      "  UUT = np.matmul(U.T, U)\n",
      "/Users/stevenyin/Google Drive/columbia/semester 9/krzysztof class/Project6617/asebo/es.py:38: RuntimeWarning: invalid value encountered in matmul\n",
      "  UUT_ort = np.matmul(U_ort.T, U_ort)\n"
     ]
    },
    {
     "name": "stdout",
     "output_type": "stream",
     "text": [
      "Iteration: 149, Rollouts: 60038, Reward: 477.6728887642748, Alpha: 0.3476214522058415, Samples: 97\n"
     ]
    }
   ],
   "source": [
    "master = get_policy(params)\n",
    "\n",
    "params['learning_rate'] = 1\n",
    "ts, rewards, master = run_HessianES(params, gradient_estimator, invhessian_estimator, master)\n",
    "\n",
    "# params['learning_rate'] = 0.05\n",
    "# ts, rewards, master = run_asebo(params, master)"
   ]
  },
  {
   "cell_type": "code",
   "execution_count": null,
   "id": "c30eee94",
   "metadata": {
    "scrolled": true
   },
   "outputs": [
    {
     "name": "stdout",
     "output_type": "stream",
     "text": [
      "Policy Dimension:  116\n",
      "Iteration: 1, Leanring Rate: 5.000e-02, Rollouts: 464, Reward: -2.46, Update Direction Norm: 14.75\n",
      "Iteration: 2, Leanring Rate: 5.000e-02, Rollouts: 928, Reward: -1.86, Update Direction Norm: 1.96\n",
      "Iteration: 3, Leanring Rate: 5.000e-02, Rollouts: 1392, Reward: -1.52, Update Direction Norm: 1.31\n",
      "Iteration: 4, Leanring Rate: 5.000e-02, Rollouts: 1856, Reward: -1.28, Update Direction Norm: 0.98\n",
      "Iteration: 5, Leanring Rate: 5.000e-02, Rollouts: 2320, Reward: -1.01, Update Direction Norm: 1.18\n",
      "Iteration: 6, Leanring Rate: 5.000e-02, Rollouts: 2784, Reward: -0.98, Update Direction Norm: 1.23\n",
      "Iteration: 7, Leanring Rate: 5.000e-02, Rollouts: 3248, Reward: -1.03, Update Direction Norm: 1.20\n",
      "Iteration: 8, Leanring Rate: 5.000e-02, Rollouts: 3712, Reward: -1.17, Update Direction Norm: 1.18\n",
      "Iteration: 9, Leanring Rate: 5.000e-02, Rollouts: 4176, Reward: -1.18, Update Direction Norm: 0.96\n",
      "Iteration: 10, Leanring Rate: 5.000e-02, Rollouts: 4640, Reward: -1.25, Update Direction Norm: 0.60\n",
      "Iteration: 11, Leanring Rate: 5.000e-02, Rollouts: 5104, Reward: -1.43, Update Direction Norm: 2.04\n",
      "Iteration: 12, Leanring Rate: 5.000e-02, Rollouts: 5568, Reward: -1.39, Update Direction Norm: 1.24\n",
      "Iteration: 13, Leanring Rate: 5.000e-02, Rollouts: 6032, Reward: 5.22, Update Direction Norm: 1.12\n",
      "Iteration: 14, Leanring Rate: 5.000e-02, Rollouts: 6496, Reward: 426.21, Update Direction Norm: 3.97\n",
      "Iteration: 15, Leanring Rate: 5.000e-02, Rollouts: 6960, Reward: -374.03, Update Direction Norm: 19.15\n",
      "Iteration: 16, Leanring Rate: 5.000e-02, Rollouts: 7424, Reward: -37.47, Update Direction Norm: 9.81\n",
      "Iteration: 17, Leanring Rate: 5.000e-02, Rollouts: 7888, Reward: 377.64, Update Direction Norm: 10.78\n",
      "Iteration: 18, Leanring Rate: 5.000e-02, Rollouts: 8352, Reward: 191.88, Update Direction Norm: 14.42\n",
      "Iteration: 19, Leanring Rate: 5.000e-02, Rollouts: 8816, Reward: -266.96, Update Direction Norm: 13.70\n",
      "Iteration: 20, Leanring Rate: 5.000e-02, Rollouts: 9280, Reward: 318.21, Update Direction Norm: 9.66\n",
      "Iteration: 21, Leanring Rate: 5.000e-02, Rollouts: 9744, Reward: 76.56, Update Direction Norm: 15.29\n",
      "Iteration: 22, Leanring Rate: 5.000e-02, Rollouts: 10208, Reward: -499.64, Update Direction Norm: 9.96\n"
     ]
    }
   ],
   "source": [
    "params['seed'] = 1\n",
    "master = get_policy(params)\n",
    "\n",
    "# params['learning_rate'] = 1\n",
    "ts, rewards, master = run_HessianES(params, gradient_estimator, invhessian_estimator, master)\n",
    "\n",
    "# params['learning_rate'] = 0.05\n",
    "# ts, rewards, master = run_asebo(params, master)"
   ]
  },
  {
   "cell_type": "code",
   "execution_count": null,
   "id": "6811bb80",
   "metadata": {},
   "outputs": [],
   "source": [
    "params['max_iter'] = 200\n",
    "params['seed'] = 2\n",
    "\n",
    "\n",
    "# params['learning_rate'] = 1\n",
    "master = get_policy(params)\n",
    "ts, rewards, master = run_HessianES(params, gradient_estimator, invhessian_estimator, master)\n",
    "\n",
    "\n",
    "# params['learning_rate'] = 0.05\n",
    "master = get_policy(params)\n",
    "ts, rewards, master = run_asebo(params, master)"
   ]
  },
  {
   "cell_type": "code",
   "execution_count": null,
   "id": "f43fc83e",
   "metadata": {},
   "outputs": [],
   "source": [
    "params['seed'] = 3\n",
    "\n",
    "params['learning_rate'] = 1\n",
    "master = get_policy(params)\n",
    "ts, rewards, master = run_HessianES(params, gradient_estimator, invhessian_estimator, master)\n",
    "\n",
    "params['learning_rate'] = 0.05\n",
    "master = get_policy(params)\n",
    "ts, rewards, master = run_asebo(params, master)"
   ]
  },
  {
   "cell_type": "markdown",
   "id": "e6c13d4b",
   "metadata": {},
   "source": [
    "## Save and Plot"
   ]
  },
  {
   "cell_type": "code",
   "execution_count": null,
   "id": "4d51b71f",
   "metadata": {},
   "outputs": [],
   "source": [
    "# np.save(\"./data/{}/asebo_params.npy\".format(params['dir']), master.params)\n",
    "# np.save(\"./data/{}/asebo_ts.npy\".format(params['dir']), ts)\n",
    "# np.save(\"./data/{}/asebo_rs.npy\".format(params['dir']), rewards)\n"
   ]
  },
  {
   "cell_type": "code",
   "execution_count": 21,
   "id": "52ac9e4a",
   "metadata": {},
   "outputs": [],
   "source": [
    "title = \"Swimmer-v2\"\n",
    "asebo_df = pd.read_csv(\"./data/Swimmer-v2Linear_h16_lr0.05_num_sensings125_/Seed0.csv\")\n",
    "hessian_df = pd.read_csv(\"./data/Swimmer-v2Linear_h16_lr1_num_sensings125__hessianES/Seed0.csv\")\n",
    "# hessian_dfv2 = pd.read_csv(\"./data/Swimmer-v2Linear_h16_lr1_num_sensings32_v2_hessianES/Seed0.csv\")\n",
    "hessian_dfv2 = pd.read_csv(\"./data/Swimmer-v2Linear_h16_lr1_num_sensings32_sampleFromInvHFalse_hessianES/Seed2.csv\")\n",
    "hessian_dfv3 = pd.read_csv(\"./data/Swimmer-v2Linear_h16_lr1_num_sensings32_sampleFromInvHFalse_hessianES/Seed1.csv\")\n",
    "\n",
    "\n",
    "\n",
    "# title = \"InvertedPendulum-v2\"\n",
    "# asebo_df = pd.read_csv(\"./data/InvertedPendulum-v2Linear_h16_lr1_num_sensings25__asebo/Seed0.csv\")\n",
    "# hessian_df = pd.read_csv(\"./data/InvertedPendulum-v2Linear_h16_lr1_num_sensings25__hessianES/Seed0.csv\")\n",
    "# hessian_dfv2 = pd.read_csv(\"./data/InvertedPendulum-v2Linear_h16_lr1_num_sensings8_v2_hessianES/Seed0.csv\")\n",
    "# hessian_dfv3 = pd.read_csv(\"./data/InvertedPendulum-v2Linear_h16_lr1_num_sensings8_sampleFromInvHFalse_hessianES/Seed0.csv\")\n",
    "\n",
    "\n",
    "title = \"Hopper-v2\"\n",
    "# asebo_df = pd.read_csv(\"./data/Hopper-v2Linear_h16_lr0.05_num_sensings66__asebo/Seed0.csv\")\n",
    "asebo_df = pd.read_csv(\"./data/Hopper-v2Linear_h16_lr0.05_num_sensings66_sampleFromInvHFalse_asebo/Seed3.csv\")\n",
    "hessian_df = pd.read_csv(\"./data/Hopper-v2Linear_h16_lr1_num_sensings66__hessianES/Seed0.csv\")\n",
    "hessian_dfv2 = pd.read_csv(\"./data/Hopper-v2Linear_h16_lr1_num_sensings66_sampleFromInvHFalse_hessianES/Seed3.csv\")\n",
    "hessian_dfv3 = pd.read_csv(\"./data/Hopper-v2Linear_h16_lr1_num_sensings66_sampleFromInvHFalse_hessianES/Seed2.csv\")\n",
    "\n",
    "\n",
    "# title = \"Reacher-v2\"\n",
    "# asebo_df = pd.read_csv(\"./data/Reacher-v2Linear_h16_lr0.05_num_sensings44__asebo/Seed0.csv\")\n",
    "# hessian_df = pd.read_csv(\"./data/Reacher-v2Linear_h16_lr1_num_sensings44__hessianES/Seed0.csv\")\n",
    "# hessian_dfv2 = pd.read_csv(\"./data/Reacher-v2Linear_h16_lr1_num_sensings44_sampleFromInvHFalse_hessianES/Seed2.csv\")\n",
    "# hessian_dfv3 = None\n",
    "\n",
    "\n",
    "title = \"HalfCheetah-v2\"\n",
    "# asebo_df = pd.read_csv(\"./data/HalfCheetah-v2Linear_h16_lr0.05_num_sensings204__asebo/Seed0.csv\")\n",
    "asebo_df2 = pd.read_csv(\"./data/HalfCheetah-v2Toeplitz_h16_lr0.05_num_sensings232_sampleFromInvHFalse_asebo/Seed1.csv\")\n",
    "# hessian_df = pd.read_csv(\"./data/HalfCheetah-v2Linear_h16_lr1_num_sensings204__hessianES/Seed0.csv\")\n",
    "# hessian_dfv2 = pd.read_csv(\"./data/HalfCheetah-v2Linear_h16_lr1_num_sensings204_v2_hessianES/Seed0.csv\")\n",
    "hessian_dfv3 = pd.read_csv(\"./data/HalfCheetah-v2Toeplitz_h16_lr1_num_sensings232_sampleFromInvHFalse_hessianES/Seed1.csv\")\n",
    "\n",
    "\n",
    "\n",
    "\n",
    "# title = \"InvertedDoublePendulum-v2\"\n",
    "# asebo_df = pd.read_csv(\"./data/InvertedDoublePendulum-v2Linear_h16_lr0.05_num_sensings22__asebo/Seed0.csv\")\n",
    "# hessian_df = pd.read_csv(\"./data/InvertedDoublePendulum-v2Linear_h16_lr1_num_sensings22__hessianES/Seed0.csv\")\n"
   ]
  },
  {
   "cell_type": "code",
   "execution_count": 22,
   "id": "1fddf3bb",
   "metadata": {},
   "outputs": [
    {
     "data": {
      "image/png": "[encoded data removed]",
      "text/plain": [
       "<Figure size 432x288 with 1 Axes>"
      ]
     },
     "metadata": {
      "needs_background": "light"
     },
     "output_type": "display_data"
    }
   ],
   "source": [
    "# plt.plot(asebo_ts, asebo_rewards, label=\"ASEBO\")\n",
    "# plt.plot(lpgrad_ts, lpgrad_rewards, label=\"LP gradient\")\n",
    "\n",
    "# sns.lineplot(data=asebo_df, x=\"Timesteps\", y=\"Reward\", label=\"ASEBO\")\n",
    "sns.lineplot(data=asebo_df2, x=\"Timesteps\", y=\"Reward\", label=\"ASEBO2\")\n",
    "# sns.lineplot(data=hessian_df, x=\"Timesteps\", y=\"Reward\", label=\"Hessian\")\n",
    "# sns.lineplot(data=hessian_dfv2, x=\"Timesteps\", y=\"Reward\", label=\"Hessianv2\")\n",
    "sns.lineplot(data=hessian_dfv3, x=\"Timesteps\", y=\"Reward\", label=\"Hessianv3\")\n",
    "\n",
    "plt.grid()\n",
    "plt.title(title)\n",
    "# plt.xlim(0, 1e7)\n",
    "plt.savefig(\"./plots/%s.png\" % title)\n"
   ]
  },
  {
   "cell_type": "markdown",
   "id": "345e7a36",
   "metadata": {},
   "source": [
    "# Testing"
   ]
  },
  {
   "cell_type": "code",
   "execution_count": 8,
   "id": "5d50cdec",
   "metadata": {},
   "outputs": [],
   "source": [
    "master = get_policy(params)\n",
    "master.params=np.load(\"./data/Hopper-v2Linear_h16_lr0.05_num_sensings66_sampleFromInvHFalse_asebo/asebo_params.npy\")\n",
    "test_policy = worker(params, master, np.zeros([1, master.N]), 0)\n"
   ]
  },
  {
   "cell_type": "code",
   "execution_count": 9,
   "id": "ea5c991e",
   "metadata": {},
   "outputs": [],
   "source": [
    "from gym.wrappers import Monitor\n",
    "env = Monitor(gym.make(params['env_name']), './video', force=True)\n",
    "env._max_episode_steps = params['steps']"
   ]
  },
  {
   "cell_type": "code",
   "execution_count": 10,
   "id": "15e95524",
   "metadata": {},
   "outputs": [],
   "source": [
    "def play(env, worker):\n",
    "    state = env.reset()\n",
    "    while 1:\n",
    "        action = worker.policy.evaluate(state)\n",
    "        action = np.clip(action, worker.env.action_space.low[0], worker.env.action_space.high[0])\n",
    "        action = action.reshape(len(action), )\n",
    "        state, reward, done, info = env.step(action)\n",
    "        env.render()\n",
    "        if done: \n",
    "            break"
   ]
  },
  {
   "cell_type": "code",
   "execution_count": 11,
   "id": "f6e69ff4",
   "metadata": {},
   "outputs": [
    {
     "name": "stdout",
     "output_type": "stream",
     "text": [
      "Creating offscreen glfw\n",
      "Creating window glfw\n"
     ]
    }
   ],
   "source": [
    "play(env, test_policy)"
   ]
  },
  {
   "cell_type": "code",
   "execution_count": null,
   "id": "e4c5db78",
   "metadata": {},
   "outputs": [],
   "source": []
  }
 ],
 "metadata": {
  "kernelspec": {
   "display_name": "Python 3",
   "language": "python",
   "name": "python3"
  },
  "language_info": {
   "codemirror_mode": {
    "name": "ipython",
    "version": 3
   },
   "file_extension": ".py",
   "mimetype": "text/x-python",
   "name": "python",
   "nbconvert_exporter": "python",
   "pygments_lexer": "ipython3",
   "version": "3.6.13"
  }
 },
 "nbformat": 4,
 "nbformat_minor": 5
}
