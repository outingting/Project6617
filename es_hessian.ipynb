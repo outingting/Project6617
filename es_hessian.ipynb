{
 "cells": [
  {
   "cell_type": "code",
   "execution_count": 28,
   "id": "7a452994",
   "metadata": {},
   "outputs": [],
   "source": [
    "import numpy as np\n",
    "from scipy.stats import multivariate_normal"
   ]
  },
  {
   "cell_type": "code",
   "execution_count": 29,
   "id": "5787aa6b",
   "metadata": {},
   "outputs": [],
   "source": [
    "def F(theta):\n",
    "    if theta.ndim == 1:\n",
    "        theta = np.expand_dims(theta, 0)\n",
    "    return -np.sum((theta - 0.5) ** 2, axis=tuple(range(theta.ndim)[1:]))"
   ]
  },
  {
   "cell_type": "markdown",
   "id": "37b0218d",
   "metadata": {},
   "source": [
    "Updated Hessian Method"
   ]
  },
  {
   "cell_type": "code",
   "execution_count": 180,
   "id": "9b4e20f3",
   "metadata": {},
   "outputs": [],
   "source": [
    "# Testing purpose\n",
    "# H_list = []\n",
    "# theta_list = []"
   ]
  },
  {
   "cell_type": "code",
   "execution_count": 193,
   "id": "608644ad",
   "metadata": {},
   "outputs": [],
   "source": [
    "def ES_hessian(alpha, sigma, theta_0, num_samples, time_steps, p, H_lambda):\n",
    "    d = theta_0.shape[0]\n",
    "    theta_t = theta_0\n",
    "    n = num_samples\n",
    "    H = None\n",
    "    for t in range(time_steps):\n",
    "        #**** sample epsilons ****#\n",
    "        epsilons = np.random.multivariate_normal(mean = np.zeros(d), cov = np.identity(d), size = n) # n by d\n",
    "        #**** compute Hessian every p steps ****#\n",
    "        if t % p == 0:\n",
    "            Fs = F(theta_t + sigma*epsilons)\n",
    "            eps = np.expand_dims(epsilons, -1)\n",
    "            H_samples = ((eps*np.transpose(eps, (0, 2, 1)) - np.identity(d))* Fs.reshape(-1, 1, 1))/(sigma**2)\n",
    "            H = H_samples.mean(axis=0)\n",
    "            u, s, vh = np.linalg.svd(H)\n",
    "            H_nh = u @ np.diag(s**-0.5) @ vh\n",
    "            H_nh_3d = np.ones((n, d, d)) * H_nh\n",
    "            # H_list.append(H) # testing code\n",
    "            \n",
    "        #**** update theta: compute g ****#\n",
    "        Fs = F(theta_t +  sigma* np.transpose((H_nh @ np.transpose(epsilons) )) ) - F(theta_t)\n",
    "        eps = np.expand_dims(epsilons, -1)\n",
    "        g_samples =  H_nh_3d @ eps * Fs.reshape(-1, 1, 1)/sigma\n",
    "        g = g_samples.mean(axis=0).ravel()\n",
    "        \n",
    "        #**** update theta: the rest ****#\n",
    "        new_theta = theta_t + alpha * g\n",
    "        theta_t = new_theta\n",
    "        # theta_list.append(new_theta) # testing code\n",
    "        \n",
    "    return theta_t, F(theta_t), H"
   ]
  },
  {
   "cell_type": "code",
   "execution_count": 194,
   "id": "40def676",
   "metadata": {},
   "outputs": [
    {
     "name": "stdout",
     "output_type": "stream",
     "text": [
      "(array([0.50034145, 0.50011163]), array([-1.29048908e-07]), array([[-2.02076998, -0.0310713 ],\n",
      "       [-0.0310713 , -1.87631982]]))\n"
     ]
    }
   ],
   "source": [
    "res = ES_hessian(alpha=0.5, sigma=0.05, theta_0=np.array([1.0,1.0]), num_samples = 10000, time_steps = 1000, p = 1, H_lambda = 0)\n",
    "print(res)"
   ]
  },
  {
   "cell_type": "code",
   "execution_count": null,
   "id": "deb06bdc",
   "metadata": {},
   "outputs": [],
   "source": []
  }
 ],
 "metadata": {
  "kernelspec": {
   "display_name": "Python 3",
   "language": "python",
   "name": "python3"
  },
  "language_info": {
   "codemirror_mode": {
    "name": "ipython",
    "version": 3
   },
   "file_extension": ".py",
   "mimetype": "text/x-python",
   "name": "python",
   "nbconvert_exporter": "python",
   "pygments_lexer": "ipython3",
   "version": "3.8.8"
  }
 },
 "nbformat": 4,
 "nbformat_minor": 5
}
