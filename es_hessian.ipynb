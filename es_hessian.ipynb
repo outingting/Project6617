{
 "cells": [
  {
   "cell_type": "code",
   "execution_count": 28,
   "id": "12a3b6c8",
   "metadata": {},
   "outputs": [],
   "source": [
    "import numpy as np\n",
    "from scipy.stats import multivariate_normal"
   ]
  },
  {
   "cell_type": "code",
   "execution_count": 29,
   "id": "892231f8",
   "metadata": {},
   "outputs": [],
   "source": [
    "def F(theta):\n",
    "    if theta.ndim == 1:\n",
    "        theta = np.expand_dims(theta, 0)\n",
    "    return -np.sum((theta - 0.5) ** 2, axis=tuple(range(theta.ndim)[1:]))"
   ]
  },
  {
   "cell_type": "markdown",
   "id": "91995eed",
   "metadata": {},
   "source": [
    "Updated Hessian Method"
   ]
  },
  {
   "cell_type": "code",
   "execution_count": 215,
   "id": "a66c79da",
   "metadata": {},
   "outputs": [],
   "source": [
    "def ES_hessian(alpha, sigma, theta_0, num_samples, time_steps, p, H_lambda):    \n",
    "    d = theta_0.shape[0]\n",
    "    theta_t = theta_0\n",
    "    n = num_samples\n",
    "    H = None\n",
    "    for t in range(time_steps):\n",
    "        \n",
    "        #**** sample epsilons ****#\n",
    "        epsilons = np.random.multivariate_normal(mean = np.zeros(d), cov = np.identity(d), size = n) # n by d\n",
    "        \n",
    "        #**** compute Hessian every p steps ****#\n",
    "        if t % p == 0:\n",
    "            Fs = F(theta_t + sigma*epsilons)\n",
    "            eps = np.expand_dims(epsilons, -1)\n",
    "            H_samples = ((eps*np.transpose(eps, (0, 2, 1)) - np.identity(d))* Fs.reshape(-1, 1, 1))/(sigma**2)\n",
    "            H = H_samples.mean(axis=0)\n",
    "            u, s, vh = np.linalg.svd(H)\n",
    "            H_nh = u @ np.diag(s**-0.5) @ vh\n",
    "            H_nh_3d = np.ones((n, d, d)) * H_nh\n",
    "            \n",
    "        #**** update theta: compute g ****#\n",
    "        Fs = F(theta_t +  sigma* np.transpose((H_nh @ np.transpose(epsilons) )) ) - F(theta_t)\n",
    "        eps = np.expand_dims(epsilons, -1)\n",
    "        g_samples =  H_nh_3d @ eps * Fs.reshape(-1, 1, 1)/sigma\n",
    "        g = g_samples.mean(axis=0).ravel()\n",
    "        \n",
    "        #**** update theta: the rest ****#\n",
    "        new_theta = theta_t + alpha * g\n",
    "        theta_t = new_theta\n",
    "        \n",
    "    return theta_t, F(theta_t), H, H_list, theta_list"
   ]
  },
  {
   "cell_type": "code",
   "execution_count": 217,
   "id": "52a61e0d",
   "metadata": {},
   "outputs": [
    {
     "name": "stdout",
     "output_type": "stream",
     "text": [
      "(array([0.49980702, 0.50085208]), array([-7.63284331e-07]), array([[-1.85550164,  0.0419068 ],\n",
      "       [ 0.0419068 , -1.97983839]]))\n"
     ]
    }
   ],
   "source": [
    "res = ES_hessian(alpha=0.5, sigma=0.05, theta_0=np.array([1.0,1.0]), num_samples = 10000, time_steps = 1000, p = 1, H_lambda = 0)\n",
    "print(res[:3])"
   ]
  },
  {
   "cell_type": "code",
   "execution_count": null,
   "id": "80f43b80",
   "metadata": {},
   "outputs": [],
   "source": []
  }
 ],
 "metadata": {
  "kernelspec": {
   "display_name": "Python 3",
   "language": "python",
   "name": "python3"
  }
 },
 "nbformat": 4,
 "nbformat_minor": 5
}
