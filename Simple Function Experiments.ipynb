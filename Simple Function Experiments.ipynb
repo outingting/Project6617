{
 "cells": [
  {
   "cell_type": "code",
   "execution_count": 3,
   "id": "799e32d0",
   "metadata": {},
   "outputs": [],
   "source": [
    "import numpy as np\n",
    "import pandas as pd\n",
    "import cvxpy as cp\n",
    "import gym\n",
    "import matplotlib.pyplot as plt\n",
    "from numpy.linalg import LinAlgError\n",
    "\n",
    "\n",
    "import sys\n",
    "sys.path.append('./asebo/')\n",
    "from optimizers import Adam\n",
    "from worker import worker, get_policy\n",
    "from es import ES"
   ]
  },
  {
   "cell_type": "code",
   "execution_count": 22,
   "id": "31cd0070",
   "metadata": {},
   "outputs": [],
   "source": [
    "def F(theta):\n",
    "    if theta.ndim == 1:\n",
    "        theta = np.expand_dims(theta, 0)\n",
    "    return -np.sum((theta - 0.5) ** 2 , axis=tuple(range(theta.ndim)[1:]))\\\n",
    "           -np.sum(theta[:, 1:]*theta[:, :-1], axis=tuple(range(theta.ndim)[1:]))\n",
    "\n",
    "\n",
    "def Gradient_LP(y, epsilons):\n",
    "    \"\"\"\n",
    "    y = (F(theta + sigma*epsilons) - F(theta)) / sigma\n",
    "    epsilons: the perturbations with UNIT VARIANCE\n",
    "    \"\"\"\n",
    "    n, d = epsilons.shape\n",
    "    \n",
    "    var_z = cp.Variable(n)\n",
    "    var_g = cp.Variable(d)\n",
    "    obj = sum(var_z)\n",
    "    constraints = [var_z >= y - epsilons @ var_g,\n",
    "                   var_z >= -y + epsilons @ var_g]\n",
    "    prob = cp.Problem(cp.Minimize(obj), constraints)\n",
    "    prob.solve(solver=cp.GLPK, eps=1e-6, glpk={'msg_lev': 'GLP_MSG_OFF'})\n",
    "    if prob.status == 'optimal':\n",
    "        return var_g.value\n",
    "    return None\n",
    "\n",
    "\n",
    "def Hessian_LP(y, epsilons):\n",
    "    \"\"\"\n",
    "    y = (F(theta + sigma*epsilons) + F(theta - sigma*epsilons) - 2*F(theta)) / (sigma**2)\n",
    "    epsilons: the perturbations with UNIT VARIANCE\n",
    "    \"\"\"\n",
    "    n, d = epsilons.shape\n",
    "    \n",
    "    \n",
    "    X = np.zeros((n, d*(d+1)//2))\n",
    "    idx = 0\n",
    "    for j in range(d):\n",
    "        X[:,idx] = epsilons[:,j]**2\n",
    "        idx += 1\n",
    "        if j == d-1:\n",
    "            break\n",
    "        X[:,idx:idx+d-j-1] = 2 * epsilons[:,j:j+1] * epsilons[:,j+1:]\n",
    "        idx += d-j-1\n",
    "#         X[:,j*(j+1)//2:(j+1)*(j+2)//2-1] = 2 * epsilons[:,j:j+1] * epsilons[:,:j]\n",
    "#         X[:,(j+1)*(j+2)//2-1] = epsilons[:,j]**2\n",
    "    \n",
    "    var_z = cp.Variable(n)\n",
    "    var_H = cp.Variable(d*(d+1)//2)\n",
    "    \n",
    "    obj = sum(var_z)\n",
    "    \n",
    "    constraints = []\n",
    "    for i in range(n):\n",
    "        constraints += [var_z[i] >= y[i] - X[i] @ var_H]\n",
    "        constraints += [var_z[i] >= - y[i] + X[i] @ var_H]\n",
    "    \n",
    "    prob = cp.Problem(cp.Minimize(obj), constraints)\n",
    "    prob.solve(solver=cp.GLPK, eps=1e-6, glpk={'msg_lev': 'GLP_MSG_OFF'})\n",
    "\n",
    "    if prob.status == 'optimal':\n",
    "        H = np.zeros((d,d))\n",
    "        idx = 0\n",
    "        for j in range(d):\n",
    "            H[j,j:] = var_H[idx:idx+d-j].value\n",
    "            H[j:,j] = var_H[idx:idx+d-j].value\n",
    "            idx += d-j\n",
    "#             H[j,0:j+1] = var_H[j*(j+1)//2:(j+1)*(j+2)//2].value\n",
    "#             H[1:j+1,j] = H[j,1:j+1]\n",
    "        return H\n",
    "    return None"
   ]
  },
  {
   "cell_type": "markdown",
   "id": "66869a0c",
   "metadata": {},
   "source": [
    "## Manuel Tests"
   ]
  },
  {
   "cell_type": "markdown",
   "id": "3e641a2d",
   "metadata": {},
   "source": [
    "# Testing"
   ]
  },
  {
   "cell_type": "code",
   "execution_count": 33,
   "id": "70377e7c",
   "metadata": {},
   "outputs": [
    {
     "name": "stdout",
     "output_type": "stream",
     "text": [
      "theta:\n",
      "[ 4.8058753   1.32000452 -4.05692195  0.09458213  0.01032006]\n",
      "gradient:\n",
      "[-9.8934653  -2.31129183  7.7322296   4.98261804  0.92235917]\n",
      "Hessian:\n",
      "[[-2.00000000e+00 -1.00000000e+00  2.23416014e-13 -4.29916749e-13\n",
      "   3.84345008e-13]\n",
      " [-1.00000000e+00 -2.00000000e+00 -1.00000000e+00  1.31117394e-13\n",
      "   8.86488843e-14]\n",
      " [ 2.23416014e-13 -1.00000000e+00 -2.00000000e+00 -1.00000000e+00\n",
      "   1.90527724e-13]\n",
      " [-4.29916749e-13  1.31117394e-13 -1.00000000e+00 -2.00000000e+00\n",
      "  -1.00000000e+00]\n",
      " [ 3.84345008e-13  8.86488843e-14  1.90527724e-13 -1.00000000e+00\n",
      "  -2.00000000e+00]]\n"
     ]
    }
   ],
   "source": [
    "sigma = 0.05\n",
    "# np.random.seed(0)\n",
    "theta = np.random.uniform(-5,5,5)\n",
    "# theta = 0.0 * np.ones(5)\n",
    "n = 100\n",
    "d = len(theta)\n",
    "\n",
    "print('theta:')\n",
    "print(theta)\n",
    "epsilons = np.random.multivariate_normal(mean = np.zeros(d), cov = np.identity(d), size = n)\n",
    "\n",
    "gradient_y = (F(theta + sigma*epsilons) - F(theta)) / sigma\n",
    "hessian_y =(F(theta + sigma*epsilons) + F(theta - sigma*epsilons) - 2*F(theta)) / (sigma**2)\n",
    "g = Gradient_LP(gradient_y, epsilons)\n",
    "print('gradient:')\n",
    "print(g)\n",
    "\n",
    "H = Hessian_LP(hessian_y, epsilons)\n",
    "print('Hessian:')\n",
    "print(H)"
   ]
  },
  {
   "cell_type": "code",
   "execution_count": 25,
   "id": "0f8eda6d",
   "metadata": {},
   "outputs": [],
   "source": [
    "\n",
    "def get_dct_mtx(d):\n",
    "    # DCT matrix\n",
    "    # unitary, symmetric and real\n",
    "    # Orthonormal eigenbasis for structured H\n",
    "    n = 2*d\n",
    "    i_idx = np.array([range(n//2 )])\n",
    "    idx = 2 * np.transpose(i_idx) @ i_idx\n",
    "    dct_mtx = np.cos(idx*np.pi / n) * 2 / np.sqrt(d)\n",
    "    dct_mtx[0,0] = 1\n",
    "    dct_mtx[0,d-1] = 1\n",
    "    dct_mtx[d-1,0] = 1\n",
    "    dct_mtx[d-1,d-1] = (-1)**(d)\n",
    "    return dct_mtx\n",
    "def Hessian_LP_structured(sigma, theta, num_samples):\n",
    "    # LP formulation to estimate Hessian\n",
    "    # Minimizing over the space of matrices of the form\n",
    "    # shown in the example 7 & 8 in the reference\n",
    "    # [MATRICES DIAGONALIZED BY THE DISCRETECOSINE AND DISCRETE SINE TRANSFORMS]\n",
    "    \n",
    "    d = len(theta)\n",
    "    n = num_samples\n",
    "    \n",
    "    epsilons = np.random.multivariate_normal(mean = np.zeros(d), cov = np.identity(d), size = n)\n",
    "    \n",
    "    # Define and solve the LP for Hessian here\n",
    "    y = (F(theta + sigma * epsilons) + F(theta - sigma * epsilons) - 2 * F(theta)) / (sigma ** 2)\n",
    "    \n",
    "    var_z = cp.Variable(n)\n",
    "    var_H_diag = cp.Variable(d)\n",
    "    \n",
    "    # Lower triangular mtx H\n",
    "    dct_mtx = get_dct_mtx(d)\n",
    "    obj = sum(var_z)\n",
    "    \n",
    "    constraints = []\n",
    "    for i in range(n):\n",
    "        Uv = epsilons[i:i+1,:] @ dct_mtx\n",
    "        Uv_sq = Uv * Uv\n",
    "        constraints += [var_z[i] >= y[i] - Uv_sq @ var_H_diag]\n",
    "        constraints += [var_z[i] >= - y[i] + Uv_sq @ var_H_diag]\n",
    "    for i in range(d):\n",
    "        constraints += [var_H_diag[i] <= 0]\n",
    "        \n",
    "    prob = cp.Problem(cp.Minimize(obj), constraints)\n",
    "    prob.solve(solver=cp.GLPK, eps=1e-6, glpk={'msg_lev': 'GLP_MSG_OFF'})\n",
    "    \n",
    "    # \n",
    "    if prob.status == 'optimal':\n",
    "        return dct_mtx @ np.diag(var_H_diag.value) @ np.transpose(dct_mtx)\n",
    "    \n",
    "    return None"
   ]
  },
  {
   "cell_type": "code",
   "execution_count": 30,
   "id": "ec4181cf",
   "metadata": {},
   "outputs": [
    {
     "data": {
      "text/plain": [
       "array([[-3.39250461, -1.41592579, -0.0216422 , -0.26101228, -0.17156035],\n",
       "       [-1.41592579, -1.55673325, -0.76789389, -0.01985786, -0.31046238],\n",
       "       [-0.0216422 , -0.76789389, -1.63957978, -0.77185871, -0.07637728],\n",
       "       [-0.26101228, -0.01985786, -0.77185871, -1.63957978, -0.82441331],\n",
       "       [-0.17156035, -0.31046238, -0.07637728, -0.82441331, -1.84637941]])"
      ]
     },
     "execution_count": 30,
     "metadata": {},
     "output_type": "execute_result"
    }
   ],
   "source": [
    "sigma = 0.05\n",
    "theta = np.random.uniform(-5,5,5)\n",
    "Hessian_LP_structured(sigma, theta, 1000)"
   ]
  },
  {
   "cell_type": "code",
   "execution_count": null,
   "id": "d4ba1188",
   "metadata": {},
   "outputs": [],
   "source": []
  }
 ],
 "metadata": {
  "kernelspec": {
   "display_name": "Python 3",
   "language": "python",
   "name": "python3"
  },
  "language_info": {
   "codemirror_mode": {
    "name": "ipython",
    "version": 3
   },
   "file_extension": ".py",
   "mimetype": "text/x-python",
   "name": "python",
   "nbconvert_exporter": "python",
   "pygments_lexer": "ipython3",
   "version": "3.6.13"
  }
 },
 "nbformat": 4,
 "nbformat_minor": 5
}
