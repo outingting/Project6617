{
 "cells": [
  {
   "cell_type": "code",
   "execution_count": 27,
   "id": "49986d52",
   "metadata": {},
   "outputs": [],
   "source": [
    "import numpy as np\n",
    "import nevergrad as ng\n",
    "from scipy.stats import multivariate_normal"
   ]
  },
  {
   "cell_type": "markdown",
   "id": "60a78434",
   "metadata": {},
   "source": [
    "# Functions to be tested"
   ]
  },
  {
   "cell_type": "markdown",
   "id": "f35ab6b2",
   "metadata": {},
   "source": [
    "For now, use a very simple function - quadratic with max value 0, and x* = [0.5, 0.5] \n",
    "\n",
    "Also note that we will maximize the function, not minimize."
   ]
  },
  {
   "cell_type": "code",
   "execution_count": 28,
   "id": "cd55958c",
   "metadata": {},
   "outputs": [],
   "source": [
    "def F(theta):\n",
    "    return -sum((theta - 0.5) ** 2)"
   ]
  },
  {
   "cell_type": "code",
   "execution_count": 29,
   "id": "89b65c3e",
   "metadata": {},
   "outputs": [],
   "source": [
    "def ES_benchmark_gradient(alpha, sigma, theta_0, num_samples, time_steps):\n",
    "    theta_t = theta_0\n",
    "    d = theta_0.shape[0]\n",
    "    n = num_samples\n",
    "    for t in range(time_steps):\n",
    "        #**** sample epsilons ****#\n",
    "        eps_list = [] \n",
    "        for i in range(n):\n",
    "            eps = np.random.multivariate_normal(mean = np.zeros(d), cov = np.identity(d))\n",
    "            eps_list.append(eps)\n",
    "        #**** compute function values ****#\n",
    "        F_list = []\n",
    "        for i in range(n):\n",
    "            F_val = F(theta_t + sigma*eps_list[i])\n",
    "            F_list.append(F_val)\n",
    "        #**** update theta ****#\n",
    "        new_theta = theta_t\n",
    "        for i in range(n):\n",
    "            new_theta += alpha / (n*sigma) * F_list[i] * eps_list[i]\n",
    "        theta_t = new_theta\n",
    "    return theta_t, F(theta_t)"
   ]
  },
  {
   "cell_type": "code",
   "execution_count": 30,
   "id": "017b75a8",
   "metadata": {},
   "outputs": [
    {
     "data": {
      "text/plain": [
       "(array([0.49988271, 0.50019313]), -5.1055882571687483e-08)"
      ]
     },
     "execution_count": 30,
     "metadata": {},
     "output_type": "execute_result"
    }
   ],
   "source": [
    "ES_benchmark_gradient(alpha=0.001, sigma=0.01, theta_0 = np.array([1.0,1.0]), num_samples = 10, time_steps = 1000)"
   ]
  },
  {
   "cell_type": "code",
   "execution_count": 106,
   "id": "654d6f0b",
   "metadata": {},
   "outputs": [],
   "source": [
    "def ES_hessian(alpha, sigma, theta_0, mu, num_samples, time_steps, p):\n",
    "    theta_t = theta_0\n",
    "    d = theta_0.shape[0]\n",
    "    n = num_samples\n",
    "    H = None\n",
    "    for t in range(time_steps):\n",
    "        #**** sample epsilons ****#\n",
    "        eps_list = [] \n",
    "        for i in range(n):\n",
    "            eps = np.random.multivariate_normal(mean = np.zeros(d), cov = np.identity(d))\n",
    "            eps_list.append(eps)\n",
    "        #**** compute function values ****#\n",
    "        F_list = []\n",
    "        for i in range(n):\n",
    "            F_val = F(theta_t + sigma*eps_list[i])\n",
    "            F_list.append(F_val)\n",
    "        #**** compute Hessian ****#\n",
    "        if t % p == 0:\n",
    "            H = np.zeros((d,d))\n",
    "            for i in range(n):\n",
    "                e_i = eps_list[i].reshape((d,1))\n",
    "                e_i_trans = eps_list[i].reshape((1,d))\n",
    "                H += F_list[i] * (np.matmul(e_i, e_i_trans) - np.identity(d) ) / n\n",
    "            H /= sigma**2\n",
    "        #**** update theta: compute g ****#\n",
    "        u, s, vh = np.linalg.svd(H)\n",
    "        H_nh = u @ np.diag(s**-0.5)\n",
    "        g = 0\n",
    "        for i in range(n):\n",
    "            e_i = eps_list[i].reshape((d,1)) \n",
    "            F_new = F(theta_t +  mu * (H_nh @ e_i)  )\n",
    "            g += ((F_new - F(theta_t)) / mu ) @ (H_nh @ e_i) / n\n",
    "        #**** update theta: the rest ****#\n",
    "        new_theta = theta_t + alpha * g\n",
    "        theta_t = new_theta\n",
    "        \n",
    "    return theta_t, F(theta_t), H"
   ]
  },
  {
   "cell_type": "code",
   "execution_count": 109,
   "id": "5a33e827",
   "metadata": {},
   "outputs": [
    {
     "data": {
      "text/plain": [
       "(array([0.50649885, 0.50649885]),\n",
       " -8.44700091230673e-05,\n",
       " array([[-1.26667442,  1.54922622],\n",
       "        [ 1.54922622, -4.3679784 ]]))"
      ]
     },
     "execution_count": 109,
     "metadata": {},
     "output_type": "execute_result"
    }
   ],
   "source": [
    "ES_hessian(alpha=0.005, sigma=0.01, theta_0 = np.array([1.0,1.0]), mu = .5, num_samples = 50, time_steps = 6000, p = 10)"
   ]
  },
  {
   "cell_type": "code",
   "execution_count": null,
   "id": "1079538a",
   "metadata": {},
   "outputs": [],
   "source": []
  },
  {
   "cell_type": "code",
   "execution_count": null,
   "id": "4796af6f",
   "metadata": {},
   "outputs": [],
   "source": []
  }
 ],
 "metadata": {
  "kernelspec": {
   "display_name": "Python 3",
   "language": "python",
   "name": "python3"
  },
  "language_info": {
   "codemirror_mode": {
    "name": "ipython",
    "version": 3
   },
   "file_extension": ".py",
   "mimetype": "text/x-python",
   "name": "python",
   "nbconvert_exporter": "python",
   "pygments_lexer": "ipython3",
   "version": "3.8.8"
  }
 },
 "nbformat": 4,
 "nbformat_minor": 5
}
