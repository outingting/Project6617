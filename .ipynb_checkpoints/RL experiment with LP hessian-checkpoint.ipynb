{
 "cells": [
  {
   "cell_type": "code",
   "execution_count": 1,
   "id": "d88b792d",
   "metadata": {},
   "outputs": [],
   "source": [
    "%load_ext autoreload\n",
    "%autoreload 2"
   ]
  },
  {
   "cell_type": "code",
   "execution_count": 54,
   "id": "22c7abca",
   "metadata": {},
   "outputs": [],
   "source": [
    "import numpy as np\n",
    "import pandas as pd\n",
    "import cvxpy as cp\n",
    "import gym\n",
    "import matplotlib.pyplot as plt\n",
    "from numpy.linalg import LinAlgError\n",
    "import gurobipy\n",
    "\n",
    "import sys\n",
    "sys.path.append('./asebo/')\n",
    "sys.path.append('./rl/')\n",
    "from optimizers import Adam\n",
    "from worker import worker, get_policy\n",
    "from es import ES\n",
    "\n",
    "from methods import Gradient_LP, Hessian_LP, Hessian_LP_structured, \\\n",
    "                    get_PTinverse, run_HessianES, aggregate_rollouts_hessianES,\\\n",
    "                    run_asebo"
   ]
  },
  {
   "cell_type": "markdown",
   "id": "7bcda724",
   "metadata": {},
   "source": [
    "## Training"
   ]
  },
  {
   "cell_type": "code",
   "execution_count": 42,
   "id": "246b7851",
   "metadata": {},
   "outputs": [],
   "source": [
    "########### Setting up params ##########\n",
    "params = {\n",
    "# 'env_name': 'Swimmer-v2',\n",
    "'env_name': 'HalfCheetah-v2',\n",
    "# 'env_name': 'InvertedPendulum-v2',\n",
    "# 'env_name': 'Reacher-v2',\n",
    "# 'env_name': 'Hopper-v2',\n",
    "'steps':1000,\n",
    "'h_dim':16,\n",
    "'start':0,\n",
    "'max_iter':200,\n",
    "'seed':0,\n",
    "'k':140, # ASEBO only?\n",
    "'num_sensings':125,\n",
    "'log':0,\n",
    "'threshold':0.995,\n",
    "'decay':0.99,\n",
    "'learning_rate':1,#0.05\n",
    "'filename':'',\n",
    "'policy':'Linear', # Linear or Toeplitz\n",
    "'shift':0,\n",
    "'min':10,\n",
    "'sigma':1e-4,\n",
    "'backtracking':True,\n",
    "'alpha': 1e-6,\n",
    "'beta': 0.5\n",
    "}\n",
    "\n",
    "gradient_estimator = gradient_LP_antithetic_estimator\n",
    "invhessian_estimator = invHessian_LP_structured_PTinv_estimator"
   ]
  },
  {
   "cell_type": "code",
   "execution_count": 43,
   "id": "1150e9fb",
   "metadata": {},
   "outputs": [],
   "source": [
    "########### Auto Param Setups ##########\n",
    "params['dir'] = params['env_name'] + params['policy'] + '_h' + str(params['h_dim']) + '_lr' + str(params['learning_rate']) + '_num_sensings' + str(params['num_sensings']) +'_' + params['filename']\n",
    "env = gym.make(params['env_name'])\n",
    "params['ob_dim'] = env.observation_space.shape[0]\n",
    "params['ac_dim'] = env.action_space.shape[0]\n",
    "params['k'] += -1\n",
    "# params['alpha'] = 1 # ASEBO only\n",
    "params['zeros'] = False\n",
    "if params['log']:\n",
    "    params['num_sensings'] = 4 + int(3 * np.log(master.N))"
   ]
  },
  {
   "cell_type": "markdown",
   "id": "2b973ba0",
   "metadata": {},
   "source": [
    "## Manuel Test"
   ]
  },
  {
   "cell_type": "code",
   "execution_count": 44,
   "id": "4ffe712d",
   "metadata": {},
   "outputs": [],
   "source": [
    "m = 0\n",
    "v = 0\n",
    "master = get_policy(params)\n",
    "\n",
    "n_samples = params['num_sensings']    \n",
    "np.random.seed(None)\n",
    "cov = np.identity(master.N)*(params[\"sigma\"]**2)\n",
    "mu = np.repeat(0, master.N)\n",
    "A = np.random.multivariate_normal(mu, cov, n_samples)\n",
    "A = np.vstack([A, mu]) # Adding a reference evaluation\n",
    "\n",
    "all_rollouts, timesteps = aggregate_rollouts_hessianES(master, A, params)"
   ]
  },
  {
   "cell_type": "code",
   "execution_count": 45,
   "id": "eaf4ce83",
   "metadata": {},
   "outputs": [
    {
     "name": "stdout",
     "output_type": "stream",
     "text": [
      "CPU times: user 223 ms, sys: 13.3 ms, total: 236 ms\n",
      "Wall time: 248 ms\n"
     ]
    }
   ],
   "source": [
    "%%time\n",
    "g = gradient_estimator(all_rollouts, A, params[\"sigma\"])"
   ]
  },
  {
   "cell_type": "code",
   "execution_count": 46,
   "id": "54d8381d",
   "metadata": {
    "scrolled": true
   },
   "outputs": [
    {
     "name": "stdout",
     "output_type": "stream",
     "text": [
      "CPU times: user 200 ms, sys: 6.05 ms, total: 206 ms\n",
      "Wall time: 36.2 ms\n"
     ]
    }
   ],
   "source": [
    "%%time\n",
    "invH = invhessian_estimator(all_rollouts, A, params[\"sigma\"])"
   ]
  },
  {
   "cell_type": "code",
   "execution_count": 47,
   "id": "2a3b3eda",
   "metadata": {
    "collapsed": true
   },
   "outputs": [
    {
     "data": {
      "text/plain": [
       "[-1.9803921568627936,\n",
       " -1.9803921568627896,\n",
       " -1.9803921568627811,\n",
       " -1.9803921568627778,\n",
       " -1.9803921568627767,\n",
       " -1.9803921568627754,\n",
       " -1.980392156862773,\n",
       " -1.980392156862771,\n",
       " -1.9803921568627694,\n",
       " -1.980392156862768,\n",
       " -1.9803921568627676,\n",
       " -1.980392156862766,\n",
       " -1.9803921568627656,\n",
       " -1.9803921568627636,\n",
       " -1.9803921568627616,\n",
       " -1.9803921568627612,\n",
       " -1.9803921568627605,\n",
       " -1.9803921568627598,\n",
       " -1.980392156862758,\n",
       " -1.980392156862758,\n",
       " -1.9803921568627572,\n",
       " -1.980392156862756,\n",
       " -1.9803921568627536,\n",
       " -1.9803921568627534,\n",
       " -1.980392156862753,\n",
       " -1.980392156862753,\n",
       " -1.9803921568627527,\n",
       " -1.9803921568627523,\n",
       " -1.980392156862752,\n",
       " -1.9803921568627516,\n",
       " -1.9803921568627505,\n",
       " -1.9803921568627496,\n",
       " -1.9803921568627496,\n",
       " -1.9803921568627492,\n",
       " -1.9803921568627483,\n",
       " -1.9803921568627478,\n",
       " -1.9803921568627474,\n",
       " -1.9803921568627474,\n",
       " -1.9803921568627472,\n",
       " -1.9803921568627467,\n",
       " -1.9803921568627467,\n",
       " -1.9803921568627465,\n",
       " -1.9803921568627463,\n",
       " -1.9803921568627463,\n",
       " -1.980392156862746,\n",
       " -1.9803921568627456,\n",
       " -1.9803921568627452,\n",
       " -1.9803921568627452,\n",
       " -1.980392156862745,\n",
       " -1.9803921568627445,\n",
       " -1.9803921568627432,\n",
       " -1.9803921568627423,\n",
       " -1.980392156862742,\n",
       " -1.9803921568627412,\n",
       " -1.9803921568627407,\n",
       " -1.9803921568627403,\n",
       " -1.9803921568627394,\n",
       " -1.980392156862739,\n",
       " -1.9803921568627378,\n",
       " -1.9803921568627372,\n",
       " -1.9803921568627367,\n",
       " -1.9803921568627358,\n",
       " -1.9803921568627347,\n",
       " -1.9803921568627345,\n",
       " -1.9803921568627345,\n",
       " -1.9803921568627345,\n",
       " -1.9803921568627338,\n",
       " -1.9803921568627336,\n",
       " -1.9803921568627303,\n",
       " -1.98039215686273,\n",
       " -1.9803921568627298,\n",
       " -1.9803921568627292,\n",
       " -1.9803921568627276,\n",
       " -1.980392156862727,\n",
       " -1.980392156862724,\n",
       " -1.9803921568627219,\n",
       " -1.9803921568627205,\n",
       " -1.9803921568627194,\n",
       " -1.9803921568627183,\n",
       " -1.9803921568627163,\n",
       " -1.9803921568627139,\n",
       " -1.9803921568627108,\n",
       " -1.9803921568627056,\n",
       " -4.293083198205172e-06,\n",
       " -4.192670234597601e-06,\n",
       " -2.63913584281754e-06,\n",
       " -2.2817910548614506e-06,\n",
       " -1.3462703496185137e-06,\n",
       " -1.2330138871333623e-06,\n",
       " -7.427378461683855e-07,\n",
       " -6.970936795645711e-07,\n",
       " -6.712216938095552e-07,\n",
       " -5.758081153843621e-07,\n",
       " -5.163176415912914e-07,\n",
       " -4.5062073636496137e-07,\n",
       " -4.3463715712169263e-07,\n",
       " -4.0967428072524163e-07,\n",
       " -3.8467734802462954e-07,\n",
       " -3.5044631416284996e-07,\n",
       " -2.7080123673314736e-07,\n",
       " -2.0337628112904147e-07,\n",
       " -1.5835828619068027e-07]"
      ]
     },
     "execution_count": 47,
     "metadata": {},
     "output_type": "execute_result"
    }
   ],
   "source": [
    "sorted(np.linalg.eig(invH)[0])"
   ]
  },
  {
   "cell_type": "markdown",
   "id": "e76db6df",
   "metadata": {},
   "source": [
    "## Train"
   ]
  },
  {
   "cell_type": "code",
   "execution_count": 49,
   "id": "1cfc7489",
   "metadata": {},
   "outputs": [],
   "source": [
    "sigmas = [1e-3, 1e-2, 1e-1, 1e0, 1e1, 1e2]\n",
    "params_set = [dict(params) for _ in range(len(sigmas))]\n",
    "for idx, params in enumerate(params_set):\n",
    "    params['sigma'] = sigmas[idx]"
   ]
  },
  {
   "cell_type": "code",
   "execution_count": 50,
   "id": "fe7d7b26",
   "metadata": {
    "collapsed": true
   },
   "outputs": [
    {
     "name": "stdout",
     "output_type": "stream",
     "text": [
      "Policy Dimension:  102\n",
      "Iteration: 1, Leanring Rate: 0.00390625, ollouts: 250, Reward: 6.3392060360590845, Samples: 125\n",
      "Iteration: 2, Leanring Rate: 9.313225746154785e-10, ollouts: 500, Reward: -298.5929594582887, Samples: 125\n",
      "Iteration: 3, Leanring Rate: 0.0009765625, ollouts: 750, Reward: -130.56424739247714, Samples: 125\n",
      "Iteration: 4, Leanring Rate: 0.00048828125, ollouts: 1000, Reward: -121.89527557395547, Samples: 125\n",
      "Iteration: 5, Leanring Rate: 0.00048828125, ollouts: 1250, Reward: -113.31148901446237, Samples: 125\n",
      "Iteration: 6, Leanring Rate: 6.103515625e-05, ollouts: 1500, Reward: 224.89297599169842, Samples: 125\n",
      "Iteration: 7, Leanring Rate: 1.4901161193847656e-08, ollouts: 1750, Reward: 240.99648478443572, Samples: 125\n",
      "Iteration: 8, Leanring Rate: 1.52587890625e-05, ollouts: 2000, Reward: 276.5428675924415, Samples: 125\n",
      "Iteration: 9, Leanring Rate: 2.384185791015625e-07, ollouts: 2250, Reward: 300.60752727177527, Samples: 125\n",
      "Iteration: 10, Leanring Rate: 0.000244140625, ollouts: 2500, Reward: 447.5364418323746, Samples: 125\n",
      "Iteration: 11, Leanring Rate: 1.52587890625e-05, ollouts: 2750, Reward: 459.2097220596617, Samples: 125\n",
      "Iteration: 12, Leanring Rate: 0.00048828125, ollouts: 3000, Reward: 529.037502443099, Samples: 125\n",
      "Iteration: 13, Leanring Rate: 1.9073486328125e-06, ollouts: 3250, Reward: 611.5649384795692, Samples: 125\n",
      "Iteration: 14, Leanring Rate: 1.1920928955078125e-07, ollouts: 3500, Reward: 645.1657263537421, Samples: 125\n",
      "Iteration: 15, Leanring Rate: 7.62939453125e-06, ollouts: 3750, Reward: 656.5881627855858, Samples: 125\n",
      "Iteration: 16, Leanring Rate: 5.960464477539063e-08, ollouts: 4000, Reward: 683.8912027583607, Samples: 125\n",
      "Iteration: 17, Leanring Rate: 9.313225746154785e-10, ollouts: 4250, Reward: 640.3932203601797, Samples: 125\n",
      "Iteration: 18, Leanring Rate: 5.960464477539063e-08, ollouts: 4500, Reward: 649.2955420070607, Samples: 125\n",
      "Iteration: 19, Leanring Rate: 9.313225746154785e-10, ollouts: 4750, Reward: 44.16332349918677, Samples: 125\n",
      "Iteration: 20, Leanring Rate: 0.000244140625, ollouts: 5000, Reward: 90.15570727583045, Samples: 125\n",
      "Iteration: 21, Leanring Rate: 0.001953125, ollouts: 5250, Reward: 887.8417255070192, Samples: 125\n",
      "Iteration: 22, Leanring Rate: 0.0001220703125, ollouts: 5500, Reward: 1342.9563436726962, Samples: 125\n",
      "Iteration: 23, Leanring Rate: 0.00048828125, ollouts: 5750, Reward: 2228.0033241347955, Samples: 125\n",
      "Iteration: 24, Leanring Rate: 0.00048828125, ollouts: 6000, Reward: 2609.164159611292, Samples: 125\n",
      "Iteration: 25, Leanring Rate: 0.000244140625, ollouts: 6250, Reward: 2693.357309538532, Samples: 125\n",
      "Iteration: 26, Leanring Rate: 1.52587890625e-05, ollouts: 6500, Reward: 2853.961030332735, Samples: 125\n",
      "Iteration: 27, Leanring Rate: 9.313225746154785e-10, ollouts: 6750, Reward: 2357.132330330007, Samples: 125\n",
      "Iteration: 28, Leanring Rate: 6.103515625e-05, ollouts: 7000, Reward: 2575.869230657886, Samples: 125\n",
      "Iteration: 29, Leanring Rate: 0.000244140625, ollouts: 7250, Reward: 2590.639476285201, Samples: 125\n",
      "Iteration: 30, Leanring Rate: 0.0001220703125, ollouts: 7500, Reward: 2640.964944966893, Samples: 125\n",
      "Iteration: 31, Leanring Rate: 0.0001220703125, ollouts: 7750, Reward: 2818.5567003289793, Samples: 125\n",
      "Iteration: 32, Leanring Rate: 9.313225746154785e-10, ollouts: 8000, Reward: 2320.023382999956, Samples: 125\n",
      "Iteration: 33, Leanring Rate: 0.0009765625, ollouts: 8250, Reward: 2785.384360397545, Samples: 125\n",
      "Iteration: 34, Leanring Rate: 6.103515625e-05, ollouts: 8500, Reward: 2858.0040357882986, Samples: 125\n",
      "Iteration: 35, Leanring Rate: 0.0001220703125, ollouts: 8750, Reward: 2869.6310316474946, Samples: 125\n",
      "Iteration: 36, Leanring Rate: 1.52587890625e-05, ollouts: 9000, Reward: 2896.521572240013, Samples: 125\n",
      "Iteration: 37, Leanring Rate: 1.52587890625e-05, ollouts: 9250, Reward: 2897.5243617537594, Samples: 125\n",
      "Iteration: 38, Leanring Rate: 4.76837158203125e-07, ollouts: 9500, Reward: 2910.603549134926, Samples: 125\n",
      "Iteration: 39, Leanring Rate: 1.1920928955078125e-07, ollouts: 9750, Reward: 2958.6446903227384, Samples: 125\n",
      "Iteration: 40, Leanring Rate: 1.862645149230957e-09, ollouts: 10000, Reward: 2984.415805424241, Samples: 125\n",
      "Iteration: 41, Leanring Rate: 9.313225746154785e-10, ollouts: 10250, Reward: 2861.196485768543, Samples: 125\n",
      "Iteration: 42, Leanring Rate: 3.0517578125e-05, ollouts: 10500, Reward: 2913.4116911224246, Samples: 125\n",
      "Iteration: 43, Leanring Rate: 6.103515625e-05, ollouts: 10750, Reward: 3012.4879168160373, Samples: 125\n",
      "Iteration: 44, Leanring Rate: 9.313225746154785e-10, ollouts: 11000, Reward: 2670.0257103567797, Samples: 125\n",
      "Iteration: 45, Leanring Rate: 0.000244140625, ollouts: 11250, Reward: 2701.9754539724163, Samples: 125\n",
      "Iteration: 46, Leanring Rate: 6.103515625e-05, ollouts: 11500, Reward: 2903.447768160464, Samples: 125\n",
      "Iteration: 47, Leanring Rate: 9.5367431640625e-07, ollouts: 11750, Reward: 2917.6276262129254, Samples: 125\n",
      "Iteration: 48, Leanring Rate: 0.00048828125, ollouts: 12000, Reward: 2945.04298161095, Samples: 125\n",
      "Iteration: 49, Leanring Rate: 9.5367431640625e-07, ollouts: 12250, Reward: 2984.2081561754408, Samples: 125\n",
      "Iteration: 50, Leanring Rate: 3.814697265625e-06, ollouts: 12500, Reward: 3012.306900067657, Samples: 125\n",
      "Iteration: 51, Leanring Rate: 6.103515625e-05, ollouts: 12750, Reward: 3069.547783318842, Samples: 125\n",
      "Iteration: 52, Leanring Rate: 4.76837158203125e-07, ollouts: 13000, Reward: 3087.015485630996, Samples: 125\n",
      "Iteration: 53, Leanring Rate: 9.313225746154785e-10, ollouts: 13250, Reward: 2956.5231118028714, Samples: 125\n",
      "Iteration: 54, Leanring Rate: 3.0517578125e-05, ollouts: 13500, Reward: 2966.0142757169115, Samples: 125\n",
      "Iteration: 55, Leanring Rate: 7.62939453125e-06, ollouts: 13750, Reward: 2991.6823954463566, Samples: 125\n",
      "Iteration: 56, Leanring Rate: 0.00048828125, ollouts: 14000, Reward: 3080.32607715242, Samples: 125\n",
      "Iteration: 57, Leanring Rate: 9.313225746154785e-10, ollouts: 14250, Reward: 3095.7546249486572, Samples: 125\n",
      "Iteration: 58, Leanring Rate: 9.313225746154785e-10, ollouts: 14500, Reward: 2840.0723196011086, Samples: 125\n",
      "Iteration: 59, Leanring Rate: 7.62939453125e-06, ollouts: 14750, Reward: 2985.7178733635014, Samples: 125\n",
      "Iteration: 60, Leanring Rate: 3.814697265625e-06, ollouts: 15000, Reward: 3002.047149324172, Samples: 125\n",
      "Iteration: 61, Leanring Rate: 1.52587890625e-05, ollouts: 15250, Reward: 3002.1166148168395, Samples: 125\n",
      "Iteration: 62, Leanring Rate: 3.0517578125e-05, ollouts: 15500, Reward: 3031.063160135559, Samples: 125\n",
      "Iteration: 63, Leanring Rate: 7.62939453125e-06, ollouts: 15750, Reward: 3134.558569599207, Samples: 125\n",
      "Iteration: 64, Leanring Rate: 9.313225746154785e-10, ollouts: 16000, Reward: 2980.014752048087, Samples: 125\n",
      "Iteration: 65, Leanring Rate: 0.000244140625, ollouts: 16250, Reward: 3049.0512955949275, Samples: 125\n",
      "Iteration: 66, Leanring Rate: 1.9073486328125e-06, ollouts: 16500, Reward: 3076.9509715964964, Samples: 125\n",
      "Iteration: 67, Leanring Rate: 7.450580596923828e-09, ollouts: 16750, Reward: 3094.8614657709286, Samples: 125\n",
      "Iteration: 68, Leanring Rate: 7.450580596923828e-09, ollouts: 17000, Reward: 3117.779478960245, Samples: 125\n",
      "Iteration: 69, Leanring Rate: 6.103515625e-05, ollouts: 17250, Reward: 3146.2611864542932, Samples: 125\n",
      "Iteration: 70, Leanring Rate: 4.76837158203125e-07, ollouts: 17500, Reward: 3161.373311798685, Samples: 125\n",
      "Iteration: 71, Leanring Rate: 1.52587890625e-05, ollouts: 17750, Reward: 3163.443376946161, Samples: 125\n",
      "Iteration: 72, Leanring Rate: 1.1920928955078125e-07, ollouts: 18000, Reward: 3191.879850068795, Samples: 125\n",
      "Iteration: 73, Leanring Rate: 1.52587890625e-05, ollouts: 18250, Reward: 3230.1932889788186, Samples: 125\n",
      "Iteration: 74, Leanring Rate: 9.313225746154785e-10, ollouts: 18500, Reward: 3208.1618281814326, Samples: 125\n",
      "Iteration: 75, Leanring Rate: 7.62939453125e-06, ollouts: 18750, Reward: 3241.6827300758364, Samples: 125\n",
      "Iteration: 76, Leanring Rate: 9.313225746154785e-10, ollouts: 19000, Reward: 3133.049063400298, Samples: 125\n",
      "Iteration: 77, Leanring Rate: 1.9073486328125e-06, ollouts: 19250, Reward: 3136.7534001258637, Samples: 125\n",
      "Iteration: 78, Leanring Rate: 2.9802322387695312e-08, ollouts: 19500, Reward: 3147.2024457917532, Samples: 125\n"
     ]
    },
    {
     "name": "stdout",
     "output_type": "stream",
     "text": [
      "Iteration: 79, Leanring Rate: 7.450580596923828e-09, ollouts: 19750, Reward: 3150.9059290585715, Samples: 125\n",
      "Iteration: 80, Leanring Rate: 3.814697265625e-06, ollouts: 20000, Reward: 3181.4136706278764, Samples: 125\n",
      "Iteration: 81, Leanring Rate: 9.313225746154785e-10, ollouts: 20250, Reward: 3069.002972799542, Samples: 125\n",
      "Iteration: 82, Leanring Rate: 1.52587890625e-05, ollouts: 20500, Reward: 3119.131792283022, Samples: 125\n",
      "Iteration: 83, Leanring Rate: 9.313225746154785e-10, ollouts: 20750, Reward: 3018.8305458840937, Samples: 125\n",
      "Iteration: 84, Leanring Rate: 0.0001220703125, ollouts: 21000, Reward: 3046.17646669801, Samples: 125\n",
      "Iteration: 85, Leanring Rate: 0.000244140625, ollouts: 21250, Reward: 3149.382593054608, Samples: 125\n",
      "Iteration: 86, Leanring Rate: 6.103515625e-05, ollouts: 21500, Reward: 3215.4405147116704, Samples: 125\n",
      "Iteration: 87, Leanring Rate: 9.313225746154785e-10, ollouts: 21750, Reward: 1950.8925768192375, Samples: 125\n",
      "Iteration: 88, Leanring Rate: 0.000244140625, ollouts: 22000, Reward: 2897.7012961621926, Samples: 125\n",
      "Iteration: 89, Leanring Rate: 0.0009765625, ollouts: 22250, Reward: 3035.541627280581, Samples: 125\n",
      "Iteration: 90, Leanring Rate: 6.103515625e-05, ollouts: 22500, Reward: 3154.1509070000684, Samples: 125\n",
      "Iteration: 91, Leanring Rate: 6.103515625e-05, ollouts: 22750, Reward: 3174.3112309436565, Samples: 125\n",
      "Iteration: 92, Leanring Rate: 3.814697265625e-06, ollouts: 23000, Reward: 3253.526207713425, Samples: 125\n",
      "Iteration: 93, Leanring Rate: 6.103515625e-05, ollouts: 23250, Reward: 3265.9480629078685, Samples: 125\n",
      "Iteration: 94, Leanring Rate: 7.62939453125e-06, ollouts: 23500, Reward: 3298.444313272555, Samples: 125\n",
      "Iteration: 95, Leanring Rate: 2.9802322387695312e-08, ollouts: 23750, Reward: 3319.3313707784764, Samples: 125\n",
      "Iteration: 96, Leanring Rate: 1.1920928955078125e-07, ollouts: 24000, Reward: 3368.147222331479, Samples: 125\n",
      "Iteration: 97, Leanring Rate: 9.313225746154785e-10, ollouts: 24250, Reward: 3219.046158324686, Samples: 125\n",
      "Iteration: 98, Leanring Rate: 3.0517578125e-05, ollouts: 24500, Reward: 3355.0641512804686, Samples: 125\n",
      "Iteration: 99, Leanring Rate: 9.313225746154785e-10, ollouts: 24750, Reward: 3317.457669467495, Samples: 125\n",
      "Iteration: 100, Leanring Rate: 2.9802322387695312e-08, ollouts: 25000, Reward: 3326.6723970956123, Samples: 125\n",
      "Iteration: 101, Leanring Rate: 9.313225746154785e-10, ollouts: 25250, Reward: 3038.8129826891936, Samples: 125\n",
      "Iteration: 102, Leanring Rate: 0.000244140625, ollouts: 25500, Reward: 3339.45855886273, Samples: 125\n",
      "Iteration: 103, Leanring Rate: 3.814697265625e-06, ollouts: 25750, Reward: 3480.1686077416402, Samples: 125\n",
      "Iteration: 104, Leanring Rate: 9.313225746154785e-10, ollouts: 26000, Reward: 2963.858438228256, Samples: 125\n",
      "Iteration: 105, Leanring Rate: 7.62939453125e-06, ollouts: 26250, Reward: 3373.2151722546923, Samples: 125\n",
      "Iteration: 106, Leanring Rate: 1.52587890625e-05, ollouts: 26500, Reward: 3387.023446830437, Samples: 125\n",
      "Iteration: 107, Leanring Rate: 7.450580596923828e-09, ollouts: 26750, Reward: 3416.537778774822, Samples: 125\n",
      "Iteration: 108, Leanring Rate: 9.313225746154785e-10, ollouts: 27000, Reward: 2696.4602863687596, Samples: 125\n",
      "Iteration: 109, Leanring Rate: 0.0001220703125, ollouts: 27250, Reward: 3085.747640571828, Samples: 125\n",
      "Iteration: 110, Leanring Rate: 3.814697265625e-06, ollouts: 27500, Reward: 3232.144210929723, Samples: 125\n",
      "Iteration: 111, Leanring Rate: 0.00048828125, ollouts: 27750, Reward: 3255.469326608449, Samples: 125\n",
      "Iteration: 112, Leanring Rate: 2.9802322387695312e-08, ollouts: 28000, Reward: 3304.985463466912, Samples: 125\n",
      "Iteration: 113, Leanring Rate: 9.313225746154785e-10, ollouts: 28250, Reward: 3248.189422379504, Samples: 125\n",
      "Iteration: 114, Leanring Rate: 7.450580596923828e-09, ollouts: 28500, Reward: 3257.0372576979353, Samples: 125\n",
      "Iteration: 115, Leanring Rate: 9.313225746154785e-10, ollouts: 28750, Reward: 3138.6304054283273, Samples: 125\n",
      "Iteration: 116, Leanring Rate: 6.103515625e-05, ollouts: 29000, Reward: 3190.288500733406, Samples: 125\n",
      "Iteration: 117, Leanring Rate: 1.862645149230957e-09, ollouts: 29250, Reward: 3213.5493596972256, Samples: 125\n",
      "Iteration: 118, Leanring Rate: 5.960464477539063e-08, ollouts: 29500, Reward: 3327.6419017812646, Samples: 125\n",
      "Iteration: 119, Leanring Rate: 9.313225746154785e-10, ollouts: 29750, Reward: 3148.7442098657043, Samples: 125\n",
      "Iteration: 120, Leanring Rate: 3.814697265625e-06, ollouts: 30000, Reward: 3157.1512057182567, Samples: 125\n",
      "Iteration: 121, Leanring Rate: 3.0517578125e-05, ollouts: 30250, Reward: 3224.888245630888, Samples: 125\n",
      "Iteration: 122, Leanring Rate: 9.313225746154785e-10, ollouts: 30500, Reward: 2472.5498676387515, Samples: 125\n",
      "Iteration: 123, Leanring Rate: 0.000244140625, ollouts: 30750, Reward: 3116.7002568068337, Samples: 125\n",
      "Iteration: 124, Leanring Rate: 7.62939453125e-06, ollouts: 31000, Reward: 3177.6489090388163, Samples: 125\n",
      "Iteration: 125, Leanring Rate: 1.9073486328125e-06, ollouts: 31250, Reward: 3201.728483213259, Samples: 125\n",
      "Iteration: 126, Leanring Rate: 9.313225746154785e-10, ollouts: 31500, Reward: 3074.0701510329527, Samples: 125\n",
      "Iteration: 127, Leanring Rate: 0.0001220703125, ollouts: 31750, Reward: 3153.3633568455907, Samples: 125\n",
      "Iteration: 128, Leanring Rate: 7.62939453125e-06, ollouts: 32000, Reward: 3233.0997218541543, Samples: 125\n",
      "Iteration: 129, Leanring Rate: 9.313225746154785e-10, ollouts: 32250, Reward: 2783.9659268205814, Samples: 125\n",
      "Iteration: 130, Leanring Rate: 0.00048828125, ollouts: 32500, Reward: 3288.2671350072383, Samples: 125\n",
      "Iteration: 131, Leanring Rate: 6.103515625e-05, ollouts: 32750, Reward: 3368.7301314580523, Samples: 125\n",
      "Iteration: 132, Leanring Rate: 9.313225746154785e-10, ollouts: 33000, Reward: 3204.3302946255058, Samples: 125\n",
      "Iteration: 133, Leanring Rate: 0.000244140625, ollouts: 33250, Reward: 3212.965048690676, Samples: 125\n",
      "Iteration: 134, Leanring Rate: 3.0517578125e-05, ollouts: 33500, Reward: 3214.365826074068, Samples: 125\n",
      "Iteration: 135, Leanring Rate: 3.0517578125e-05, ollouts: 33750, Reward: 3226.9929597180817, Samples: 125\n",
      "Iteration: 136, Leanring Rate: 3.0517578125e-05, ollouts: 34000, Reward: 3282.6922636997824, Samples: 125\n",
      "Iteration: 137, Leanring Rate: 9.313225746154785e-10, ollouts: 34250, Reward: 1937.488573413028, Samples: 125\n",
      "Iteration: 138, Leanring Rate: 0.00048828125, ollouts: 34500, Reward: 2600.4325179469083, Samples: 125\n",
      "Iteration: 139, Leanring Rate: 0.000244140625, ollouts: 34750, Reward: 3278.719123171595, Samples: 125\n",
      "Iteration: 140, Leanring Rate: 2.384185791015625e-07, ollouts: 35000, Reward: 3320.18673878983, Samples: 125\n",
      "Iteration: 141, Leanring Rate: 9.313225746154785e-10, ollouts: 35250, Reward: 3161.893917012932, Samples: 125\n",
      "Iteration: 142, Leanring Rate: 0.00048828125, ollouts: 35500, Reward: 3234.9032790261676, Samples: 125\n",
      "Iteration: 143, Leanring Rate: 4.76837158203125e-07, ollouts: 35750, Reward: 3251.332488936436, Samples: 125\n",
      "Iteration: 144, Leanring Rate: 9.313225746154785e-10, ollouts: 36000, Reward: 2371.1987723763973, Samples: 125\n",
      "Iteration: 145, Leanring Rate: 0.00048828125, ollouts: 36250, Reward: 2561.6764215697794, Samples: 125\n",
      "Iteration: 146, Leanring Rate: 0.000244140625, ollouts: 36500, Reward: 2825.878223192268, Samples: 125\n",
      "Iteration: 147, Leanring Rate: 6.103515625e-05, ollouts: 36750, Reward: 2843.9970290514534, Samples: 125\n",
      "Iteration: 148, Leanring Rate: 7.62939453125e-06, ollouts: 37000, Reward: 2876.7215602248375, Samples: 125\n",
      "Iteration: 149, Leanring Rate: 9.5367431640625e-07, ollouts: 37250, Reward: 2966.2701764325625, Samples: 125\n",
      "Iteration: 150, Leanring Rate: 4.76837158203125e-07, ollouts: 37500, Reward: 2999.054069720743, Samples: 125\n",
      "Iteration: 151, Leanring Rate: 9.313225746154785e-10, ollouts: 37750, Reward: 2883.7658848318374, Samples: 125\n",
      "Iteration: 152, Leanring Rate: 0.000244140625, ollouts: 38000, Reward: 2918.4143682836498, Samples: 125\n",
      "Iteration: 153, Leanring Rate: 9.313225746154785e-10, ollouts: 38250, Reward: 2683.1763566055283, Samples: 125\n",
      "Iteration: 154, Leanring Rate: 0.000244140625, ollouts: 38500, Reward: 2761.7857267636687, Samples: 125\n",
      "Iteration: 155, Leanring Rate: 3.814697265625e-06, ollouts: 38750, Reward: 2858.230930108662, Samples: 125\n"
     ]
    },
    {
     "name": "stdout",
     "output_type": "stream",
     "text": [
      "Iteration: 156, Leanring Rate: 6.103515625e-05, ollouts: 39000, Reward: 3039.2347366701374, Samples: 125\n",
      "Iteration: 157, Leanring Rate: 9.313225746154785e-10, ollouts: 39250, Reward: 2894.364344095307, Samples: 125\n",
      "Iteration: 158, Leanring Rate: 7.62939453125e-06, ollouts: 39500, Reward: 2896.242263003636, Samples: 125\n",
      "Iteration: 159, Leanring Rate: 1.52587890625e-05, ollouts: 39750, Reward: 2932.9660102989997, Samples: 125\n",
      "Iteration: 160, Leanring Rate: 3.814697265625e-06, ollouts: 40000, Reward: 2942.0600629754554, Samples: 125\n",
      "Iteration: 161, Leanring Rate: 7.62939453125e-06, ollouts: 40250, Reward: 2956.037453450791, Samples: 125\n",
      "Iteration: 162, Leanring Rate: 7.62939453125e-06, ollouts: 40500, Reward: 2971.6369728900145, Samples: 125\n",
      "Iteration: 163, Leanring Rate: 9.5367431640625e-07, ollouts: 40750, Reward: 3064.502166307486, Samples: 125\n",
      "Iteration: 164, Leanring Rate: 9.313225746154785e-10, ollouts: 41000, Reward: 2733.1476910836673, Samples: 125\n",
      "Iteration: 165, Leanring Rate: 0.0001220703125, ollouts: 41250, Reward: 2813.6424916281167, Samples: 125\n",
      "Iteration: 166, Leanring Rate: 0.0001220703125, ollouts: 41500, Reward: 2828.490276739613, Samples: 125\n",
      "Iteration: 167, Leanring Rate: 0.000244140625, ollouts: 41750, Reward: 2837.267527906752, Samples: 125\n",
      "Iteration: 168, Leanring Rate: 0.0001220703125, ollouts: 42000, Reward: 2912.077023438896, Samples: 125\n",
      "Iteration: 169, Leanring Rate: 1.4901161193847656e-08, ollouts: 42250, Reward: 2930.809240065976, Samples: 125\n",
      "Iteration: 170, Leanring Rate: 6.103515625e-05, ollouts: 42500, Reward: 2953.3527610862025, Samples: 125\n",
      "Iteration: 171, Leanring Rate: 3.814697265625e-06, ollouts: 42750, Reward: 2989.7762139011875, Samples: 125\n",
      "Iteration: 172, Leanring Rate: 1.1920928955078125e-07, ollouts: 43000, Reward: 3032.65744548696, Samples: 125\n",
      "Iteration: 173, Leanring Rate: 4.76837158203125e-07, ollouts: 43250, Reward: 3073.5255160588663, Samples: 125\n",
      "Iteration: 174, Leanring Rate: 9.313225746154785e-10, ollouts: 43500, Reward: 2923.2364251176355, Samples: 125\n",
      "Iteration: 175, Leanring Rate: 3.0517578125e-05, ollouts: 43750, Reward: 3006.820342444646, Samples: 125\n",
      "Iteration: 176, Leanring Rate: 9.313225746154785e-10, ollouts: 44000, Reward: 3044.4345268321376, Samples: 125\n",
      "Iteration: 177, Leanring Rate: 3.725290298461914e-09, ollouts: 44250, Reward: 3048.0181058974895, Samples: 125\n",
      "Iteration: 178, Leanring Rate: 9.313225746154785e-10, ollouts: 44500, Reward: 2969.67028303652, Samples: 125\n",
      "Iteration: 179, Leanring Rate: 7.62939453125e-06, ollouts: 44750, Reward: 2992.3055797529123, Samples: 125\n",
      "Iteration: 180, Leanring Rate: 4.76837158203125e-07, ollouts: 45000, Reward: 2994.526538945407, Samples: 125\n",
      "Iteration: 181, Leanring Rate: 4.76837158203125e-07, ollouts: 45250, Reward: 3000.692066295861, Samples: 125\n",
      "Iteration: 182, Leanring Rate: 1.1920928955078125e-07, ollouts: 45500, Reward: 3046.548575356432, Samples: 125\n",
      "Iteration: 183, Leanring Rate: 7.450580596923828e-09, ollouts: 45750, Reward: 3060.9958433998986, Samples: 125\n",
      "Iteration: 184, Leanring Rate: 9.313225746154785e-10, ollouts: 46000, Reward: 2899.238465012717, Samples: 125\n",
      "Iteration: 185, Leanring Rate: 0.0001220703125, ollouts: 46250, Reward: 2923.6632398376887, Samples: 125\n",
      "Iteration: 186, Leanring Rate: 0.00048828125, ollouts: 46500, Reward: 3000.149976342524, Samples: 125\n",
      "Iteration: 187, Leanring Rate: 0.0001220703125, ollouts: 46750, Reward: 3060.4845750742456, Samples: 125\n",
      "Iteration: 188, Leanring Rate: 0.000244140625, ollouts: 47000, Reward: 3096.8722122523063, Samples: 125\n",
      "Iteration: 189, Leanring Rate: 0.0009765625, ollouts: 47250, Reward: 3150.7759209255287, Samples: 125\n",
      "Iteration: 190, Leanring Rate: 3.0517578125e-05, ollouts: 47500, Reward: 3150.945090863679, Samples: 125\n",
      "Iteration: 191, Leanring Rate: 6.103515625e-05, ollouts: 47750, Reward: 3198.4431490129923, Samples: 125\n",
      "Iteration: 192, Leanring Rate: 1.9073486328125e-06, ollouts: 48000, Reward: 3277.9090430007027, Samples: 125\n",
      "Iteration: 193, Leanring Rate: 9.313225746154785e-10, ollouts: 48250, Reward: 3131.5391311411, Samples: 125\n",
      "Iteration: 194, Leanring Rate: 1.52587890625e-05, ollouts: 48500, Reward: 3142.3801837668025, Samples: 125\n",
      "Iteration: 195, Leanring Rate: 2.384185791015625e-07, ollouts: 48750, Reward: 3154.295701219034, Samples: 125\n",
      "Iteration: 196, Leanring Rate: 7.450580596923828e-09, ollouts: 49000, Reward: 3311.3033374937922, Samples: 125\n",
      "Iteration: 197, Leanring Rate: 9.313225746154785e-10, ollouts: 49250, Reward: 3149.9011275869284, Samples: 125\n",
      "Iteration: 198, Leanring Rate: 9.5367431640625e-07, ollouts: 49500, Reward: 3167.502400609666, Samples: 125\n",
      "Iteration: 199, Leanring Rate: 9.313225746154785e-10, ollouts: 49750, Reward: 3080.488492965381, Samples: 125\n"
     ]
    }
   ],
   "source": [
    "single_params = params_set[1]\n",
    "master = get_policy(single_params)\n",
    "ts, rewards, master = run_HessianES(single_params, gradient_estimator, invhessian_estimator, master)"
   ]
  },
  {
   "cell_type": "code",
   "execution_count": 57,
   "id": "e662fb1c",
   "metadata": {
    "scrolled": true
   },
   "outputs": [
    {
     "name": "stdout",
     "output_type": "stream",
     "text": [
      "Iteration: 1, Rollouts: 250, Reward: -671.9898884654408, Alpha: 1, Samples: 125\n",
      "Iteration: 2, Rollouts: 500, Reward: -339.66332228098213, Alpha: 1, Samples: 125\n",
      "Iteration: 3, Rollouts: 750, Reward: -190.48414642145477, Alpha: 1, Samples: 125\n",
      "Iteration: 4, Rollouts: 1000, Reward: 23.147625683303275, Alpha: 1, Samples: 125\n",
      "Iteration: 5, Rollouts: 1250, Reward: 138.6131166933629, Alpha: 1, Samples: 125\n",
      "Iteration: 6, Rollouts: 1500, Reward: 1.1682117018011993, Alpha: 1, Samples: 125\n",
      "Iteration: 7, Rollouts: 1750, Reward: -161.59979838386653, Alpha: 1, Samples: 125\n"
     ]
    },
    {
     "ename": "KeyboardInterrupt",
     "evalue": "",
     "output_type": "error",
     "traceback": [
      "\u001b[0;31m---------------------------------------------------------------------------\u001b[0m",
      "\u001b[0;31mKeyboardInterrupt\u001b[0m                         Traceback (most recent call last)",
      "\u001b[0;32m<ipython-input-57-17d5c4fc9869>\u001b[0m in \u001b[0;36m<module>\u001b[0;34m()\u001b[0m\n\u001b[1;32m      1\u001b[0m \u001b[0msingle_params\u001b[0m \u001b[0;34m=\u001b[0m \u001b[0mparams_set\u001b[0m\u001b[0;34m[\u001b[0m\u001b[0;36m1\u001b[0m\u001b[0;34m]\u001b[0m\u001b[0;34m\u001b[0m\u001b[0;34m\u001b[0m\u001b[0m\n\u001b[1;32m      2\u001b[0m \u001b[0mmaster\u001b[0m \u001b[0;34m=\u001b[0m \u001b[0mget_policy\u001b[0m\u001b[0;34m(\u001b[0m\u001b[0msingle_params\u001b[0m\u001b[0;34m)\u001b[0m\u001b[0;34m\u001b[0m\u001b[0;34m\u001b[0m\u001b[0m\n\u001b[0;32m----> 3\u001b[0;31m \u001b[0mts2\u001b[0m\u001b[0;34m,\u001b[0m \u001b[0mrewards2\u001b[0m\u001b[0;34m,\u001b[0m \u001b[0mmaster2\u001b[0m \u001b[0;34m=\u001b[0m \u001b[0mrun_asebo\u001b[0m\u001b[0;34m(\u001b[0m\u001b[0msingle_params\u001b[0m\u001b[0;34m,\u001b[0m \u001b[0mmaster\u001b[0m\u001b[0;34m)\u001b[0m\u001b[0;34m\u001b[0m\u001b[0;34m\u001b[0m\u001b[0m\n\u001b[0m",
      "\u001b[0;32m/Users/stevenyin/Google Drive/columbia/semester 9/krzysztof class/Project6617/rl/methods.py\u001b[0m in \u001b[0;36mrun_asebo\u001b[0;34m(params, master)\u001b[0m\n\u001b[1;32m    326\u001b[0m \u001b[0;34m\u001b[0m\u001b[0m\n\u001b[1;32m    327\u001b[0m         \u001b[0mparams\u001b[0m\u001b[0;34m[\u001b[0m\u001b[0;34m'n_iter'\u001b[0m\u001b[0;34m]\u001b[0m \u001b[0;34m=\u001b[0m \u001b[0mn_iter\u001b[0m\u001b[0;34m\u001b[0m\u001b[0;34m\u001b[0m\u001b[0m\n\u001b[0;32m--> 328\u001b[0;31m         \u001b[0mgradient\u001b[0m\u001b[0;34m,\u001b[0m \u001b[0mn_samples\u001b[0m\u001b[0;34m,\u001b[0m \u001b[0mtimesteps\u001b[0m \u001b[0;34m=\u001b[0m \u001b[0mES\u001b[0m\u001b[0;34m(\u001b[0m\u001b[0mparams\u001b[0m\u001b[0;34m,\u001b[0m \u001b[0mmaster\u001b[0m\u001b[0;34m,\u001b[0m \u001b[0mG\u001b[0m\u001b[0;34m)\u001b[0m\u001b[0;34m\u001b[0m\u001b[0;34m\u001b[0m\u001b[0m\n\u001b[0m\u001b[1;32m    329\u001b[0m         \u001b[0mts_cumulative\u001b[0m \u001b[0;34m+=\u001b[0m \u001b[0mtimesteps\u001b[0m\u001b[0;34m\u001b[0m\u001b[0;34m\u001b[0m\u001b[0m\n\u001b[1;32m    330\u001b[0m         \u001b[0mts\u001b[0m\u001b[0;34m.\u001b[0m\u001b[0mappend\u001b[0m\u001b[0;34m(\u001b[0m\u001b[0mts_cumulative\u001b[0m\u001b[0;34m)\u001b[0m\u001b[0;34m\u001b[0m\u001b[0;34m\u001b[0m\u001b[0m\n",
      "\u001b[0;32m/Users/stevenyin/Google Drive/columbia/semester 9/krzysztof class/Project6617/asebo/es.py\u001b[0m in \u001b[0;36mES\u001b[0;34m(params, master, G)\u001b[0m\n\u001b[1;32m     63\u001b[0m     \u001b[0mA\u001b[0m \u001b[0;34m/=\u001b[0m \u001b[0mnp\u001b[0m\u001b[0;34m.\u001b[0m\u001b[0mlinalg\u001b[0m\u001b[0;34m.\u001b[0m\u001b[0mnorm\u001b[0m\u001b[0;34m(\u001b[0m\u001b[0mA\u001b[0m\u001b[0;34m,\u001b[0m \u001b[0maxis\u001b[0m \u001b[0;34m=\u001b[0m\u001b[0;34m-\u001b[0m\u001b[0;36m1\u001b[0m\u001b[0;34m)\u001b[0m\u001b[0;34m[\u001b[0m\u001b[0;34m:\u001b[0m\u001b[0;34m,\u001b[0m \u001b[0mnp\u001b[0m\u001b[0;34m.\u001b[0m\u001b[0mnewaxis\u001b[0m\u001b[0;34m]\u001b[0m\u001b[0;34m\u001b[0m\u001b[0;34m\u001b[0m\u001b[0m\n\u001b[1;32m     64\u001b[0m \u001b[0;34m\u001b[0m\u001b[0m\n\u001b[0;32m---> 65\u001b[0;31m     \u001b[0mm\u001b[0m\u001b[0;34m,\u001b[0m \u001b[0mtimesteps\u001b[0m \u001b[0;34m=\u001b[0m \u001b[0maggregate_rollouts\u001b[0m\u001b[0;34m(\u001b[0m\u001b[0mmaster\u001b[0m\u001b[0;34m,\u001b[0m \u001b[0mA\u001b[0m\u001b[0;34m,\u001b[0m \u001b[0mparams\u001b[0m\u001b[0;34m,\u001b[0m \u001b[0mn_samples\u001b[0m\u001b[0;34m)\u001b[0m\u001b[0;34m\u001b[0m\u001b[0;34m\u001b[0m\u001b[0m\n\u001b[0m\u001b[1;32m     66\u001b[0m \u001b[0;34m\u001b[0m\u001b[0m\n\u001b[1;32m     67\u001b[0m     \u001b[0mg\u001b[0m \u001b[0;34m=\u001b[0m \u001b[0mnp\u001b[0m\u001b[0;34m.\u001b[0m\u001b[0mzeros\u001b[0m\u001b[0;34m(\u001b[0m\u001b[0mmaster\u001b[0m\u001b[0;34m.\u001b[0m\u001b[0mN\u001b[0m\u001b[0;34m)\u001b[0m\u001b[0;34m\u001b[0m\u001b[0;34m\u001b[0m\u001b[0m\n",
      "\u001b[0;32m/Users/stevenyin/Google Drive/columbia/semester 9/krzysztof class/Project6617/asebo/es.py\u001b[0m in \u001b[0;36maggregate_rollouts\u001b[0;34m(master, A, params, n_samples)\u001b[0m\n\u001b[1;32m     15\u001b[0m     \u001b[0;32mfor\u001b[0m \u001b[0mi\u001b[0m \u001b[0;32min\u001b[0m \u001b[0mrange\u001b[0m\u001b[0;34m(\u001b[0m\u001b[0mn_samples\u001b[0m\u001b[0;34m)\u001b[0m\u001b[0;34m:\u001b[0m\u001b[0;34m\u001b[0m\u001b[0;34m\u001b[0m\u001b[0m\n\u001b[1;32m     16\u001b[0m         \u001b[0mw\u001b[0m \u001b[0;34m=\u001b[0m \u001b[0mworker\u001b[0m\u001b[0;34m(\u001b[0m\u001b[0mparams\u001b[0m\u001b[0;34m,\u001b[0m \u001b[0mmaster\u001b[0m\u001b[0;34m,\u001b[0m \u001b[0mA\u001b[0m\u001b[0;34m,\u001b[0m \u001b[0mi\u001b[0m\u001b[0;34m)\u001b[0m\u001b[0;34m\u001b[0m\u001b[0;34m\u001b[0m\u001b[0m\n\u001b[0;32m---> 17\u001b[0;31m         \u001b[0mall_rollouts\u001b[0m\u001b[0;34m[\u001b[0m\u001b[0mi\u001b[0m\u001b[0;34m]\u001b[0m \u001b[0;34m=\u001b[0m \u001b[0mnp\u001b[0m\u001b[0;34m.\u001b[0m\u001b[0mreshape\u001b[0m\u001b[0;34m(\u001b[0m\u001b[0mw\u001b[0m\u001b[0;34m.\u001b[0m\u001b[0mdo_rollouts\u001b[0m\u001b[0;34m(\u001b[0m\u001b[0;34m)\u001b[0m\u001b[0;34m,\u001b[0m \u001b[0;36m2\u001b[0m\u001b[0;34m)\u001b[0m\u001b[0;34m\u001b[0m\u001b[0;34m\u001b[0m\u001b[0m\n\u001b[0m\u001b[1;32m     18\u001b[0m         \u001b[0mtimesteps\u001b[0m \u001b[0;34m+=\u001b[0m \u001b[0mw\u001b[0m\u001b[0;34m.\u001b[0m\u001b[0mtimesteps\u001b[0m\u001b[0;34m\u001b[0m\u001b[0;34m\u001b[0m\u001b[0m\n\u001b[1;32m     19\u001b[0m \u001b[0;34m\u001b[0m\u001b[0m\n",
      "\u001b[0;32m/Users/stevenyin/Google Drive/columbia/semester 9/krzysztof class/Project6617/asebo/worker.py\u001b[0m in \u001b[0;36mdo_rollouts\u001b[0;34m(self, seed, train)\u001b[0m\n\u001b[1;32m     34\u001b[0m \u001b[0;34m\u001b[0m\u001b[0m\n\u001b[1;32m     35\u001b[0m         \u001b[0mself\u001b[0m\u001b[0;34m.\u001b[0m\u001b[0mpolicy\u001b[0m\u001b[0;34m.\u001b[0m\u001b[0mupdate\u001b[0m\u001b[0;34m(\u001b[0m\u001b[0mself\u001b[0m\u001b[0;34m.\u001b[0m\u001b[0mv\u001b[0m\u001b[0;34m)\u001b[0m\u001b[0;34m\u001b[0m\u001b[0;34m\u001b[0m\u001b[0m\n\u001b[0;32m---> 36\u001b[0;31m         \u001b[0mup\u001b[0m \u001b[0;34m=\u001b[0m \u001b[0mself\u001b[0m\u001b[0;34m.\u001b[0m\u001b[0mrollout\u001b[0m\u001b[0;34m(\u001b[0m\u001b[0mseed\u001b[0m\u001b[0;34m,\u001b[0m \u001b[0mtrain\u001b[0m\u001b[0;34m)\u001b[0m\u001b[0;34m\u001b[0m\u001b[0;34m\u001b[0m\u001b[0m\n\u001b[0m\u001b[1;32m     37\u001b[0m \u001b[0;34m\u001b[0m\u001b[0m\n\u001b[1;32m     38\u001b[0m         \u001b[0mself\u001b[0m\u001b[0;34m.\u001b[0m\u001b[0mpolicy\u001b[0m\u001b[0;34m.\u001b[0m\u001b[0mupdate\u001b[0m\u001b[0;34m(\u001b[0m\u001b[0;34m-\u001b[0m\u001b[0;36m2\u001b[0m \u001b[0;34m*\u001b[0m \u001b[0mself\u001b[0m\u001b[0;34m.\u001b[0m\u001b[0mv\u001b[0m\u001b[0;34m)\u001b[0m\u001b[0;34m\u001b[0m\u001b[0;34m\u001b[0m\u001b[0m\n",
      "\u001b[0;32m/Users/stevenyin/Google Drive/columbia/semester 9/krzysztof class/Project6617/asebo/worker.py\u001b[0m in \u001b[0;36mrollout\u001b[0;34m(self, seed, train, render)\u001b[0m\n\u001b[1;32m     51\u001b[0m             \u001b[0maction\u001b[0m \u001b[0;34m=\u001b[0m \u001b[0mnp\u001b[0m\u001b[0;34m.\u001b[0m\u001b[0mclip\u001b[0m\u001b[0;34m(\u001b[0m\u001b[0maction\u001b[0m\u001b[0;34m,\u001b[0m \u001b[0mself\u001b[0m\u001b[0;34m.\u001b[0m\u001b[0menv\u001b[0m\u001b[0;34m.\u001b[0m\u001b[0maction_space\u001b[0m\u001b[0;34m.\u001b[0m\u001b[0mlow\u001b[0m\u001b[0;34m[\u001b[0m\u001b[0;36m0\u001b[0m\u001b[0;34m]\u001b[0m\u001b[0;34m,\u001b[0m \u001b[0mself\u001b[0m\u001b[0;34m.\u001b[0m\u001b[0menv\u001b[0m\u001b[0;34m.\u001b[0m\u001b[0maction_space\u001b[0m\u001b[0;34m.\u001b[0m\u001b[0mhigh\u001b[0m\u001b[0;34m[\u001b[0m\u001b[0;36m0\u001b[0m\u001b[0;34m]\u001b[0m\u001b[0;34m)\u001b[0m\u001b[0;34m\u001b[0m\u001b[0;34m\u001b[0m\u001b[0m\n\u001b[1;32m     52\u001b[0m             \u001b[0maction\u001b[0m \u001b[0;34m=\u001b[0m \u001b[0maction\u001b[0m\u001b[0;34m.\u001b[0m\u001b[0mreshape\u001b[0m\u001b[0;34m(\u001b[0m\u001b[0mlen\u001b[0m\u001b[0;34m(\u001b[0m\u001b[0maction\u001b[0m\u001b[0;34m)\u001b[0m\u001b[0;34m,\u001b[0m \u001b[0;34m)\u001b[0m\u001b[0;34m\u001b[0m\u001b[0;34m\u001b[0m\u001b[0m\n\u001b[0;32m---> 53\u001b[0;31m             \u001b[0mstate\u001b[0m\u001b[0;34m,\u001b[0m \u001b[0mreward\u001b[0m\u001b[0;34m,\u001b[0m \u001b[0mdone\u001b[0m\u001b[0;34m,\u001b[0m \u001b[0m_\u001b[0m \u001b[0;34m=\u001b[0m \u001b[0mself\u001b[0m\u001b[0;34m.\u001b[0m\u001b[0menv\u001b[0m\u001b[0;34m.\u001b[0m\u001b[0mstep\u001b[0m\u001b[0;34m(\u001b[0m\u001b[0maction\u001b[0m\u001b[0;34m)\u001b[0m\u001b[0;34m\u001b[0m\u001b[0;34m\u001b[0m\u001b[0m\n\u001b[0m\u001b[1;32m     54\u001b[0m             \u001b[0;32mif\u001b[0m \u001b[0mrender\u001b[0m\u001b[0;34m:\u001b[0m\u001b[0;34m\u001b[0m\u001b[0;34m\u001b[0m\u001b[0m\n\u001b[1;32m     55\u001b[0m                 \u001b[0mself\u001b[0m\u001b[0;34m.\u001b[0m\u001b[0menv\u001b[0m\u001b[0;34m.\u001b[0m\u001b[0mrender\u001b[0m\u001b[0;34m(\u001b[0m\u001b[0;34m)\u001b[0m\u001b[0;34m\u001b[0m\u001b[0;34m\u001b[0m\u001b[0m\n",
      "\u001b[0;32m/Users/stevenyin/opt/anaconda3/envs/py36/lib/python3.6/site-packages/gym/wrappers/time_limit.py\u001b[0m in \u001b[0;36mstep\u001b[0;34m(self, action)\u001b[0m\n\u001b[1;32m     14\u001b[0m     \u001b[0;32mdef\u001b[0m \u001b[0mstep\u001b[0m\u001b[0;34m(\u001b[0m\u001b[0mself\u001b[0m\u001b[0;34m,\u001b[0m \u001b[0maction\u001b[0m\u001b[0;34m)\u001b[0m\u001b[0;34m:\u001b[0m\u001b[0;34m\u001b[0m\u001b[0;34m\u001b[0m\u001b[0m\n\u001b[1;32m     15\u001b[0m         \u001b[0;32massert\u001b[0m \u001b[0mself\u001b[0m\u001b[0;34m.\u001b[0m\u001b[0m_elapsed_steps\u001b[0m \u001b[0;32mis\u001b[0m \u001b[0;32mnot\u001b[0m \u001b[0;32mNone\u001b[0m\u001b[0;34m,\u001b[0m \u001b[0;34m\"Cannot call env.step() before calling reset()\"\u001b[0m\u001b[0;34m\u001b[0m\u001b[0;34m\u001b[0m\u001b[0m\n\u001b[0;32m---> 16\u001b[0;31m         \u001b[0mobservation\u001b[0m\u001b[0;34m,\u001b[0m \u001b[0mreward\u001b[0m\u001b[0;34m,\u001b[0m \u001b[0mdone\u001b[0m\u001b[0;34m,\u001b[0m \u001b[0minfo\u001b[0m \u001b[0;34m=\u001b[0m \u001b[0mself\u001b[0m\u001b[0;34m.\u001b[0m\u001b[0menv\u001b[0m\u001b[0;34m.\u001b[0m\u001b[0mstep\u001b[0m\u001b[0;34m(\u001b[0m\u001b[0maction\u001b[0m\u001b[0;34m)\u001b[0m\u001b[0;34m\u001b[0m\u001b[0;34m\u001b[0m\u001b[0m\n\u001b[0m\u001b[1;32m     17\u001b[0m         \u001b[0mself\u001b[0m\u001b[0;34m.\u001b[0m\u001b[0m_elapsed_steps\u001b[0m \u001b[0;34m+=\u001b[0m \u001b[0;36m1\u001b[0m\u001b[0;34m\u001b[0m\u001b[0;34m\u001b[0m\u001b[0m\n\u001b[1;32m     18\u001b[0m         \u001b[0;32mif\u001b[0m \u001b[0mself\u001b[0m\u001b[0;34m.\u001b[0m\u001b[0m_elapsed_steps\u001b[0m \u001b[0;34m>=\u001b[0m \u001b[0mself\u001b[0m\u001b[0;34m.\u001b[0m\u001b[0m_max_episode_steps\u001b[0m\u001b[0;34m:\u001b[0m\u001b[0;34m\u001b[0m\u001b[0;34m\u001b[0m\u001b[0m\n",
      "\u001b[0;32m/Users/stevenyin/opt/anaconda3/envs/py36/lib/python3.6/site-packages/gym/envs/mujoco/half_cheetah.py\u001b[0m in \u001b[0;36mstep\u001b[0;34m(self, action)\u001b[0m\n\u001b[1;32m     10\u001b[0m     \u001b[0;32mdef\u001b[0m \u001b[0mstep\u001b[0m\u001b[0;34m(\u001b[0m\u001b[0mself\u001b[0m\u001b[0;34m,\u001b[0m \u001b[0maction\u001b[0m\u001b[0;34m)\u001b[0m\u001b[0;34m:\u001b[0m\u001b[0;34m\u001b[0m\u001b[0;34m\u001b[0m\u001b[0m\n\u001b[1;32m     11\u001b[0m         \u001b[0mxposbefore\u001b[0m \u001b[0;34m=\u001b[0m \u001b[0mself\u001b[0m\u001b[0;34m.\u001b[0m\u001b[0msim\u001b[0m\u001b[0;34m.\u001b[0m\u001b[0mdata\u001b[0m\u001b[0;34m.\u001b[0m\u001b[0mqpos\u001b[0m\u001b[0;34m[\u001b[0m\u001b[0;36m0\u001b[0m\u001b[0;34m]\u001b[0m\u001b[0;34m\u001b[0m\u001b[0;34m\u001b[0m\u001b[0m\n\u001b[0;32m---> 12\u001b[0;31m         \u001b[0mself\u001b[0m\u001b[0;34m.\u001b[0m\u001b[0mdo_simulation\u001b[0m\u001b[0;34m(\u001b[0m\u001b[0maction\u001b[0m\u001b[0;34m,\u001b[0m \u001b[0mself\u001b[0m\u001b[0;34m.\u001b[0m\u001b[0mframe_skip\u001b[0m\u001b[0;34m)\u001b[0m\u001b[0;34m\u001b[0m\u001b[0;34m\u001b[0m\u001b[0m\n\u001b[0m\u001b[1;32m     13\u001b[0m         \u001b[0mxposafter\u001b[0m \u001b[0;34m=\u001b[0m \u001b[0mself\u001b[0m\u001b[0;34m.\u001b[0m\u001b[0msim\u001b[0m\u001b[0;34m.\u001b[0m\u001b[0mdata\u001b[0m\u001b[0;34m.\u001b[0m\u001b[0mqpos\u001b[0m\u001b[0;34m[\u001b[0m\u001b[0;36m0\u001b[0m\u001b[0;34m]\u001b[0m\u001b[0;34m\u001b[0m\u001b[0;34m\u001b[0m\u001b[0m\n\u001b[1;32m     14\u001b[0m         \u001b[0mob\u001b[0m \u001b[0;34m=\u001b[0m \u001b[0mself\u001b[0m\u001b[0;34m.\u001b[0m\u001b[0m_get_obs\u001b[0m\u001b[0;34m(\u001b[0m\u001b[0;34m)\u001b[0m\u001b[0;34m\u001b[0m\u001b[0;34m\u001b[0m\u001b[0m\n",
      "\u001b[0;32m/Users/stevenyin/opt/anaconda3/envs/py36/lib/python3.6/site-packages/gym/envs/mujoco/mujoco_env.py\u001b[0m in \u001b[0;36mdo_simulation\u001b[0;34m(self, ctrl, n_frames)\u001b[0m\n\u001b[1;32m    123\u001b[0m         \u001b[0mself\u001b[0m\u001b[0;34m.\u001b[0m\u001b[0msim\u001b[0m\u001b[0;34m.\u001b[0m\u001b[0mdata\u001b[0m\u001b[0;34m.\u001b[0m\u001b[0mctrl\u001b[0m\u001b[0;34m[\u001b[0m\u001b[0;34m:\u001b[0m\u001b[0;34m]\u001b[0m \u001b[0;34m=\u001b[0m \u001b[0mctrl\u001b[0m\u001b[0;34m\u001b[0m\u001b[0;34m\u001b[0m\u001b[0m\n\u001b[1;32m    124\u001b[0m         \u001b[0;32mfor\u001b[0m \u001b[0m_\u001b[0m \u001b[0;32min\u001b[0m \u001b[0mrange\u001b[0m\u001b[0;34m(\u001b[0m\u001b[0mn_frames\u001b[0m\u001b[0;34m)\u001b[0m\u001b[0;34m:\u001b[0m\u001b[0;34m\u001b[0m\u001b[0;34m\u001b[0m\u001b[0m\n\u001b[0;32m--> 125\u001b[0;31m             \u001b[0mself\u001b[0m\u001b[0;34m.\u001b[0m\u001b[0msim\u001b[0m\u001b[0;34m.\u001b[0m\u001b[0mstep\u001b[0m\u001b[0;34m(\u001b[0m\u001b[0;34m)\u001b[0m\u001b[0;34m\u001b[0m\u001b[0;34m\u001b[0m\u001b[0m\n\u001b[0m\u001b[1;32m    126\u001b[0m \u001b[0;34m\u001b[0m\u001b[0m\n\u001b[1;32m    127\u001b[0m     def render(self,\n",
      "\u001b[0;31mKeyboardInterrupt\u001b[0m: "
     ]
    }
   ],
   "source": [
    "single_params = params_set[1]\n",
    "single_params['learning_rate'] = 0.05\n",
    "master = get_policy(single_params)\n",
    "ts2, rewards2, master2 = run_asebo(single_params, master)"
   ]
  },
  {
   "cell_type": "markdown",
   "id": "1daf954b",
   "metadata": {},
   "source": [
    "## Save and Plot"
   ]
  },
  {
   "cell_type": "code",
   "execution_count": 60,
   "id": "2459d71b",
   "metadata": {},
   "outputs": [],
   "source": [
    "ts = np.load(\"./data/HalfCheetah-v2Linear_h16_lr1_num_sensings125__hessian_ts.npy\")\n",
    "rewards = np.load(\"./data/HalfCheetah-v2Linear_h16_lr1_num_sensings125__hessian_rs.npy\")"
   ]
  },
  {
   "cell_type": "code",
   "execution_count": 52,
   "id": "4d51b71f",
   "metadata": {},
   "outputs": [],
   "source": [
    "# np.save(\"./data/{}_hessian.npy\".format(params['dir']), master.params)\n",
    "# np.save(\"./data/{}_hessian_ts.npy\".format(params['dir']), ts)\n",
    "# np.save(\"./data/{}_hessian_rs.npy\".format(params['dir']), rewards)\n",
    "\n",
    "\n"
   ]
  },
  {
   "cell_type": "code",
   "execution_count": null,
   "id": "52ac9e4a",
   "metadata": {},
   "outputs": [],
   "source": [
    "asebo_ts = np.load(\"./data/InvertedPendulum-v2Toeplitz_h32_lr0.05_k140__asebo_ts.npy\")\n",
    "asebo_rewards = np.load(\"./data/InvertedPendulum-v2Toeplitz_h32_lr0.05_k140__asebo_rs.npy\")\n",
    "\n",
    "lpgrad_ts = np.load(\"./data/InvertedPendulum-v2Linear_h32_lr0.05_num_sensings100__LP_ts.npy\")\n",
    "lpgrad_rewards = np.load(\"./data/InvertedPendulum-v2Linear_h32_lr0.05_num_sensings100__LP_rs.npy\")\n",
    "\n"
   ]
  },
  {
   "cell_type": "code",
   "execution_count": 61,
   "id": "1fddf3bb",
   "metadata": {},
   "outputs": [
    {
     "data": {
      "text/plain": [
       "<matplotlib.legend.Legend at 0x7f9be28c8668>"
      ]
     },
     "execution_count": 61,
     "metadata": {},
     "output_type": "execute_result"
    },
    {
     "data": {
      "image/png": "[encoded data removed]",
      "text/plain": [
       "<Figure size 432x288 with 1 Axes>"
      ]
     },
     "metadata": {
      "needs_background": "light"
     },
     "output_type": "display_data"
    }
   ],
   "source": [
    "# plt.plot(asebo_ts, asebo_rewards, label=\"ASEBO\")\n",
    "# plt.plot(lpgrad_ts, lpgrad_rewards, label=\"LP gradient\")\n",
    "plt.plot(ts, rewards, label=\"LP Hessian\")\n",
    "plt.legend()\n"
   ]
  },
  {
   "cell_type": "markdown",
   "id": "345e7a36",
   "metadata": {},
   "source": [
    "# Testing"
   ]
  },
  {
   "cell_type": "code",
   "execution_count": null,
   "id": "5d50cdec",
   "metadata": {},
   "outputs": [],
   "source": [
    "master = get_policy(params)\n",
    "master.params=np.load(\"./data/{}_hessian.npy\".format(params['dir']))\n",
    "test_policy = worker(params, master, np.zeros([1, master.N]), 0)\n"
   ]
  },
  {
   "cell_type": "code",
   "execution_count": null,
   "id": "ea5c991e",
   "metadata": {},
   "outputs": [],
   "source": [
    "from gym.wrappers import Monitor\n",
    "env = Monitor(gym.make(params['env_name']), './video', force=True)\n",
    "env._max_episode_steps = params['steps']"
   ]
  },
  {
   "cell_type": "code",
   "execution_count": null,
   "id": "15e95524",
   "metadata": {},
   "outputs": [],
   "source": [
    "def play(env, worker):\n",
    "    state = env.reset()\n",
    "    while 1:\n",
    "        action = worker.policy.evaluate(state)\n",
    "        action = np.clip(action, worker.env.action_space.low[0], worker.env.action_space.high[0])\n",
    "        action = action.reshape(len(action), )\n",
    "        state, reward, done, info = env.step(action)\n",
    "        env.render()\n",
    "        if done: \n",
    "            break"
   ]
  },
  {
   "cell_type": "code",
   "execution_count": null,
   "id": "f6e69ff4",
   "metadata": {},
   "outputs": [],
   "source": [
    "play(env, test_policy)"
   ]
  },
  {
   "cell_type": "code",
   "execution_count": null,
   "id": "33324ed5",
   "metadata": {},
   "outputs": [],
   "source": [
    "np.save(\"./data/{}_hessian_ts.npy\".format(params['dir']), ts)\n",
    "np.save(\"./data/{}_hessian_rs.npy\".format(params['dir']), rewards)"
   ]
  },
  {
   "cell_type": "code",
   "execution_count": null,
   "id": "07706f57",
   "metadata": {},
   "outputs": [],
   "source": [
    "!open .\n"
   ]
  },
  {
   "cell_type": "code",
   "execution_count": null,
   "id": "e4c5db78",
   "metadata": {},
   "outputs": [],
   "source": []
  }
 ],
 "metadata": {
  "kernelspec": {
   "display_name": "Python 3",
   "language": "python",
   "name": "python3"
  },
  "language_info": {
   "codemirror_mode": {
    "name": "ipython",
    "version": 3
   },
   "file_extension": ".py",
   "mimetype": "text/x-python",
   "name": "python",
   "nbconvert_exporter": "python",
   "pygments_lexer": "ipython3",
   "version": "3.6.13"
  }
 },
 "nbformat": 4,
 "nbformat_minor": 5
}
