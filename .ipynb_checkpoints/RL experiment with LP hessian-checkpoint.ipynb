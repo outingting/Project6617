{
 "cells": [
  {
   "cell_type": "code",
   "execution_count": 60,
   "id": "7f6a63a6",
   "metadata": {},
   "outputs": [],
   "source": [
    "%load_ext autoreload\n",
    "%autoreload 2"
   ]
  },
  {
   "cell_type": "code",
   "execution_count": 62,
   "id": "22c7abca",
   "metadata": {},
   "outputs": [],
   "source": [
    "import numpy as np\n",
    "import pandas as pd\n",
    "import cvxpy as cp\n",
    "import gym\n",
    "import matplotlib.pyplot as plt\n",
    "from numpy.linalg import LinAlgError\n",
    "\n",
    "\n",
    "import sys\n",
    "sys.path.append('./asebo/')\n",
    "sys.path.append('./rl/')\n",
    "from optimizers import Adam\n",
    "from worker import worker, get_policy\n",
    "from es import ES\n",
    "\n",
    "from methods import Gradient_LP, Hessian_LP, Hessian_LP_structured, get_PTinverse, run_HessianES"
   ]
  },
  {
   "cell_type": "code",
   "execution_count": 63,
   "id": "4cc9408c",
   "metadata": {},
   "outputs": [],
   "source": [
    "def gradient_LP_estimator(all_rollouts, A, sigma):\n",
    "    # (F(theta + sigma*epsilons) - F(theta)) / sigma\n",
    "    gradient_y = np.array(all_rollouts[:-1, 0] - sum(all_rollouts[-1])/2) / sigma\n",
    "    g = Gradient_LP(gradient_y, A[:-1, :]/sigma)\n",
    "    \n",
    "    return g\n",
    "def gradient_LP_antithetic_estimator(all_rollouts, A, sigma):\n",
    "    gradient_y = np.array(\n",
    "            np.concatenate([all_rollouts[:-1, 0], all_rollouts[:-1, 1]])\n",
    "            - sum(all_rollouts[-1])/2\n",
    "        ) / sigma\n",
    "    epsilons = np.vstack([A[:-1, :]/sigma,-A[:-1, :]/sigma])\n",
    "    g = Gradient_LP(gradient_y, epsilons)\n",
    "    return g\n",
    "    \n",
    "def invHessian_LP_estimator(all_rollouts, A, sigma, H_lambda=1):\n",
    "    # (F(theta + sigma*epsilons) + F(theta - sigma*epsilons) - 2*F(theta)) / (sigma**2)\n",
    "    _, d = A.shape\n",
    "    hessian_y = np.array(all_rollouts[:-1, 0] + all_rollouts[:-1, 1] - sum(all_rollouts[-1])) / (sigma**2)\n",
    "    H = Hessian_LP(hessian_y, A[:-1, :]/sigma) - H_lambda*np.identity(d)\n",
    "    \n",
    "    try:\n",
    "        Hinv = np.linalg.inv(H)\n",
    "    except LinAlgError:\n",
    "        Hinv = -np.identity(d)\n",
    "        \n",
    "    return Hinv\n",
    "\n",
    "def invHessian_LP_structured_PTinv_estimator(all_rollouts, A, sigma, PT_threshold=-1):\n",
    "    # (F(theta + sigma*epsilons) + F(theta - sigma*epsilons) - 2*F(theta)) / (sigma**2)\n",
    "    _, d = A.shape\n",
    "    hessian_y = np.array(all_rollouts[:-1, 0] + all_rollouts[:-1, 1] - sum(all_rollouts[-1])) / (sigma**2)\n",
    "    var_H_diag, dct_mtx = Hessian_LP_structured(hessian_y, A[:-1, :]/sigma)\n",
    "    Hinv = dct_mtx @ (np.diag(get_PTinverse(var_H_diag, PT_threshold)) @ dct_mtx)\n",
    "    \n",
    "    return Hinv"
   ]
  },
  {
   "cell_type": "markdown",
   "id": "7bcda724",
   "metadata": {},
   "source": [
    "## Training"
   ]
  },
  {
   "cell_type": "code",
   "execution_count": 82,
   "id": "e337e185",
   "metadata": {},
   "outputs": [],
   "source": [
    "########### Setting up params ##########\n",
    "params = {\n",
    "# 'env_name': 'Swimmer-v2',\n",
    "'env_name': 'HalfCheetah-v2',\n",
    "# 'env_name': 'InvertedPendulum-v2',\n",
    "# 'env_name': 'Reacher-v2',\n",
    "# 'env_name': 'Hopper-v2',\n",
    "'steps':1000,\n",
    "'h_dim':16,\n",
    "'start':0,\n",
    "'max_iter':1000,\n",
    "'seed':0,\n",
    "'k':140, # ASEBO only?\n",
    "'num_sensings':125,\n",
    "'log':0,\n",
    "'threshold':0.995,\n",
    "'decay':0.99,\n",
    "'learning_rate':1,#0.05\n",
    "'filename':'',\n",
    "'policy':'Linear', # Linear or Toeplitz\n",
    "'shift':0,\n",
    "'min':10,\n",
    "'sigma':1e-4,\n",
    "'backtracking':True,\n",
    "'alpha': 1e-6,\n",
    "'beta': 0.5\n",
    "}\n",
    "\n",
    "gradient_estimator = gradient_LP_estimator\n",
    "invhessian_estimator = invHessian_LP_structured_PTinv_estimator"
   ]
  },
  {
   "cell_type": "code",
   "execution_count": 83,
   "id": "bdb2faa1",
   "metadata": {},
   "outputs": [],
   "source": [
    "########### Auto Param Setups ##########\n",
    "params['dir'] = params['env_name'] + params['policy'] + '_h' + str(params['h_dim']) + '_lr' + str(params['learning_rate']) + '_num_sensings' + str(params['num_sensings']) +'_' + params['filename']\n",
    "env = gym.make(params['env_name'])\n",
    "params['ob_dim'] = env.observation_space.shape[0]\n",
    "params['ac_dim'] = env.action_space.shape[0]\n",
    "params['k'] += -1\n",
    "# params['alpha'] = 1 # ASEBO only\n",
    "params['zeros'] = False\n",
    "if params['log']:\n",
    "    params['num_sensings'] = 4 + int(3 * np.log(master.N))"
   ]
  },
  {
   "cell_type": "markdown",
   "id": "f262552b",
   "metadata": {},
   "source": [
    "## Manuel Test"
   ]
  },
  {
   "cell_type": "code",
   "execution_count": 73,
   "id": "6b7b701d",
   "metadata": {},
   "outputs": [],
   "source": [
    "m = 0\n",
    "v = 0\n",
    "master = get_policy(params)\n",
    "\n",
    "n_samples = params['num_sensings']    \n",
    "np.random.seed(None)\n",
    "cov = np.identity(master.N)*(params[\"sigma\"]**2)\n",
    "mu = np.repeat(0, master.N)\n",
    "A = np.random.multivariate_normal(mu, cov, n_samples)\n",
    "A = np.vstack([A, mu]) # Adding a reference evaluation\n",
    "\n",
    "rollouts, timesteps = aggregate_rollouts_hessianES(master, A, params)"
   ]
  },
  {
   "cell_type": "code",
   "execution_count": 74,
   "id": "2502421b",
   "metadata": {},
   "outputs": [
    {
     "name": "stdout",
     "output_type": "stream",
     "text": [
      "CPU times: user 125 ms, sys: 5.17 ms, total: 130 ms\n",
      "Wall time: 130 ms\n"
     ]
    }
   ],
   "source": [
    "%%time\n",
    "g = gradient_estimator(rollouts, A, params[\"sigma\"])"
   ]
  },
  {
   "cell_type": "code",
   "execution_count": 75,
   "id": "fa6e0e71",
   "metadata": {},
   "outputs": [
    {
     "name": "stdout",
     "output_type": "stream",
     "text": [
      "CPU times: user 555 ms, sys: 5.1 ms, total: 560 ms\n",
      "Wall time: 563 ms\n"
     ]
    }
   ],
   "source": [
    "%%time\n",
    "invH = invhessian_estimator(rollouts, A, params[\"sigma\"])"
   ]
  },
  {
   "cell_type": "code",
   "execution_count": 76,
   "id": "e5cc034d",
   "metadata": {},
   "outputs": [
    {
     "data": {
      "text/plain": [
       "[-1.9803921568627896,\n",
       " -1.9803921568627871,\n",
       " -1.9803921568627796,\n",
       " -1.9803921568627767,\n",
       " -1.980392156862776,\n",
       " -1.9803921568627745,\n",
       " -1.980392156862774,\n",
       " -1.9803921568627714,\n",
       " -1.9803921568627698,\n",
       " -1.9803921568627696,\n",
       " -1.980392156862767,\n",
       " -1.9803921568627647,\n",
       " -1.980392156862762,\n",
       " -1.9803921568627616,\n",
       " -1.9803921568627603,\n",
       " -1.98039215686276,\n",
       " -1.9803921568627598,\n",
       " -1.9803921568627585,\n",
       " -1.9803921568627578,\n",
       " -1.9803921568627574,\n",
       " -1.9803921568627558,\n",
       " -1.9803921568627558,\n",
       " -1.9803921568627545,\n",
       " -1.980392156862754,\n",
       " -1.9803921568627538,\n",
       " -1.9803921568627536,\n",
       " -1.980392156862753,\n",
       " -1.9803921568627518,\n",
       " -1.9803921568627505,\n",
       " -1.9803921568627503,\n",
       " -1.9803921568627498,\n",
       " -1.9803921568627496,\n",
       " -1.9803921568627487,\n",
       " -1.9803921568627487,\n",
       " -1.980392156862748,\n",
       " -1.9803921568627472,\n",
       " -1.9803921568627472,\n",
       " -1.980392156862747,\n",
       " -1.9803921568627467,\n",
       " -1.9803921568627465,\n",
       " -1.9803921568627458,\n",
       " -1.9803921568627456,\n",
       " -1.9803921568627456,\n",
       " -1.9803921568627454,\n",
       " -1.9803921568627452,\n",
       " -1.9803921568627452,\n",
       " -1.9803921568627447,\n",
       " -1.9803921568627445,\n",
       " -1.9803921568627432,\n",
       " -1.980392156862743,\n",
       " -1.9803921568627423,\n",
       " -1.980392156862742,\n",
       " -1.9803921568627403,\n",
       " -1.98039215686274,\n",
       " -1.98039215686274,\n",
       " -1.9803921568627396,\n",
       " -1.980392156862739,\n",
       " -1.9803921568627387,\n",
       " -1.9803921568627374,\n",
       " -1.9803921568627354,\n",
       " -1.980392156862735,\n",
       " -1.9803921568627343,\n",
       " -1.9803921568627336,\n",
       " -1.9803921568627332,\n",
       " -1.9803921568627323,\n",
       " -1.9803921568627305,\n",
       " -1.9803921568627292,\n",
       " -1.9803921568627278,\n",
       " -1.9803921568627272,\n",
       " -1.9803921568627265,\n",
       " -1.9803921568627258,\n",
       " -1.9803921568627252,\n",
       " -1.9803921568627243,\n",
       " -1.9803921568627234,\n",
       " -1.980392156862723,\n",
       " -1.9803921568627203,\n",
       " -1.980392156862719,\n",
       " -1.980392156862716,\n",
       " -1.980392156862716,\n",
       " -1.9803921568627159,\n",
       " -1.9803921568627132,\n",
       " -1.9803921568627083,\n",
       " -1.9803921568627039,\n",
       " -0.0016691843145797357,\n",
       " -0.0013425365797188778,\n",
       " -0.0006652237082144551,\n",
       " -0.0004664185982926089,\n",
       " -0.00038640933451091077,\n",
       " -0.000373861174455951,\n",
       " -0.0003163660874867579,\n",
       " -0.00030918374228364393,\n",
       " -0.00024599108364995755,\n",
       " -0.00021278226477628522,\n",
       " -0.0001844436905909106,\n",
       " -0.0001717984692689145,\n",
       " -0.00017127850088407797,\n",
       " -0.0001559268953869918,\n",
       " -0.00014025293783219707,\n",
       " -0.00013038902034059692,\n",
       " -0.00011287643018880122,\n",
       " -7.716626346903846e-05,\n",
       " -6.231430957789438e-05]"
      ]
     },
     "execution_count": 76,
     "metadata": {},
     "output_type": "execute_result"
    }
   ],
   "source": [
    "sorted(np.linalg.eig(invH)[0])"
   ]
  },
  {
   "cell_type": "markdown",
   "id": "8409e924",
   "metadata": {},
   "source": [
    "## Train"
   ]
  },
  {
   "cell_type": "code",
   "execution_count": 84,
   "id": "af2c4b87",
   "metadata": {},
   "outputs": [
    {
     "name": "stdout",
     "output_type": "stream",
     "text": [
      "Policy Dimension:  102\n"
     ]
    },
    {
     "ename": "NameError",
     "evalue": "name 'HessianES' is not defined",
     "output_type": "error",
     "traceback": [
      "\u001b[0;31m---------------------------------------------------------------------------\u001b[0m",
      "\u001b[0;31mNameError\u001b[0m                                 Traceback (most recent call last)",
      "\u001b[0;32m<ipython-input-84-8f4e918f3c49>\u001b[0m in \u001b[0;36m<module>\u001b[0;34m()\u001b[0m\n\u001b[0;32m----> 1\u001b[0;31m \u001b[0mts\u001b[0m\u001b[0;34m,\u001b[0m \u001b[0mrewards\u001b[0m\u001b[0;34m,\u001b[0m \u001b[0mmaster\u001b[0m \u001b[0;34m=\u001b[0m \u001b[0mrun_HessianES\u001b[0m\u001b[0;34m(\u001b[0m\u001b[0mparams\u001b[0m\u001b[0;34m,\u001b[0m \u001b[0mgradient_estimator\u001b[0m\u001b[0;34m,\u001b[0m \u001b[0minvhessian_estimator\u001b[0m\u001b[0;34m)\u001b[0m\u001b[0;34m\u001b[0m\u001b[0;34m\u001b[0m\u001b[0m\n\u001b[0m",
      "\u001b[0;32m/Users/stevenyin/Google Drive/columbia/semester 9/krzysztof class/Project6617/rl/methods.py\u001b[0m in \u001b[0;36mrun_HessianES\u001b[0;34m(params, gradient_estimator, invhessian_estimator)\u001b[0m\n\u001b[1;32m    147\u001b[0m     \u001b[0;32mwhile\u001b[0m \u001b[0mn_iter\u001b[0m \u001b[0;34m<\u001b[0m \u001b[0mparams\u001b[0m\u001b[0;34m[\u001b[0m\u001b[0;34m'max_iter'\u001b[0m\u001b[0;34m]\u001b[0m\u001b[0;34m:\u001b[0m\u001b[0;34m\u001b[0m\u001b[0;34m\u001b[0m\u001b[0m\n\u001b[1;32m    148\u001b[0m         \u001b[0mparams\u001b[0m\u001b[0;34m[\u001b[0m\u001b[0;34m'n_iter'\u001b[0m\u001b[0;34m]\u001b[0m \u001b[0;34m=\u001b[0m \u001b[0mn_iter\u001b[0m\u001b[0;34m\u001b[0m\u001b[0;34m\u001b[0m\u001b[0m\n\u001b[0;32m--> 149\u001b[0;31m         \u001b[0mg\u001b[0m\u001b[0;34m,\u001b[0m \u001b[0minvH\u001b[0m\u001b[0;34m,\u001b[0m \u001b[0mn_samples\u001b[0m\u001b[0;34m,\u001b[0m \u001b[0mtimesteps\u001b[0m \u001b[0;34m=\u001b[0m \u001b[0mHessianES\u001b[0m\u001b[0;34m(\u001b[0m\u001b[0mparams\u001b[0m\u001b[0;34m,\u001b[0m \u001b[0mmaster\u001b[0m\u001b[0;34m,\u001b[0m \u001b[0mgradient_estimator\u001b[0m\u001b[0;34m,\u001b[0m \u001b[0minvhessian_estimator\u001b[0m\u001b[0;34m,\u001b[0m \u001b[0mseed\u001b[0m\u001b[0;34m=\u001b[0m\u001b[0;32mNone\u001b[0m\u001b[0;34m)\u001b[0m\u001b[0;34m\u001b[0m\u001b[0;34m\u001b[0m\u001b[0m\n\u001b[0m\u001b[1;32m    150\u001b[0m \u001b[0;34m\u001b[0m\u001b[0m\n\u001b[1;32m    151\u001b[0m         \u001b[0mupdate_direction\u001b[0m \u001b[0;34m=\u001b[0m \u001b[0;34m-\u001b[0m\u001b[0minvH\u001b[0m\u001b[0;34m@\u001b[0m\u001b[0mg\u001b[0m\u001b[0;34m\u001b[0m\u001b[0;34m\u001b[0m\u001b[0m\n",
      "\u001b[0;31mNameError\u001b[0m: name 'HessianES' is not defined"
     ]
    }
   ],
   "source": [
    "ts, rewards, master = run_HessianES(params, gradient_estimator, invhessian_estimator)"
   ]
  },
  {
   "cell_type": "code",
   "execution_count": 31,
   "id": "4d51b71f",
   "metadata": {},
   "outputs": [],
   "source": [
    "np.save(\"./data/{}_hessian.npy\".format(params['dir']), master.params)\n",
    "np.save(\"./data/{}_hessian_ts.npy\".format(params['dir']), ts)\n",
    "np.save(\"./data/{}_hessian_rs.npy\".format(params['dir']), rewards)\n",
    "\n",
    "\n"
   ]
  },
  {
   "cell_type": "code",
   "execution_count": 16,
   "id": "52ac9e4a",
   "metadata": {},
   "outputs": [],
   "source": [
    "asebo_ts = np.load(\"./data/InvertedPendulum-v2Toeplitz_h32_lr0.05_k140__asebo_ts.npy\")\n",
    "asebo_rewards = np.load(\"./data/InvertedPendulum-v2Toeplitz_h32_lr0.05_k140__asebo_rs.npy\")\n",
    "\n",
    "lpgrad_ts = np.load(\"./data/InvertedPendulum-v2Linear_h32_lr0.05_num_sensings100__LP_ts.npy\")\n",
    "lpgrad_rewards = np.load(\"./data/InvertedPendulum-v2Linear_h32_lr0.05_num_sensings100__LP_rs.npy\")\n",
    "\n"
   ]
  },
  {
   "cell_type": "code",
   "execution_count": 32,
   "id": "1fddf3bb",
   "metadata": {},
   "outputs": [
    {
     "data": {
      "text/plain": [
       "<matplotlib.legend.Legend at 0x7fe713a979e8>"
      ]
     },
     "execution_count": 32,
     "metadata": {},
     "output_type": "execute_result"
    },
    {
     "data": {
      "image/png": "[encoded data removed]",
      "text/plain": [
       "<Figure size 432x288 with 1 Axes>"
      ]
     },
     "metadata": {
      "needs_background": "light"
     },
     "output_type": "display_data"
    }
   ],
   "source": [
    "# plt.plot(asebo_ts, asebo_rewards, label=\"ASEBO\")\n",
    "# plt.plot(lpgrad_ts, lpgrad_rewards, label=\"LP gradient\")\n",
    "plt.plot(ts, rewards, label=\"LP Hessian\")\n",
    "plt.legend()\n"
   ]
  },
  {
   "cell_type": "markdown",
   "id": "345e7a36",
   "metadata": {},
   "source": [
    "# Testing"
   ]
  },
  {
   "cell_type": "code",
   "execution_count": null,
   "id": "5d50cdec",
   "metadata": {},
   "outputs": [],
   "source": [
    "master = get_policy(params)\n",
    "master.params=np.load(\"./data/{}_hessian.npy\".format(params['dir']))\n",
    "test_policy = worker(params, master, np.zeros([1, master.N]), 0)\n"
   ]
  },
  {
   "cell_type": "code",
   "execution_count": null,
   "id": "ea5c991e",
   "metadata": {},
   "outputs": [],
   "source": [
    "from gym.wrappers import Monitor\n",
    "env = Monitor(gym.make(params['env_name']), './video', force=True)\n",
    "env._max_episode_steps = params['steps']"
   ]
  },
  {
   "cell_type": "code",
   "execution_count": null,
   "id": "15e95524",
   "metadata": {},
   "outputs": [],
   "source": [
    "def play(env, worker):\n",
    "    state = env.reset()\n",
    "    while 1:\n",
    "        action = worker.policy.evaluate(state)\n",
    "        action = np.clip(action, worker.env.action_space.low[0], worker.env.action_space.high[0])\n",
    "        action = action.reshape(len(action), )\n",
    "        state, reward, done, info = env.step(action)\n",
    "        env.render()\n",
    "        if done: \n",
    "            break"
   ]
  },
  {
   "cell_type": "code",
   "execution_count": null,
   "id": "f6e69ff4",
   "metadata": {},
   "outputs": [],
   "source": [
    "play(env, test_policy)"
   ]
  },
  {
   "cell_type": "code",
   "execution_count": null,
   "id": "33324ed5",
   "metadata": {},
   "outputs": [],
   "source": [
    "np.save(\"./data/{}_hessian_ts.npy\".format(params['dir']), ts)\n",
    "np.save(\"./data/{}_hessian_rs.npy\".format(params['dir']), rewards)"
   ]
  },
  {
   "cell_type": "code",
   "execution_count": null,
   "id": "07706f57",
   "metadata": {},
   "outputs": [],
   "source": [
    "!open .\n"
   ]
  },
  {
   "cell_type": "code",
   "execution_count": null,
   "id": "e4c5db78",
   "metadata": {},
   "outputs": [],
   "source": []
  }
 ],
 "metadata": {
  "kernelspec": {
   "display_name": "Python 3",
   "language": "python",
   "name": "python3"
  },
  "language_info": {
   "codemirror_mode": {
    "name": "ipython",
    "version": 3
   },
   "file_extension": ".py",
   "mimetype": "text/x-python",
   "name": "python",
   "nbconvert_exporter": "python",
   "pygments_lexer": "ipython3",
   "version": "3.6.13"
  }
 },
 "nbformat": 4,
 "nbformat_minor": 5
}
