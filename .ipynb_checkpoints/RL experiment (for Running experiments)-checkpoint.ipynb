{
 "cells": [
  {
   "cell_type": "code",
   "execution_count": 31,
   "id": "00016ff5",
   "metadata": {},
   "outputs": [
    {
     "name": "stdout",
     "output_type": "stream",
     "text": [
      "The autoreload extension is already loaded. To reload it, use:\n",
      "  %reload_ext autoreload\n"
     ]
    }
   ],
   "source": [
    "%load_ext autoreload\n",
    "%autoreload 2"
   ]
  },
  {
   "cell_type": "code",
   "execution_count": 32,
   "id": "22c7abca",
   "metadata": {},
   "outputs": [],
   "source": [
    "import numpy as np\n",
    "import pandas as pd\n",
    "import cvxpy as cp\n",
    "import gym\n",
    "import matplotlib.pyplot as plt\n",
    "from numpy.linalg import LinAlgError\n",
    "import gurobipy\n",
    "\n",
    "import sys\n",
    "sys.path.append('./asebo/')\n",
    "sys.path.append('./rl/')\n",
    "from optimizers import Adam\n",
    "from worker import worker, get_policy\n",
    "from es import ES\n",
    "\n",
    "from methods import Gradient_LP, Hessian_LP, Hessian_LP_structured, \\\n",
    "                    get_PTinverse, run_HessianES, aggregate_rollouts_hessianES,\\\n",
    "                    run_asebo"
   ]
  },
  {
   "cell_type": "markdown",
   "id": "7bcda724",
   "metadata": {},
   "source": [
    "## Training"
   ]
  },
  {
   "cell_type": "code",
   "execution_count": 33,
   "id": "cc525b9d",
   "metadata": {},
   "outputs": [],
   "source": [
    "########### Setting up params ##########\n",
    "params = {\n",
    "# 'env_name': 'Swimmer-v2',\n",
    "'env_name': 'HalfCheetah-v2',\n",
    "# 'env_name': 'InvertedPendulum-v2',\n",
    "# 'env_name': 'Reacher-v2',\n",
    "# 'env_name': 'Hopper-v2',\n",
    "'steps':1000,\n",
    "'h_dim':16,\n",
    "'start':0,\n",
    "'max_iter':200,\n",
    "'seed':0,\n",
    "'k':140, # ASEBO only?\n",
    "'num_sensings':125,\n",
    "'log':0,\n",
    "'threshold':0.995,\n",
    "'decay':0.99,\n",
    "'learning_rate':1,#0.05\n",
    "'filename':'',\n",
    "'policy':'Linear', # Linear or Toeplitz\n",
    "'shift':0,\n",
    "'min':10,\n",
    "'sigma':1e-4,\n",
    "'backtracking':True,\n",
    "'alpha': 1e-6,\n",
    "'beta': 0.5\n",
    "}\n",
    "\n",
    "gradient_estimator = gradient_antithetic_estimator\n",
    "invhessian_estimator = invHessian_LP_structured_PTinv_estimator"
   ]
  },
  {
   "cell_type": "code",
   "execution_count": 34,
   "id": "3a9d9459",
   "metadata": {},
   "outputs": [],
   "source": [
    "########### Auto Param Setups ##########\n",
    "params['dir'] = params['env_name'] + params['policy'] + '_h' + str(params['h_dim']) + '_lr' + str(params['learning_rate']) + '_num_sensings' + str(params['num_sensings']) +'_' + params['filename']\n",
    "env = gym.make(params['env_name'])\n",
    "params['ob_dim'] = env.observation_space.shape[0]\n",
    "params['ac_dim'] = env.action_space.shape[0]\n",
    "params['k'] += -1\n",
    "# params['alpha'] = 1 # ASEBO only\n",
    "params['zeros'] = False\n",
    "if params['log']:\n",
    "    params['num_sensings'] = 4 + int(3 * np.log(master.N))"
   ]
  },
  {
   "cell_type": "markdown",
   "id": "55cd2f94",
   "metadata": {},
   "source": [
    "## Train"
   ]
  },
  {
   "cell_type": "code",
   "execution_count": 35,
   "id": "3e9de878",
   "metadata": {},
   "outputs": [],
   "source": [
    "sigmas = [1e-3, 1e-2, 1e-1, 1e0, 1e1, 1e2]\n",
    "params_set = [dict(params) for _ in range(len(sigmas))]\n",
    "for idx, params in enumerate(params_set):\n",
    "    params['sigma'] = sigmas[idx]"
   ]
  },
  {
   "cell_type": "code",
   "execution_count": 36,
   "id": "58fb2d73",
   "metadata": {},
   "outputs": [
    {
     "name": "stdout",
     "output_type": "stream",
     "text": [
      "Iteration: 1, Rollouts: 250, Reward: -633.292750866657, Alpha: 1, Samples: 125\n",
      "Iteration: 2, Rollouts: 500, Reward: -556.9645111738272, Alpha: 1, Samples: 125\n",
      "Iteration: 3, Rollouts: 750, Reward: -348.4882223768085, Alpha: 1, Samples: 125\n",
      "Iteration: 4, Rollouts: 1000, Reward: -486.0734762902246, Alpha: 1, Samples: 125\n",
      "Iteration: 5, Rollouts: 1250, Reward: -372.39899645135324, Alpha: 1, Samples: 125\n",
      "Iteration: 6, Rollouts: 1500, Reward: -104.53064364818921, Alpha: 1, Samples: 125\n",
      "Iteration: 7, Rollouts: 1750, Reward: 127.06389460600107, Alpha: 1, Samples: 125\n",
      "Iteration: 8, Rollouts: 2000, Reward: 171.81763463425838, Alpha: 1, Samples: 125\n",
      "Iteration: 9, Rollouts: 2250, Reward: 121.8836890897548, Alpha: 1, Samples: 125\n",
      "Iteration: 10, Rollouts: 2500, Reward: 184.8695350937522, Alpha: 1, Samples: 125\n",
      "Iteration: 11, Rollouts: 2750, Reward: 257.81306034754914, Alpha: 1, Samples: 125\n",
      "Iteration: 12, Rollouts: 3000, Reward: 393.37387860828517, Alpha: 1, Samples: 125\n",
      "Iteration: 13, Rollouts: 3250, Reward: 701.2018745086771, Alpha: 1, Samples: 125\n",
      "Iteration: 14, Rollouts: 3500, Reward: 681.940119924119, Alpha: 1, Samples: 125\n",
      "Iteration: 15, Rollouts: 3750, Reward: 687.8751452188112, Alpha: 1, Samples: 125\n",
      "Iteration: 16, Rollouts: 4000, Reward: 688.3241140337199, Alpha: 1, Samples: 125\n",
      "Iteration: 17, Rollouts: 4250, Reward: 685.3765019738281, Alpha: 1, Samples: 125\n",
      "Iteration: 18, Rollouts: 4500, Reward: 684.9894160358309, Alpha: 1, Samples: 125\n",
      "Iteration: 19, Rollouts: 4750, Reward: 686.5955667449721, Alpha: 1, Samples: 125\n",
      "Iteration: 20, Rollouts: 5000, Reward: 686.2139398709644, Alpha: 1, Samples: 125\n",
      "Iteration: 21, Rollouts: 5250, Reward: 677.8112680314782, Alpha: 1, Samples: 125\n",
      "Iteration: 22, Rollouts: 5500, Reward: 688.300424572195, Alpha: 1, Samples: 125\n",
      "Iteration: 23, Rollouts: 5750, Reward: 684.9637839709162, Alpha: 1, Samples: 125\n",
      "Iteration: 24, Rollouts: 6000, Reward: 686.4041928610311, Alpha: 1, Samples: 125\n",
      "Iteration: 25, Rollouts: 6250, Reward: 684.2329237258947, Alpha: 1, Samples: 125\n",
      "Iteration: 26, Rollouts: 6500, Reward: 688.7504293239463, Alpha: 1, Samples: 125\n",
      "Iteration: 27, Rollouts: 6750, Reward: 688.840920131748, Alpha: 1, Samples: 125\n",
      "Iteration: 28, Rollouts: 7000, Reward: 687.5808398168282, Alpha: 1, Samples: 125\n",
      "Iteration: 29, Rollouts: 7250, Reward: 677.2719180439602, Alpha: 1, Samples: 125\n",
      "Iteration: 30, Rollouts: 7500, Reward: 684.1223124785893, Alpha: 1, Samples: 125\n",
      "Iteration: 31, Rollouts: 7750, Reward: 689.8399170319327, Alpha: 1, Samples: 125\n",
      "Iteration: 32, Rollouts: 8000, Reward: 687.8773275263842, Alpha: 1, Samples: 125\n",
      "Iteration: 33, Rollouts: 8250, Reward: 677.0601321850388, Alpha: 1, Samples: 125\n",
      "Iteration: 34, Rollouts: 8500, Reward: 692.3225467736037, Alpha: 1, Samples: 125\n",
      "Iteration: 35, Rollouts: 8750, Reward: 688.2699813201406, Alpha: 1, Samples: 125\n",
      "Iteration: 36, Rollouts: 9000, Reward: 682.4603457730634, Alpha: 1, Samples: 125\n",
      "Iteration: 37, Rollouts: 9250, Reward: 694.7413245673753, Alpha: 1, Samples: 125\n",
      "Iteration: 38, Rollouts: 9500, Reward: 693.9646381055574, Alpha: 1, Samples: 125\n",
      "Iteration: 39, Rollouts: 9750, Reward: 685.4840405517358, Alpha: 1, Samples: 125\n",
      "Iteration: 40, Rollouts: 10000, Reward: 691.4744193540217, Alpha: 1, Samples: 125\n",
      "Iteration: 41, Rollouts: 10250, Reward: 691.5375930635106, Alpha: 1, Samples: 125\n",
      "Iteration: 42, Rollouts: 10500, Reward: 684.6176998438508, Alpha: 1, Samples: 125\n",
      "Iteration: 43, Rollouts: 10750, Reward: 693.9106764780001, Alpha: 1, Samples: 125\n",
      "Iteration: 44, Rollouts: 11000, Reward: 688.7735695453906, Alpha: 1, Samples: 125\n",
      "Iteration: 45, Rollouts: 11250, Reward: 692.6300880024666, Alpha: 1, Samples: 125\n"
     ]
    },
    {
     "ename": "KeyboardInterrupt",
     "evalue": "",
     "output_type": "error",
     "traceback": [
      "\u001b[0;31m---------------------------------------------------------------------------\u001b[0m",
      "\u001b[0;31mKeyboardInterrupt\u001b[0m                         Traceback (most recent call last)",
      "\u001b[0;32m<ipython-input-36-419799ca0096>\u001b[0m in \u001b[0;36m<module>\u001b[0;34m()\u001b[0m\n\u001b[1;32m      2\u001b[0m \u001b[0msingle_params\u001b[0m\u001b[0;34m[\u001b[0m\u001b[0;34m'learning_rate'\u001b[0m\u001b[0;34m]\u001b[0m \u001b[0;34m=\u001b[0m \u001b[0;36m0.05\u001b[0m\u001b[0;34m\u001b[0m\u001b[0;34m\u001b[0m\u001b[0m\n\u001b[1;32m      3\u001b[0m \u001b[0mmaster\u001b[0m \u001b[0;34m=\u001b[0m \u001b[0mget_policy\u001b[0m\u001b[0;34m(\u001b[0m\u001b[0msingle_params\u001b[0m\u001b[0;34m)\u001b[0m\u001b[0;34m\u001b[0m\u001b[0;34m\u001b[0m\u001b[0m\n\u001b[0;32m----> 4\u001b[0;31m \u001b[0mts2\u001b[0m\u001b[0;34m,\u001b[0m \u001b[0mrewards2\u001b[0m\u001b[0;34m,\u001b[0m \u001b[0mmaster2\u001b[0m \u001b[0;34m=\u001b[0m \u001b[0mrun_asebo\u001b[0m\u001b[0;34m(\u001b[0m\u001b[0msingle_params\u001b[0m\u001b[0;34m,\u001b[0m \u001b[0mmaster\u001b[0m\u001b[0;34m)\u001b[0m\u001b[0;34m\u001b[0m\u001b[0;34m\u001b[0m\u001b[0m\n\u001b[0m",
      "\u001b[0;32m/Users/stevenyin/Google Drive/columbia/semester 9/krzysztof class/Project6617/rl/methods.py\u001b[0m in \u001b[0;36mrun_asebo\u001b[0;34m(params, master)\u001b[0m\n\u001b[1;32m    326\u001b[0m \u001b[0;34m\u001b[0m\u001b[0m\n\u001b[1;32m    327\u001b[0m         \u001b[0mparams\u001b[0m\u001b[0;34m[\u001b[0m\u001b[0;34m'n_iter'\u001b[0m\u001b[0;34m]\u001b[0m \u001b[0;34m=\u001b[0m \u001b[0mn_iter\u001b[0m\u001b[0;34m\u001b[0m\u001b[0;34m\u001b[0m\u001b[0m\n\u001b[0;32m--> 328\u001b[0;31m         \u001b[0mgradient\u001b[0m\u001b[0;34m,\u001b[0m \u001b[0mn_samples\u001b[0m\u001b[0;34m,\u001b[0m \u001b[0mtimesteps\u001b[0m \u001b[0;34m=\u001b[0m \u001b[0mES\u001b[0m\u001b[0;34m(\u001b[0m\u001b[0mparams\u001b[0m\u001b[0;34m,\u001b[0m \u001b[0mmaster\u001b[0m\u001b[0;34m,\u001b[0m \u001b[0mG\u001b[0m\u001b[0;34m)\u001b[0m\u001b[0;34m\u001b[0m\u001b[0;34m\u001b[0m\u001b[0m\n\u001b[0m\u001b[1;32m    329\u001b[0m         \u001b[0mts_cumulative\u001b[0m \u001b[0;34m+=\u001b[0m \u001b[0mtimesteps\u001b[0m\u001b[0;34m\u001b[0m\u001b[0;34m\u001b[0m\u001b[0m\n\u001b[1;32m    330\u001b[0m         \u001b[0mts\u001b[0m\u001b[0;34m.\u001b[0m\u001b[0mappend\u001b[0m\u001b[0;34m(\u001b[0m\u001b[0mts_cumulative\u001b[0m\u001b[0;34m)\u001b[0m\u001b[0;34m\u001b[0m\u001b[0;34m\u001b[0m\u001b[0m\n",
      "\u001b[0;32m/Users/stevenyin/Google Drive/columbia/semester 9/krzysztof class/Project6617/asebo/es.py\u001b[0m in \u001b[0;36mES\u001b[0;34m(params, master, G)\u001b[0m\n\u001b[1;32m     63\u001b[0m     \u001b[0mA\u001b[0m \u001b[0;34m/=\u001b[0m \u001b[0mnp\u001b[0m\u001b[0;34m.\u001b[0m\u001b[0mlinalg\u001b[0m\u001b[0;34m.\u001b[0m\u001b[0mnorm\u001b[0m\u001b[0;34m(\u001b[0m\u001b[0mA\u001b[0m\u001b[0;34m,\u001b[0m \u001b[0maxis\u001b[0m \u001b[0;34m=\u001b[0m\u001b[0;34m-\u001b[0m\u001b[0;36m1\u001b[0m\u001b[0;34m)\u001b[0m\u001b[0;34m[\u001b[0m\u001b[0;34m:\u001b[0m\u001b[0;34m,\u001b[0m \u001b[0mnp\u001b[0m\u001b[0;34m.\u001b[0m\u001b[0mnewaxis\u001b[0m\u001b[0;34m]\u001b[0m\u001b[0;34m\u001b[0m\u001b[0;34m\u001b[0m\u001b[0m\n\u001b[1;32m     64\u001b[0m \u001b[0;34m\u001b[0m\u001b[0m\n\u001b[0;32m---> 65\u001b[0;31m     \u001b[0mm\u001b[0m\u001b[0;34m,\u001b[0m \u001b[0mtimesteps\u001b[0m \u001b[0;34m=\u001b[0m \u001b[0maggregate_rollouts\u001b[0m\u001b[0;34m(\u001b[0m\u001b[0mmaster\u001b[0m\u001b[0;34m,\u001b[0m \u001b[0mA\u001b[0m\u001b[0;34m,\u001b[0m \u001b[0mparams\u001b[0m\u001b[0;34m,\u001b[0m \u001b[0mn_samples\u001b[0m\u001b[0;34m)\u001b[0m\u001b[0;34m\u001b[0m\u001b[0;34m\u001b[0m\u001b[0m\n\u001b[0m\u001b[1;32m     66\u001b[0m \u001b[0;34m\u001b[0m\u001b[0m\n\u001b[1;32m     67\u001b[0m     \u001b[0mg\u001b[0m \u001b[0;34m=\u001b[0m \u001b[0mnp\u001b[0m\u001b[0;34m.\u001b[0m\u001b[0mzeros\u001b[0m\u001b[0;34m(\u001b[0m\u001b[0mmaster\u001b[0m\u001b[0;34m.\u001b[0m\u001b[0mN\u001b[0m\u001b[0;34m)\u001b[0m\u001b[0;34m\u001b[0m\u001b[0;34m\u001b[0m\u001b[0m\n",
      "\u001b[0;32m/Users/stevenyin/Google Drive/columbia/semester 9/krzysztof class/Project6617/asebo/es.py\u001b[0m in \u001b[0;36maggregate_rollouts\u001b[0;34m(master, A, params, n_samples)\u001b[0m\n\u001b[1;32m     15\u001b[0m     \u001b[0;32mfor\u001b[0m \u001b[0mi\u001b[0m \u001b[0;32min\u001b[0m \u001b[0mrange\u001b[0m\u001b[0;34m(\u001b[0m\u001b[0mn_samples\u001b[0m\u001b[0;34m)\u001b[0m\u001b[0;34m:\u001b[0m\u001b[0;34m\u001b[0m\u001b[0;34m\u001b[0m\u001b[0m\n\u001b[1;32m     16\u001b[0m         \u001b[0mw\u001b[0m \u001b[0;34m=\u001b[0m \u001b[0mworker\u001b[0m\u001b[0;34m(\u001b[0m\u001b[0mparams\u001b[0m\u001b[0;34m,\u001b[0m \u001b[0mmaster\u001b[0m\u001b[0;34m,\u001b[0m \u001b[0mA\u001b[0m\u001b[0;34m,\u001b[0m \u001b[0mi\u001b[0m\u001b[0;34m)\u001b[0m\u001b[0;34m\u001b[0m\u001b[0;34m\u001b[0m\u001b[0m\n\u001b[0;32m---> 17\u001b[0;31m         \u001b[0mall_rollouts\u001b[0m\u001b[0;34m[\u001b[0m\u001b[0mi\u001b[0m\u001b[0;34m]\u001b[0m \u001b[0;34m=\u001b[0m \u001b[0mnp\u001b[0m\u001b[0;34m.\u001b[0m\u001b[0mreshape\u001b[0m\u001b[0;34m(\u001b[0m\u001b[0mw\u001b[0m\u001b[0;34m.\u001b[0m\u001b[0mdo_rollouts\u001b[0m\u001b[0;34m(\u001b[0m\u001b[0;34m)\u001b[0m\u001b[0;34m,\u001b[0m \u001b[0;36m2\u001b[0m\u001b[0;34m)\u001b[0m\u001b[0;34m\u001b[0m\u001b[0;34m\u001b[0m\u001b[0m\n\u001b[0m\u001b[1;32m     18\u001b[0m         \u001b[0mtimesteps\u001b[0m \u001b[0;34m+=\u001b[0m \u001b[0mw\u001b[0m\u001b[0;34m.\u001b[0m\u001b[0mtimesteps\u001b[0m\u001b[0;34m\u001b[0m\u001b[0;34m\u001b[0m\u001b[0m\n\u001b[1;32m     19\u001b[0m \u001b[0;34m\u001b[0m\u001b[0m\n",
      "\u001b[0;32m/Users/stevenyin/Google Drive/columbia/semester 9/krzysztof class/Project6617/asebo/worker.py\u001b[0m in \u001b[0;36mdo_rollouts\u001b[0;34m(self, seed, train)\u001b[0m\n\u001b[1;32m     34\u001b[0m \u001b[0;34m\u001b[0m\u001b[0m\n\u001b[1;32m     35\u001b[0m         \u001b[0mself\u001b[0m\u001b[0;34m.\u001b[0m\u001b[0mpolicy\u001b[0m\u001b[0;34m.\u001b[0m\u001b[0mupdate\u001b[0m\u001b[0;34m(\u001b[0m\u001b[0mself\u001b[0m\u001b[0;34m.\u001b[0m\u001b[0mv\u001b[0m\u001b[0;34m)\u001b[0m\u001b[0;34m\u001b[0m\u001b[0;34m\u001b[0m\u001b[0m\n\u001b[0;32m---> 36\u001b[0;31m         \u001b[0mup\u001b[0m \u001b[0;34m=\u001b[0m \u001b[0mself\u001b[0m\u001b[0;34m.\u001b[0m\u001b[0mrollout\u001b[0m\u001b[0;34m(\u001b[0m\u001b[0mseed\u001b[0m\u001b[0;34m,\u001b[0m \u001b[0mtrain\u001b[0m\u001b[0;34m)\u001b[0m\u001b[0;34m\u001b[0m\u001b[0;34m\u001b[0m\u001b[0m\n\u001b[0m\u001b[1;32m     37\u001b[0m \u001b[0;34m\u001b[0m\u001b[0m\n\u001b[1;32m     38\u001b[0m         \u001b[0mself\u001b[0m\u001b[0;34m.\u001b[0m\u001b[0mpolicy\u001b[0m\u001b[0;34m.\u001b[0m\u001b[0mupdate\u001b[0m\u001b[0;34m(\u001b[0m\u001b[0;34m-\u001b[0m\u001b[0;36m2\u001b[0m \u001b[0;34m*\u001b[0m \u001b[0mself\u001b[0m\u001b[0;34m.\u001b[0m\u001b[0mv\u001b[0m\u001b[0;34m)\u001b[0m\u001b[0;34m\u001b[0m\u001b[0;34m\u001b[0m\u001b[0m\n",
      "\u001b[0;32m/Users/stevenyin/Google Drive/columbia/semester 9/krzysztof class/Project6617/asebo/worker.py\u001b[0m in \u001b[0;36mrollout\u001b[0;34m(self, seed, train, render)\u001b[0m\n\u001b[1;32m     51\u001b[0m             \u001b[0maction\u001b[0m \u001b[0;34m=\u001b[0m \u001b[0mnp\u001b[0m\u001b[0;34m.\u001b[0m\u001b[0mclip\u001b[0m\u001b[0;34m(\u001b[0m\u001b[0maction\u001b[0m\u001b[0;34m,\u001b[0m \u001b[0mself\u001b[0m\u001b[0;34m.\u001b[0m\u001b[0menv\u001b[0m\u001b[0;34m.\u001b[0m\u001b[0maction_space\u001b[0m\u001b[0;34m.\u001b[0m\u001b[0mlow\u001b[0m\u001b[0;34m[\u001b[0m\u001b[0;36m0\u001b[0m\u001b[0;34m]\u001b[0m\u001b[0;34m,\u001b[0m \u001b[0mself\u001b[0m\u001b[0;34m.\u001b[0m\u001b[0menv\u001b[0m\u001b[0;34m.\u001b[0m\u001b[0maction_space\u001b[0m\u001b[0;34m.\u001b[0m\u001b[0mhigh\u001b[0m\u001b[0;34m[\u001b[0m\u001b[0;36m0\u001b[0m\u001b[0;34m]\u001b[0m\u001b[0;34m)\u001b[0m\u001b[0;34m\u001b[0m\u001b[0;34m\u001b[0m\u001b[0m\n\u001b[1;32m     52\u001b[0m             \u001b[0maction\u001b[0m \u001b[0;34m=\u001b[0m \u001b[0maction\u001b[0m\u001b[0;34m.\u001b[0m\u001b[0mreshape\u001b[0m\u001b[0;34m(\u001b[0m\u001b[0mlen\u001b[0m\u001b[0;34m(\u001b[0m\u001b[0maction\u001b[0m\u001b[0;34m)\u001b[0m\u001b[0;34m,\u001b[0m \u001b[0;34m)\u001b[0m\u001b[0;34m\u001b[0m\u001b[0;34m\u001b[0m\u001b[0m\n\u001b[0;32m---> 53\u001b[0;31m             \u001b[0mstate\u001b[0m\u001b[0;34m,\u001b[0m \u001b[0mreward\u001b[0m\u001b[0;34m,\u001b[0m \u001b[0mdone\u001b[0m\u001b[0;34m,\u001b[0m \u001b[0m_\u001b[0m \u001b[0;34m=\u001b[0m \u001b[0mself\u001b[0m\u001b[0;34m.\u001b[0m\u001b[0menv\u001b[0m\u001b[0;34m.\u001b[0m\u001b[0mstep\u001b[0m\u001b[0;34m(\u001b[0m\u001b[0maction\u001b[0m\u001b[0;34m)\u001b[0m\u001b[0;34m\u001b[0m\u001b[0;34m\u001b[0m\u001b[0m\n\u001b[0m\u001b[1;32m     54\u001b[0m             \u001b[0;32mif\u001b[0m \u001b[0mrender\u001b[0m\u001b[0;34m:\u001b[0m\u001b[0;34m\u001b[0m\u001b[0;34m\u001b[0m\u001b[0m\n\u001b[1;32m     55\u001b[0m                 \u001b[0mself\u001b[0m\u001b[0;34m.\u001b[0m\u001b[0menv\u001b[0m\u001b[0;34m.\u001b[0m\u001b[0mrender\u001b[0m\u001b[0;34m(\u001b[0m\u001b[0;34m)\u001b[0m\u001b[0;34m\u001b[0m\u001b[0;34m\u001b[0m\u001b[0m\n",
      "\u001b[0;32m/Users/stevenyin/opt/anaconda3/envs/py36/lib/python3.6/site-packages/gym/wrappers/time_limit.py\u001b[0m in \u001b[0;36mstep\u001b[0;34m(self, action)\u001b[0m\n\u001b[1;32m     14\u001b[0m     \u001b[0;32mdef\u001b[0m \u001b[0mstep\u001b[0m\u001b[0;34m(\u001b[0m\u001b[0mself\u001b[0m\u001b[0;34m,\u001b[0m \u001b[0maction\u001b[0m\u001b[0;34m)\u001b[0m\u001b[0;34m:\u001b[0m\u001b[0;34m\u001b[0m\u001b[0;34m\u001b[0m\u001b[0m\n\u001b[1;32m     15\u001b[0m         \u001b[0;32massert\u001b[0m \u001b[0mself\u001b[0m\u001b[0;34m.\u001b[0m\u001b[0m_elapsed_steps\u001b[0m \u001b[0;32mis\u001b[0m \u001b[0;32mnot\u001b[0m \u001b[0;32mNone\u001b[0m\u001b[0;34m,\u001b[0m \u001b[0;34m\"Cannot call env.step() before calling reset()\"\u001b[0m\u001b[0;34m\u001b[0m\u001b[0;34m\u001b[0m\u001b[0m\n\u001b[0;32m---> 16\u001b[0;31m         \u001b[0mobservation\u001b[0m\u001b[0;34m,\u001b[0m \u001b[0mreward\u001b[0m\u001b[0;34m,\u001b[0m \u001b[0mdone\u001b[0m\u001b[0;34m,\u001b[0m \u001b[0minfo\u001b[0m \u001b[0;34m=\u001b[0m \u001b[0mself\u001b[0m\u001b[0;34m.\u001b[0m\u001b[0menv\u001b[0m\u001b[0;34m.\u001b[0m\u001b[0mstep\u001b[0m\u001b[0;34m(\u001b[0m\u001b[0maction\u001b[0m\u001b[0;34m)\u001b[0m\u001b[0;34m\u001b[0m\u001b[0;34m\u001b[0m\u001b[0m\n\u001b[0m\u001b[1;32m     17\u001b[0m         \u001b[0mself\u001b[0m\u001b[0;34m.\u001b[0m\u001b[0m_elapsed_steps\u001b[0m \u001b[0;34m+=\u001b[0m \u001b[0;36m1\u001b[0m\u001b[0;34m\u001b[0m\u001b[0;34m\u001b[0m\u001b[0m\n\u001b[1;32m     18\u001b[0m         \u001b[0;32mif\u001b[0m \u001b[0mself\u001b[0m\u001b[0;34m.\u001b[0m\u001b[0m_elapsed_steps\u001b[0m \u001b[0;34m>=\u001b[0m \u001b[0mself\u001b[0m\u001b[0;34m.\u001b[0m\u001b[0m_max_episode_steps\u001b[0m\u001b[0;34m:\u001b[0m\u001b[0;34m\u001b[0m\u001b[0;34m\u001b[0m\u001b[0m\n",
      "\u001b[0;32m/Users/stevenyin/opt/anaconda3/envs/py36/lib/python3.6/site-packages/gym/envs/mujoco/half_cheetah.py\u001b[0m in \u001b[0;36mstep\u001b[0;34m(self, action)\u001b[0m\n\u001b[1;32m     10\u001b[0m     \u001b[0;32mdef\u001b[0m \u001b[0mstep\u001b[0m\u001b[0;34m(\u001b[0m\u001b[0mself\u001b[0m\u001b[0;34m,\u001b[0m \u001b[0maction\u001b[0m\u001b[0;34m)\u001b[0m\u001b[0;34m:\u001b[0m\u001b[0;34m\u001b[0m\u001b[0;34m\u001b[0m\u001b[0m\n\u001b[1;32m     11\u001b[0m         \u001b[0mxposbefore\u001b[0m \u001b[0;34m=\u001b[0m \u001b[0mself\u001b[0m\u001b[0;34m.\u001b[0m\u001b[0msim\u001b[0m\u001b[0;34m.\u001b[0m\u001b[0mdata\u001b[0m\u001b[0;34m.\u001b[0m\u001b[0mqpos\u001b[0m\u001b[0;34m[\u001b[0m\u001b[0;36m0\u001b[0m\u001b[0;34m]\u001b[0m\u001b[0;34m\u001b[0m\u001b[0;34m\u001b[0m\u001b[0m\n\u001b[0;32m---> 12\u001b[0;31m         \u001b[0mself\u001b[0m\u001b[0;34m.\u001b[0m\u001b[0mdo_simulation\u001b[0m\u001b[0;34m(\u001b[0m\u001b[0maction\u001b[0m\u001b[0;34m,\u001b[0m \u001b[0mself\u001b[0m\u001b[0;34m.\u001b[0m\u001b[0mframe_skip\u001b[0m\u001b[0;34m)\u001b[0m\u001b[0;34m\u001b[0m\u001b[0;34m\u001b[0m\u001b[0m\n\u001b[0m\u001b[1;32m     13\u001b[0m         \u001b[0mxposafter\u001b[0m \u001b[0;34m=\u001b[0m \u001b[0mself\u001b[0m\u001b[0;34m.\u001b[0m\u001b[0msim\u001b[0m\u001b[0;34m.\u001b[0m\u001b[0mdata\u001b[0m\u001b[0;34m.\u001b[0m\u001b[0mqpos\u001b[0m\u001b[0;34m[\u001b[0m\u001b[0;36m0\u001b[0m\u001b[0;34m]\u001b[0m\u001b[0;34m\u001b[0m\u001b[0;34m\u001b[0m\u001b[0m\n\u001b[1;32m     14\u001b[0m         \u001b[0mob\u001b[0m \u001b[0;34m=\u001b[0m \u001b[0mself\u001b[0m\u001b[0;34m.\u001b[0m\u001b[0m_get_obs\u001b[0m\u001b[0;34m(\u001b[0m\u001b[0;34m)\u001b[0m\u001b[0;34m\u001b[0m\u001b[0;34m\u001b[0m\u001b[0m\n",
      "\u001b[0;32m/Users/stevenyin/opt/anaconda3/envs/py36/lib/python3.6/site-packages/gym/envs/mujoco/mujoco_env.py\u001b[0m in \u001b[0;36mdo_simulation\u001b[0;34m(self, ctrl, n_frames)\u001b[0m\n\u001b[1;32m    123\u001b[0m         \u001b[0mself\u001b[0m\u001b[0;34m.\u001b[0m\u001b[0msim\u001b[0m\u001b[0;34m.\u001b[0m\u001b[0mdata\u001b[0m\u001b[0;34m.\u001b[0m\u001b[0mctrl\u001b[0m\u001b[0;34m[\u001b[0m\u001b[0;34m:\u001b[0m\u001b[0;34m]\u001b[0m \u001b[0;34m=\u001b[0m \u001b[0mctrl\u001b[0m\u001b[0;34m\u001b[0m\u001b[0;34m\u001b[0m\u001b[0m\n\u001b[1;32m    124\u001b[0m         \u001b[0;32mfor\u001b[0m \u001b[0m_\u001b[0m \u001b[0;32min\u001b[0m \u001b[0mrange\u001b[0m\u001b[0;34m(\u001b[0m\u001b[0mn_frames\u001b[0m\u001b[0;34m)\u001b[0m\u001b[0;34m:\u001b[0m\u001b[0;34m\u001b[0m\u001b[0;34m\u001b[0m\u001b[0m\n\u001b[0;32m--> 125\u001b[0;31m             \u001b[0mself\u001b[0m\u001b[0;34m.\u001b[0m\u001b[0msim\u001b[0m\u001b[0;34m.\u001b[0m\u001b[0mstep\u001b[0m\u001b[0;34m(\u001b[0m\u001b[0;34m)\u001b[0m\u001b[0;34m\u001b[0m\u001b[0;34m\u001b[0m\u001b[0m\n\u001b[0m\u001b[1;32m    126\u001b[0m \u001b[0;34m\u001b[0m\u001b[0m\n\u001b[1;32m    127\u001b[0m     def render(self,\n",
      "\u001b[0;31mKeyboardInterrupt\u001b[0m: "
     ]
    }
   ],
   "source": [
    "single_params = params_set[1]\n",
    "single_params['learning_rate'] = 0.05\n",
    "master = get_policy(single_params)\n",
    "ts2, rewards2, master2 = run_asebo(single_params, master)"
   ]
  },
  {
   "cell_type": "markdown",
   "id": "e6c13d4b",
   "metadata": {},
   "source": [
    "## Save and Plot"
   ]
  },
  {
   "cell_type": "code",
   "execution_count": null,
   "id": "4d51b71f",
   "metadata": {},
   "outputs": [],
   "source": [
    "np.save(\"./data/{}/asebo_params.npy\".format(params['dir']), master2.params)\n",
    "np.save(\"./data/{}/asebo_ts.npy\".format(params['dir']), ts2)\n",
    "np.save(\"./data/{}/asebo_rs.npy\".format(params['dir']), rewards2)\n",
    "\n",
    "\n"
   ]
  },
  {
   "cell_type": "code",
   "execution_count": null,
   "id": "52ac9e4a",
   "metadata": {},
   "outputs": [],
   "source": [
    "# asebo_ts = np.load(\"./data/InvertedPendulum-v2Toeplitz_h32_lr0.05_k140__asebo_ts.npy\")\n",
    "# asebo_rewards = np.load(\"./data/InvertedPendulum-v2Toeplitz_h32_lr0.05_k140__asebo_rs.npy\")\n",
    "\n",
    "hessian_ts = np.load(\"./data/HalfCheetah-v2Linear_h16_lr1_num_sensings125__hessian_ts.npy\")\n",
    "hessian_rewards = np.load(\"./data/HalfCheetah-v2Linear_h16_lr1_num_sensings125__hessian_rs.npy\")"
   ]
  },
  {
   "cell_type": "code",
   "execution_count": 30,
   "id": "1fddf3bb",
   "metadata": {},
   "outputs": [
    {
     "ename": "NameError",
     "evalue": "name 'ts' is not defined",
     "output_type": "error",
     "traceback": [
      "\u001b[0;31m---------------------------------------------------------------------------\u001b[0m",
      "\u001b[0;31mNameError\u001b[0m                                 Traceback (most recent call last)",
      "\u001b[0;32m<ipython-input-30-04802fffe501>\u001b[0m in \u001b[0;36m<module>\u001b[0;34m()\u001b[0m\n\u001b[1;32m      1\u001b[0m \u001b[0;31m# plt.plot(asebo_ts, asebo_rewards, label=\"ASEBO\")\u001b[0m\u001b[0;34m\u001b[0m\u001b[0;34m\u001b[0m\u001b[0;34m\u001b[0m\u001b[0m\n\u001b[1;32m      2\u001b[0m \u001b[0;31m# plt.plot(lpgrad_ts, lpgrad_rewards, label=\"LP gradient\")\u001b[0m\u001b[0;34m\u001b[0m\u001b[0;34m\u001b[0m\u001b[0;34m\u001b[0m\u001b[0m\n\u001b[0;32m----> 3\u001b[0;31m \u001b[0mplt\u001b[0m\u001b[0;34m.\u001b[0m\u001b[0mplot\u001b[0m\u001b[0;34m(\u001b[0m\u001b[0mts\u001b[0m\u001b[0;34m,\u001b[0m \u001b[0mrewards\u001b[0m\u001b[0;34m,\u001b[0m \u001b[0mlabel\u001b[0m\u001b[0;34m=\u001b[0m\u001b[0;34m\"LP Hessian\"\u001b[0m\u001b[0;34m)\u001b[0m\u001b[0;34m\u001b[0m\u001b[0;34m\u001b[0m\u001b[0m\n\u001b[0m\u001b[1;32m      4\u001b[0m \u001b[0mplt\u001b[0m\u001b[0;34m.\u001b[0m\u001b[0mlegend\u001b[0m\u001b[0;34m(\u001b[0m\u001b[0;34m)\u001b[0m\u001b[0;34m\u001b[0m\u001b[0;34m\u001b[0m\u001b[0m\n",
      "\u001b[0;31mNameError\u001b[0m: name 'ts' is not defined"
     ]
    }
   ],
   "source": [
    "# plt.plot(asebo_ts, asebo_rewards, label=\"ASEBO\")\n",
    "# plt.plot(lpgrad_ts, lpgrad_rewards, label=\"LP gradient\")\n",
    "plt.plot(ts, rewards, label=\"LP Hessian\")\n",
    "plt.legend()\n"
   ]
  },
  {
   "cell_type": "markdown",
   "id": "345e7a36",
   "metadata": {},
   "source": [
    "# Testing"
   ]
  },
  {
   "cell_type": "code",
   "execution_count": null,
   "id": "5d50cdec",
   "metadata": {},
   "outputs": [],
   "source": [
    "master = get_policy(params)\n",
    "master.params=np.load(\"./data/{}_hessian.npy\".format(params['dir']))\n",
    "test_policy = worker(params, master, np.zeros([1, master.N]), 0)\n"
   ]
  },
  {
   "cell_type": "code",
   "execution_count": null,
   "id": "ea5c991e",
   "metadata": {},
   "outputs": [],
   "source": [
    "from gym.wrappers import Monitor\n",
    "env = Monitor(gym.make(params['env_name']), './video', force=True)\n",
    "env._max_episode_steps = params['steps']"
   ]
  },
  {
   "cell_type": "code",
   "execution_count": null,
   "id": "15e95524",
   "metadata": {},
   "outputs": [],
   "source": [
    "def play(env, worker):\n",
    "    state = env.reset()\n",
    "    while 1:\n",
    "        action = worker.policy.evaluate(state)\n",
    "        action = np.clip(action, worker.env.action_space.low[0], worker.env.action_space.high[0])\n",
    "        action = action.reshape(len(action), )\n",
    "        state, reward, done, info = env.step(action)\n",
    "        env.render()\n",
    "        if done: \n",
    "            break"
   ]
  },
  {
   "cell_type": "code",
   "execution_count": null,
   "id": "f6e69ff4",
   "metadata": {},
   "outputs": [],
   "source": [
    "play(env, test_policy)"
   ]
  },
  {
   "cell_type": "code",
   "execution_count": null,
   "id": "33324ed5",
   "metadata": {},
   "outputs": [],
   "source": [
    "np.save(\"./data/{}_hessian_ts.npy\".format(params['dir']), ts)\n",
    "np.save(\"./data/{}_hessian_rs.npy\".format(params['dir']), rewards)"
   ]
  },
  {
   "cell_type": "code",
   "execution_count": null,
   "id": "07706f57",
   "metadata": {},
   "outputs": [],
   "source": [
    "!open .\n"
   ]
  },
  {
   "cell_type": "code",
   "execution_count": null,
   "id": "e4c5db78",
   "metadata": {},
   "outputs": [],
   "source": []
  }
 ],
 "metadata": {
  "kernelspec": {
   "display_name": "Python 3",
   "language": "python",
   "name": "python3"
  },
  "language_info": {
   "codemirror_mode": {
    "name": "ipython",
    "version": 3
   },
   "file_extension": ".py",
   "mimetype": "text/x-python",
   "name": "python",
   "nbconvert_exporter": "python",
   "pygments_lexer": "ipython3",
   "version": "3.6.13"
  }
 },
 "nbformat": 4,
 "nbformat_minor": 5
}
