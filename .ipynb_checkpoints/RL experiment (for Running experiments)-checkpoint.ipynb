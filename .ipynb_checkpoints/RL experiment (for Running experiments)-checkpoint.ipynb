{
 "cells": [
  {
   "cell_type": "code",
   "execution_count": 50,
   "id": "00016ff5",
   "metadata": {},
   "outputs": [
    {
     "name": "stdout",
     "output_type": "stream",
     "text": [
      "The autoreload extension is already loaded. To reload it, use:\n",
      "  %reload_ext autoreload\n"
     ]
    }
   ],
   "source": [
    "%load_ext autoreload\n",
    "%autoreload 2"
   ]
  },
  {
   "cell_type": "code",
   "execution_count": 126,
   "id": "22c7abca",
   "metadata": {},
   "outputs": [],
   "source": [
    "import numpy as np\n",
    "import pandas as pd\n",
    "import cvxpy as cp\n",
    "import gym\n",
    "import matplotlib.pyplot as plt\n",
    "from numpy.linalg import LinAlgError\n",
    "import gurobipy\n",
    "import seaborn as sns\n",
    "\n",
    "import sys\n",
    "sys.path.append('./asebo/')\n",
    "sys.path.append('./rl/')\n",
    "from optimizers import Adam\n",
    "from worker import worker, get_policy\n",
    "from es import ES\n",
    "\n",
    "from methods import Gradient_LP, Hessian_LP, Hessian_LP_structured, \\\n",
    "                    get_PTinverse, run_HessianES, aggregate_rollouts_hessianES,\\\n",
    "                    run_asebo, gradient_LP_antithetic_estimator, invHessian_LP_structured_PTinv_estimator,\\\n",
    "                    invHessian_identity_estimator, run_HessianES,\\\n",
    "                    gradient_L2_antithetic_estimator, gradient_antithetic_estimator, invHessian_L2_structured_PTinv_estimator"
   ]
  },
  {
   "cell_type": "markdown",
   "id": "7bcda724",
   "metadata": {},
   "source": [
    "## Training"
   ]
  },
  {
   "cell_type": "code",
   "execution_count": 294,
   "id": "cc525b9d",
   "metadata": {},
   "outputs": [],
   "source": [
    "########### Setting up params ##########\n",
    "params = {\n",
    "# 'env_name': 'Swimmer-v2',\n",
    "# 'env_name': 'HalfCheetah-v2',\n",
    "# 'env_name': 'InvertedPendulum-v2',\n",
    "# 'env_name': 'InvertedDoublePendulum-v2',\n",
    "# 'env_name': 'Reacher-v2',\n",
    "'env_name': 'Hopper-v2',\n",
    "'steps':1000,\n",
    "'h_dim':16,\n",
    "'start':0,\n",
    "'max_iter':200,\n",
    "'seed':3,\n",
    "'k':140, # ASEBO only?\n",
    "'num_sensings':25,\n",
    "'log':False,\n",
    "'linear':True,\n",
    "'threshold':0.995,\n",
    "'decay':0.99,\n",
    "'learning_rate':0.05,#0.05\n",
    "'filename':'v2',\n",
    "'policy':'Linear', # Linear or Toeplitz\n",
    "'shift':0,\n",
    "'min':10,\n",
    "'sigma':1e-1,\n",
    "'backtracking':True,\n",
    "'alpha': 1e-6,\n",
    "'beta': 0.25,\n",
    "'sample_from_invH': False\n",
    "}\n",
    "\n",
    "\n",
    "\n",
    "gradient_estimator = gradient_LP_antithetic_estimator\n",
    "# gradient_estimator = gradient_antithetic_estimator\n",
    "# gradient_estimator = gradient_L2_antithetic_estimator\n",
    "\n",
    "invhessian_estimator = invHessian_LP_structured_PTinv_estimator\n",
    "\n",
    "# invhessian_estimator =  invHessian_identity_estimator\n",
    "# params['filename'] = \"identity\""
   ]
  },
  {
   "cell_type": "code",
   "execution_count": 295,
   "id": "3a9d9459",
   "metadata": {},
   "outputs": [],
   "source": [
    "########### Auto Param Setups ##########\n",
    "\n",
    "env = gym.make(params['env_name'])\n",
    "params['ob_dim'] = env.observation_space.shape[0]\n",
    "params['ac_dim'] = env.action_space.shape[0]\n",
    "params['k'] += -1\n",
    "# params['alpha'] = 1 # ASEBO only\n",
    "params['zeros'] = False\n",
    "master = get_policy(params)\n",
    "if params['log']:\n",
    "    params['num_sensings'] = 4 + int(3 * np.log(master.N))\n",
    "if params['linear']:\n",
    "    params['num_sensings'] = int(2 * master.N)"
   ]
  },
  {
   "cell_type": "markdown",
   "id": "55cd2f94",
   "metadata": {},
   "source": [
    "## Train"
   ]
  },
  {
   "cell_type": "code",
   "execution_count": 296,
   "id": "58fb2d73",
   "metadata": {
    "scrolled": true
   },
   "outputs": [
    {
     "name": "stdout",
     "output_type": "stream",
     "text": [
      "Policy Dimension:  33\n",
      "Iteration: 1, Leanring Rate: 1.000e+00, Rollouts: 132, Reward: 99.27, Update Direction Norm: 8.01\n",
      "Iteration: 2, Leanring Rate: 6.250e-02, Rollouts: 264, Reward: 316.81, Update Direction Norm: 18.82\n",
      "Iteration: 3, Leanring Rate: 3.906e-03, Rollouts: 396, Reward: 577.23, Update Direction Norm: 15.56\n",
      "Iteration: 4, Leanring Rate: 6.104e-05, Rollouts: 528, Reward: 579.27, Update Direction Norm: 21.51\n",
      "Iteration: 5, Leanring Rate: 3.906e-03, Rollouts: 660, Reward: 693.15, Update Direction Norm: 19.98\n",
      "Iteration: 6, Leanring Rate: 1.526e-05, Rollouts: 792, Reward: 736.68, Update Direction Norm: 22.70\n",
      "Iteration: 7, Leanring Rate: 2.441e-04, Rollouts: 924, Reward: 794.68, Update Direction Norm: 23.13\n",
      "Iteration: 8, Leanring Rate: 3.906e-03, Rollouts: 1056, Reward: 846.22, Update Direction Norm: 20.08\n",
      "Iteration: 9, Leanring Rate: 6.104e-05, Rollouts: 1188, Reward: 851.30, Update Direction Norm: 31.20\n",
      "Iteration: 10, Leanring Rate: 6.104e-05, Rollouts: 1320, Reward: 948.54, Update Direction Norm: 32.39\n",
      "Iteration: 11, Leanring Rate: 3.388e-21, Rollouts: 1452, Reward: 948.54, Update Direction Norm: 26.89\n",
      "Iteration: 12, Leanring Rate: 6.104e-05, Rollouts: 1584, Reward: 1014.25, Update Direction Norm: 29.37\n",
      "Iteration: 13, Leanring Rate: 1.526e-05, Rollouts: 1716, Reward: 1017.87, Update Direction Norm: 38.62\n",
      "Iteration: 14, Leanring Rate: 9.537e-07, Rollouts: 1848, Reward: 1018.15, Update Direction Norm: 34.96\n",
      "Iteration: 15, Leanring Rate: 2.384e-07, Rollouts: 1980, Reward: 1019.45, Update Direction Norm: 28.06\n",
      "Iteration: 16, Leanring Rate: 2.384e-07, Rollouts: 2112, Reward: 1019.54, Update Direction Norm: 27.92\n",
      "Iteration: 17, Leanring Rate: 9.537e-07, Rollouts: 2244, Reward: 1019.71, Update Direction Norm: 41.75\n",
      "Iteration: 18, Leanring Rate: 5.960e-08, Rollouts: 2376, Reward: 1019.73, Update Direction Norm: 24.83\n"
     ]
    },
    {
     "ename": "KeyboardInterrupt",
     "evalue": "",
     "output_type": "error",
     "traceback": [
      "\u001b[0;31m---------------------------------------------------------------------------\u001b[0m",
      "\u001b[0;31mKeyboardInterrupt\u001b[0m                         Traceback (most recent call last)",
      "\u001b[0;32m<ipython-input-296-537a7bee09b4>\u001b[0m in \u001b[0;36m<module>\u001b[0;34m()\u001b[0m\n\u001b[1;32m      2\u001b[0m \u001b[0;34m\u001b[0m\u001b[0m\n\u001b[1;32m      3\u001b[0m \u001b[0mparams\u001b[0m\u001b[0;34m[\u001b[0m\u001b[0;34m'learning_rate'\u001b[0m\u001b[0;34m]\u001b[0m \u001b[0;34m=\u001b[0m \u001b[0;36m1\u001b[0m\u001b[0;34m\u001b[0m\u001b[0;34m\u001b[0m\u001b[0m\n\u001b[0;32m----> 4\u001b[0;31m \u001b[0mts\u001b[0m\u001b[0;34m,\u001b[0m \u001b[0mrewards\u001b[0m\u001b[0;34m,\u001b[0m \u001b[0mmaster\u001b[0m \u001b[0;34m=\u001b[0m \u001b[0mrun_HessianES\u001b[0m\u001b[0;34m(\u001b[0m\u001b[0mparams\u001b[0m\u001b[0;34m,\u001b[0m \u001b[0mgradient_estimator\u001b[0m\u001b[0;34m,\u001b[0m \u001b[0minvhessian_estimator\u001b[0m\u001b[0;34m,\u001b[0m \u001b[0mmaster\u001b[0m\u001b[0;34m)\u001b[0m\u001b[0;34m\u001b[0m\u001b[0;34m\u001b[0m\u001b[0m\n\u001b[0m\u001b[1;32m      5\u001b[0m \u001b[0;34m\u001b[0m\u001b[0m\n\u001b[1;32m      6\u001b[0m \u001b[0;31m# params['learning_rate'] = 0.05\u001b[0m\u001b[0;34m\u001b[0m\u001b[0;34m\u001b[0m\u001b[0;34m\u001b[0m\u001b[0m\n",
      "\u001b[0;32m/Users/stevenyin/Google Drive/columbia/semester 9/krzysztof class/Project6617/rl/methods.py\u001b[0m in \u001b[0;36mrun_HessianES\u001b[0;34m(params, gradient_estimator, invhessian_estimator, master)\u001b[0m\n\u001b[1;32m    324\u001b[0m     \u001b[0;32mwhile\u001b[0m \u001b[0mn_iter\u001b[0m \u001b[0;34m<\u001b[0m \u001b[0mparams\u001b[0m\u001b[0;34m[\u001b[0m\u001b[0;34m'max_iter'\u001b[0m\u001b[0;34m]\u001b[0m\u001b[0;34m:\u001b[0m\u001b[0;34m\u001b[0m\u001b[0;34m\u001b[0m\u001b[0m\n\u001b[1;32m    325\u001b[0m         \u001b[0mparams\u001b[0m\u001b[0;34m[\u001b[0m\u001b[0;34m'n_iter'\u001b[0m\u001b[0;34m]\u001b[0m \u001b[0;34m=\u001b[0m \u001b[0mn_iter\u001b[0m\u001b[0;34m\u001b[0m\u001b[0;34m\u001b[0m\u001b[0m\n\u001b[0;32m--> 326\u001b[0;31m         \u001b[0mg\u001b[0m\u001b[0;34m,\u001b[0m \u001b[0minvH\u001b[0m\u001b[0;34m,\u001b[0m \u001b[0mn_samples\u001b[0m\u001b[0;34m,\u001b[0m \u001b[0mtimesteps\u001b[0m \u001b[0;34m=\u001b[0m \u001b[0mHessianESv2\u001b[0m\u001b[0;34m(\u001b[0m\u001b[0mparams\u001b[0m\u001b[0;34m,\u001b[0m \u001b[0mmaster\u001b[0m\u001b[0;34m,\u001b[0m \u001b[0mgradient_estimator\u001b[0m\u001b[0;34m,\u001b[0m \u001b[0minvhessian_estimator\u001b[0m\u001b[0;34m,\u001b[0m \u001b[0mcov\u001b[0m\u001b[0;34m)\u001b[0m\u001b[0;34m\u001b[0m\u001b[0;34m\u001b[0m\u001b[0m\n\u001b[0m\u001b[1;32m    327\u001b[0m         \u001b[0;32mif\u001b[0m \u001b[0mparams\u001b[0m\u001b[0;34m[\u001b[0m\u001b[0;34m'sample_from_invH'\u001b[0m\u001b[0;34m]\u001b[0m\u001b[0;34m:\u001b[0m\u001b[0;34m\u001b[0m\u001b[0;34m\u001b[0m\u001b[0m\n\u001b[1;32m    328\u001b[0m             \u001b[0mcov\u001b[0m \u001b[0;34m=\u001b[0m \u001b[0;34m-\u001b[0m\u001b[0minvH\u001b[0m\u001b[0;34m\u001b[0m\u001b[0;34m\u001b[0m\u001b[0m\n",
      "\u001b[0;32m/Users/stevenyin/Google Drive/columbia/semester 9/krzysztof class/Project6617/rl/methods.py\u001b[0m in \u001b[0;36mHessianESv2\u001b[0;34m(params, master, gradient_estimator, invhessian_estimator, cov)\u001b[0m\n\u001b[1;32m    293\u001b[0m     \u001b[0mA\u001b[0m \u001b[0;34m=\u001b[0m \u001b[0mnp\u001b[0m\u001b[0;34m.\u001b[0m\u001b[0mvstack\u001b[0m\u001b[0;34m(\u001b[0m\u001b[0;34m[\u001b[0m\u001b[0mA\u001b[0m\u001b[0;34m,\u001b[0m \u001b[0mmu\u001b[0m\u001b[0;34m]\u001b[0m\u001b[0;34m)\u001b[0m \u001b[0;31m# Adding a reference evaluation\u001b[0m\u001b[0;34m\u001b[0m\u001b[0;34m\u001b[0m\u001b[0m\n\u001b[1;32m    294\u001b[0m \u001b[0;34m\u001b[0m\u001b[0m\n\u001b[0;32m--> 295\u001b[0;31m     \u001b[0mrollouts\u001b[0m\u001b[0;34m,\u001b[0m \u001b[0mtimesteps\u001b[0m \u001b[0;34m=\u001b[0m \u001b[0maggregate_rollouts_hessianES\u001b[0m\u001b[0;34m(\u001b[0m\u001b[0mmaster\u001b[0m\u001b[0;34m,\u001b[0m \u001b[0mA\u001b[0m\u001b[0;34m,\u001b[0m \u001b[0mparams\u001b[0m\u001b[0;34m)\u001b[0m\u001b[0;34m\u001b[0m\u001b[0;34m\u001b[0m\u001b[0m\n\u001b[0m\u001b[1;32m    296\u001b[0m \u001b[0;34m\u001b[0m\u001b[0m\n\u001b[1;32m    297\u001b[0m     \u001b[0mg\u001b[0m \u001b[0;34m=\u001b[0m \u001b[0mgradient_estimator\u001b[0m\u001b[0;34m(\u001b[0m\u001b[0mrollouts\u001b[0m\u001b[0;34m,\u001b[0m \u001b[0mA\u001b[0m\u001b[0;34m,\u001b[0m \u001b[0mparams\u001b[0m\u001b[0;34m[\u001b[0m\u001b[0;34m\"sigma\"\u001b[0m\u001b[0;34m]\u001b[0m\u001b[0;34m,\u001b[0m \u001b[0mnp\u001b[0m\u001b[0;34m.\u001b[0m\u001b[0mlinalg\u001b[0m\u001b[0;34m.\u001b[0m\u001b[0minv\u001b[0m\u001b[0;34m(\u001b[0m\u001b[0mcov\u001b[0m\u001b[0;34m)\u001b[0m\u001b[0;34m)\u001b[0m\u001b[0;34m\u001b[0m\u001b[0;34m\u001b[0m\u001b[0m\n",
      "\u001b[0;32m/Users/stevenyin/Google Drive/columbia/semester 9/krzysztof class/Project6617/rl/methods.py\u001b[0m in \u001b[0;36maggregate_rollouts_hessianES\u001b[0;34m(master, A, params)\u001b[0m\n\u001b[1;32m    177\u001b[0m     \u001b[0;32mfor\u001b[0m \u001b[0mi\u001b[0m \u001b[0;32min\u001b[0m \u001b[0mrange\u001b[0m\u001b[0;34m(\u001b[0m\u001b[0mn\u001b[0m\u001b[0;34m)\u001b[0m\u001b[0;34m:\u001b[0m\u001b[0;34m\u001b[0m\u001b[0;34m\u001b[0m\u001b[0m\n\u001b[1;32m    178\u001b[0m         \u001b[0mw\u001b[0m \u001b[0;34m=\u001b[0m \u001b[0mworker\u001b[0m\u001b[0;34m(\u001b[0m\u001b[0mparams\u001b[0m\u001b[0;34m,\u001b[0m \u001b[0mmaster\u001b[0m\u001b[0;34m,\u001b[0m \u001b[0mA\u001b[0m\u001b[0;34m,\u001b[0m \u001b[0mi\u001b[0m\u001b[0;34m)\u001b[0m\u001b[0;34m\u001b[0m\u001b[0;34m\u001b[0m\u001b[0m\n\u001b[0;32m--> 179\u001b[0;31m         \u001b[0mall_rollouts\u001b[0m\u001b[0;34m[\u001b[0m\u001b[0mi\u001b[0m\u001b[0;34m]\u001b[0m \u001b[0;34m=\u001b[0m \u001b[0mnp\u001b[0m\u001b[0;34m.\u001b[0m\u001b[0mreshape\u001b[0m\u001b[0;34m(\u001b[0m\u001b[0mw\u001b[0m\u001b[0;34m.\u001b[0m\u001b[0mdo_rollouts\u001b[0m\u001b[0;34m(\u001b[0m\u001b[0;34m)\u001b[0m\u001b[0;34m,\u001b[0m \u001b[0;36m2\u001b[0m\u001b[0;34m)\u001b[0m\u001b[0;34m\u001b[0m\u001b[0;34m\u001b[0m\u001b[0m\n\u001b[0m\u001b[1;32m    180\u001b[0m         \u001b[0mtimesteps\u001b[0m \u001b[0;34m+=\u001b[0m \u001b[0mw\u001b[0m\u001b[0;34m.\u001b[0m\u001b[0mtimesteps\u001b[0m\u001b[0;34m\u001b[0m\u001b[0;34m\u001b[0m\u001b[0m\n\u001b[1;32m    181\u001b[0m \u001b[0;34m\u001b[0m\u001b[0m\n",
      "\u001b[0;32m/Users/stevenyin/Google Drive/columbia/semester 9/krzysztof class/Project6617/asebo/worker.py\u001b[0m in \u001b[0;36mdo_rollouts\u001b[0;34m(self, seed, train)\u001b[0m\n\u001b[1;32m     37\u001b[0m \u001b[0;34m\u001b[0m\u001b[0m\n\u001b[1;32m     38\u001b[0m         \u001b[0mself\u001b[0m\u001b[0;34m.\u001b[0m\u001b[0mpolicy\u001b[0m\u001b[0;34m.\u001b[0m\u001b[0mupdate\u001b[0m\u001b[0;34m(\u001b[0m\u001b[0;34m-\u001b[0m\u001b[0;36m2\u001b[0m \u001b[0;34m*\u001b[0m \u001b[0mself\u001b[0m\u001b[0;34m.\u001b[0m\u001b[0mv\u001b[0m\u001b[0;34m)\u001b[0m\u001b[0;34m\u001b[0m\u001b[0;34m\u001b[0m\u001b[0m\n\u001b[0;32m---> 39\u001b[0;31m         \u001b[0mdown\u001b[0m \u001b[0;34m=\u001b[0m \u001b[0mself\u001b[0m\u001b[0;34m.\u001b[0m\u001b[0mrollout\u001b[0m\u001b[0;34m(\u001b[0m\u001b[0mseed\u001b[0m\u001b[0;34m,\u001b[0m \u001b[0mtrain\u001b[0m\u001b[0;34m)\u001b[0m\u001b[0;34m\u001b[0m\u001b[0;34m\u001b[0m\u001b[0m\n\u001b[0m\u001b[1;32m     40\u001b[0m \u001b[0;34m\u001b[0m\u001b[0m\n\u001b[1;32m     41\u001b[0m         \u001b[0;32mreturn\u001b[0m\u001b[0;34m(\u001b[0m\u001b[0mnp\u001b[0m\u001b[0;34m.\u001b[0m\u001b[0marray\u001b[0m\u001b[0;34m(\u001b[0m\u001b[0;34m[\u001b[0m\u001b[0mup\u001b[0m\u001b[0;34m,\u001b[0m \u001b[0mdown\u001b[0m\u001b[0;34m]\u001b[0m\u001b[0;34m)\u001b[0m\u001b[0;34m)\u001b[0m\u001b[0;34m\u001b[0m\u001b[0;34m\u001b[0m\u001b[0m\n",
      "\u001b[0;32m/Users/stevenyin/Google Drive/columbia/semester 9/krzysztof class/Project6617/asebo/worker.py\u001b[0m in \u001b[0;36mrollout\u001b[0;34m(self, seed, train, render)\u001b[0m\n\u001b[1;32m     50\u001b[0m             \u001b[0maction\u001b[0m \u001b[0;34m=\u001b[0m \u001b[0mself\u001b[0m\u001b[0;34m.\u001b[0m\u001b[0mpolicy\u001b[0m\u001b[0;34m.\u001b[0m\u001b[0mevaluate\u001b[0m\u001b[0;34m(\u001b[0m\u001b[0mstate\u001b[0m\u001b[0;34m)\u001b[0m\u001b[0;34m\u001b[0m\u001b[0;34m\u001b[0m\u001b[0m\n\u001b[1;32m     51\u001b[0m             \u001b[0maction\u001b[0m \u001b[0;34m=\u001b[0m \u001b[0mnp\u001b[0m\u001b[0;34m.\u001b[0m\u001b[0mclip\u001b[0m\u001b[0;34m(\u001b[0m\u001b[0maction\u001b[0m\u001b[0;34m,\u001b[0m \u001b[0mself\u001b[0m\u001b[0;34m.\u001b[0m\u001b[0menv\u001b[0m\u001b[0;34m.\u001b[0m\u001b[0maction_space\u001b[0m\u001b[0;34m.\u001b[0m\u001b[0mlow\u001b[0m\u001b[0;34m[\u001b[0m\u001b[0;36m0\u001b[0m\u001b[0;34m]\u001b[0m\u001b[0;34m,\u001b[0m \u001b[0mself\u001b[0m\u001b[0;34m.\u001b[0m\u001b[0menv\u001b[0m\u001b[0;34m.\u001b[0m\u001b[0maction_space\u001b[0m\u001b[0;34m.\u001b[0m\u001b[0mhigh\u001b[0m\u001b[0;34m[\u001b[0m\u001b[0;36m0\u001b[0m\u001b[0;34m]\u001b[0m\u001b[0;34m)\u001b[0m\u001b[0;34m\u001b[0m\u001b[0;34m\u001b[0m\u001b[0m\n\u001b[0;32m---> 52\u001b[0;31m             \u001b[0maction\u001b[0m \u001b[0;34m=\u001b[0m \u001b[0maction\u001b[0m\u001b[0;34m.\u001b[0m\u001b[0mreshape\u001b[0m\u001b[0;34m(\u001b[0m\u001b[0mlen\u001b[0m\u001b[0;34m(\u001b[0m\u001b[0maction\u001b[0m\u001b[0;34m)\u001b[0m\u001b[0;34m,\u001b[0m \u001b[0;34m)\u001b[0m\u001b[0;34m\u001b[0m\u001b[0;34m\u001b[0m\u001b[0m\n\u001b[0m\u001b[1;32m     53\u001b[0m             \u001b[0mstate\u001b[0m\u001b[0;34m,\u001b[0m \u001b[0mreward\u001b[0m\u001b[0;34m,\u001b[0m \u001b[0mdone\u001b[0m\u001b[0;34m,\u001b[0m \u001b[0m_\u001b[0m \u001b[0;34m=\u001b[0m \u001b[0mself\u001b[0m\u001b[0;34m.\u001b[0m\u001b[0menv\u001b[0m\u001b[0;34m.\u001b[0m\u001b[0mstep\u001b[0m\u001b[0;34m(\u001b[0m\u001b[0maction\u001b[0m\u001b[0;34m)\u001b[0m\u001b[0;34m\u001b[0m\u001b[0;34m\u001b[0m\u001b[0m\n\u001b[1;32m     54\u001b[0m             \u001b[0;32mif\u001b[0m \u001b[0mrender\u001b[0m\u001b[0;34m:\u001b[0m\u001b[0;34m\u001b[0m\u001b[0;34m\u001b[0m\u001b[0m\n",
      "\u001b[0;31mKeyboardInterrupt\u001b[0m: "
     ]
    }
   ],
   "source": [
    "master = get_policy(params)\n",
    "\n",
    "# params['learning_rate'] = 1\n",
    "# ts, rewards, master = run_HessianES(params, gradient_estimator, invhessian_estimator, master)\n",
    "\n",
    "params['learning_rate'] = 0.05\n",
    "ts, rewards, master = run_asebo(params, master)"
   ]
  },
  {
   "cell_type": "markdown",
   "id": "e6c13d4b",
   "metadata": {},
   "source": [
    "## Save and Plot"
   ]
  },
  {
   "cell_type": "code",
   "execution_count": 55,
   "id": "4d51b71f",
   "metadata": {},
   "outputs": [],
   "source": [
    "# np.save(\"./data/{}/asebo_params.npy\".format(params['dir']), master.params)\n",
    "# np.save(\"./data/{}/asebo_ts.npy\".format(params['dir']), ts)\n",
    "# np.save(\"./data/{}/asebo_rs.npy\".format(params['dir']), rewards)\n"
   ]
  },
  {
   "cell_type": "code",
   "execution_count": 297,
   "id": "52ac9e4a",
   "metadata": {},
   "outputs": [],
   "source": [
    "title = \"Swimmer-v2\"\n",
    "asebo_df = pd.read_csv(\"./data/Swimmer-v2Linear_h16_lr0.05_num_sensings125_/Seed0.csv\")\n",
    "hessian_df = pd.read_csv(\"./data/Swimmer-v2Linear_h16_lr1_num_sensings125__hessianES/Seed0.csv\")\n",
    "# hessian_dfv2 = pd.read_csv(\"./data/Swimmer-v2Linear_h16_lr1_num_sensings32_v2_hessianES/Seed0.csv\")\n",
    "hessian_dfv2 = pd.read_csv(\"./data/Swimmer-v2Linear_h16_lr1_num_sensings32_sampleFromInvHFalse_hessianES/Seed2.csv\")\n",
    "hessian_dfv3 = pd.read_csv(\"./data/Swimmer-v2Linear_h16_lr1_num_sensings32_sampleFromInvHFalse_hessianES/Seed1.csv\")\n",
    "\n",
    "\n",
    "\n",
    "# title = \"InvertedPendulum-v2\"\n",
    "# asebo_df = pd.read_csv(\"./data/InvertedPendulum-v2Linear_h16_lr1_num_sensings25__asebo/Seed0.csv\")\n",
    "# hessian_df = pd.read_csv(\"./data/InvertedPendulum-v2Linear_h16_lr1_num_sensings25__hessianES/Seed0.csv\")\n",
    "# hessian_dfv2 = pd.read_csv(\"./data/InvertedPendulum-v2Linear_h16_lr1_num_sensings8_v2_hessianES/Seed0.csv\")\n",
    "# hessian_dfv3 = pd.read_csv(\"./data/InvertedPendulum-v2Linear_h16_lr1_num_sensings8_sampleFromInvHFalse_hessianES/Seed0.csv\")\n",
    "\n",
    "\n",
    "title = \"Hopper-v2\"\n",
    "asebo_df = pd.read_csv(\"./data/Hopper-v2Linear_h16_lr0.05_num_sensings66__asebo/Seed0.csv\")\n",
    "hessian_df = pd.read_csv(\"./data/Hopper-v2Linear_h16_lr1_num_sensings66__hessianES/Seed0.csv\")\n",
    "hessian_dfv2 = pd.read_csv(\"./data/Hopper-v2Linear_h16_lr1_num_sensings66_sampleFromInvHFalse_hessianES/Seed3.csv\")\n",
    "hessian_dfv3 = pd.read_csv(\"./data/Hopper-v2Linear_h16_lr1_num_sensings66_sampleFromInvHFalse_hessianES/Seed2.csv\")\n",
    "\n",
    "\n",
    "# title = \"Reacher-v2\"\n",
    "# asebo_df = pd.read_csv(\"./data/Reacher-v2Linear_h16_lr0.05_num_sensings44__asebo/Seed0.csv\")\n",
    "# hessian_df = pd.read_csv(\"./data/Reacher-v2Linear_h16_lr1_num_sensings44__hessianES/Seed0.csv\")\n",
    "# hessian_dfv2 = pd.read_csv(\"./data/Reacher-v2Linear_h16_lr1_num_sensings44_sampleFromInvHFalse_hessianES/Seed2.csv\")\n",
    "# hessian_dfv3 = None\n",
    "\n",
    "\n",
    "# title = \"HalfCheetah-v2\"\n",
    "# asebo_df = pd.read_csv(\"./data/HalfCheetah-v2Linear_h16_lr0.05_num_sensings204__asebo/Seed0.csv\")\n",
    "# hessian_df = pd.read_csv(\"./data/HalfCheetah-v2Linear_h16_lr1_num_sensings204__hessianES/Seed0.csv\")\n",
    "# hessian_dfv2 = pd.read_csv(\"./data/HalfCheetah-v2Linear_h16_lr1_num_sensings204_v2_hessianES/Seed0.csv\")\n",
    "\n",
    "\n",
    "# title = \"InvertedDoublePendulum-v2\"\n",
    "# asebo_df = pd.read_csv(\"./data/InvertedDoublePendulum-v2Linear_h16_lr0.05_num_sensings22__asebo/Seed0.csv\")\n",
    "# hessian_df = pd.read_csv(\"./data/InvertedDoublePendulum-v2Linear_h16_lr1_num_sensings22__hessianES/Seed0.csv\")\n"
   ]
  },
  {
   "cell_type": "code",
   "execution_count": 298,
   "id": "1fddf3bb",
   "metadata": {},
   "outputs": [
    {
     "data": {
      "image/png": "[encoded data removed]",
      "text/plain": [
       "<Figure size 432x288 with 1 Axes>"
      ]
     },
     "metadata": {
      "needs_background": "light"
     },
     "output_type": "display_data"
    }
   ],
   "source": [
    "# plt.plot(asebo_ts, asebo_rewards, label=\"ASEBO\")\n",
    "# plt.plot(lpgrad_ts, lpgrad_rewards, label=\"LP gradient\")\n",
    "\n",
    "sns.lineplot(data=asebo_df, x=\"Timesteps\", y=\"Reward\", label=\"ASEBO\")\n",
    "sns.lineplot(data=hessian_df, x=\"Timesteps\", y=\"Reward\", label=\"Hessian\")\n",
    "sns.lineplot(data=hessian_dfv2, x=\"Timesteps\", y=\"Reward\", label=\"Hessianv2\")\n",
    "try:\n",
    "    sns.lineplot(data=hessian_dfv3, x=\"Timesteps\", y=\"Reward\", label=\"Hessianv3\")\n",
    "except:\n",
    "    pass\n",
    "plt.grid()\n",
    "plt.title(title)\n",
    "plt.xlim(0, 3e6)\n",
    "plt.savefig(\"./plots/%s.png\" % title)\n"
   ]
  },
  {
   "cell_type": "markdown",
   "id": "345e7a36",
   "metadata": {},
   "source": [
    "# Testing"
   ]
  },
  {
   "cell_type": "code",
   "execution_count": 301,
   "id": "5d50cdec",
   "metadata": {},
   "outputs": [],
   "source": [
    "master = get_policy(params)\n",
    "master.params=np.load(\"./data/Hopper-v2Linear_h16_lr1_num_sensings66_sampleFromInvHFalse_hessianES/hessianES_params.npy\")\n",
    "test_policy = worker(params, master, np.zeros([1, master.N]), 0)\n"
   ]
  },
  {
   "cell_type": "code",
   "execution_count": 302,
   "id": "ea5c991e",
   "metadata": {},
   "outputs": [],
   "source": [
    "from gym.wrappers import Monitor\n",
    "env = Monitor(gym.make(params['env_name']), './video', force=True)\n",
    "env._max_episode_steps = params['steps']"
   ]
  },
  {
   "cell_type": "code",
   "execution_count": 303,
   "id": "15e95524",
   "metadata": {},
   "outputs": [],
   "source": [
    "def play(env, worker):\n",
    "    state = env.reset()\n",
    "    while 1:\n",
    "        action = worker.policy.evaluate(state)\n",
    "        action = np.clip(action, worker.env.action_space.low[0], worker.env.action_space.high[0])\n",
    "        action = action.reshape(len(action), )\n",
    "        state, reward, done, info = env.step(action)\n",
    "        env.render()\n",
    "        if done: \n",
    "            break"
   ]
  },
  {
   "cell_type": "code",
   "execution_count": 304,
   "id": "f6e69ff4",
   "metadata": {},
   "outputs": [
    {
     "name": "stdout",
     "output_type": "stream",
     "text": [
      "Creating offscreen glfw\n",
      "Creating window glfw\n"
     ]
    }
   ],
   "source": [
    "play(env, test_policy)"
   ]
  },
  {
   "cell_type": "code",
   "execution_count": null,
   "id": "e4c5db78",
   "metadata": {},
   "outputs": [],
   "source": []
  }
 ],
 "metadata": {
  "kernelspec": {
   "display_name": "Python 3",
   "language": "python",
   "name": "python3"
  },
  "language_info": {
   "codemirror_mode": {
    "name": "ipython",
    "version": 3
   },
   "file_extension": ".py",
   "mimetype": "text/x-python",
   "name": "python",
   "nbconvert_exporter": "python",
   "pygments_lexer": "ipython3",
   "version": "3.6.13"
  }
 },
 "nbformat": 4,
 "nbformat_minor": 5
}
