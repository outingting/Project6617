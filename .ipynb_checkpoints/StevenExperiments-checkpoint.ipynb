{
 "cells": [
  {
   "cell_type": "code",
   "execution_count": 1,
   "id": "7cc42e80",
   "metadata": {},
   "outputs": [],
   "source": [
    "import numpy as np\n",
    "import nevergrad as ng\n",
    "import matplotlib.pyplot as plt\n",
    "from scipy.stats import multivariate_normal"
   ]
  },
  {
   "cell_type": "markdown",
   "id": "5285890a",
   "metadata": {},
   "source": [
    "# Functions to be tested"
   ]
  },
  {
   "cell_type": "markdown",
   "id": "6e718442",
   "metadata": {},
   "source": [
    "For now, use a very simple function - quadratic with max value 0, and theta* = [0.5, 0.5] \n",
    "\n",
    "Also note that we will maximize the function, not minimize."
   ]
  },
  {
   "cell_type": "code",
   "execution_count": 2,
   "id": "b0e77e6a",
   "metadata": {},
   "outputs": [],
   "source": [
    "def F(theta):\n",
    "    if theta.ndim == 1:\n",
    "        theta = np.expand_dims(theta, 0)\n",
    "    return -np.sum((theta - 0.5) ** 2, axis=tuple(range(theta.ndim)[1:]))"
   ]
  },
  {
   "cell_type": "markdown",
   "id": "b6976576",
   "metadata": {},
   "source": [
    "# Hessian Estimator\n"
   ]
  },
  {
   "cell_type": "code",
   "execution_count": 17,
   "id": "963e75d1",
   "metadata": {},
   "outputs": [],
   "source": [
    "def hessian_estimator_ours(F, theta, samples, sigma):\n",
    "    \"\"\"\n",
    "    Input:\n",
    "        F: function\n",
    "        theta: point of interest, should be 1-d array of length d\n",
    "        samples: number of samples\n",
    "        sigma: smoothing parameter\n",
    "    \"\"\"\n",
    "    d = len(theta)\n",
    "    eps = np.random.normal(size=d*samples).reshape((samples, d))\n",
    "    Fs = F(theta+sigma*eps)\n",
    "    eps = np.expand_dims(eps, -1)\n",
    "    return (\n",
    "        (eps*np.transpose(eps, (0, 2, 1)) - np.identity(d))\n",
    "        * Fs.reshape(-1, 1, 1)\n",
    "    )/(sigma**2)\n",
    "def hessian_estimator_HessianAware(F, theta, samples, sigma):\n",
    "    \"\"\"\n",
    "    Input:\n",
    "        F: function\n",
    "        theta: point of interest, should be 1-d array of length d\n",
    "        samples: number of samples\n",
    "        sigma: smoothing parameter\n",
    "    \"\"\"\n",
    "    d = len(theta)\n",
    "    eps = np.random.normal(size=d*samples).reshape((samples, d))\n",
    "    Fs = (F(theta+sigma*eps)+F(theta-sigma*eps))/2-F(theta)\n",
    "    eps = np.expand_dims(eps, -1)\n",
    "    return (\n",
    "        (eps*np.transpose(eps, (0, 2, 1)))\n",
    "        * Fs.reshape(-1, 1, 1)\n",
    "    )/(sigma**2)"
   ]
  },
  {
   "cell_type": "code",
   "execution_count": 73,
   "id": "0fdf6292",
   "metadata": {},
   "outputs": [],
   "source": [
    "theta = np.array([0.5,0.5])\n",
    "samples = 1000000\n",
    "sigma = 0.01\n",
    "Htrue = np.array([[-2, 0], [0, -2]])"
   ]
  },
  {
   "cell_type": "code",
   "execution_count": 80,
   "id": "7ee441cd",
   "metadata": {},
   "outputs": [
    {
     "name": "stdout",
     "output_type": "stream",
     "text": [
      "Average:\n",
      "[[-2.01388467  0.00516316]\n",
      " [ 0.00516316 -1.99888951]]\n",
      "MSE:\n",
      "[[102.34559342  48.75876572]\n",
      " [ 48.75876572 100.67647477]]\n"
     ]
    }
   ],
   "source": [
    "# %%timeit\n",
    "Hsamples = hessian_estimator_ours(F, theta, samples, sigma)\n",
    "print(\"Average:\")\n",
    "print(Hsamples.mean(axis=0))\n",
    "print(\"MSE:\")\n",
    "print(sum((Hsamples - Htrue)**2)/samples)"
   ]
  },
  {
   "cell_type": "code",
   "execution_count": 81,
   "id": "43241285",
   "metadata": {},
   "outputs": [
    {
     "name": "stdout",
     "output_type": "stream",
     "text": [
      "Average:\n",
      "[[-3.99239995e+00  2.66210284e-03]\n",
      " [ 2.66210284e-03 -4.00130918e+00]]\n",
      "MSE:\n",
      "[[132.10182507  47.65126161]\n",
      " [ 47.65126161 132.95327533]]\n"
     ]
    }
   ],
   "source": [
    "# %%timeit\n",
    "Hsamples = hessian_estimator_HessianAware(F, theta, samples, sigma)\n",
    "print(\"Average:\")\n",
    "print(Hsamples.mean(axis=0))\n",
    "print(\"MSE:\")\n",
    "print(sum((Hsamples - Htrue)**2)/samples)"
   ]
  }
 ],
 "metadata": {
  "kernelspec": {
   "display_name": "Python 3",
   "language": "python",
   "name": "python3"
  },
  "language_info": {
   "codemirror_mode": {
    "name": "ipython",
    "version": 3
   },
   "file_extension": ".py",
   "mimetype": "text/x-python",
   "name": "python",
   "nbconvert_exporter": "python",
   "pygments_lexer": "ipython3",
   "version": "3.6.13"
  }
 },
 "nbformat": 4,
 "nbformat_minor": 5
}
