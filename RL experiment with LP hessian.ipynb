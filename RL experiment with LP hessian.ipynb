{
 "cells": [
  {
   "cell_type": "code",
   "execution_count": 1,
   "id": "6a8200f6",
   "metadata": {},
   "outputs": [],
   "source": [
    "import numpy as np\n",
    "import pandas as pd\n",
    "import cvxpy as cp\n",
    "import gym\n",
    "import matplotlib.pyplot as plt\n",
    "from numpy.linalg import LinAlgError\n",
    "\n",
    "\n",
    "import sys\n",
    "sys.path.append('./asebo/')\n",
    "from optimizers import Adam\n",
    "from worker import worker, get_policy\n",
    "from es import ES"
   ]
  },
  {
   "cell_type": "code",
   "execution_count": 33,
   "id": "a6f9f2e2",
   "metadata": {},
   "outputs": [],
   "source": [
    "def F(theta):\n",
    "    if theta.ndim == 1:\n",
    "        theta = np.expand_dims(theta, 0)\n",
    "    return -np.sum((theta - 0.5) ** 2, axis=tuple(range(theta.ndim)[1:]))\n",
    "\n",
    "\n",
    "def Gradient_LP(y, epsilons):\n",
    "    \"\"\"\n",
    "    y = (F(theta + sigma*epsilons) - F(theta)) / sigma\n",
    "    epsilons: the perturbations with UNIT VARIANCE\n",
    "    \"\"\"\n",
    "    n, d = epsilons.shape\n",
    "    \n",
    "    var_z = cp.Variable(n)\n",
    "    var_g = cp.Variable(d)\n",
    "    obj = sum(var_z)\n",
    "    constraints = [var_z >= y - epsilons @ var_g,\n",
    "                   var_z >= -y + epsilons @ var_g]\n",
    "    prob = cp.Problem(cp.Minimize(obj), constraints)\n",
    "    prob.solve(solver=cp.GLPK, eps=1e-6, glpk={'msg_lev': 'GLP_MSG_OFF'})\n",
    "    if prob.status == 'optimal':\n",
    "        return var_g.value\n",
    "    return None\n",
    "\n",
    "def Hessian_LP(y, epsilons):\n",
    "    \"\"\"\n",
    "    y = (F(theta + sigma*epsilons) + F(theta - sigma*epsilons) - 2*F(theta)) / (sigma**2)\n",
    "    epsilons: the perturbations with UNIT VARIANCE\n",
    "    \"\"\"\n",
    "    n, d = epsilons.shape\n",
    "    \n",
    "    \n",
    "    X = np.zeros((n, d*(d+1)//2))\n",
    "    idx = 0\n",
    "    for j in range(d):\n",
    "        X[:,idx] = epsilons[:,j]**2\n",
    "        idx += 1\n",
    "        if j == d-1:\n",
    "            break\n",
    "        X[:,idx:idx+d-j-1] = 2 * epsilons[:,j:j+1] * epsilons[:,j+1:]\n",
    "        idx += d-j-1\n",
    "#         X[:,j*(j+1)//2:(j+1)*(j+2)//2-1] = 2 * epsilons[:,j:j+1] * epsilons[:,:j]\n",
    "#         X[:,(j+1)*(j+2)//2-1] = epsilons[:,j]**2\n",
    "    \n",
    "    var_z = cp.Variable(n)\n",
    "    var_H = cp.Variable(d*(d+1)//2)\n",
    "    \n",
    "    obj = sum(var_z)\n",
    "    \n",
    "    constraints = []\n",
    "    for i in range(n):\n",
    "        constraints += [var_z[i] >= y[i] - X[i] @ var_H]\n",
    "        constraints += [var_z[i] >= - y[i] + X[i] @ var_H]\n",
    "    \n",
    "    prob = cp.Problem(cp.Minimize(obj), constraints)\n",
    "    prob.solve(solver=cp.GLPK, eps=1e-6, glpk={'msg_lev': 'GLP_MSG_OFF'})\n",
    "\n",
    "    if prob.status == 'optimal':\n",
    "        H = np.zeros((d,d))\n",
    "        idx = 0\n",
    "        for j in range(d):\n",
    "            H[j,j:] = var_H[idx:idx+d-j].value\n",
    "            H[j:,j] = var_H[idx:idx+d-j].value\n",
    "            idx += d-j\n",
    "#             H[j,0:j+1] = var_H[j*(j+1)//2:(j+1)*(j+2)//2].value\n",
    "#             H[1:j+1,j] = H[j,1:j+1]\n",
    "        return H\n",
    "    return None\n",
    "\n",
    "\n"
   ]
  },
  {
   "cell_type": "code",
   "execution_count": 34,
   "id": "5b0df973",
   "metadata": {},
   "outputs": [],
   "source": [
    "def aggregate_rollouts_hessianES(master, A, params, n_samples):\n",
    "    \n",
    "    all_rollouts = np.zeros([n_samples+1, 2])\n",
    "\n",
    "    timesteps = 0\n",
    "    \n",
    "    # F(theta + sigma*epsilons), and F(theta - sigma*epsilons)\n",
    "    assert A.shape[0] == n_samples+1\n",
    "    for i in range(n_samples+1):\n",
    "        w = worker(params, master, A, i)\n",
    "        all_rollouts[i] = np.reshape(w.do_rollouts(), 2)\n",
    "        timesteps += w.timesteps\n",
    "\n",
    "    all_rollouts = (all_rollouts - np.mean(all_rollouts)) / (np.std(all_rollouts)  + 1e-8)\n",
    "    \n",
    "    # (F(theta + sigma*epsilons) - F(theta)) / sigma\n",
    "    gradient_y = np.array(all_rollouts[:-1, 0] - sum(all_rollouts[-1])/2) / params[\"sigma\"]\n",
    "    # (F(theta + sigma*epsilons) + F(theta - sigma*epsilons) - 2*F(theta)) / (sigma**2)\n",
    "    hessian_y = np.array(all_rollouts[:-1, 0] + all_rollouts[:-1, 1] - sum(all_rollouts[-1])) / (params[\"sigma\"]**2)\n",
    "    return(gradient_y, hessian_y, timesteps)\n",
    "\n",
    "def HessianES(params, master):\n",
    "        \n",
    "#     if params['n_iter'] >= params['k']:\n",
    "#         pca = PCA()\n",
    "#         pca_fit = pca.fit(G)\n",
    "#         var_exp = pca_fit.explained_variance_ratio_\n",
    "#         var_exp = np.cumsum(var_exp)\n",
    "#         n_samples = np.argmax(var_exp > params['threshold']) + 1\n",
    "#         if n_samples < params['min']:\n",
    "#             n_samples = params['min']\n",
    "#         U = pca_fit.components_[:n_samples]\n",
    "#         UUT = np.matmul(U.T, U)\n",
    "#         U_ort = pca_fit.components_[n_samples:]\n",
    "#         UUT_ort = np.matmul(U_ort.T, U_ort)\n",
    "#         alpha = params['alpha']\n",
    "#         if params['n_iter'] == params['k']:\n",
    "#             n_samples = params['num_sensings']\n",
    "#     else:\n",
    "#         UUT = np.zeros([master.N, master.N])\n",
    "#         alpha = 1\n",
    "#         n_samples = params['num_sensings']\n",
    "    \n",
    "    n_samples = params['num_sensings']\n",
    "    \n",
    "#     np.random.seed(None)\n",
    "    cov = np.identity(master.N)*(params[\"sigma\"]**2)\n",
    "    mu = np.repeat(0, master.N)\n",
    "    A = np.random.multivariate_normal(mu, cov, n_samples)\n",
    "#     A /= np.linalg.norm(A, axis =-1)[:, np.newaxis]\n",
    "    A = np.vstack([A, mu]) # Adding a reference evaluation\n",
    "        \n",
    "    gradient_y, hessian_y, timesteps = aggregate_rollouts_hessianES(master, A, params, n_samples)\n",
    "    \n",
    "    g = Gradient_LP(gradient_y, A[:-1, :]/params[\"sigma\"])\n",
    "    H = Hessian_LP(hessian_y, A[:-1, :]/params[\"sigma\"])#-0.1*np.identity(master.N)\n",
    "#     H = -np.identity(len(g))\n",
    "    try:\n",
    "        Hinv = True\n",
    "        update_direction = -np.linalg.inv(H)@g\n",
    "    except LinAlgError:\n",
    "        Hinv = False\n",
    "        update_direction = g\n",
    "#     if params['n_iter'] >= params['k']:\n",
    "#         params['alpha'] = np.linalg.norm(np.dot(g, UUT_ort))/np.linalg.norm(np.dot(g, UUT))\n",
    "    \n",
    "    return(update_direction, n_samples, timesteps, Hinv)"
   ]
  },
  {
   "cell_type": "markdown",
   "id": "fdb13612",
   "metadata": {},
   "source": [
    "## Manuel Tests"
   ]
  },
  {
   "cell_type": "code",
   "execution_count": 35,
   "id": "1134f2bd",
   "metadata": {},
   "outputs": [],
   "source": [
    "params = {\n",
    "'env_name': 'InvertedPendulum-v2',\n",
    "'steps':1000,\n",
    "'h_dim':32,\n",
    "'start':0,\n",
    "'max_iter':1000,\n",
    "'seed':0,\n",
    "\n",
    "'k':140,\n",
    "'num_sensings':100,#100\n",
    "'log':0,\n",
    "'threshold':0.995,\n",
    "'decay':0.99,\n",
    "'learning_rate':0.05,#0.05\n",
    "'filename':'',\n",
    "'policy':'Linear', # Linear or Toeplitz\n",
    "\n",
    "'shift':0,\n",
    "'min':10,\n",
    "'sigma':0.1\n",
    "}\n",
    "\n",
    "params['dir'] = params['env_name'] + params['policy'] + '_h' + str(params['h_dim']) + '_lr' + str(params['learning_rate']) + '_num_sensings' + str(params['num_sensings']) +'_' + params['filename']\n",
    "\n",
    "# if not(os.path.exists('data/'+params['dir'])):\n",
    "#     os.makedirs('data/'+params['dir'])\n",
    "# os.chdir('data/'+params['dir'])"
   ]
  },
  {
   "cell_type": "code",
   "execution_count": 36,
   "id": "df0991ce",
   "metadata": {},
   "outputs": [],
   "source": [
    "env = gym.make(params['env_name'])\n",
    "params['ob_dim'] = env.observation_space.shape[0]\n",
    "params['ac_dim'] = env.action_space.shape[0]\n",
    "\n",
    "m = 0\n",
    "v = 0\n",
    "\n",
    "params['k'] += -1\n",
    "params['alpha'] = 1\n",
    "\n",
    "params['zeros'] = False\n",
    "master = get_policy(params)\n",
    "\n",
    "if params['log']:\n",
    "    params['num_sensings'] = 4 + int(3 * np.log(master.N))\n",
    "\n",
    "if params['k'] > master.N:\n",
    "    params['k'] = master.N\n",
    "\n",
    "n_eps = 0\n",
    "n_iter = 1\n",
    "ts_cumulative = 0\n",
    "ts = []\n",
    "rollouts = []\n",
    "rewards = []\n",
    "samples = []\n",
    "alphas = []\n",
    "G = [] # Don't need this for HessianES\n",
    "Hinv_success = 0\n",
    "\n",
    "n_samples = params['num_sensings']\n",
    "np.random.seed(None)\n",
    "cov = np.identity(master.N)*(params[\"sigma\"]**2)\n",
    "mu = np.repeat(0, master.N)\n",
    "A = np.random.multivariate_normal(mu, cov, n_samples)\n",
    "A /= np.linalg.norm(A, axis =-1)[:, np.newaxis]\n",
    "A = np.vstack([A, mu]) # Adding a reference evaluation\n",
    "\n",
    "gradient_y, hessian_y, timesteps = aggregate_rollouts_hessianES(master, A, params, n_samples)"
   ]
  },
  {
   "cell_type": "code",
   "execution_count": 37,
   "id": "04064d12",
   "metadata": {},
   "outputs": [
    {
     "data": {
      "text/plain": [
       "(101, 4)"
      ]
     },
     "execution_count": 37,
     "metadata": {},
     "output_type": "execute_result"
    }
   ],
   "source": [
    "A.shape"
   ]
  },
  {
   "cell_type": "code",
   "execution_count": 38,
   "id": "7f5c4a9c",
   "metadata": {},
   "outputs": [
    {
     "name": "stdout",
     "output_type": "stream",
     "text": [
      "CPU times: user 34 ms, sys: 1.57 ms, total: 35.5 ms\n",
      "Wall time: 34.2 ms\n"
     ]
    }
   ],
   "source": [
    "%%time\n",
    "g = Gradient_LP(gradient_y, A[:-1, :]/params[\"sigma\"])"
   ]
  },
  {
   "cell_type": "code",
   "execution_count": 39,
   "id": "389d7b88",
   "metadata": {},
   "outputs": [
    {
     "name": "stdout",
     "output_type": "stream",
     "text": [
      "CPU times: user 312 ms, sys: 3.38 ms, total: 316 ms\n",
      "Wall time: 318 ms\n"
     ]
    }
   ],
   "source": [
    "%%time\n",
    "H = Hessian_LP(hessian_y, A[:-1, :]/params[\"sigma\"])"
   ]
  },
  {
   "cell_type": "code",
   "execution_count": 40,
   "id": "e79a9fad",
   "metadata": {},
   "outputs": [
    {
     "data": {
      "text/plain": [
       "array([[-0.20627437, -0.28482245, -0.25564336, -0.43012525],\n",
       "       [-0.28482245, -0.16135001, -0.18578326,  0.6158463 ],\n",
       "       [-0.25564336, -0.18578326, -1.68204566,  0.26612696],\n",
       "       [-0.43012525,  0.6158463 ,  0.26612696,  0.74922531]])"
      ]
     },
     "execution_count": 40,
     "metadata": {},
     "output_type": "execute_result"
    }
   ],
   "source": [
    "H"
   ]
  },
  {
   "cell_type": "code",
   "execution_count": 41,
   "id": "4fb39b76",
   "metadata": {},
   "outputs": [
    {
     "data": {
      "text/plain": [
       "array([[-2.31217412, -0.37027411,  0.21818523, -1.10054679],\n",
       "       [-0.37027411, -1.79707333,  0.43063969,  1.1116174 ],\n",
       "       [ 0.21818523,  0.43063969, -0.67357208,  0.01053729],\n",
       "       [-1.10054679,  1.1116174 ,  0.01053729, -0.21457189]])"
      ]
     },
     "execution_count": 41,
     "metadata": {},
     "output_type": "execute_result"
    }
   ],
   "source": [
    "np.linalg.inv(H)"
   ]
  },
  {
   "cell_type": "markdown",
   "id": "9a99850e",
   "metadata": {},
   "source": [
    "## Training"
   ]
  },
  {
   "cell_type": "code",
   "execution_count": 42,
   "id": "d746e8bf",
   "metadata": {
    "scrolled": true
   },
   "outputs": [
    {
     "name": "stdout",
     "output_type": "stream",
     "text": [
      "Iteration: 1, Rollouts: 200, Reward: 36.0, Alpha: 1, Samples: 100\n",
      "Iteration: 2, Rollouts: 400, Reward: 34.0, Alpha: 1, Samples: 100\n",
      "Iteration: 3, Rollouts: 600, Reward: 32.0, Alpha: 1, Samples: 100\n",
      "Iteration: 4, Rollouts: 800, Reward: 32.0, Alpha: 1, Samples: 100\n",
      "Iteration: 5, Rollouts: 1000, Reward: 32.0, Alpha: 1, Samples: 100\n",
      "Iteration: 6, Rollouts: 1200, Reward: 28.0, Alpha: 1, Samples: 100\n",
      "Iteration: 7, Rollouts: 1400, Reward: 24.0, Alpha: 1, Samples: 100\n",
      "Iteration: 8, Rollouts: 1600, Reward: 23.0, Alpha: 1, Samples: 100\n",
      "Iteration: 9, Rollouts: 1800, Reward: 22.0, Alpha: 1, Samples: 100\n",
      "Iteration: 10, Rollouts: 2000, Reward: 22.0, Alpha: 1, Samples: 100\n",
      "Iteration: 11, Rollouts: 2200, Reward: 23.0, Alpha: 1, Samples: 100\n",
      "Iteration: 12, Rollouts: 2400, Reward: 25.0, Alpha: 1, Samples: 100\n",
      "Iteration: 13, Rollouts: 2600, Reward: 29.0, Alpha: 1, Samples: 100\n",
      "Iteration: 14, Rollouts: 2800, Reward: 27.0, Alpha: 1, Samples: 100\n",
      "Iteration: 15, Rollouts: 3000, Reward: 26.0, Alpha: 1, Samples: 100\n",
      "Iteration: 16, Rollouts: 3200, Reward: 25.0, Alpha: 1, Samples: 100\n",
      "Iteration: 17, Rollouts: 3400, Reward: 24.0, Alpha: 1, Samples: 100\n",
      "Iteration: 18, Rollouts: 3600, Reward: 24.0, Alpha: 1, Samples: 100\n",
      "Iteration: 19, Rollouts: 3800, Reward: 23.0, Alpha: 1, Samples: 100\n",
      "Iteration: 20, Rollouts: 4000, Reward: 23.0, Alpha: 1, Samples: 100\n",
      "Iteration: 21, Rollouts: 4200, Reward: 22.0, Alpha: 1, Samples: 100\n",
      "Iteration: 22, Rollouts: 4400, Reward: 22.0, Alpha: 1, Samples: 100\n",
      "Iteration: 23, Rollouts: 4600, Reward: 22.0, Alpha: 1, Samples: 100\n"
     ]
    },
    {
     "ename": "KeyboardInterrupt",
     "evalue": "",
     "output_type": "error",
     "traceback": [
      "\u001b[0;31m---------------------------------------------------------------------------\u001b[0m",
      "\u001b[0;31mKeyboardInterrupt\u001b[0m                         Traceback (most recent call last)",
      "\u001b[0;32m<ipython-input-42-8f82fc9367cc>\u001b[0m in \u001b[0;36m<module>\u001b[0;34m()\u001b[0m\n\u001b[1;32m     33\u001b[0m \u001b[0;34m\u001b[0m\u001b[0m\n\u001b[1;32m     34\u001b[0m     \u001b[0mparams\u001b[0m\u001b[0;34m[\u001b[0m\u001b[0;34m'n_iter'\u001b[0m\u001b[0;34m]\u001b[0m \u001b[0;34m=\u001b[0m \u001b[0mn_iter\u001b[0m\u001b[0;34m\u001b[0m\u001b[0;34m\u001b[0m\u001b[0m\n\u001b[0;32m---> 35\u001b[0;31m     \u001b[0mgradient\u001b[0m\u001b[0;34m,\u001b[0m \u001b[0mn_samples\u001b[0m\u001b[0;34m,\u001b[0m \u001b[0mtimesteps\u001b[0m\u001b[0;34m,\u001b[0m \u001b[0mHinv\u001b[0m \u001b[0;34m=\u001b[0m \u001b[0mHessianES\u001b[0m\u001b[0;34m(\u001b[0m\u001b[0mparams\u001b[0m\u001b[0;34m,\u001b[0m \u001b[0mmaster\u001b[0m\u001b[0;34m)\u001b[0m\u001b[0;34m\u001b[0m\u001b[0;34m\u001b[0m\u001b[0m\n\u001b[0m\u001b[1;32m     36\u001b[0m     \u001b[0mHinv_success\u001b[0m \u001b[0;34m+=\u001b[0m \u001b[0mHinv\u001b[0m\u001b[0;34m\u001b[0m\u001b[0;34m\u001b[0m\u001b[0m\n\u001b[1;32m     37\u001b[0m \u001b[0;31m#     print(Hinv)\u001b[0m\u001b[0;34m\u001b[0m\u001b[0;34m\u001b[0m\u001b[0;34m\u001b[0m\u001b[0m\n",
      "\u001b[0;32m<ipython-input-34-a719a17195ae>\u001b[0m in \u001b[0;36mHessianES\u001b[0;34m(params, master)\u001b[0m\n\u001b[1;32m     51\u001b[0m     \u001b[0mA\u001b[0m \u001b[0;34m=\u001b[0m \u001b[0mnp\u001b[0m\u001b[0;34m.\u001b[0m\u001b[0mvstack\u001b[0m\u001b[0;34m(\u001b[0m\u001b[0;34m[\u001b[0m\u001b[0mA\u001b[0m\u001b[0;34m,\u001b[0m \u001b[0mmu\u001b[0m\u001b[0;34m]\u001b[0m\u001b[0;34m)\u001b[0m \u001b[0;31m# Adding a reference evaluation\u001b[0m\u001b[0;34m\u001b[0m\u001b[0;34m\u001b[0m\u001b[0m\n\u001b[1;32m     52\u001b[0m \u001b[0;34m\u001b[0m\u001b[0m\n\u001b[0;32m---> 53\u001b[0;31m     \u001b[0mgradient_y\u001b[0m\u001b[0;34m,\u001b[0m \u001b[0mhessian_y\u001b[0m\u001b[0;34m,\u001b[0m \u001b[0mtimesteps\u001b[0m \u001b[0;34m=\u001b[0m \u001b[0maggregate_rollouts_hessianES\u001b[0m\u001b[0;34m(\u001b[0m\u001b[0mmaster\u001b[0m\u001b[0;34m,\u001b[0m \u001b[0mA\u001b[0m\u001b[0;34m,\u001b[0m \u001b[0mparams\u001b[0m\u001b[0;34m,\u001b[0m \u001b[0mn_samples\u001b[0m\u001b[0;34m)\u001b[0m\u001b[0;34m\u001b[0m\u001b[0;34m\u001b[0m\u001b[0m\n\u001b[0m\u001b[1;32m     54\u001b[0m \u001b[0;34m\u001b[0m\u001b[0m\n\u001b[1;32m     55\u001b[0m     \u001b[0mg\u001b[0m \u001b[0;34m=\u001b[0m \u001b[0mGradient_LP\u001b[0m\u001b[0;34m(\u001b[0m\u001b[0mgradient_y\u001b[0m\u001b[0;34m,\u001b[0m \u001b[0mA\u001b[0m\u001b[0;34m[\u001b[0m\u001b[0;34m:\u001b[0m\u001b[0;34m-\u001b[0m\u001b[0;36m1\u001b[0m\u001b[0;34m,\u001b[0m \u001b[0;34m:\u001b[0m\u001b[0;34m]\u001b[0m\u001b[0;34m/\u001b[0m\u001b[0mparams\u001b[0m\u001b[0;34m[\u001b[0m\u001b[0;34m\"sigma\"\u001b[0m\u001b[0;34m]\u001b[0m\u001b[0;34m)\u001b[0m\u001b[0;34m\u001b[0m\u001b[0;34m\u001b[0m\u001b[0m\n",
      "\u001b[0;32m<ipython-input-34-a719a17195ae>\u001b[0m in \u001b[0;36maggregate_rollouts_hessianES\u001b[0;34m(master, A, params, n_samples)\u001b[0m\n\u001b[1;32m      9\u001b[0m     \u001b[0;32mfor\u001b[0m \u001b[0mi\u001b[0m \u001b[0;32min\u001b[0m \u001b[0mrange\u001b[0m\u001b[0;34m(\u001b[0m\u001b[0mn_samples\u001b[0m\u001b[0;34m+\u001b[0m\u001b[0;36m1\u001b[0m\u001b[0;34m)\u001b[0m\u001b[0;34m:\u001b[0m\u001b[0;34m\u001b[0m\u001b[0;34m\u001b[0m\u001b[0m\n\u001b[1;32m     10\u001b[0m         \u001b[0mw\u001b[0m \u001b[0;34m=\u001b[0m \u001b[0mworker\u001b[0m\u001b[0;34m(\u001b[0m\u001b[0mparams\u001b[0m\u001b[0;34m,\u001b[0m \u001b[0mmaster\u001b[0m\u001b[0;34m,\u001b[0m \u001b[0mA\u001b[0m\u001b[0;34m,\u001b[0m \u001b[0mi\u001b[0m\u001b[0;34m)\u001b[0m\u001b[0;34m\u001b[0m\u001b[0;34m\u001b[0m\u001b[0m\n\u001b[0;32m---> 11\u001b[0;31m         \u001b[0mall_rollouts\u001b[0m\u001b[0;34m[\u001b[0m\u001b[0mi\u001b[0m\u001b[0;34m]\u001b[0m \u001b[0;34m=\u001b[0m \u001b[0mnp\u001b[0m\u001b[0;34m.\u001b[0m\u001b[0mreshape\u001b[0m\u001b[0;34m(\u001b[0m\u001b[0mw\u001b[0m\u001b[0;34m.\u001b[0m\u001b[0mdo_rollouts\u001b[0m\u001b[0;34m(\u001b[0m\u001b[0;34m)\u001b[0m\u001b[0;34m,\u001b[0m \u001b[0;36m2\u001b[0m\u001b[0;34m)\u001b[0m\u001b[0;34m\u001b[0m\u001b[0;34m\u001b[0m\u001b[0m\n\u001b[0m\u001b[1;32m     12\u001b[0m         \u001b[0mtimesteps\u001b[0m \u001b[0;34m+=\u001b[0m \u001b[0mw\u001b[0m\u001b[0;34m.\u001b[0m\u001b[0mtimesteps\u001b[0m\u001b[0;34m\u001b[0m\u001b[0;34m\u001b[0m\u001b[0m\n\u001b[1;32m     13\u001b[0m \u001b[0;34m\u001b[0m\u001b[0m\n",
      "\u001b[0;32m/Users/stevenyin/Google Drive/columbia/semester 9/krzysztof class/Project6617/asebo/worker.py\u001b[0m in \u001b[0;36mdo_rollouts\u001b[0;34m(self, seed, train)\u001b[0m\n\u001b[1;32m     34\u001b[0m \u001b[0;34m\u001b[0m\u001b[0m\n\u001b[1;32m     35\u001b[0m         \u001b[0mself\u001b[0m\u001b[0;34m.\u001b[0m\u001b[0mpolicy\u001b[0m\u001b[0;34m.\u001b[0m\u001b[0mupdate\u001b[0m\u001b[0;34m(\u001b[0m\u001b[0mself\u001b[0m\u001b[0;34m.\u001b[0m\u001b[0mv\u001b[0m\u001b[0;34m)\u001b[0m\u001b[0;34m\u001b[0m\u001b[0;34m\u001b[0m\u001b[0m\n\u001b[0;32m---> 36\u001b[0;31m         \u001b[0mup\u001b[0m \u001b[0;34m=\u001b[0m \u001b[0mself\u001b[0m\u001b[0;34m.\u001b[0m\u001b[0mrollout\u001b[0m\u001b[0;34m(\u001b[0m\u001b[0mseed\u001b[0m\u001b[0;34m,\u001b[0m \u001b[0mtrain\u001b[0m\u001b[0;34m)\u001b[0m\u001b[0;34m\u001b[0m\u001b[0;34m\u001b[0m\u001b[0m\n\u001b[0m\u001b[1;32m     37\u001b[0m \u001b[0;34m\u001b[0m\u001b[0m\n\u001b[1;32m     38\u001b[0m         \u001b[0mself\u001b[0m\u001b[0;34m.\u001b[0m\u001b[0mpolicy\u001b[0m\u001b[0;34m.\u001b[0m\u001b[0mupdate\u001b[0m\u001b[0;34m(\u001b[0m\u001b[0;34m-\u001b[0m\u001b[0;36m2\u001b[0m \u001b[0;34m*\u001b[0m \u001b[0mself\u001b[0m\u001b[0;34m.\u001b[0m\u001b[0mv\u001b[0m\u001b[0;34m)\u001b[0m\u001b[0;34m\u001b[0m\u001b[0;34m\u001b[0m\u001b[0m\n",
      "\u001b[0;32m/Users/stevenyin/Google Drive/columbia/semester 9/krzysztof class/Project6617/asebo/worker.py\u001b[0m in \u001b[0;36mrollout\u001b[0;34m(self, seed, train, render)\u001b[0m\n\u001b[1;32m     51\u001b[0m             \u001b[0maction\u001b[0m \u001b[0;34m=\u001b[0m \u001b[0mnp\u001b[0m\u001b[0;34m.\u001b[0m\u001b[0mclip\u001b[0m\u001b[0;34m(\u001b[0m\u001b[0maction\u001b[0m\u001b[0;34m,\u001b[0m \u001b[0mself\u001b[0m\u001b[0;34m.\u001b[0m\u001b[0menv\u001b[0m\u001b[0;34m.\u001b[0m\u001b[0maction_space\u001b[0m\u001b[0;34m.\u001b[0m\u001b[0mlow\u001b[0m\u001b[0;34m[\u001b[0m\u001b[0;36m0\u001b[0m\u001b[0;34m]\u001b[0m\u001b[0;34m,\u001b[0m \u001b[0mself\u001b[0m\u001b[0;34m.\u001b[0m\u001b[0menv\u001b[0m\u001b[0;34m.\u001b[0m\u001b[0maction_space\u001b[0m\u001b[0;34m.\u001b[0m\u001b[0mhigh\u001b[0m\u001b[0;34m[\u001b[0m\u001b[0;36m0\u001b[0m\u001b[0;34m]\u001b[0m\u001b[0;34m)\u001b[0m\u001b[0;34m\u001b[0m\u001b[0;34m\u001b[0m\u001b[0m\n\u001b[1;32m     52\u001b[0m             \u001b[0maction\u001b[0m \u001b[0;34m=\u001b[0m \u001b[0maction\u001b[0m\u001b[0;34m.\u001b[0m\u001b[0mreshape\u001b[0m\u001b[0;34m(\u001b[0m\u001b[0mlen\u001b[0m\u001b[0;34m(\u001b[0m\u001b[0maction\u001b[0m\u001b[0;34m)\u001b[0m\u001b[0;34m,\u001b[0m \u001b[0;34m)\u001b[0m\u001b[0;34m\u001b[0m\u001b[0;34m\u001b[0m\u001b[0m\n\u001b[0;32m---> 53\u001b[0;31m             \u001b[0mstate\u001b[0m\u001b[0;34m,\u001b[0m \u001b[0mreward\u001b[0m\u001b[0;34m,\u001b[0m \u001b[0mdone\u001b[0m\u001b[0;34m,\u001b[0m \u001b[0m_\u001b[0m \u001b[0;34m=\u001b[0m \u001b[0mself\u001b[0m\u001b[0;34m.\u001b[0m\u001b[0menv\u001b[0m\u001b[0;34m.\u001b[0m\u001b[0mstep\u001b[0m\u001b[0;34m(\u001b[0m\u001b[0maction\u001b[0m\u001b[0;34m)\u001b[0m\u001b[0;34m\u001b[0m\u001b[0;34m\u001b[0m\u001b[0m\n\u001b[0m\u001b[1;32m     54\u001b[0m             \u001b[0;32mif\u001b[0m \u001b[0mrender\u001b[0m\u001b[0;34m:\u001b[0m\u001b[0;34m\u001b[0m\u001b[0;34m\u001b[0m\u001b[0m\n\u001b[1;32m     55\u001b[0m                 \u001b[0mself\u001b[0m\u001b[0;34m.\u001b[0m\u001b[0menv\u001b[0m\u001b[0;34m.\u001b[0m\u001b[0mrender\u001b[0m\u001b[0;34m(\u001b[0m\u001b[0;34m)\u001b[0m\u001b[0;34m\u001b[0m\u001b[0;34m\u001b[0m\u001b[0m\n",
      "\u001b[0;32m/Users/stevenyin/opt/anaconda3/envs/py36/lib/python3.6/site-packages/gym/wrappers/time_limit.py\u001b[0m in \u001b[0;36mstep\u001b[0;34m(self, action)\u001b[0m\n\u001b[1;32m     14\u001b[0m     \u001b[0;32mdef\u001b[0m \u001b[0mstep\u001b[0m\u001b[0;34m(\u001b[0m\u001b[0mself\u001b[0m\u001b[0;34m,\u001b[0m \u001b[0maction\u001b[0m\u001b[0;34m)\u001b[0m\u001b[0;34m:\u001b[0m\u001b[0;34m\u001b[0m\u001b[0;34m\u001b[0m\u001b[0m\n\u001b[1;32m     15\u001b[0m         \u001b[0;32massert\u001b[0m \u001b[0mself\u001b[0m\u001b[0;34m.\u001b[0m\u001b[0m_elapsed_steps\u001b[0m \u001b[0;32mis\u001b[0m \u001b[0;32mnot\u001b[0m \u001b[0;32mNone\u001b[0m\u001b[0;34m,\u001b[0m \u001b[0;34m\"Cannot call env.step() before calling reset()\"\u001b[0m\u001b[0;34m\u001b[0m\u001b[0;34m\u001b[0m\u001b[0m\n\u001b[0;32m---> 16\u001b[0;31m         \u001b[0mobservation\u001b[0m\u001b[0;34m,\u001b[0m \u001b[0mreward\u001b[0m\u001b[0;34m,\u001b[0m \u001b[0mdone\u001b[0m\u001b[0;34m,\u001b[0m \u001b[0minfo\u001b[0m \u001b[0;34m=\u001b[0m \u001b[0mself\u001b[0m\u001b[0;34m.\u001b[0m\u001b[0menv\u001b[0m\u001b[0;34m.\u001b[0m\u001b[0mstep\u001b[0m\u001b[0;34m(\u001b[0m\u001b[0maction\u001b[0m\u001b[0;34m)\u001b[0m\u001b[0;34m\u001b[0m\u001b[0;34m\u001b[0m\u001b[0m\n\u001b[0m\u001b[1;32m     17\u001b[0m         \u001b[0mself\u001b[0m\u001b[0;34m.\u001b[0m\u001b[0m_elapsed_steps\u001b[0m \u001b[0;34m+=\u001b[0m \u001b[0;36m1\u001b[0m\u001b[0;34m\u001b[0m\u001b[0;34m\u001b[0m\u001b[0m\n\u001b[1;32m     18\u001b[0m         \u001b[0;32mif\u001b[0m \u001b[0mself\u001b[0m\u001b[0;34m.\u001b[0m\u001b[0m_elapsed_steps\u001b[0m \u001b[0;34m>=\u001b[0m \u001b[0mself\u001b[0m\u001b[0;34m.\u001b[0m\u001b[0m_max_episode_steps\u001b[0m\u001b[0;34m:\u001b[0m\u001b[0;34m\u001b[0m\u001b[0;34m\u001b[0m\u001b[0m\n",
      "\u001b[0;32m/Users/stevenyin/opt/anaconda3/envs/py36/lib/python3.6/site-packages/gym/envs/mujoco/inverted_pendulum.py\u001b[0m in \u001b[0;36mstep\u001b[0;34m(self, a)\u001b[0m\n\u001b[1;32m     10\u001b[0m     \u001b[0;32mdef\u001b[0m \u001b[0mstep\u001b[0m\u001b[0;34m(\u001b[0m\u001b[0mself\u001b[0m\u001b[0;34m,\u001b[0m \u001b[0ma\u001b[0m\u001b[0;34m)\u001b[0m\u001b[0;34m:\u001b[0m\u001b[0;34m\u001b[0m\u001b[0;34m\u001b[0m\u001b[0m\n\u001b[1;32m     11\u001b[0m         \u001b[0mreward\u001b[0m \u001b[0;34m=\u001b[0m \u001b[0;36m1.0\u001b[0m\u001b[0;34m\u001b[0m\u001b[0;34m\u001b[0m\u001b[0m\n\u001b[0;32m---> 12\u001b[0;31m         \u001b[0mself\u001b[0m\u001b[0;34m.\u001b[0m\u001b[0mdo_simulation\u001b[0m\u001b[0;34m(\u001b[0m\u001b[0ma\u001b[0m\u001b[0;34m,\u001b[0m \u001b[0mself\u001b[0m\u001b[0;34m.\u001b[0m\u001b[0mframe_skip\u001b[0m\u001b[0;34m)\u001b[0m\u001b[0;34m\u001b[0m\u001b[0;34m\u001b[0m\u001b[0m\n\u001b[0m\u001b[1;32m     13\u001b[0m         \u001b[0mob\u001b[0m \u001b[0;34m=\u001b[0m \u001b[0mself\u001b[0m\u001b[0;34m.\u001b[0m\u001b[0m_get_obs\u001b[0m\u001b[0;34m(\u001b[0m\u001b[0;34m)\u001b[0m\u001b[0;34m\u001b[0m\u001b[0;34m\u001b[0m\u001b[0m\n\u001b[1;32m     14\u001b[0m         \u001b[0mnotdone\u001b[0m \u001b[0;34m=\u001b[0m \u001b[0mnp\u001b[0m\u001b[0;34m.\u001b[0m\u001b[0misfinite\u001b[0m\u001b[0;34m(\u001b[0m\u001b[0mob\u001b[0m\u001b[0;34m)\u001b[0m\u001b[0;34m.\u001b[0m\u001b[0mall\u001b[0m\u001b[0;34m(\u001b[0m\u001b[0;34m)\u001b[0m \u001b[0;32mand\u001b[0m \u001b[0;34m(\u001b[0m\u001b[0mnp\u001b[0m\u001b[0;34m.\u001b[0m\u001b[0mabs\u001b[0m\u001b[0;34m(\u001b[0m\u001b[0mob\u001b[0m\u001b[0;34m[\u001b[0m\u001b[0;36m1\u001b[0m\u001b[0;34m]\u001b[0m\u001b[0;34m)\u001b[0m \u001b[0;34m<=\u001b[0m \u001b[0;36m.2\u001b[0m\u001b[0;34m)\u001b[0m\u001b[0;34m\u001b[0m\u001b[0;34m\u001b[0m\u001b[0m\n",
      "\u001b[0;32m/Users/stevenyin/opt/anaconda3/envs/py36/lib/python3.6/site-packages/gym/envs/mujoco/mujoco_env.py\u001b[0m in \u001b[0;36mdo_simulation\u001b[0;34m(self, ctrl, n_frames)\u001b[0m\n\u001b[1;32m    123\u001b[0m         \u001b[0mself\u001b[0m\u001b[0;34m.\u001b[0m\u001b[0msim\u001b[0m\u001b[0;34m.\u001b[0m\u001b[0mdata\u001b[0m\u001b[0;34m.\u001b[0m\u001b[0mctrl\u001b[0m\u001b[0;34m[\u001b[0m\u001b[0;34m:\u001b[0m\u001b[0;34m]\u001b[0m \u001b[0;34m=\u001b[0m \u001b[0mctrl\u001b[0m\u001b[0;34m\u001b[0m\u001b[0;34m\u001b[0m\u001b[0m\n\u001b[1;32m    124\u001b[0m         \u001b[0;32mfor\u001b[0m \u001b[0m_\u001b[0m \u001b[0;32min\u001b[0m \u001b[0mrange\u001b[0m\u001b[0;34m(\u001b[0m\u001b[0mn_frames\u001b[0m\u001b[0;34m)\u001b[0m\u001b[0;34m:\u001b[0m\u001b[0;34m\u001b[0m\u001b[0;34m\u001b[0m\u001b[0m\n\u001b[0;32m--> 125\u001b[0;31m             \u001b[0mself\u001b[0m\u001b[0;34m.\u001b[0m\u001b[0msim\u001b[0m\u001b[0;34m.\u001b[0m\u001b[0mstep\u001b[0m\u001b[0;34m(\u001b[0m\u001b[0;34m)\u001b[0m\u001b[0;34m\u001b[0m\u001b[0;34m\u001b[0m\u001b[0m\n\u001b[0m\u001b[1;32m    126\u001b[0m \u001b[0;34m\u001b[0m\u001b[0m\n\u001b[1;32m    127\u001b[0m     def render(self,\n",
      "\u001b[0;31mKeyboardInterrupt\u001b[0m: "
     ]
    }
   ],
   "source": [
    "# def run_hessianES(params):\n",
    "\n",
    "env = gym.make(params['env_name'])\n",
    "params['ob_dim'] = env.observation_space.shape[0]\n",
    "params['ac_dim'] = env.action_space.shape[0]\n",
    "\n",
    "m = 0\n",
    "v = 0\n",
    "\n",
    "params['k'] += -1\n",
    "params['alpha'] = 1\n",
    "\n",
    "params['zeros'] = False\n",
    "master = get_policy(params)\n",
    "\n",
    "if params['log']:\n",
    "    params['num_sensings'] = 4 + int(3 * np.log(master.N))\n",
    "\n",
    "if params['k'] > master.N:\n",
    "    params['k'] = master.N\n",
    "\n",
    "n_eps = 0\n",
    "n_iter = 1\n",
    "ts_cumulative = 0\n",
    "ts = []\n",
    "rollouts = []\n",
    "rewards = []\n",
    "samples = []\n",
    "alphas = []\n",
    "G = [] # Don't need this for HessianES\n",
    "Hinv_success = 0\n",
    "while n_iter < params['max_iter']:\n",
    "\n",
    "    params['n_iter'] = n_iter\n",
    "    gradient, n_samples, timesteps, Hinv = HessianES(params, master)\n",
    "    Hinv_success += Hinv\n",
    "#     print(Hinv)\n",
    "#     gradient, n_samples, timesteps = ES(params, master, G)\n",
    "    \n",
    "    ts_cumulative += timesteps\n",
    "    ts.append(ts_cumulative)\n",
    "    alphas.append(params['alpha'])\n",
    "\n",
    "    if n_iter == 1:\n",
    "        G = np.array(gradient)\n",
    "    else:\n",
    "        G *= params['decay']\n",
    "        G = np.vstack([G, gradient])\n",
    "    n_eps += 2 * n_samples\n",
    "    rollouts.append(n_eps)\n",
    "    gradient /= (np.linalg.norm(gradient) / master.N + 1e-8)\n",
    "\n",
    "    update, m, v = Adam(gradient, m, v, params['learning_rate'], n_iter)\n",
    "#     update = params['learning_rate']*gradient\n",
    "\n",
    "    master.update(update)\n",
    "    test_policy = worker(params, master, np.zeros([1, master.N]), 0)\n",
    "    reward = test_policy.rollout(train=False)\n",
    "    rewards.append(reward)\n",
    "    samples.append(n_samples)\n",
    "\n",
    "    print('Iteration: %s, Rollouts: %s, Reward: %s, Alpha: %s, Samples: %s' %(n_iter, n_eps, reward, params['alpha'], n_samples))\n",
    "    n_iter += 1\n",
    "\n",
    "    out = pd.DataFrame({'Rollouts': rollouts, 'Reward': rewards, 'Samples': samples, 'Timesteps': ts, 'Alpha': alphas})\n",
    "    out.to_csv('HessianES_Seed%s.csv' %(params['seed']), index=False)     "
   ]
  },
  {
   "cell_type": "code",
   "execution_count": 16,
   "id": "fd3896ad",
   "metadata": {},
   "outputs": [],
   "source": [
    "np.save(\"./data/{}_hessian.npy\".format(params['dir']), master.params)\n",
    "np.save(\"./data/{}_hessian_ts.npy\".format(params['dir']), ts)\n",
    "np.save(\"./data/{}_hessian_rs.npy\".format(params['dir']), rewards)\n",
    "\n",
    "\n"
   ]
  },
  {
   "cell_type": "code",
   "execution_count": 11,
   "id": "81049768",
   "metadata": {},
   "outputs": [
    {
     "data": {
      "text/plain": [
       "0.6297623255517226"
      ]
     },
     "execution_count": 11,
     "metadata": {},
     "output_type": "execute_result"
    }
   ],
   "source": [
    "np.quantile(H.flatten(), 0.98)"
   ]
  },
  {
   "cell_type": "code",
   "execution_count": 43,
   "id": "e5f27101",
   "metadata": {},
   "outputs": [],
   "source": [
    "asebo_ts = np.load(\"./data/InvertedPendulum-v2Toeplitz_h32_lr0.05_k140__asebo_ts.npy\")\n",
    "asebo_rewards = np.load(\"./data/InvertedPendulum-v2Toeplitz_h32_lr0.05_k140__asebo_rs.npy\")\n",
    "\n",
    "lpgrad_ts = np.load(\"./data/InvertedPendulum-v2Linear_h32_lr0.05_num_sensings100__LP_ts.npy\")\n",
    "lpgrad_rewards = np.load(\"./data/InvertedPendulum-v2Linear_h32_lr0.05_num_sensings100__LP_rs.npy\")\n",
    "\n"
   ]
  },
  {
   "cell_type": "code",
   "execution_count": 44,
   "id": "feef14b4",
   "metadata": {},
   "outputs": [
    {
     "data": {
      "text/plain": [
       "<matplotlib.legend.Legend at 0x7fd01a912048>"
      ]
     },
     "execution_count": 44,
     "metadata": {},
     "output_type": "execute_result"
    },
    {
     "data": {
      "image/png": "[encoded data removed]",
      "text/plain": [
       "<Figure size 432x288 with 1 Axes>"
      ]
     },
     "metadata": {
      "needs_background": "light"
     },
     "output_type": "display_data"
    }
   ],
   "source": [
    "plt.plot(asebo_ts, asebo_rewards, label=\"ASEBO\")\n",
    "plt.plot(lpgrad_ts, lpgrad_rewards, label=\"LP gradient\")\n",
    "plt.legend()\n"
   ]
  },
  {
   "cell_type": "markdown",
   "id": "2704c1e4",
   "metadata": {},
   "source": [
    "# Testing"
   ]
  },
  {
   "cell_type": "code",
   "execution_count": 7,
   "id": "14b2b9f9",
   "metadata": {},
   "outputs": [],
   "source": [
    "\n"
   ]
  },
  {
   "cell_type": "code",
   "execution_count": 18,
   "id": "6f1a145b",
   "metadata": {},
   "outputs": [],
   "source": [
    "!open ."
   ]
  },
  {
   "cell_type": "code",
   "execution_count": null,
   "id": "93079463",
   "metadata": {},
   "outputs": [],
   "source": [
    "# master = get_policy(params)\n",
    "# master.params=np.load(\"./data/{}_hessian.npy\".format(params['dir']))\n",
    "test_policy = worker(params, master, np.zeros([1, master.N]), 0)\n"
   ]
  },
  {
   "cell_type": "code",
   "execution_count": null,
   "id": "ec8d08fd",
   "metadata": {},
   "outputs": [],
   "source": [
    "from gym.wrappers import Monitor\n",
    "env = Monitor(gym.make(params['env_name']), './video', force=True)\n",
    "env._max_episode_steps = params['steps']"
   ]
  },
  {
   "cell_type": "code",
   "execution_count": null,
   "id": "7d1fce78",
   "metadata": {},
   "outputs": [],
   "source": [
    "def play(env, worker):\n",
    "    state = env.reset()\n",
    "    while 1:\n",
    "        action = worker.policy.evaluate(state)\n",
    "        action = np.clip(action, worker.env.action_space.low[0], worker.env.action_space.high[0])\n",
    "        action = action.reshape(len(action), )\n",
    "        state, reward, done, info = env.step(action)\n",
    "        env.render()\n",
    "        if done: \n",
    "            break"
   ]
  },
  {
   "cell_type": "code",
   "execution_count": null,
   "id": "c79a290a",
   "metadata": {},
   "outputs": [],
   "source": [
    "play(env, test_policy)"
   ]
  },
  {
   "cell_type": "code",
   "execution_count": 16,
   "id": "a65c4d0a",
   "metadata": {},
   "outputs": [
    {
     "data": {
      "text/plain": [
       "61"
      ]
     },
     "execution_count": 16,
     "metadata": {},
     "output_type": "execute_result"
    }
   ],
   "source": [
    "len(ts)"
   ]
  },
  {
   "cell_type": "code",
   "execution_count": 12,
   "id": "8a2e343f",
   "metadata": {},
   "outputs": [
    {
     "data": {
      "text/plain": [
       "'HalfCheetah-v2Linear_h32_lr0.05_num_sensings250_'"
      ]
     },
     "execution_count": 12,
     "metadata": {},
     "output_type": "execute_result"
    }
   ],
   "source": [
    "params['dir']"
   ]
  },
  {
   "cell_type": "code",
   "execution_count": 9,
   "id": "9efe5804",
   "metadata": {},
   "outputs": [],
   "source": [
    "np.save(\"./data/{}_hessian_ts.npy\".format(params['dir']), ts)\n",
    "np.save(\"./data/{}_hessian_rs.npy\".format(params['dir']), rewards)"
   ]
  },
  {
   "cell_type": "code",
   "execution_count": null,
   "id": "ac32250a",
   "metadata": {},
   "outputs": [],
   "source": [
    "sigma = 0.05\n",
    "# np.random.seed(0)\n",
    "# theta = np.random.uniform(-5,5,5)\n",
    "theta = 0.0 * np.ones(5)\n",
    "n = 100\n",
    "d = len(theta)\n",
    "\n",
    "print('theta:')\n",
    "print(theta)\n",
    "epsilons = np.random.multivariate_normal(mean = np.zeros(d), cov = np.identity(d), size = n)\n",
    "\n",
    "g = Gradient_LP(theta, sigma, epsilons)\n",
    "print('gradient:')\n",
    "print(g)\n",
    "\n",
    "H = Hessian_LP(theta, sigma, epsilons)\n",
    "print('Hessian:')\n",
    "print(H)"
   ]
  },
  {
   "cell_type": "code",
   "execution_count": 11,
   "id": "d1d70843",
   "metadata": {},
   "outputs": [],
   "source": [
    "!open .\n"
   ]
  },
  {
   "cell_type": "code",
   "execution_count": null,
   "id": "372915d9",
   "metadata": {},
   "outputs": [],
   "source": []
  }
 ],
 "metadata": {
  "kernelspec": {
   "display_name": "Python 3",
   "language": "python",
   "name": "python3"
  },
  "language_info": {
   "codemirror_mode": {
    "name": "ipython",
    "version": 3
   },
   "file_extension": ".py",
   "mimetype": "text/x-python",
   "name": "python",
   "nbconvert_exporter": "python",
   "pygments_lexer": "ipython3",
   "version": "3.6.13"
  }
 },
 "nbformat": 4,
 "nbformat_minor": 5
}
