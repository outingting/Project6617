{
 "cells": [
  {
   "cell_type": "code",
   "execution_count": 1,
   "id": "c1378aa4",
   "metadata": {},
   "outputs": [],
   "source": [
    "import numpy as np\n",
    "import pandas as pd\n",
    "import cvxpy as cp\n",
    "import gym\n",
    "import matplotlib.pyplot as plt\n",
    "from numpy.linalg import LinAlgError\n",
    "\n",
    "\n",
    "import sys\n",
    "sys.path.append('./asebo/')\n",
    "from optimizers import Adam\n",
    "from worker import worker, get_policy\n",
    "from es import ES"
   ]
  },
  {
   "cell_type": "code",
   "execution_count": 2,
   "id": "efff6947",
   "metadata": {},
   "outputs": [],
   "source": [
    "def F(theta):\n",
    "    if theta.ndim == 1:\n",
    "        theta = np.expand_dims(theta, 0)\n",
    "    return -np.sum((theta - 0.5) ** 2, axis=tuple(range(theta.ndim)[1:]))\n",
    "\n",
    "\n",
    "def Gradient_LP(y, epsilons):\n",
    "    \"\"\"\n",
    "    y = (F(theta + sigma*epsilons) - F(theta)) / sigma\n",
    "    epsilons: the perturbations with UNIT VARIANCE\n",
    "    \"\"\"\n",
    "    n, d = epsilons.shape\n",
    "    \n",
    "    var_z = cp.Variable(n)\n",
    "    var_g = cp.Variable(d)\n",
    "    obj = sum(var_z)\n",
    "    constraints = [var_z >= y - epsilons @ var_g,\n",
    "                   var_z >= -y + epsilons @ var_g]\n",
    "    prob = cp.Problem(cp.Minimize(obj), constraints)\n",
    "    prob.solve(solver=cp.GLPK, eps=1e-6, glpk={'msg_lev': 'GLP_MSG_OFF'})\n",
    "    if prob.status == 'optimal':\n",
    "        return var_g.value\n",
    "    return None\n",
    "\n",
    "def Hessian_LP(y, epsilons):\n",
    "    \"\"\"\n",
    "    y = (F(theta + sigma*epsilons) + F(theta - sigma*epsilons) - 2*F(theta)) / (sigma**2)\n",
    "    epsilons: the perturbations with UNIT VARIANCE\n",
    "    \"\"\"\n",
    "    n, d = epsilons.shape\n",
    "    \n",
    "    \n",
    "    X = np.zeros((n, d*(d+1)//2))\n",
    "    idx = 0\n",
    "    for j in range(d):\n",
    "        X[:,idx] = epsilons[:,j]**2\n",
    "        idx += 1\n",
    "        if j == d-1:\n",
    "            break\n",
    "        X[:,idx:idx+d-j-1] = 2 * epsilons[:,j:j+1] * epsilons[:,j+1:]\n",
    "        idx += d-j-1\n",
    "#         X[:,j*(j+1)//2:(j+1)*(j+2)//2-1] = 2 * epsilons[:,j:j+1] * epsilons[:,:j]\n",
    "#         X[:,(j+1)*(j+2)//2-1] = epsilons[:,j]**2\n",
    "    \n",
    "    var_z = cp.Variable(n)\n",
    "    var_H = cp.Variable(d*(d+1)//2)\n",
    "    \n",
    "    obj = sum(var_z)\n",
    "    \n",
    "    constraints = []\n",
    "    for i in range(n):\n",
    "        constraints += [var_z[i] >= y[i] - X[i] @ var_H]\n",
    "        constraints += [var_z[i] >= - y[i] + X[i] @ var_H]\n",
    "    \n",
    "    prob = cp.Problem(cp.Minimize(obj), constraints)\n",
    "    prob.solve(solver=cp.GLPK, eps=1e-6, glpk={'msg_lev': 'GLP_MSG_OFF'})\n",
    "\n",
    "    if prob.status == 'optimal':\n",
    "        H = np.zeros((d,d))\n",
    "        idx = 0\n",
    "        for j in range(d):\n",
    "            H[j,j:] = var_H[idx:idx+d-j].value\n",
    "            H[j:,j] = var_H[idx:idx+d-j].value\n",
    "            idx += d-j\n",
    "#             H[j,0:j+1] = var_H[j*(j+1)//2:(j+1)*(j+2)//2].value\n",
    "#             H[1:j+1,j] = H[j,1:j+1]\n",
    "        return H\n",
    "    return None\n",
    "\n",
    "\n",
    "def get_dct_mtx(d):\n",
    "    # DCT matrix\n",
    "    # unitary, symmetric and real\n",
    "    # Orthonormal eigenbasis for structured H\n",
    "    n = 2*d\n",
    "    i_idx = np.array([range(n//2 )])\n",
    "    idx = 2 * np.transpose(i_idx) @ i_idx\n",
    "    dct_mtx = np.cos(idx*np.pi / n) * 2 / np.sqrt(d)\n",
    "    dct_mtx[0,0] = 1\n",
    "    dct_mtx[0,d-1] = 1\n",
    "    dct_mtx[d-1,0] = 1\n",
    "    dct_mtx[d-1,d-1] = (-1)**(d)\n",
    "    return dct_mtx\n",
    "def Hessian_LP_structured(y, epsilons):\n",
    "    \"\"\"\n",
    "    y = (F(theta + sigma * epsilons) + F(theta - sigma * epsilons) - 2 * F(theta)) / (sigma ** 2)\n",
    "    \"\"\"\n",
    "    # LP formulation to estimate Hessian\n",
    "    # Minimizing over the space of matrices of the form\n",
    "    # shown in the example 7 & 8 in the reference\n",
    "    # [MATRICES DIAGONALIZED BY THE DISCRETECOSINE AND DISCRETE SINE TRANSFORMS]\n",
    "    \n",
    "    n, d = epsilons.shape\n",
    "    \n",
    "    # Define and solve the LP for Hessian here\n",
    "    \n",
    "    \n",
    "    var_z = cp.Variable(n)\n",
    "    var_H_diag = cp.Variable(d)\n",
    "    \n",
    "    # Lower triangular mtx H\n",
    "    dct_mtx = get_dct_mtx(d)\n",
    "    obj = sum(var_z)\n",
    "    \n",
    "    constraints = []\n",
    "    for i in range(n):\n",
    "        Uv = epsilons[i:i+1,:] @ dct_mtx\n",
    "        Uv_sq = Uv * Uv\n",
    "        constraints += [var_z[i] >= y[i] - Uv_sq @ var_H_diag]\n",
    "        constraints += [var_z[i] >= - y[i] + Uv_sq @ var_H_diag]\n",
    "    for i in range(d):\n",
    "        constraints += [var_H_diag[i] <= 0]\n",
    "        \n",
    "    prob = cp.Problem(cp.Minimize(obj), constraints)\n",
    "    prob.solve(solver=cp.GLPK, eps=1e-6, glpk={'msg_lev': 'GLP_MSG_OFF'})\n",
    "    \n",
    "    # \n",
    "    if prob.status == 'optimal':\n",
    "        return dct_mtx @ np.diag(var_H_diag.value) @ np.transpose(dct_mtx)\n",
    "    \n",
    "    return None\n"
   ]
  },
  {
   "cell_type": "code",
   "execution_count": 3,
   "id": "59ed59c1",
   "metadata": {},
   "outputs": [],
   "source": [
    "def aggregate_rollouts_hessianES(master, A, params, n_samples):\n",
    "    \n",
    "    all_rollouts = np.zeros([n_samples+1, 2])\n",
    "\n",
    "    timesteps = 0\n",
    "    \n",
    "    # F(theta + sigma*epsilons), and F(theta - sigma*epsilons)\n",
    "    assert A.shape[0] == n_samples+1\n",
    "    for i in range(n_samples+1):\n",
    "        w = worker(params, master, A, i)\n",
    "        all_rollouts[i] = np.reshape(w.do_rollouts(), 2)\n",
    "        timesteps += w.timesteps\n",
    "\n",
    "    all_rollouts = (all_rollouts - np.mean(all_rollouts)) / (np.std(all_rollouts)  + 1e-8)\n",
    "    \n",
    "    # (F(theta + sigma*epsilons) - F(theta)) / sigma\n",
    "    gradient_y = np.array(all_rollouts[:-1, 0] - sum(all_rollouts[-1])/2) / params[\"sigma\"]\n",
    "    # (F(theta + sigma*epsilons) + F(theta - sigma*epsilons) - 2*F(theta)) / (sigma**2)\n",
    "    hessian_y = np.array(all_rollouts[:-1, 0] + all_rollouts[:-1, 1] - sum(all_rollouts[-1])) / (params[\"sigma\"]**2)\n",
    "    return(gradient_y, hessian_y, timesteps)\n",
    "\n",
    "def HessianES(params, master):\n",
    "        \n",
    "#     if params['n_iter'] >= params['k']:\n",
    "#         pca = PCA()\n",
    "#         pca_fit = pca.fit(G)\n",
    "#         var_exp = pca_fit.explained_variance_ratio_\n",
    "#         var_exp = np.cumsum(var_exp)\n",
    "#         n_samples = np.argmax(var_exp > params['threshold']) + 1\n",
    "#         if n_samples < params['min']:\n",
    "#             n_samples = params['min']\n",
    "#         U = pca_fit.components_[:n_samples]\n",
    "#         UUT = np.matmul(U.T, U)\n",
    "#         U_ort = pca_fit.components_[n_samples:]\n",
    "#         UUT_ort = np.matmul(U_ort.T, U_ort)\n",
    "#         alpha = params['alpha']\n",
    "#         if params['n_iter'] == params['k']:\n",
    "#             n_samples = params['num_sensings']\n",
    "#     else:\n",
    "#         UUT = np.zeros([master.N, master.N])\n",
    "#         alpha = 1\n",
    "#         n_samples = params['num_sensings']\n",
    "    \n",
    "    n_samples = params['num_sensings']\n",
    "    \n",
    "#     np.random.seed(None)\n",
    "    cov = np.identity(master.N)*(params[\"sigma\"]**2)\n",
    "    mu = np.repeat(0, master.N)\n",
    "    A = np.random.multivariate_normal(mu, cov, n_samples)\n",
    "#     A /= np.linalg.norm(A, axis =-1)[:, np.newaxis]\n",
    "    A = np.vstack([A, mu]) # Adding a reference evaluation\n",
    "        \n",
    "    gradient_y, hessian_y, timesteps = aggregate_rollouts_hessianES(master, A, params, n_samples)\n",
    "    \n",
    "    g = Gradient_LP(gradient_y, A[:-1, :]/params[\"sigma\"])\n",
    "#     H = Hessian_LP(hessian_y, A[:-1, :]/params[\"sigma\"])#-0.1*np.identity(master.N)\n",
    "    H = Hessian_LP_structured(hessian_y, A[:-1, :]/params[\"sigma\"]) - 0.1*np.identity(master.N)\n",
    "#     H = -np.identity(len(g))\n",
    "    try:\n",
    "        Hinv = True\n",
    "        update_direction = -np.linalg.inv(H)@g\n",
    "    except LinAlgError:\n",
    "        Hinv = False\n",
    "        update_direction = g\n",
    "#     if params['n_iter'] >= params['k']:\n",
    "#         params['alpha'] = np.linalg.norm(np.dot(g, UUT_ort))/np.linalg.norm(np.dot(g, UUT))\n",
    "    \n",
    "    return(update_direction, n_samples, timesteps, Hinv)"
   ]
  },
  {
   "cell_type": "markdown",
   "id": "9bf0648b",
   "metadata": {},
   "source": [
    "## Manuel Tests"
   ]
  },
  {
   "cell_type": "code",
   "execution_count": 5,
   "id": "88a2a705",
   "metadata": {},
   "outputs": [],
   "source": [
    "params = {\n",
    "'env_name': 'InvertedPendulum-v2',\n",
    "'steps':1000,\n",
    "'h_dim':32,\n",
    "'start':0,\n",
    "'max_iter':1000,\n",
    "'seed':0,\n",
    "\n",
    "'k':140,\n",
    "'num_sensings':100,#100\n",
    "'log':0,\n",
    "'threshold':0.995,\n",
    "'decay':0.99,\n",
    "'learning_rate':0.01,#0.05\n",
    "'filename':'',\n",
    "'policy':'Linear', # Linear or Toeplitz\n",
    "\n",
    "'shift':0,\n",
    "'min':10,\n",
    "'sigma':0.1\n",
    "}\n",
    "\n",
    "params['dir'] = params['env_name'] + params['policy'] + '_h' + str(params['h_dim']) + '_lr' + str(params['learning_rate']) + '_num_sensings' + str(params['num_sensings']) +'_' + params['filename']\n",
    "\n",
    "# if not(os.path.exists('data/'+params['dir'])):\n",
    "#     os.makedirs('data/'+params['dir'])\n",
    "# os.chdir('data/'+params['dir'])"
   ]
  },
  {
   "cell_type": "code",
   "execution_count": 37,
   "id": "86e5cfde",
   "metadata": {},
   "outputs": [],
   "source": [
    "env = gym.make(params['env_name'])\n",
    "params['ob_dim'] = env.observation_space.shape[0]\n",
    "params['ac_dim'] = env.action_space.shape[0]\n",
    "\n",
    "m = 0\n",
    "v = 0\n",
    "\n",
    "params['k'] += -1\n",
    "params['alpha'] = 1\n",
    "\n",
    "params['zeros'] = False\n",
    "master = get_policy(params)\n",
    "\n",
    "if params['log']:\n",
    "    params['num_sensings'] = 4 + int(3 * np.log(master.N))\n",
    "\n",
    "if params['k'] > master.N:\n",
    "    params['k'] = master.N\n",
    "\n",
    "n_eps = 0\n",
    "n_iter = 1\n",
    "ts_cumulative = 0\n",
    "ts = []\n",
    "rollouts = []\n",
    "rewards = []\n",
    "samples = []\n",
    "alphas = []\n",
    "G = [] # Don't need this for HessianES\n",
    "Hinv_success = 0\n",
    "\n",
    "n_samples = params['num_sensings']\n",
    "np.random.seed(None)\n",
    "cov = np.identity(master.N)*(params[\"sigma\"]**2)\n",
    "mu = np.repeat(0, master.N)\n",
    "A = np.random.multivariate_normal(mu, cov, n_samples)\n",
    "A /= np.linalg.norm(A, axis =-1)[:, np.newaxis]\n",
    "A = np.vstack([A, mu]) # Adding a reference evaluation\n",
    "\n",
    "gradient_y, hessian_y, timesteps = aggregate_rollouts_hessianES(master, A, params, n_samples)"
   ]
  },
  {
   "cell_type": "code",
   "execution_count": 38,
   "id": "4fa5335d",
   "metadata": {},
   "outputs": [
    {
     "data": {
      "text/plain": [
       "(101, 4)"
      ]
     },
     "execution_count": 38,
     "metadata": {},
     "output_type": "execute_result"
    }
   ],
   "source": [
    "A.shape"
   ]
  },
  {
   "cell_type": "code",
   "execution_count": 39,
   "id": "87928650",
   "metadata": {},
   "outputs": [
    {
     "name": "stdout",
     "output_type": "stream",
     "text": [
      "CPU times: user 31.7 ms, sys: 1.44 ms, total: 33.2 ms\n",
      "Wall time: 32.2 ms\n"
     ]
    }
   ],
   "source": [
    "%%time\n",
    "g = Gradient_LP(gradient_y, A[:-1, :]/params[\"sigma\"])"
   ]
  },
  {
   "cell_type": "code",
   "execution_count": 40,
   "id": "d62a88d8",
   "metadata": {},
   "outputs": [
    {
     "name": "stdout",
     "output_type": "stream",
     "text": [
      "CPU times: user 320 ms, sys: 2.23 ms, total: 322 ms\n",
      "Wall time: 321 ms\n"
     ]
    }
   ],
   "source": [
    "%%time\n",
    "Hstruc = Hessian_LP_structured(hessian_y, A[:-1, :]/params[\"sigma\"])"
   ]
  },
  {
   "cell_type": "code",
   "execution_count": 41,
   "id": "0c93f655",
   "metadata": {},
   "outputs": [
    {
     "data": {
      "text/plain": [
       "array([[-0.66486936, -0.0687222 ,  0.32419788, -0.21242544],\n",
       "       [-0.0687222 , -0.17033574, -0.12824603, -0.0687222 ],\n",
       "       [ 0.32419788, -0.12824603, -0.58068995, -0.12824603],\n",
       "       [-0.21242544, -0.0687222 , -0.12824603, -0.21242544]])"
      ]
     },
     "execution_count": 41,
     "metadata": {},
     "output_type": "execute_result"
    }
   ],
   "source": [
    "Hstruc"
   ]
  },
  {
   "cell_type": "code",
   "execution_count": 42,
   "id": "9caf8549",
   "metadata": {},
   "outputs": [
    {
     "data": {
      "text/plain": [
       "(array([-9.58700168e-01, -5.53014222e-01, -5.54494605e-17, -1.16606096e-01]),\n",
       " array([[ 0.76786867,  0.42437387,  0.47984149,  0.00605527],\n",
       "        [-0.02631077,  0.37801163, -0.28108464, -0.88170651],\n",
       "        [-0.63093662,  0.59732751,  0.47984149,  0.12194659],\n",
       "        [ 0.10772386,  0.56587443, -0.67859834,  0.45572578]]))"
      ]
     },
     "execution_count": 42,
     "metadata": {},
     "output_type": "execute_result"
    }
   ],
   "source": [
    "np.linalg.eig(Hstruc)"
   ]
  },
  {
   "cell_type": "code",
   "execution_count": 43,
   "id": "70928b6b",
   "metadata": {},
   "outputs": [
    {
     "name": "stdout",
     "output_type": "stream",
     "text": [
      "CPU times: user 260 ms, sys: 2.42 ms, total: 263 ms\n",
      "Wall time: 262 ms\n"
     ]
    }
   ],
   "source": [
    "%%time\n",
    "H = Hessian_LP(hessian_y, A[:-1, :]/params[\"sigma\"])"
   ]
  },
  {
   "cell_type": "code",
   "execution_count": 44,
   "id": "162357c7",
   "metadata": {},
   "outputs": [
    {
     "data": {
      "text/plain": [
       "array([[-0.41973596, -0.16232083, -0.14704545, -0.76977776],\n",
       "       [-0.16232083, -0.14212783, -0.26579366,  0.57871458],\n",
       "       [-0.14704545, -0.26579366, -1.56517797, -0.1941108 ],\n",
       "       [-0.76977776,  0.57871458, -0.1941108 ,  1.35151683]])"
      ]
     },
     "execution_count": 44,
     "metadata": {},
     "output_type": "execute_result"
    }
   ],
   "source": [
    "H"
   ]
  },
  {
   "cell_type": "code",
   "execution_count": 45,
   "id": "a21d4949",
   "metadata": {},
   "outputs": [
    {
     "data": {
      "text/plain": [
       "(array([ 1.83432969, -1.65323722, -0.6841841 , -0.2724333 ]),\n",
       " array([[ 0.32355209, -0.18565394,  0.8819279 , -0.28818369],\n",
       "        [-0.29714026, -0.15955991, -0.2234091 , -0.91451445],\n",
       "        [ 0.06041598, -0.96632893, -0.16382964,  0.1889925 ],\n",
       "        [-0.89631   , -0.0792569 ,  0.38138091,  0.21188516]]))"
      ]
     },
     "execution_count": 45,
     "metadata": {},
     "output_type": "execute_result"
    }
   ],
   "source": [
    "np.linalg.eig(H)"
   ]
  },
  {
   "cell_type": "markdown",
   "id": "293ed0d3",
   "metadata": {},
   "source": [
    "## Training"
   ]
  },
  {
   "cell_type": "code",
   "execution_count": null,
   "id": "6e505a68",
   "metadata": {
    "scrolled": true
   },
   "outputs": [
    {
     "name": "stdout",
     "output_type": "stream",
     "text": [
      "Iteration: 1, Rollouts: 200, Reward: 35.0, Alpha: 1, Samples: 100\n"
     ]
    }
   ],
   "source": [
    "# def run_hessianES(params):\n",
    "\n",
    "env = gym.make(params['env_name'])\n",
    "params['ob_dim'] = env.observation_space.shape[0]\n",
    "params['ac_dim'] = env.action_space.shape[0]\n",
    "\n",
    "m = 0\n",
    "v = 0\n",
    "\n",
    "params['k'] += -1\n",
    "params['alpha'] = 1\n",
    "\n",
    "params['zeros'] = False\n",
    "master = get_policy(params)\n",
    "\n",
    "if params['log']:\n",
    "    params['num_sensings'] = 4 + int(3 * np.log(master.N))\n",
    "\n",
    "if params['k'] > master.N:\n",
    "    params['k'] = master.N\n",
    "\n",
    "n_eps = 0\n",
    "n_iter = 1\n",
    "ts_cumulative = 0\n",
    "ts = []\n",
    "rollouts = []\n",
    "rewards = []\n",
    "samples = []\n",
    "alphas = []\n",
    "G = [] # Don't need this for HessianES\n",
    "Hinv_success = 0\n",
    "while n_iter < params['max_iter']:\n",
    "\n",
    "    params['n_iter'] = n_iter\n",
    "    gradient, n_samples, timesteps, Hinv = HessianES(params, master)\n",
    "    Hinv_success += Hinv\n",
    "#     print(Hinv)\n",
    "#     gradient, n_samples, timesteps = ES(params, master, G)\n",
    "    \n",
    "    ts_cumulative += timesteps\n",
    "    ts.append(ts_cumulative)\n",
    "    alphas.append(params['alpha'])\n",
    "\n",
    "    if n_iter == 1:\n",
    "        G = np.array(gradient)\n",
    "    else:\n",
    "        G *= params['decay']\n",
    "        G = np.vstack([G, gradient])\n",
    "    n_eps += 2 * n_samples\n",
    "    rollouts.append(n_eps)\n",
    "#     gradient /= (np.linalg.norm(gradient) / master.N + 1e-8)\n",
    "\n",
    "#     update, m, v = Adam(gradient, m, v, params['learning_rate'], n_iter)\n",
    "    update = params['learning_rate']*gradient\n",
    "\n",
    "    master.update(update)\n",
    "    test_policy = worker(params, master, np.zeros([1, master.N]), 0)\n",
    "    reward = test_policy.rollout(train=False)\n",
    "    rewards.append(reward)\n",
    "    samples.append(n_samples)\n",
    "\n",
    "    print('Iteration: %s, Rollouts: %s, Reward: %s, Alpha: %s, Samples: %s' %(n_iter, n_eps, reward, params['alpha'], n_samples))\n",
    "    n_iter += 1\n",
    "\n",
    "    out = pd.DataFrame({'Rollouts': rollouts, 'Reward': rewards, 'Samples': samples, 'Timesteps': ts, 'Alpha': alphas})\n",
    "    out.to_csv('HessianES_Seed%s.csv' %(params['seed']), index=False)     "
   ]
  },
  {
   "cell_type": "code",
   "execution_count": 49,
   "id": "72c544af",
   "metadata": {},
   "outputs": [],
   "source": [
    "np.save(\"./data/{}_hessian.npy\".format(params['dir']), master.params)\n",
    "np.save(\"./data/{}_hessian_ts.npy\".format(params['dir']), ts)\n",
    "np.save(\"./data/{}_hessian_rs.npy\".format(params['dir']), rewards)\n",
    "\n",
    "\n"
   ]
  },
  {
   "cell_type": "code",
   "execution_count": 11,
   "id": "96b73e5a",
   "metadata": {},
   "outputs": [
    {
     "data": {
      "text/plain": [
       "0.6297623255517226"
      ]
     },
     "execution_count": 11,
     "metadata": {},
     "output_type": "execute_result"
    }
   ],
   "source": [
    "np.quantile(H.flatten(), 0.98)"
   ]
  },
  {
   "cell_type": "code",
   "execution_count": 55,
   "id": "031fb450",
   "metadata": {},
   "outputs": [],
   "source": [
    "asebo_ts = np.load(\"./data/InvertedPendulum-v2Toeplitz_h32_lr0.05_k140__asebo_ts.npy\")\n",
    "asebo_rewards = np.load(\"./data/InvertedPendulum-v2Toeplitz_h32_lr0.05_k140__asebo_rs.npy\")\n",
    "\n",
    "lpgrad_ts = np.load(\"./data/InvertedPendulum-v2Linear_h32_lr0.05_num_sensings100__LP_ts.npy\")\n",
    "lpgrad_rewards = np.load(\"./data/InvertedPendulum-v2Linear_h32_lr0.05_num_sensings100__LP_rs.npy\")\n",
    "\n"
   ]
  },
  {
   "cell_type": "code",
   "execution_count": 56,
   "id": "2e78c438",
   "metadata": {},
   "outputs": [
    {
     "data": {
      "text/plain": [
       "<matplotlib.legend.Legend at 0x7f95e112beb8>"
      ]
     },
     "execution_count": 56,
     "metadata": {},
     "output_type": "execute_result"
    },
    {
     "data": {
      "image/png": "[encoded data removed]",
      "text/plain": [
       "<Figure size 432x288 with 1 Axes>"
      ]
     },
     "metadata": {
      "needs_background": "light"
     },
     "output_type": "display_data"
    }
   ],
   "source": [
    "plt.plot(asebo_ts, asebo_rewards, label=\"ASEBO\")\n",
    "plt.plot(lpgrad_ts, lpgrad_rewards, label=\"LP gradient\")\n",
    "plt.plot(ts, rewards, label=\"LP Hessian\")\n",
    "plt.legend()\n"
   ]
  },
  {
   "cell_type": "markdown",
   "id": "f98597ee",
   "metadata": {},
   "source": [
    "# Testing"
   ]
  },
  {
   "cell_type": "code",
   "execution_count": 7,
   "id": "7b252c37",
   "metadata": {},
   "outputs": [],
   "source": [
    "\n"
   ]
  },
  {
   "cell_type": "code",
   "execution_count": 18,
   "id": "0437a411",
   "metadata": {},
   "outputs": [],
   "source": [
    "!open ."
   ]
  },
  {
   "cell_type": "code",
   "execution_count": null,
   "id": "eaffe9bb",
   "metadata": {},
   "outputs": [],
   "source": [
    "# master = get_policy(params)\n",
    "# master.params=np.load(\"./data/{}_hessian.npy\".format(params['dir']))\n",
    "test_policy = worker(params, master, np.zeros([1, master.N]), 0)\n"
   ]
  },
  {
   "cell_type": "code",
   "execution_count": null,
   "id": "c175682f",
   "metadata": {},
   "outputs": [],
   "source": [
    "from gym.wrappers import Monitor\n",
    "env = Monitor(gym.make(params['env_name']), './video', force=True)\n",
    "env._max_episode_steps = params['steps']"
   ]
  },
  {
   "cell_type": "code",
   "execution_count": null,
   "id": "623f1340",
   "metadata": {},
   "outputs": [],
   "source": [
    "def play(env, worker):\n",
    "    state = env.reset()\n",
    "    while 1:\n",
    "        action = worker.policy.evaluate(state)\n",
    "        action = np.clip(action, worker.env.action_space.low[0], worker.env.action_space.high[0])\n",
    "        action = action.reshape(len(action), )\n",
    "        state, reward, done, info = env.step(action)\n",
    "        env.render()\n",
    "        if done: \n",
    "            break"
   ]
  },
  {
   "cell_type": "code",
   "execution_count": null,
   "id": "e09c3c00",
   "metadata": {},
   "outputs": [],
   "source": [
    "play(env, test_policy)"
   ]
  },
  {
   "cell_type": "code",
   "execution_count": 16,
   "id": "c60226b5",
   "metadata": {},
   "outputs": [
    {
     "data": {
      "text/plain": [
       "61"
      ]
     },
     "execution_count": 16,
     "metadata": {},
     "output_type": "execute_result"
    }
   ],
   "source": [
    "len(ts)"
   ]
  },
  {
   "cell_type": "code",
   "execution_count": 12,
   "id": "0be095a8",
   "metadata": {},
   "outputs": [
    {
     "data": {
      "text/plain": [
       "'HalfCheetah-v2Linear_h32_lr0.05_num_sensings250_'"
      ]
     },
     "execution_count": 12,
     "metadata": {},
     "output_type": "execute_result"
    }
   ],
   "source": [
    "params['dir']"
   ]
  },
  {
   "cell_type": "code",
   "execution_count": 9,
   "id": "cb039feb",
   "metadata": {},
   "outputs": [],
   "source": [
    "np.save(\"./data/{}_hessian_ts.npy\".format(params['dir']), ts)\n",
    "np.save(\"./data/{}_hessian_rs.npy\".format(params['dir']), rewards)"
   ]
  },
  {
   "cell_type": "code",
   "execution_count": null,
   "id": "b41c785b",
   "metadata": {},
   "outputs": [],
   "source": [
    "sigma = 0.05\n",
    "# np.random.seed(0)\n",
    "# theta = np.random.uniform(-5,5,5)\n",
    "theta = 0.0 * np.ones(5)\n",
    "n = 100\n",
    "d = len(theta)\n",
    "\n",
    "print('theta:')\n",
    "print(theta)\n",
    "epsilons = np.random.multivariate_normal(mean = np.zeros(d), cov = np.identity(d), size = n)\n",
    "\n",
    "g = Gradient_LP(theta, sigma, epsilons)\n",
    "print('gradient:')\n",
    "print(g)\n",
    "\n",
    "H = Hessian_LP(theta, sigma, epsilons)\n",
    "print('Hessian:')\n",
    "print(H)"
   ]
  },
  {
   "cell_type": "code",
   "execution_count": 11,
   "id": "91a9dec2",
   "metadata": {},
   "outputs": [],
   "source": [
    "!open .\n"
   ]
  },
  {
   "cell_type": "code",
   "execution_count": null,
   "id": "f8d42646",
   "metadata": {},
   "outputs": [],
   "source": []
  }
 ],
 "metadata": {
  "kernelspec": {
   "display_name": "Python 3",
   "language": "python",
   "name": "python3"
  },
  "language_info": {
   "codemirror_mode": {
    "name": "ipython",
    "version": 3
   },
   "file_extension": ".py",
   "mimetype": "text/x-python",
   "name": "python",
   "nbconvert_exporter": "python",
   "pygments_lexer": "ipython3",
   "version": "3.6.13"
  }
 },
 "nbformat": 4,
 "nbformat_minor": 5
}
