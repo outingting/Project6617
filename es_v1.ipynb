{
 "cells": [
  {
   "cell_type": "code",
   "execution_count": 110,
   "id": "49986d52",
   "metadata": {},
   "outputs": [],
   "source": [
    "import numpy as np\n",
    "import nevergrad as ng\n",
    "from scipy.stats import multivariate_normal"
   ]
  },
  {
   "cell_type": "markdown",
   "id": "90f128fb",
   "metadata": {},
   "source": [
    "# Functions to be tested"
   ]
  },
  {
   "cell_type": "markdown",
   "id": "15882cc0",
   "metadata": {},
   "source": [
    "For now, use a very simple function - quadratic with max value 0, and theta* = [0.5, 0.5] \n",
    "\n",
    "Also note that we will maximize the function, not minimize."
   ]
  },
  {
   "cell_type": "code",
   "execution_count": 111,
   "id": "cd55958c",
   "metadata": {},
   "outputs": [],
   "source": [
    "def F(theta):\n",
    "    return -sum((theta - 0.5) ** 2)"
   ]
  },
  {
   "cell_type": "markdown",
   "id": "a29be582",
   "metadata": {},
   "source": [
    "# Gradient benchmark\n",
    "\n",
    "This is exactly the Algorithm 1 in the RL paper."
   ]
  },
  {
   "cell_type": "code",
   "execution_count": 117,
   "id": "89b65c3e",
   "metadata": {},
   "outputs": [],
   "source": [
    "def ES_benchmark_gradient(alpha, sigma, theta_0, num_samples, time_steps):\n",
    "    theta_t = theta_0\n",
    "    d = theta_0.shape[0]\n",
    "    n = num_samples\n",
    "    for t in range(time_steps):\n",
    "        #**** sample epsilons ****#\n",
    "        eps_list = [] \n",
    "        for i in range(n):\n",
    "            eps = np.random.multivariate_normal(mean = np.zeros(d), cov = np.identity(d))\n",
    "            eps_list.append(eps)\n",
    "        #**** compute function values ****#\n",
    "        F_list = []\n",
    "        for i in range(n):\n",
    "            F_val = F(theta_t + sigma*eps_list[i])\n",
    "            F_list.append(F_val)\n",
    "        #**** update theta ****#\n",
    "        new_theta = theta_t\n",
    "        for i in range(n):\n",
    "            new_theta += alpha / (n*sigma) * F_list[i] * eps_list[i]\n",
    "        theta_t = new_theta\n",
    "    return theta_t, F(theta_t)"
   ]
  },
  {
   "cell_type": "code",
   "execution_count": 120,
   "id": "83a7e4ae",
   "metadata": {},
   "outputs": [
    {
     "data": {
      "text/plain": [
       "(array([0.58225739, 0.55440925]), -0.009726644536737042)"
      ]
     },
     "execution_count": 120,
     "metadata": {},
     "output_type": "execute_result"
    }
   ],
   "source": [
    "ES_benchmark_gradient(alpha=0.001, sigma=0.01, theta_0 = np.array([1.0,1.0]), num_samples = 10, time_steps = 1000)"
   ]
  },
  {
   "cell_type": "markdown",
   "id": "21a41f04",
   "metadata": {},
   "source": [
    "# First Hessian-based method\n",
    "\n",
    "We use the Hessian estimate as in the write-up document on Overleaf.\n",
    "\n",
    "Then, the same Newton's method as in Zhang's paper is used to update theta with the Hessian estimate.\n",
    "\n",
    "As before, alpha is the learning rate. The parameter p defines how often we re-compute the Hessian."
   ]
  },
  {
   "cell_type": "code",
   "execution_count": 122,
   "id": "b344b4a2",
   "metadata": {},
   "outputs": [],
   "source": [
    "def ES_hessian(alpha, sigma, theta_0, num_samples, time_steps, p):\n",
    "    theta_t = theta_0\n",
    "    d = theta_0.shape[0]\n",
    "    n = num_samples\n",
    "    H = None\n",
    "    for t in range(time_steps):\n",
    "        #**** sample epsilons ****#\n",
    "        eps_list = [] \n",
    "        for i in range(n):\n",
    "            eps = np.random.multivariate_normal(mean = np.zeros(d), cov = np.identity(d))\n",
    "            eps_list.append(eps)\n",
    "        #**** compute function values ****#\n",
    "        F_list = []\n",
    "        for i in range(n):\n",
    "            F_val = F(theta_t + sigma*eps_list[i])\n",
    "            F_list.append(F_val)\n",
    "        #**** compute Hessian every p steps ****#\n",
    "        if t % p == 0:\n",
    "            H = np.zeros((d,d))\n",
    "            for i in range(n):\n",
    "                e_i = eps_list[i].reshape((d,1))\n",
    "                e_i_trans = eps_list[i].reshape((1,d))\n",
    "                H += F_list[i] * (np.matmul(e_i, e_i_trans) - np.identity(d) ) / n\n",
    "            H /= sigma**2\n",
    "        #**** update theta: compute g ****#\n",
    "        u, s, vh = np.linalg.svd(H)\n",
    "        H_nh = u @ np.diag(s**-0.5)\n",
    "        g = 0\n",
    "        for i in range(n):\n",
    "            e_i = eps_list[i].reshape((d,1)) \n",
    "            F_new = F(theta_t +  sigma* (H_nh @ e_i)  )\n",
    "            g += ((F_new - F(theta_t)) / sigma ) @ (H_nh @ e_i) / n\n",
    "        #**** update theta: the rest ****#\n",
    "        new_theta = theta_t + alpha * g\n",
    "        theta_t = new_theta\n",
    "        \n",
    "    return theta_t, F(theta_t), H"
   ]
  },
  {
   "cell_type": "code",
   "execution_count": 133,
   "id": "6f9eb486",
   "metadata": {},
   "outputs": [
    {
     "data": {
      "text/plain": [
       "(array([0.50031513, 0.50031513]),\n",
       " -1.986128335916654e-07,\n",
       " array([[-0.50137429, -0.18191992],\n",
       "        [-0.18191992, -2.4581628 ]]))"
      ]
     },
     "execution_count": 133,
     "metadata": {},
     "output_type": "execute_result"
    }
   ],
   "source": [
    "ES_hessian(alpha=0.005, sigma=0.01, theta_0 = np.array([1.0,1.0]), num_samples = 50, time_steps = 5000, p = 10)"
   ]
  },
  {
   "cell_type": "code",
   "execution_count": null,
   "id": "154f0e4a",
   "metadata": {},
   "outputs": [],
   "source": []
  },
  {
   "cell_type": "code",
   "execution_count": null,
   "id": "01b103a4",
   "metadata": {},
   "outputs": [],
   "source": []
  }
 ],
 "metadata": {
  "kernelspec": {
   "display_name": "Python 3",
   "language": "python",
   "name": "python3"
  },
  "language_info": {
   "codemirror_mode": {
    "name": "ipython",
    "version": 3
   },
   "file_extension": ".py",
   "mimetype": "text/x-python",
   "name": "python",
   "nbconvert_exporter": "python",
   "pygments_lexer": "ipython3",
   "version": "3.8.8"
  }
 },
 "nbformat": 4,
 "nbformat_minor": 5
}
